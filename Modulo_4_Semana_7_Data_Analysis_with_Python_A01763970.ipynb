{
  "nbformat": 4,
  "nbformat_minor": 0,
  "metadata": {
    "colab": {
      "provenance": [],
      "authorship_tag": "ABX9TyNTDQ9qO8uFwgsSCiNf2ivz",
      "include_colab_link": true
    },
    "kernelspec": {
      "name": "python3",
      "display_name": "Python 3"
    },
    "language_info": {
      "name": "python"
    }
  },
  "cells": [
    {
      "cell_type": "markdown",
      "metadata": {
        "id": "view-in-github",
        "colab_type": "text"
      },
      "source": [
        "<a href=\"https://colab.research.google.com/github/PosgradoMNA/Actividades_de_Aprendizaje_A01793670_BryanAlvaradoCruz/blob/main/Modulo_4_Semana_7_Data_Analysis_with_Python_A01763970.ipynb\" target=\"_parent\"><img src=\"https://colab.research.google.com/assets/colab-badge.svg\" alt=\"Open In Colab\"/></a>"
      ]
    },
    {
      "cell_type": "code",
      "execution_count": 1,
      "metadata": {
        "id": "sBiybANity_W"
      },
      "outputs": [],
      "source": [
        "import pandas as pd\n",
        "import numpy as np\n",
        "import matplotlib.pyplot as plt"
      ]
    },
    {
      "cell_type": "code",
      "source": [
        "path = 'https://cf-courses-data.s3.us.cloud-object-storage.appdomain.cloud/IBMDeveloperSkillsNetwork-DA0101EN-SkillsNetwork/labs/Data%20files/automobileEDA.csv'"
      ],
      "metadata": {
        "id": "_GaAqK0mYjjb"
      },
      "execution_count": 2,
      "outputs": []
    },
    {
      "cell_type": "code",
      "source": [
        "path"
      ],
      "metadata": {
        "id": "EIdbItL9Ykp5",
        "outputId": "71dfb89e-aac4-4c50-8876-3714263774b8",
        "colab": {
          "base_uri": "https://localhost:8080/",
          "height": 35
        }
      },
      "execution_count": 3,
      "outputs": [
        {
          "output_type": "execute_result",
          "data": {
            "text/plain": [
              "'https://cf-courses-data.s3.us.cloud-object-storage.appdomain.cloud/IBMDeveloperSkillsNetwork-DA0101EN-SkillsNetwork/labs/Data%20files/automobileEDA.csv'"
            ],
            "application/vnd.google.colaboratory.intrinsic+json": {
              "type": "string"
            }
          },
          "metadata": {},
          "execution_count": 3
        }
      ]
    },
    {
      "cell_type": "code",
      "source": [
        "df = pd.read_csv(path)\n",
        "df.head()"
      ],
      "metadata": {
        "id": "iDQv4Ta6Yojy",
        "outputId": "fcc8b6da-c29f-4398-e5e8-5fad1c3eed24",
        "colab": {
          "base_uri": "https://localhost:8080/",
          "height": 386
        }
      },
      "execution_count": 4,
      "outputs": [
        {
          "output_type": "execute_result",
          "data": {
            "text/plain": [
              "   symboling  normalized-losses         make aspiration num-of-doors  \\\n",
              "0          3                122  alfa-romero        std          two   \n",
              "1          3                122  alfa-romero        std          two   \n",
              "2          1                122  alfa-romero        std          two   \n",
              "3          2                164         audi        std         four   \n",
              "4          2                164         audi        std         four   \n",
              "\n",
              "    body-style drive-wheels engine-location  wheel-base    length  ...  \\\n",
              "0  convertible          rwd           front        88.6  0.811148  ...   \n",
              "1  convertible          rwd           front        88.6  0.811148  ...   \n",
              "2    hatchback          rwd           front        94.5  0.822681  ...   \n",
              "3        sedan          fwd           front        99.8  0.848630  ...   \n",
              "4        sedan          4wd           front        99.4  0.848630  ...   \n",
              "\n",
              "   compression-ratio  horsepower  peak-rpm city-mpg highway-mpg    price  \\\n",
              "0                9.0       111.0    5000.0       21          27  13495.0   \n",
              "1                9.0       111.0    5000.0       21          27  16500.0   \n",
              "2                9.0       154.0    5000.0       19          26  16500.0   \n",
              "3               10.0       102.0    5500.0       24          30  13950.0   \n",
              "4                8.0       115.0    5500.0       18          22  17450.0   \n",
              "\n",
              "  city-L/100km  horsepower-binned  diesel  gas  \n",
              "0    11.190476             Medium       0    1  \n",
              "1    11.190476             Medium       0    1  \n",
              "2    12.368421             Medium       0    1  \n",
              "3     9.791667             Medium       0    1  \n",
              "4    13.055556             Medium       0    1  \n",
              "\n",
              "[5 rows x 29 columns]"
            ],
            "text/html": [
              "\n",
              "  <div id=\"df-b89e8d23-4e13-4b21-aa22-192135e48580\">\n",
              "    <div class=\"colab-df-container\">\n",
              "      <div>\n",
              "<style scoped>\n",
              "    .dataframe tbody tr th:only-of-type {\n",
              "        vertical-align: middle;\n",
              "    }\n",
              "\n",
              "    .dataframe tbody tr th {\n",
              "        vertical-align: top;\n",
              "    }\n",
              "\n",
              "    .dataframe thead th {\n",
              "        text-align: right;\n",
              "    }\n",
              "</style>\n",
              "<table border=\"1\" class=\"dataframe\">\n",
              "  <thead>\n",
              "    <tr style=\"text-align: right;\">\n",
              "      <th></th>\n",
              "      <th>symboling</th>\n",
              "      <th>normalized-losses</th>\n",
              "      <th>make</th>\n",
              "      <th>aspiration</th>\n",
              "      <th>num-of-doors</th>\n",
              "      <th>body-style</th>\n",
              "      <th>drive-wheels</th>\n",
              "      <th>engine-location</th>\n",
              "      <th>wheel-base</th>\n",
              "      <th>length</th>\n",
              "      <th>...</th>\n",
              "      <th>compression-ratio</th>\n",
              "      <th>horsepower</th>\n",
              "      <th>peak-rpm</th>\n",
              "      <th>city-mpg</th>\n",
              "      <th>highway-mpg</th>\n",
              "      <th>price</th>\n",
              "      <th>city-L/100km</th>\n",
              "      <th>horsepower-binned</th>\n",
              "      <th>diesel</th>\n",
              "      <th>gas</th>\n",
              "    </tr>\n",
              "  </thead>\n",
              "  <tbody>\n",
              "    <tr>\n",
              "      <th>0</th>\n",
              "      <td>3</td>\n",
              "      <td>122</td>\n",
              "      <td>alfa-romero</td>\n",
              "      <td>std</td>\n",
              "      <td>two</td>\n",
              "      <td>convertible</td>\n",
              "      <td>rwd</td>\n",
              "      <td>front</td>\n",
              "      <td>88.6</td>\n",
              "      <td>0.811148</td>\n",
              "      <td>...</td>\n",
              "      <td>9.0</td>\n",
              "      <td>111.0</td>\n",
              "      <td>5000.0</td>\n",
              "      <td>21</td>\n",
              "      <td>27</td>\n",
              "      <td>13495.0</td>\n",
              "      <td>11.190476</td>\n",
              "      <td>Medium</td>\n",
              "      <td>0</td>\n",
              "      <td>1</td>\n",
              "    </tr>\n",
              "    <tr>\n",
              "      <th>1</th>\n",
              "      <td>3</td>\n",
              "      <td>122</td>\n",
              "      <td>alfa-romero</td>\n",
              "      <td>std</td>\n",
              "      <td>two</td>\n",
              "      <td>convertible</td>\n",
              "      <td>rwd</td>\n",
              "      <td>front</td>\n",
              "      <td>88.6</td>\n",
              "      <td>0.811148</td>\n",
              "      <td>...</td>\n",
              "      <td>9.0</td>\n",
              "      <td>111.0</td>\n",
              "      <td>5000.0</td>\n",
              "      <td>21</td>\n",
              "      <td>27</td>\n",
              "      <td>16500.0</td>\n",
              "      <td>11.190476</td>\n",
              "      <td>Medium</td>\n",
              "      <td>0</td>\n",
              "      <td>1</td>\n",
              "    </tr>\n",
              "    <tr>\n",
              "      <th>2</th>\n",
              "      <td>1</td>\n",
              "      <td>122</td>\n",
              "      <td>alfa-romero</td>\n",
              "      <td>std</td>\n",
              "      <td>two</td>\n",
              "      <td>hatchback</td>\n",
              "      <td>rwd</td>\n",
              "      <td>front</td>\n",
              "      <td>94.5</td>\n",
              "      <td>0.822681</td>\n",
              "      <td>...</td>\n",
              "      <td>9.0</td>\n",
              "      <td>154.0</td>\n",
              "      <td>5000.0</td>\n",
              "      <td>19</td>\n",
              "      <td>26</td>\n",
              "      <td>16500.0</td>\n",
              "      <td>12.368421</td>\n",
              "      <td>Medium</td>\n",
              "      <td>0</td>\n",
              "      <td>1</td>\n",
              "    </tr>\n",
              "    <tr>\n",
              "      <th>3</th>\n",
              "      <td>2</td>\n",
              "      <td>164</td>\n",
              "      <td>audi</td>\n",
              "      <td>std</td>\n",
              "      <td>four</td>\n",
              "      <td>sedan</td>\n",
              "      <td>fwd</td>\n",
              "      <td>front</td>\n",
              "      <td>99.8</td>\n",
              "      <td>0.848630</td>\n",
              "      <td>...</td>\n",
              "      <td>10.0</td>\n",
              "      <td>102.0</td>\n",
              "      <td>5500.0</td>\n",
              "      <td>24</td>\n",
              "      <td>30</td>\n",
              "      <td>13950.0</td>\n",
              "      <td>9.791667</td>\n",
              "      <td>Medium</td>\n",
              "      <td>0</td>\n",
              "      <td>1</td>\n",
              "    </tr>\n",
              "    <tr>\n",
              "      <th>4</th>\n",
              "      <td>2</td>\n",
              "      <td>164</td>\n",
              "      <td>audi</td>\n",
              "      <td>std</td>\n",
              "      <td>four</td>\n",
              "      <td>sedan</td>\n",
              "      <td>4wd</td>\n",
              "      <td>front</td>\n",
              "      <td>99.4</td>\n",
              "      <td>0.848630</td>\n",
              "      <td>...</td>\n",
              "      <td>8.0</td>\n",
              "      <td>115.0</td>\n",
              "      <td>5500.0</td>\n",
              "      <td>18</td>\n",
              "      <td>22</td>\n",
              "      <td>17450.0</td>\n",
              "      <td>13.055556</td>\n",
              "      <td>Medium</td>\n",
              "      <td>0</td>\n",
              "      <td>1</td>\n",
              "    </tr>\n",
              "  </tbody>\n",
              "</table>\n",
              "<p>5 rows × 29 columns</p>\n",
              "</div>\n",
              "      <button class=\"colab-df-convert\" onclick=\"convertToInteractive('df-b89e8d23-4e13-4b21-aa22-192135e48580')\"\n",
              "              title=\"Convert this dataframe to an interactive table.\"\n",
              "              style=\"display:none;\">\n",
              "        \n",
              "  <svg xmlns=\"http://www.w3.org/2000/svg\" height=\"24px\"viewBox=\"0 0 24 24\"\n",
              "       width=\"24px\">\n",
              "    <path d=\"M0 0h24v24H0V0z\" fill=\"none\"/>\n",
              "    <path d=\"M18.56 5.44l.94 2.06.94-2.06 2.06-.94-2.06-.94-.94-2.06-.94 2.06-2.06.94zm-11 1L8.5 8.5l.94-2.06 2.06-.94-2.06-.94L8.5 2.5l-.94 2.06-2.06.94zm10 10l.94 2.06.94-2.06 2.06-.94-2.06-.94-.94-2.06-.94 2.06-2.06.94z\"/><path d=\"M17.41 7.96l-1.37-1.37c-.4-.4-.92-.59-1.43-.59-.52 0-1.04.2-1.43.59L10.3 9.45l-7.72 7.72c-.78.78-.78 2.05 0 2.83L4 21.41c.39.39.9.59 1.41.59.51 0 1.02-.2 1.41-.59l7.78-7.78 2.81-2.81c.8-.78.8-2.07 0-2.86zM5.41 20L4 18.59l7.72-7.72 1.47 1.35L5.41 20z\"/>\n",
              "  </svg>\n",
              "      </button>\n",
              "      \n",
              "  <style>\n",
              "    .colab-df-container {\n",
              "      display:flex;\n",
              "      flex-wrap:wrap;\n",
              "      gap: 12px;\n",
              "    }\n",
              "\n",
              "    .colab-df-convert {\n",
              "      background-color: #E8F0FE;\n",
              "      border: none;\n",
              "      border-radius: 50%;\n",
              "      cursor: pointer;\n",
              "      display: none;\n",
              "      fill: #1967D2;\n",
              "      height: 32px;\n",
              "      padding: 0 0 0 0;\n",
              "      width: 32px;\n",
              "    }\n",
              "\n",
              "    .colab-df-convert:hover {\n",
              "      background-color: #E2EBFA;\n",
              "      box-shadow: 0px 1px 2px rgba(60, 64, 67, 0.3), 0px 1px 3px 1px rgba(60, 64, 67, 0.15);\n",
              "      fill: #174EA6;\n",
              "    }\n",
              "\n",
              "    [theme=dark] .colab-df-convert {\n",
              "      background-color: #3B4455;\n",
              "      fill: #D2E3FC;\n",
              "    }\n",
              "\n",
              "    [theme=dark] .colab-df-convert:hover {\n",
              "      background-color: #434B5C;\n",
              "      box-shadow: 0px 1px 3px 1px rgba(0, 0, 0, 0.15);\n",
              "      filter: drop-shadow(0px 1px 2px rgba(0, 0, 0, 0.3));\n",
              "      fill: #FFFFFF;\n",
              "    }\n",
              "  </style>\n",
              "\n",
              "      <script>\n",
              "        const buttonEl =\n",
              "          document.querySelector('#df-b89e8d23-4e13-4b21-aa22-192135e48580 button.colab-df-convert');\n",
              "        buttonEl.style.display =\n",
              "          google.colab.kernel.accessAllowed ? 'block' : 'none';\n",
              "\n",
              "        async function convertToInteractive(key) {\n",
              "          const element = document.querySelector('#df-b89e8d23-4e13-4b21-aa22-192135e48580');\n",
              "          const dataTable =\n",
              "            await google.colab.kernel.invokeFunction('convertToInteractive',\n",
              "                                                     [key], {});\n",
              "          if (!dataTable) return;\n",
              "\n",
              "          const docLinkHtml = 'Like what you see? Visit the ' +\n",
              "            '<a target=\"_blank\" href=https://colab.research.google.com/notebooks/data_table.ipynb>data table notebook</a>'\n",
              "            + ' to learn more about interactive tables.';\n",
              "          element.innerHTML = '';\n",
              "          dataTable['output_type'] = 'display_data';\n",
              "          await google.colab.output.renderOutput(dataTable, element);\n",
              "          const docLink = document.createElement('div');\n",
              "          docLink.innerHTML = docLinkHtml;\n",
              "          element.appendChild(docLink);\n",
              "        }\n",
              "      </script>\n",
              "    </div>\n",
              "  </div>\n",
              "  "
            ]
          },
          "metadata": {},
          "execution_count": 4
        }
      ]
    },
    {
      "cell_type": "markdown",
      "source": [
        "#1. Linear Regression and Multiple Linear Regression\n",
        "Linear Regression\n",
        "\n",
        "One example of a Data Model that we will be using is:\n",
        "Simple Linear Regression\n",
        "\n",
        "Simple Linear Regression is a method to help us understand the relationship between two variables:\n",
        "\n",
        "    The predictor/independent variable (X)\n",
        "    The response/dependent variable (that we want to predict)(Y)\n",
        "\n",
        "The result of Linear Regression is a linear function that predicts the response (dependent) variable as a function of the predictor (independent) variable.\n",
        "\n",
        "Y:Response VariableX:Predictor Variables\n",
        "\n",
        "Linear Function Yhat=a+bX\n",
        "\n",
        "    a refers to the intercept of the regression line, in other words: the value of Y when X is 0\n",
        "    b refers to the slope of the regression line, in other words: the value with which Y changes when X increases by 1 unit\n",
        "\n",
        "##Let's load the modules for linear regression:"
      ],
      "metadata": {
        "id": "qxqYrjGXYvHs"
      }
    },
    {
      "cell_type": "code",
      "source": [
        "from sklearn.linear_model import LinearRegression"
      ],
      "metadata": {
        "id": "P60U9N3FYxKN"
      },
      "execution_count": 5,
      "outputs": []
    },
    {
      "cell_type": "markdown",
      "source": [
        "Create the linear regression object:"
      ],
      "metadata": {
        "id": "ZABUKppAY2nO"
      }
    },
    {
      "cell_type": "code",
      "source": [
        "lm = LinearRegression()\n",
        "lm"
      ],
      "metadata": {
        "id": "HU-PhvhNY0Fx",
        "outputId": "5a241bd5-e31e-4976-8ff1-37c5587efc0b",
        "colab": {
          "base_uri": "https://localhost:8080/"
        }
      },
      "execution_count": 6,
      "outputs": [
        {
          "output_type": "execute_result",
          "data": {
            "text/plain": [
              "LinearRegression()"
            ]
          },
          "metadata": {},
          "execution_count": 6
        }
      ]
    },
    {
      "cell_type": "markdown",
      "source": [
        "##How could \"highway-mpg\" help us predict car price?\n",
        "\n",
        "For this example, we want to look at how highway-mpg can help us predict car price. Using simple linear regression, we will create a linear function with \"highway-mpg\" as the predictor variable and the \"price\" as the response variable.\n"
      ],
      "metadata": {
        "id": "oFLW8zIPY6H3"
      }
    },
    {
      "cell_type": "code",
      "source": [
        "X = df[['highway-mpg']]\n",
        "Y = df['price']"
      ],
      "metadata": {
        "id": "DiY27ZWKY7DC"
      },
      "execution_count": 7,
      "outputs": []
    },
    {
      "cell_type": "markdown",
      "source": [
        "Fit the linear model using highway-mpg:"
      ],
      "metadata": {
        "id": "GdWrfJHnY-bw"
      }
    },
    {
      "cell_type": "code",
      "source": [
        "lm.fit(X,Y)"
      ],
      "metadata": {
        "id": "J5_-ful2Y-0Y",
        "outputId": "38832825-53c7-4223-e481-b2a59f9766c9",
        "colab": {
          "base_uri": "https://localhost:8080/"
        }
      },
      "execution_count": 8,
      "outputs": [
        {
          "output_type": "execute_result",
          "data": {
            "text/plain": [
              "LinearRegression()"
            ]
          },
          "metadata": {},
          "execution_count": 8
        }
      ]
    },
    {
      "cell_type": "markdown",
      "source": [
        "We can output a prediction:"
      ],
      "metadata": {
        "id": "5FaBImVFZBsJ"
      }
    },
    {
      "cell_type": "code",
      "source": [
        "Yhat=lm.predict(X)\n",
        "Yhat[0:5]"
      ],
      "metadata": {
        "id": "PTTQpE66ZCGp",
        "outputId": "5e0a8a86-4fdd-4f67-db88-9d709b83f72c",
        "colab": {
          "base_uri": "https://localhost:8080/"
        }
      },
      "execution_count": 9,
      "outputs": [
        {
          "output_type": "execute_result",
          "data": {
            "text/plain": [
              "array([16236.50464347, 16236.50464347, 17058.23802179, 13771.3045085 ,\n",
              "       20345.17153508])"
            ]
          },
          "metadata": {},
          "execution_count": 9
        }
      ]
    },
    {
      "cell_type": "markdown",
      "source": [
        "What is the value of the intercept (a)?"
      ],
      "metadata": {
        "id": "VhwdhvPGZDx3"
      }
    },
    {
      "cell_type": "code",
      "source": [
        "lm.intercept_"
      ],
      "metadata": {
        "id": "l8-uRtDkZFM-",
        "outputId": "92c1772e-4744-4416-a828-f41bf33fe1f3",
        "colab": {
          "base_uri": "https://localhost:8080/"
        }
      },
      "execution_count": 10,
      "outputs": [
        {
          "output_type": "execute_result",
          "data": {
            "text/plain": [
              "38423.3058581574"
            ]
          },
          "metadata": {},
          "execution_count": 10
        }
      ]
    },
    {
      "cell_type": "markdown",
      "source": [
        "What is the value of the slope (b)?"
      ],
      "metadata": {
        "id": "cwod354_ZHR0"
      }
    },
    {
      "cell_type": "code",
      "source": [
        "lm.coef_"
      ],
      "metadata": {
        "id": "PmYv4q7HZHhI",
        "outputId": "39174db4-3075-4256-d03c-048d6bf3d4df",
        "colab": {
          "base_uri": "https://localhost:8080/"
        }
      },
      "execution_count": 11,
      "outputs": [
        {
          "output_type": "execute_result",
          "data": {
            "text/plain": [
              "array([-821.73337832])"
            ]
          },
          "metadata": {},
          "execution_count": 11
        }
      ]
    },
    {
      "cell_type": "markdown",
      "source": [
        "#What is the final estimated linear model we get?\n",
        "\n",
        "As we saw above, we should get a final linear model with the structure:\n",
        "\n",
        "Yhat=a+bX\n",
        "\n",
        "Plugging in the actual values we get:\n",
        "\n",
        "Price = 38423.31 - 821.73 x highway-mpg\n"
      ],
      "metadata": {
        "id": "PXXLhGInZJqO"
      }
    },
    {
      "cell_type": "markdown",
      "source": [
        "\n",
        "Question #1 a):\n",
        "\n",
        "Create a linear regression object called \"lm1\".\n"
      ],
      "metadata": {
        "id": "kkzSS-dqZOV0"
      }
    },
    {
      "cell_type": "code",
      "source": [
        "# Write your code below and press Shift+Enter to execute \n",
        "lm1 = LinearRegression()\n",
        "lm1"
      ],
      "metadata": {
        "id": "mOoyJJObZMX-",
        "outputId": "2b83225a-a846-411c-c45c-d744bf71a613",
        "colab": {
          "base_uri": "https://localhost:8080/"
        }
      },
      "execution_count": 12,
      "outputs": [
        {
          "output_type": "execute_result",
          "data": {
            "text/plain": [
              "LinearRegression()"
            ]
          },
          "metadata": {},
          "execution_count": 12
        }
      ]
    },
    {
      "cell_type": "markdown",
      "source": [
        "#\n",
        "Question #1 b):\n",
        "\n",
        "Train the model using \"engine-size\" as the independent variable and \"price\" as the dependent variable?\n"
      ],
      "metadata": {
        "id": "sD1HuVbkZXGT"
      }
    },
    {
      "cell_type": "code",
      "source": [
        "# Write your code below and press Shift+Enter to execute \n",
        "lm1.fit(df[['engine-size']], df[['price']])\n",
        "lm1"
      ],
      "metadata": {
        "id": "KJCsaybkZYBF",
        "outputId": "5c120b39-18b1-48d3-db18-66a2cefc6df0",
        "colab": {
          "base_uri": "https://localhost:8080/"
        }
      },
      "execution_count": 13,
      "outputs": [
        {
          "output_type": "execute_result",
          "data": {
            "text/plain": [
              "LinearRegression()"
            ]
          },
          "metadata": {},
          "execution_count": 13
        }
      ]
    },
    {
      "cell_type": "markdown",
      "source": [
        "\n",
        "#Question #1 c):\n",
        "\n",
        "Find the slope and intercept of the model.\n"
      ],
      "metadata": {
        "id": "RfWC89iEZbKx"
      }
    },
    {
      "cell_type": "code",
      "source": [
        "# Slope \n",
        "lm1.coef_\n"
      ],
      "metadata": {
        "id": "88DnayeaZdXD",
        "outputId": "76dbf491-5b6b-4c9e-c63b-8efa9f58c897",
        "colab": {
          "base_uri": "https://localhost:8080/"
        }
      },
      "execution_count": 14,
      "outputs": [
        {
          "output_type": "execute_result",
          "data": {
            "text/plain": [
              "array([[166.86001569]])"
            ]
          },
          "metadata": {},
          "execution_count": 14
        }
      ]
    },
    {
      "cell_type": "markdown",
      "source": [
        "#Intercept"
      ],
      "metadata": {
        "id": "DQd28Z7vZgK_"
      }
    },
    {
      "cell_type": "code",
      "source": [
        "# Intercept\n",
        "lm1.intercept_\n"
      ],
      "metadata": {
        "id": "RzBZAy5-ZkMB",
        "outputId": "d5405ac7-2394-433f-cc8b-72f39d3d94fc",
        "colab": {
          "base_uri": "https://localhost:8080/"
        }
      },
      "execution_count": 15,
      "outputs": [
        {
          "output_type": "execute_result",
          "data": {
            "text/plain": [
              "array([-7963.33890628])"
            ]
          },
          "metadata": {},
          "execution_count": 15
        }
      ]
    },
    {
      "cell_type": "markdown",
      "source": [
        "#Question #1 d):\n",
        "\n",
        "What is the equation of the predicted line? You can use x and yhat or \"engine-size\" or \"price\".\n"
      ],
      "metadata": {
        "id": "LZhp-YdIZnOc"
      }
    },
    {
      "cell_type": "code",
      "source": [
        "# using X and Y  \n",
        "Yhat=-7963.34 + 166.86*X\n",
        "\n",
        "Price=-7963.34 + 166.86*df['engine-size']"
      ],
      "metadata": {
        "id": "IsY0xuDOZpB7"
      },
      "execution_count": 16,
      "outputs": []
    },
    {
      "cell_type": "markdown",
      "source": [
        "#Multiple Linear Regression\n",
        "\n",
        "What if we want to predict car price using more than one variable?\n",
        "\n",
        "If we want to use more variables in our model to predict car price, we can use Multiple Linear Regression. Multiple Linear Regression is very similar to Simple Linear Regression, but this method is used to explain the relationship between one continuous response (dependent) variable and two or more predictor (independent) variables. Most of the real-world regression models involve multiple predictors. We will illustrate the structure by using four predictor variables, but these results can generalize to any integer:\n",
        "\n",
        "Y:Response VariableX_1:Predictor Variable 1X_2:Predictor Variable 2X_3:Predictor Variable 3X_4:Predictor Variable 4\n",
        "\n",
        "a:interceptb_1:coefficients of Variable 1b_2:coefficients of Variable 2b_3:coefficients of Variable 3b_4:coefficients of Variable 4\n",
        "\n",
        "The equation is given by:\n",
        "\n",
        "Yhat=a+b_1X_1+b_2X_2+b_3X_3+b_4X_4\n",
        "\n",
        "From the previous section we know that other good predictors of price could be:\n",
        "\n",
        "    Horsepower\n",
        "    Curb-weight\n",
        "    Engine-size\n",
        "    Highway-mpg\n",
        "\n",
        "Let's develop a model using these variables as the predictor variables. "
      ],
      "metadata": {
        "id": "Rjasr_5OZvOu"
      }
    },
    {
      "cell_type": "code",
      "source": [
        "Z = df[['horsepower', 'curb-weight', 'engine-size', 'highway-mpg']]"
      ],
      "metadata": {
        "id": "IHPKhaA0ZwOd"
      },
      "execution_count": 17,
      "outputs": []
    },
    {
      "cell_type": "markdown",
      "source": [
        "Fit the linear model using the four above-mentioned variables.\n"
      ],
      "metadata": {
        "id": "XLvYWM-aZ0BX"
      }
    },
    {
      "cell_type": "code",
      "source": [
        "lm.fit(Z, df['price'])"
      ],
      "metadata": {
        "id": "uwvEPVtrZ0Sg",
        "outputId": "852488bb-2d74-4f72-900a-d1fa90982292",
        "colab": {
          "base_uri": "https://localhost:8080/"
        }
      },
      "execution_count": 18,
      "outputs": [
        {
          "output_type": "execute_result",
          "data": {
            "text/plain": [
              "LinearRegression()"
            ]
          },
          "metadata": {},
          "execution_count": 18
        }
      ]
    },
    {
      "cell_type": "markdown",
      "source": [
        "What is the value of the intercept(a)?"
      ],
      "metadata": {
        "id": "ibGHMXvWa0-w"
      }
    },
    {
      "cell_type": "code",
      "source": [
        "lm.intercept_"
      ],
      "metadata": {
        "id": "-6ZziCj0a1Zj",
        "outputId": "df73cc12-77d3-442a-935c-6e73050b7b53",
        "colab": {
          "base_uri": "https://localhost:8080/"
        }
      },
      "execution_count": 19,
      "outputs": [
        {
          "output_type": "execute_result",
          "data": {
            "text/plain": [
              "-15806.62462632922"
            ]
          },
          "metadata": {},
          "execution_count": 19
        }
      ]
    },
    {
      "cell_type": "markdown",
      "source": [
        "What are the values of the coefficients (b1, b2, b3, b4)?\n"
      ],
      "metadata": {
        "id": "pYKX-nTVa4TR"
      }
    },
    {
      "cell_type": "code",
      "source": [
        "lm.coef_"
      ],
      "metadata": {
        "id": "PLq1_Us0a4hz",
        "outputId": "57a08a11-a2fe-4a66-e217-d4a73cb7cf22",
        "colab": {
          "base_uri": "https://localhost:8080/"
        }
      },
      "execution_count": 20,
      "outputs": [
        {
          "output_type": "execute_result",
          "data": {
            "text/plain": [
              "array([53.49574423,  4.70770099, 81.53026382, 36.05748882])"
            ]
          },
          "metadata": {},
          "execution_count": 20
        }
      ]
    },
    {
      "cell_type": "markdown",
      "source": [
        "What is the final estimated linear model that we get?\n",
        "\n",
        "As we saw above, we should get a final linear function with the structure:\n",
        "\n",
        "Yhat=a+b_1X_1+b_2X_2+b_3X_3+b_4X_4\n",
        "\n",
        "What is the linear function we get in this example?\n",
        "\n",
        "Price = -15678.742628061467 + 52.65851272 x horsepower + 4.69878948 x curb-weight + 81.95906216 x engine-size + 33.58258185 x highway-mpg\n"
      ],
      "metadata": {
        "id": "O5d5oUcta7q9"
      }
    },
    {
      "cell_type": "markdown",
      "source": [
        " #Question #\n",
        " #2 a):\n",
        "Create and train a Multiple Linear Regression model \"lm2\" where the response variable is \"price\", and the predictor variable is \"normalized-losses\" and \"highway-mpg\"."
      ],
      "metadata": {
        "id": "144ToKfda-ey"
      }
    },
    {
      "cell_type": "code",
      "source": [
        "lm2 = LinearRegression()\n",
        "lm2.fit(df[['normalized-losses' , 'highway-mpg']],df['price'])"
      ],
      "metadata": {
        "id": "21rHPe8Ea8S5",
        "outputId": "223bcbb9-45b0-41dd-aaf6-965e10c57689",
        "colab": {
          "base_uri": "https://localhost:8080/"
        }
      },
      "execution_count": 21,
      "outputs": [
        {
          "output_type": "execute_result",
          "data": {
            "text/plain": [
              "LinearRegression()"
            ]
          },
          "metadata": {},
          "execution_count": 21
        }
      ]
    },
    {
      "cell_type": "markdown",
      "source": [
        "#\n",
        "Question #2 b):\n",
        "Find the coefficient of the model.\n"
      ],
      "metadata": {
        "id": "N1YuJuYjbJ1I"
      }
    },
    {
      "cell_type": "code",
      "source": [
        "lm2.coef_\n"
      ],
      "metadata": {
        "id": "tU_h8jDcbKkU",
        "outputId": "c984a775-6352-44ca-8418-e0c650dc64e7",
        "colab": {
          "base_uri": "https://localhost:8080/"
        }
      },
      "execution_count": 22,
      "outputs": [
        {
          "output_type": "execute_result",
          "data": {
            "text/plain": [
              "array([   1.49789586, -820.45434016])"
            ]
          },
          "metadata": {},
          "execution_count": 22
        }
      ]
    },
    {
      "cell_type": "markdown",
      "source": [
        "#2. Model Evaluation Using Visualization\n",
        "\n",
        "Now that we've developed some models, how do we evaluate our models and choose the best one? One way to do this is by using a visualization.\n",
        "\n",
        "Import the visualization package, seaborn:\n"
      ],
      "metadata": {
        "id": "Fubp3BAzbN3y"
      }
    },
    {
      "cell_type": "code",
      "source": [
        "# import the visualization package: seaborn\n",
        "import seaborn as sns\n",
        "%matplotlib inline "
      ],
      "metadata": {
        "id": "e_fKeJ3YbOee"
      },
      "execution_count": 23,
      "outputs": []
    },
    {
      "cell_type": "markdown",
      "source": [
        "#Regression Plot\n",
        "\n",
        "When it comes to simple linear regression, an excellent way to visualize the fit of our model is by using regression plots.\n",
        "\n",
        "This plot will show a combination of a scattered data points (a scatterplot), as well as the fitted linear regression line going through the data. This will give us a reasonable estimate of the relationship between the two variables, the strength of the correlation, as well as the direction (positive or negative correlation).\n",
        "\n",
        "Let's visualize highway-mpg as potential predictor variable of price:\n"
      ],
      "metadata": {
        "id": "NhtkeWMQbQlj"
      }
    },
    {
      "cell_type": "code",
      "source": [
        "width = 12\n",
        "height = 10\n",
        "plt.figure(figsize=(width, height))\n",
        "sns.regplot(x=\"highway-mpg\", y=\"price\", data=df)\n",
        "plt.ylim(0,)"
      ],
      "metadata": {
        "id": "rxGjxyvqbTgd",
        "outputId": "c8e8f4f3-5e81-48c4-81de-6b56a678d8fa",
        "colab": {
          "base_uri": "https://localhost:8080/",
          "height": 624
        }
      },
      "execution_count": 24,
      "outputs": [
        {
          "output_type": "execute_result",
          "data": {
            "text/plain": [
              "(0.0, 48160.35060147867)"
            ]
          },
          "metadata": {},
          "execution_count": 24
        },
        {
          "output_type": "display_data",
          "data": {
            "text/plain": [
              "<Figure size 864x720 with 1 Axes>"
            ],
            "image/png": "[encoded data removed]"
          },
          "metadata": {
            "needs_background": "light"
          }
        }
      ]
    },
    {
      "cell_type": "markdown",
      "source": [
        "We can see from this plot that price is negatively correlated to highway-mpg since the regression slope is negative.\n",
        "\n",
        "One thing to keep in mind when looking at a regression plot is to pay attention to how scattered the data points are around the regression line. This will give you a good indication of the variance of the data and whether a linear model would be the best fit or not. If the data is too far off from the line, this linear model might not be the best model for this data.\n",
        "\n",
        "Let's compare this plot to the regression plot of \"peak-rpm\"."
      ],
      "metadata": {
        "id": "O3-bgur5bYEY"
      }
    },
    {
      "cell_type": "code",
      "source": [
        "plt.figure(figsize=(width, height))\n",
        "sns.regplot(x=\"peak-rpm\", y=\"price\", data=df)\n",
        "plt.ylim(0,)"
      ],
      "metadata": {
        "id": "k22pZuFObZH9",
        "outputId": "cfcc9513-26d7-43a4-c2df-ee751c78233a",
        "colab": {
          "base_uri": "https://localhost:8080/",
          "height": 624
        }
      },
      "execution_count": 25,
      "outputs": [
        {
          "output_type": "execute_result",
          "data": {
            "text/plain": [
              "(0.0, 47414.1)"
            ]
          },
          "metadata": {},
          "execution_count": 25
        },
        {
          "output_type": "display_data",
          "data": {
            "text/plain": [
              "<Figure size 864x720 with 1 Axes>"
            ],
            "image/png": "[encoded data removed]"
          },
          "metadata": {
            "needs_background": "light"
          }
        }
      ]
    },
    {
      "cell_type": "markdown",
      "source": [
        "Comparing the regression plot of \"peak-rpm\" and \"highway-mpg\", we see that the points for \"highway-mpg\" are much closer to the generated line and, on average, decrease. The points for \"peak-rpm\" have more spread around the predicted line and it is much harder to determine if the points are decreasing or increasing as the \"peak-rpm\" increases.\n"
      ],
      "metadata": {
        "id": "UnZZhK_ebb6v"
      }
    },
    {
      "cell_type": "markdown",
      "source": [
        "#Question #3:\n",
        "Given the regression plots above, is \"peak-rpm\" or \"highway-mpg\" more strongly correlated with \"price\"? Use the method \".corr()\" to verify your answer.\n"
      ],
      "metadata": {
        "id": "YxSXkmQfbhgk"
      }
    },
    {
      "cell_type": "code",
      "source": [
        "df[[\"peak-rpm\",\"highway-mpg\",\"price\"]].corr()"
      ],
      "metadata": {
        "id": "IZxg9FmbbjQo",
        "outputId": "b2adcc59-6b8a-4b8b-f11b-b6ac7e44b2f8",
        "colab": {
          "base_uri": "https://localhost:8080/",
          "height": 143
        }
      },
      "execution_count": 26,
      "outputs": [
        {
          "output_type": "execute_result",
          "data": {
            "text/plain": [
              "             peak-rpm  highway-mpg     price\n",
              "peak-rpm     1.000000    -0.058598 -0.101616\n",
              "highway-mpg -0.058598     1.000000 -0.704692\n",
              "price       -0.101616    -0.704692  1.000000"
            ],
            "text/html": [
              "\n",
              "  <div id=\"df-a325a9d0-1550-4285-ab98-0cf5f161bc9c\">\n",
              "    <div class=\"colab-df-container\">\n",
              "      <div>\n",
              "<style scoped>\n",
              "    .dataframe tbody tr th:only-of-type {\n",
              "        vertical-align: middle;\n",
              "    }\n",
              "\n",
              "    .dataframe tbody tr th {\n",
              "        vertical-align: top;\n",
              "    }\n",
              "\n",
              "    .dataframe thead th {\n",
              "        text-align: right;\n",
              "    }\n",
              "</style>\n",
              "<table border=\"1\" class=\"dataframe\">\n",
              "  <thead>\n",
              "    <tr style=\"text-align: right;\">\n",
              "      <th></th>\n",
              "      <th>peak-rpm</th>\n",
              "      <th>highway-mpg</th>\n",
              "      <th>price</th>\n",
              "    </tr>\n",
              "  </thead>\n",
              "  <tbody>\n",
              "    <tr>\n",
              "      <th>peak-rpm</th>\n",
              "      <td>1.000000</td>\n",
              "      <td>-0.058598</td>\n",
              "      <td>-0.101616</td>\n",
              "    </tr>\n",
              "    <tr>\n",
              "      <th>highway-mpg</th>\n",
              "      <td>-0.058598</td>\n",
              "      <td>1.000000</td>\n",
              "      <td>-0.704692</td>\n",
              "    </tr>\n",
              "    <tr>\n",
              "      <th>price</th>\n",
              "      <td>-0.101616</td>\n",
              "      <td>-0.704692</td>\n",
              "      <td>1.000000</td>\n",
              "    </tr>\n",
              "  </tbody>\n",
              "</table>\n",
              "</div>\n",
              "      <button class=\"colab-df-convert\" onclick=\"convertToInteractive('df-a325a9d0-1550-4285-ab98-0cf5f161bc9c')\"\n",
              "              title=\"Convert this dataframe to an interactive table.\"\n",
              "              style=\"display:none;\">\n",
              "        \n",
              "  <svg xmlns=\"http://www.w3.org/2000/svg\" height=\"24px\"viewBox=\"0 0 24 24\"\n",
              "       width=\"24px\">\n",
              "    <path d=\"M0 0h24v24H0V0z\" fill=\"none\"/>\n",
              "    <path d=\"M18.56 5.44l.94 2.06.94-2.06 2.06-.94-2.06-.94-.94-2.06-.94 2.06-2.06.94zm-11 1L8.5 8.5l.94-2.06 2.06-.94-2.06-.94L8.5 2.5l-.94 2.06-2.06.94zm10 10l.94 2.06.94-2.06 2.06-.94-2.06-.94-.94-2.06-.94 2.06-2.06.94z\"/><path d=\"M17.41 7.96l-1.37-1.37c-.4-.4-.92-.59-1.43-.59-.52 0-1.04.2-1.43.59L10.3 9.45l-7.72 7.72c-.78.78-.78 2.05 0 2.83L4 21.41c.39.39.9.59 1.41.59.51 0 1.02-.2 1.41-.59l7.78-7.78 2.81-2.81c.8-.78.8-2.07 0-2.86zM5.41 20L4 18.59l7.72-7.72 1.47 1.35L5.41 20z\"/>\n",
              "  </svg>\n",
              "      </button>\n",
              "      \n",
              "  <style>\n",
              "    .colab-df-container {\n",
              "      display:flex;\n",
              "      flex-wrap:wrap;\n",
              "      gap: 12px;\n",
              "    }\n",
              "\n",
              "    .colab-df-convert {\n",
              "      background-color: #E8F0FE;\n",
              "      border: none;\n",
              "      border-radius: 50%;\n",
              "      cursor: pointer;\n",
              "      display: none;\n",
              "      fill: #1967D2;\n",
              "      height: 32px;\n",
              "      padding: 0 0 0 0;\n",
              "      width: 32px;\n",
              "    }\n",
              "\n",
              "    .colab-df-convert:hover {\n",
              "      background-color: #E2EBFA;\n",
              "      box-shadow: 0px 1px 2px rgba(60, 64, 67, 0.3), 0px 1px 3px 1px rgba(60, 64, 67, 0.15);\n",
              "      fill: #174EA6;\n",
              "    }\n",
              "\n",
              "    [theme=dark] .colab-df-convert {\n",
              "      background-color: #3B4455;\n",
              "      fill: #D2E3FC;\n",
              "    }\n",
              "\n",
              "    [theme=dark] .colab-df-convert:hover {\n",
              "      background-color: #434B5C;\n",
              "      box-shadow: 0px 1px 3px 1px rgba(0, 0, 0, 0.15);\n",
              "      filter: drop-shadow(0px 1px 2px rgba(0, 0, 0, 0.3));\n",
              "      fill: #FFFFFF;\n",
              "    }\n",
              "  </style>\n",
              "\n",
              "      <script>\n",
              "        const buttonEl =\n",
              "          document.querySelector('#df-a325a9d0-1550-4285-ab98-0cf5f161bc9c button.colab-df-convert');\n",
              "        buttonEl.style.display =\n",
              "          google.colab.kernel.accessAllowed ? 'block' : 'none';\n",
              "\n",
              "        async function convertToInteractive(key) {\n",
              "          const element = document.querySelector('#df-a325a9d0-1550-4285-ab98-0cf5f161bc9c');\n",
              "          const dataTable =\n",
              "            await google.colab.kernel.invokeFunction('convertToInteractive',\n",
              "                                                     [key], {});\n",
              "          if (!dataTable) return;\n",
              "\n",
              "          const docLinkHtml = 'Like what you see? Visit the ' +\n",
              "            '<a target=\"_blank\" href=https://colab.research.google.com/notebooks/data_table.ipynb>data table notebook</a>'\n",
              "            + ' to learn more about interactive tables.';\n",
              "          element.innerHTML = '';\n",
              "          dataTable['output_type'] = 'display_data';\n",
              "          await google.colab.output.renderOutput(dataTable, element);\n",
              "          const docLink = document.createElement('div');\n",
              "          docLink.innerHTML = docLinkHtml;\n",
              "          element.appendChild(docLink);\n",
              "        }\n",
              "      </script>\n",
              "    </div>\n",
              "  </div>\n",
              "  "
            ]
          },
          "metadata": {},
          "execution_count": 26
        }
      ]
    },
    {
      "cell_type": "markdown",
      "source": [
        "#Residual Plot\n",
        "\n",
        "A good way to visualize the variance of the data is to use a residual plot.\n",
        "\n",
        "What is a residual?\n",
        "\n",
        "The difference between the observed value (y) and the predicted value (Yhat) is called the residual (e). When we look at a regression plot, the residual is the distance from the data point to the fitted regression line.\n",
        "\n",
        "So what is a residual plot?\n",
        "\n",
        "A residual plot is a graph that shows the residuals on the vertical y-axis and the independent variable on the horizontal x-axis.\n",
        "\n",
        "What do we pay attention to when looking at a residual plot?\n",
        "\n",
        "We look at the spread of the residuals:\n",
        "\n",
        "- If the points in a residual plot are randomly spread out around the x-axis, then a linear model is appropriate for the data.\n",
        "\n",
        "Why is that? Randomly spread out residuals means that the variance is constant, and thus the linear model is a good fit for this data."
      ],
      "metadata": {
        "id": "n-wGQJonbmFv"
      }
    },
    {
      "cell_type": "code",
      "source": [
        "width = 12\n",
        "height = 10\n",
        "plt.figure(figsize=(width, height))\n",
        "sns.residplot(x=df['highway-mpg'],y=df['price'])\n",
        "plt.show()"
      ],
      "metadata": {
        "id": "jZpjE-N_bfmN",
        "outputId": "ccff6c12-adaa-48eb-e038-bda65368ff5c",
        "colab": {
          "base_uri": "https://localhost:8080/",
          "height": 606
        }
      },
      "execution_count": 27,
      "outputs": [
        {
          "output_type": "display_data",
          "data": {
            "text/plain": [
              "<Figure size 864x720 with 1 Axes>"
            ],
            "image/png": "[encoded data removed]"
          },
          "metadata": {
            "needs_background": "light"
          }
        }
      ]
    },
    {
      "cell_type": "markdown",
      "source": [
        "What is this plot telling us?\n",
        "\n",
        "We can see from this residual plot that the residuals are not randomly spread around the x-axis, leading us to believe that maybe a non-linear model is more appropriate for this data.\n",
        "Multiple Linear Regression\n",
        "\n",
        "How do we visualize a model for Multiple Linear Regression? This gets a bit more complicated because you can't visualize it with regression or residual plot.\n",
        "\n",
        "One way to look at the fit of the model is by looking at the distribution plot. We can look at the distribution of the fitted values that result from the model and compare it to the distribution of the actual values.\n",
        "\n",
        "First, let's make a prediction:\n"
      ],
      "metadata": {
        "id": "ckaWRUrabsSx"
      }
    },
    {
      "cell_type": "code",
      "source": [
        "Y_hat = lm.predict(Z)"
      ],
      "metadata": {
        "id": "-C06bP-FbsmW"
      },
      "execution_count": 28,
      "outputs": []
    },
    {
      "cell_type": "code",
      "source": [
        "plt.figure(figsize=(width, height))\n",
        "\n",
        "\n",
        "ax1 = sns.distplot(df['price'], hist=False, color=\"r\", label=\"Actual Value\")\n",
        "sns.distplot(Y_hat, hist=False, color=\"b\", label=\"Fitted Values\" , ax=ax1)\n",
        "\n",
        "\n",
        "plt.title('Actual vs Fitted Values for Price')\n",
        "plt.xlabel('Price (in dollars)')\n",
        "plt.ylabel('Proportion of Cars')\n",
        "\n",
        "plt.show()\n",
        "plt.close()"
      ],
      "metadata": {
        "id": "pTqcLekCbvuP",
        "outputId": "2772fab3-dcce-4c9f-b667-a4fec5d72299",
        "colab": {
          "base_uri": "https://localhost:8080/",
          "height": 712
        }
      },
      "execution_count": 29,
      "outputs": [
        {
          "output_type": "stream",
          "name": "stderr",
          "text": [
            "/usr/local/lib/python3.7/dist-packages/seaborn/distributions.py:2619: FutureWarning: `distplot` is a deprecated function and will be removed in a future version. Please adapt your code to use either `displot` (a figure-level function with similar flexibility) or `kdeplot` (an axes-level function for kernel density plots).\n",
            "  warnings.warn(msg, FutureWarning)\n",
            "/usr/local/lib/python3.7/dist-packages/seaborn/distributions.py:2619: FutureWarning: `distplot` is a deprecated function and will be removed in a future version. Please adapt your code to use either `displot` (a figure-level function with similar flexibility) or `kdeplot` (an axes-level function for kernel density plots).\n",
            "  warnings.warn(msg, FutureWarning)\n"
          ]
        },
        {
          "output_type": "display_data",
          "data": {
            "text/plain": [
              "<Figure size 864x720 with 1 Axes>"
            ],
            "image/png": "[encoded data removed]"
          },
          "metadata": {
            "needs_background": "light"
          }
        }
      ]
    },
    {
      "cell_type": "markdown",
      "source": [
        "We can see that the fitted values are reasonably close to the actual values since the two distributions overlap a bit. However, there is definitely some room for improvement.\n",
        "#3. Polynomial Regression and Pipelines\n",
        "\n",
        "Polynomial regression is a particular case of the general linear regression model or multiple linear regression models.\n",
        "\n",
        "We get non-linear relationships by squaring or setting higher-order terms of the predictor variables.\n",
        "\n",
        "There are different orders of polynomial regression:\n",
        "Quadratic - 2nd Order\n",
        "Yhat=a+b1X+b2X2\n",
        "Cubic - 3rd Order\n",
        "Yhat=a+b1X+b2X2+b3X3\n",
        "Higher-Order:\n",
        "Y=a+b1X+b2X2+b3X3....\n",
        "\n",
        "We saw earlier that a linear model did not provide the best fit while using \"highway-mpg\" as the predictor variable. Let's see if we can try fitting a polynomial model to the data instead.\n",
        "\n",
        "We will use the following function to plot the data:\n"
      ],
      "metadata": {
        "id": "JcxIU1IXbyjV"
      }
    },
    {
      "cell_type": "code",
      "source": [
        "def PlotPolly(model, independent_variable, dependent_variabble, Name):\n",
        "    x_new = np.linspace(15, 55, 100)\n",
        "    y_new = model(x_new)\n",
        "\n",
        "    plt.plot(independent_variable, dependent_variabble, '.', x_new, y_new, '-')\n",
        "    plt.title('Polynomial Fit with Matplotlib for Price ~ Length')\n",
        "    ax = plt.gca()\n",
        "    ax.set_facecolor((0.898, 0.898, 0.898))\n",
        "    fig = plt.gcf()\n",
        "    plt.xlabel(Name)\n",
        "    plt.ylabel('Price of Cars')\n",
        "\n",
        "    plt.show()\n",
        "    plt.close()"
      ],
      "metadata": {
        "id": "zEZrtapLbzta"
      },
      "execution_count": 30,
      "outputs": []
    },
    {
      "cell_type": "markdown",
      "source": [
        "Let's get the variables:"
      ],
      "metadata": {
        "id": "Cr729ATWb2-1"
      }
    },
    {
      "cell_type": "code",
      "source": [
        "x = df['highway-mpg']\n",
        "y = df['price']"
      ],
      "metadata": {
        "id": "XndUL4llb3WK"
      },
      "execution_count": 31,
      "outputs": []
    },
    {
      "cell_type": "markdown",
      "source": [
        "Let's fit the polynomial using the function polyfit, then use the function poly1d to display the polynomial function.\n"
      ],
      "metadata": {
        "id": "H1HCfjKGb56k"
      }
    },
    {
      "cell_type": "code",
      "source": [
        "# Here we use a polynomial of the 3rd order (cubic) \n",
        "f = np.polyfit(x, y, 3)\n",
        "p = np.poly1d(f)\n",
        "print(p)"
      ],
      "metadata": {
        "id": "DdL0ga26b6Km",
        "outputId": "d9e864ab-93aa-49b1-8c5f-bcc7fe96a37f",
        "colab": {
          "base_uri": "https://localhost:8080/"
        }
      },
      "execution_count": 32,
      "outputs": [
        {
          "output_type": "stream",
          "name": "stdout",
          "text": [
            "        3         2\n",
            "-1.557 x + 204.8 x - 8965 x + 1.379e+05\n"
          ]
        }
      ]
    },
    {
      "cell_type": "markdown",
      "source": [
        "Let's plot the function:"
      ],
      "metadata": {
        "id": "MZgYE8Rmb9HL"
      }
    },
    {
      "cell_type": "code",
      "source": [
        "PlotPolly(p, x, y, 'highway-mpg')"
      ],
      "metadata": {
        "id": "s_t7HI9db9XK",
        "outputId": "1c8f6535-2d20-4d0a-9788-60ef707a8349",
        "colab": {
          "base_uri": "https://localhost:8080/",
          "height": 295
        }
      },
      "execution_count": 33,
      "outputs": [
        {
          "output_type": "display_data",
          "data": {
            "text/plain": [
              "<Figure size 432x288 with 1 Axes>"
            ],
            "image/png": "[encoded data removed]"
          },
          "metadata": {
            "needs_background": "light"
          }
        }
      ]
    },
    {
      "cell_type": "code",
      "source": [
        "np.polyfit(x, y, 3)"
      ],
      "metadata": {
        "id": "G1CyJZcOcAN0",
        "outputId": "dccf96cc-12e5-4948-da84-8f2d4a457c54",
        "colab": {
          "base_uri": "https://localhost:8080/"
        }
      },
      "execution_count": 34,
      "outputs": [
        {
          "output_type": "execute_result",
          "data": {
            "text/plain": [
              "array([-1.55663829e+00,  2.04754306e+02, -8.96543312e+03,  1.37923594e+05])"
            ]
          },
          "metadata": {},
          "execution_count": 34
        }
      ]
    },
    {
      "cell_type": "markdown",
      "source": [
        "#Question #4:\n",
        "Create 11 order polynomial model with the variables x and y from above.\n"
      ],
      "metadata": {
        "id": "NjIYh-KCcCWF"
      }
    },
    {
      "cell_type": "code",
      "source": [
        "f1 = np.polyfit(x, y, 11)\n",
        "p1 = np.poly1d(f1)\n",
        "print(p1)\n",
        "PlotPolly(p1,x,y, 'Highway MPG')"
      ],
      "metadata": {
        "id": "CApUCoNXcEKZ",
        "outputId": "21dc84a5-ea31-43a6-d6a4-de56609dc76f",
        "colab": {
          "base_uri": "https://localhost:8080/",
          "height": 366
        }
      },
      "execution_count": 35,
      "outputs": [
        {
          "output_type": "stream",
          "name": "stdout",
          "text": [
            "            11             10             9           8         7\n",
            "-1.243e-08 x  + 4.722e-06 x  - 0.0008028 x + 0.08056 x - 5.297 x\n",
            "          6        5             4             3             2\n",
            " + 239.5 x - 7588 x + 1.684e+05 x - 2.565e+06 x + 2.551e+07 x - 1.491e+08 x + 3.879e+08\n"
          ]
        },
        {
          "output_type": "display_data",
          "data": {
            "text/plain": [
              "<Figure size 432x288 with 1 Axes>"
            ],
            "image/png": "[encoded data removed]"
          },
          "metadata": {
            "needs_background": "light"
          }
        }
      ]
    },
    {
      "cell_type": "markdown",
      "source": [
        "The analytical expression for Multivariate Polynomial function gets complicated. For example, the expression for a second-order (degree=2) polynomial with two variables is given by:\n",
        "\n",
        "Yhat=a+b_1X_1+b_2X_2+b_3X_1X_2+b_4X_12+b_5X_22\n",
        "\n",
        "We can perform a polynomial transform on multiple features. First, we import the module:\n"
      ],
      "metadata": {
        "id": "W1gh_hSicIfx"
      }
    },
    {
      "cell_type": "code",
      "source": [
        "from sklearn.preprocessing import PolynomialFeatures"
      ],
      "metadata": {
        "id": "biqnRoW6cI8s"
      },
      "execution_count": 36,
      "outputs": []
    },
    {
      "cell_type": "markdown",
      "source": [
        "We create a PolynomialFeatures object of degree 2:"
      ],
      "metadata": {
        "id": "FOUBWVcmcMHh"
      }
    },
    {
      "cell_type": "code",
      "source": [
        "pr=PolynomialFeatures(degree=2)\n",
        "pr"
      ],
      "metadata": {
        "id": "r_E3vrujcMXQ",
        "outputId": "c13d6b76-3ae6-4d75-da40-d315e1da885a",
        "colab": {
          "base_uri": "https://localhost:8080/"
        }
      },
      "execution_count": 37,
      "outputs": [
        {
          "output_type": "execute_result",
          "data": {
            "text/plain": [
              "PolynomialFeatures()"
            ]
          },
          "metadata": {},
          "execution_count": 37
        }
      ]
    },
    {
      "cell_type": "code",
      "source": [
        "Z_pr=pr.fit_transform(Z)"
      ],
      "metadata": {
        "id": "4FDioKi3cPVk"
      },
      "execution_count": 38,
      "outputs": []
    },
    {
      "cell_type": "markdown",
      "source": [
        "In the original data, there are 201 samples and 4 features."
      ],
      "metadata": {
        "id": "vGj7EtzwcRMd"
      }
    },
    {
      "cell_type": "code",
      "source": [
        "Z.shape"
      ],
      "metadata": {
        "id": "3Yp8oTy9cRZ1",
        "outputId": "750f5b62-91de-4536-fca2-436f038f344f",
        "colab": {
          "base_uri": "https://localhost:8080/"
        }
      },
      "execution_count": 39,
      "outputs": [
        {
          "output_type": "execute_result",
          "data": {
            "text/plain": [
              "(201, 4)"
            ]
          },
          "metadata": {},
          "execution_count": 39
        }
      ]
    },
    {
      "cell_type": "markdown",
      "source": [
        "After the transformation, there are 201 samples and 15 features."
      ],
      "metadata": {
        "id": "tTjZSVkBcTiV"
      }
    },
    {
      "cell_type": "code",
      "source": [
        "Z_pr.shape"
      ],
      "metadata": {
        "id": "h1x3IOwLcT6O",
        "outputId": "6f3e0a5b-0680-40e4-eed7-d27a8aa7eb1f",
        "colab": {
          "base_uri": "https://localhost:8080/"
        }
      },
      "execution_count": 40,
      "outputs": [
        {
          "output_type": "execute_result",
          "data": {
            "text/plain": [
              "(201, 15)"
            ]
          },
          "metadata": {},
          "execution_count": 40
        }
      ]
    },
    {
      "cell_type": "markdown",
      "source": [
        "#Pipeline¶\n",
        "\n",
        "Data Pipelines simplify the steps of processing the data. We use the module Pipeline to create a pipeline. We also use StandardScaler as a step in our pipeline.\n"
      ],
      "metadata": {
        "id": "wKxSaOrycWG-"
      }
    },
    {
      "cell_type": "code",
      "source": [
        "from sklearn.pipeline import Pipeline\n",
        "from sklearn.preprocessing import StandardScaler"
      ],
      "metadata": {
        "id": "G-am-SNccZCq"
      },
      "execution_count": 41,
      "outputs": []
    },
    {
      "cell_type": "markdown",
      "source": [
        "We create the pipeline by creating a list of tuples including the name of the model or estimator and its corresponding constructor.\n"
      ],
      "metadata": {
        "id": "wK8rdIn_ccZx"
      }
    },
    {
      "cell_type": "code",
      "source": [
        "Input=[('scale',StandardScaler()), ('polynomial', PolynomialFeatures(include_bias=False)), ('model',LinearRegression())]"
      ],
      "metadata": {
        "id": "i3SvDeVXccqx"
      },
      "execution_count": 42,
      "outputs": []
    },
    {
      "cell_type": "markdown",
      "source": [
        "We input the list as an argument to the pipeline constructor:"
      ],
      "metadata": {
        "id": "a_heUAgCcfPz"
      }
    },
    {
      "cell_type": "code",
      "source": [
        "pipe=Pipeline(Input)\n",
        "pipe"
      ],
      "metadata": {
        "id": "v-1WxJwDcftd",
        "outputId": "3812fd46-4e6d-4441-95e6-08c3e6639de3",
        "colab": {
          "base_uri": "https://localhost:8080/"
        }
      },
      "execution_count": 43,
      "outputs": [
        {
          "output_type": "execute_result",
          "data": {
            "text/plain": [
              "Pipeline(steps=[('scale', StandardScaler()),\n",
              "                ('polynomial', PolynomialFeatures(include_bias=False)),\n",
              "                ('model', LinearRegression())])"
            ]
          },
          "metadata": {},
          "execution_count": 43
        }
      ]
    },
    {
      "cell_type": "markdown",
      "source": [
        "First, we convert the data type Z to type float to avoid conversion warnings that may appear as a result of StandardScaler taking float inputs.\n",
        "\n",
        "Then, we can normalize the data, perform a transform and fit the model simultaneously.\n"
      ],
      "metadata": {
        "id": "bnA99Cf7ciVX"
      }
    },
    {
      "cell_type": "code",
      "source": [
        "Z = Z.astype(float)\n",
        "pipe.fit(Z,y)"
      ],
      "metadata": {
        "id": "0fIB023Dcipc",
        "outputId": "343c6330-85bc-45d8-8d33-e52319f6d746",
        "colab": {
          "base_uri": "https://localhost:8080/"
        }
      },
      "execution_count": 44,
      "outputs": [
        {
          "output_type": "execute_result",
          "data": {
            "text/plain": [
              "Pipeline(steps=[('scale', StandardScaler()),\n",
              "                ('polynomial', PolynomialFeatures(include_bias=False)),\n",
              "                ('model', LinearRegression())])"
            ]
          },
          "metadata": {},
          "execution_count": 44
        }
      ]
    },
    {
      "cell_type": "markdown",
      "source": [
        "Similarly, we can normalize the data, perform a transform and produce a prediction simultaneously."
      ],
      "metadata": {
        "id": "GayfNGimclja"
      }
    },
    {
      "cell_type": "code",
      "source": [
        "ypipe=pipe.predict(Z)\n",
        "ypipe[0:4]"
      ],
      "metadata": {
        "id": "vEvKHrdhcl0N",
        "outputId": "c69d0fef-8bc1-4058-e2dd-9519c3ca3cae",
        "colab": {
          "base_uri": "https://localhost:8080/"
        }
      },
      "execution_count": 45,
      "outputs": [
        {
          "output_type": "execute_result",
          "data": {
            "text/plain": [
              "array([13102.74784201, 13102.74784201, 18225.54572197, 10390.29636555])"
            ]
          },
          "metadata": {},
          "execution_count": 45
        }
      ]
    },
    {
      "cell_type": "markdown",
      "source": [
        "#Question #5:\n",
        "Create a pipeline that standardizes the data, then produce a prediction using a linear regression model using the features Z and target y.\n"
      ],
      "metadata": {
        "id": "ksDSMEfTcowp"
      }
    },
    {
      "cell_type": "code",
      "source": [
        "Input=[('scale',StandardScaler()),('model',LinearRegression())]\n",
        "\n",
        "pipe=Pipeline(Input)\n",
        "\n",
        "pipe.fit(Z,y)\n",
        "\n",
        "ypipe=pipe.predict(Z)\n",
        "ypipe[0:10]"
      ],
      "metadata": {
        "id": "5U_4Z2ULcqOZ",
        "outputId": "64808c1e-6355-4656-bc45-e6df1e75204f",
        "colab": {
          "base_uri": "https://localhost:8080/"
        }
      },
      "execution_count": 46,
      "outputs": [
        {
          "output_type": "execute_result",
          "data": {
            "text/plain": [
              "array([13699.11161184, 13699.11161184, 19051.65470233, 10620.36193015,\n",
              "       15521.31420211, 13869.66673213, 15456.16196732, 15974.00907672,\n",
              "       17612.35917161, 10722.32509097])"
            ]
          },
          "metadata": {},
          "execution_count": 46
        }
      ]
    },
    {
      "cell_type": "markdown",
      "source": [
        "#4. Measures for In-Sample Evaluation\n",
        "\n",
        "When evaluating our models, not only do we want to visualize the results, but we also want a quantitative measure to determine how accurate the model is.\n",
        "\n",
        "Two very important measures that are often used in Statistics to determine the accuracy of a model are:\n",
        "\n",
        "    R^2 / R-squared\n",
        "    Mean Squared Error (MSE)\n",
        "\n",
        "R-squared\n",
        "\n",
        "R squared, also known as the coefficient of determination, is a measure to indicate how close the data is to the fitted regression line.\n",
        "\n",
        "The value of the R-squared is the percentage of variation of the response variable (y) that is explained by a linear model.\n",
        "\n",
        "Mean Squared Error (MSE)\n",
        "\n",
        "The Mean Squared Error measures the average of the squares of errors. That is, the difference between actual value (y) and the estimated value (ŷ).\n",
        "Model 1: Simple Linear Regression\n",
        "\n",
        "Let's calculate the R^2:\n"
      ],
      "metadata": {
        "id": "6c0iVoIOcsgw"
      }
    },
    {
      "cell_type": "code",
      "source": [
        "#highway_mpg_fit\n",
        "lm.fit(X, Y)\n",
        "# Find the R^2\n",
        "print('The R-square is: ', lm.score(X, Y))"
      ],
      "metadata": {
        "id": "85rx8-Nzcuow",
        "outputId": "97f29f11-948a-4070-a7c9-f087b73ab1aa",
        "colab": {
          "base_uri": "https://localhost:8080/"
        }
      },
      "execution_count": 47,
      "outputs": [
        {
          "output_type": "stream",
          "name": "stdout",
          "text": [
            "The R-square is:  0.4965911884339176\n"
          ]
        }
      ]
    },
    {
      "cell_type": "markdown",
      "source": [
        "We can say that ~49.659% of the variation of the price is explained by this simple linear model \"horsepower_fit\".\n",
        "\n",
        "Let's calculate the MSE:\n",
        "\n",
        "We can predict the output i.e., \"yhat\" using the predict method, where X is the input variable:\n"
      ],
      "metadata": {
        "id": "l1MVKVtucydD"
      }
    },
    {
      "cell_type": "code",
      "source": [
        "Yhat=lm.predict(X)\n",
        "print('The output of the first four predicted value is: ', Yhat[0:4])"
      ],
      "metadata": {
        "id": "Z9HK08XecywA",
        "outputId": "396c192f-031f-4085-8542-baf4facc5adf",
        "colab": {
          "base_uri": "https://localhost:8080/"
        }
      },
      "execution_count": 48,
      "outputs": [
        {
          "output_type": "stream",
          "name": "stdout",
          "text": [
            "The output of the first four predicted value is:  [16236.50464347 16236.50464347 17058.23802179 13771.3045085 ]\n"
          ]
        }
      ]
    },
    {
      "cell_type": "markdown",
      "source": [
        "Let's import the function mean_squared_error from the module metrics:\n"
      ],
      "metadata": {
        "id": "y5G_1joSc2k-"
      }
    },
    {
      "cell_type": "code",
      "source": [
        "from sklearn.metrics import mean_squared_error"
      ],
      "metadata": {
        "id": "ru0ehdWhc222"
      },
      "execution_count": 49,
      "outputs": []
    },
    {
      "cell_type": "markdown",
      "source": [
        "We can compare the predicted results with the actual results:\n"
      ],
      "metadata": {
        "id": "Oj3ROschc4yJ"
      }
    },
    {
      "cell_type": "code",
      "source": [
        "mse = mean_squared_error(df['price'], Yhat)\n",
        "print('The mean square error of price and predicted value is: ', mse)"
      ],
      "metadata": {
        "id": "2zf62ss8c5-z",
        "outputId": "cc2f58a4-d17f-4079-9edd-acff17fc2c80",
        "colab": {
          "base_uri": "https://localhost:8080/"
        }
      },
      "execution_count": 50,
      "outputs": [
        {
          "output_type": "stream",
          "name": "stdout",
          "text": [
            "The mean square error of price and predicted value is:  31635042.944639888\n"
          ]
        }
      ]
    },
    {
      "cell_type": "markdown",
      "source": [
        "#Model 2: Multiple Linear Regression\n",
        "\n",
        "Let's calculate the R^2:\n"
      ],
      "metadata": {
        "id": "7zMRUgu4c8pU"
      }
    },
    {
      "cell_type": "code",
      "source": [
        "# fit the model \n",
        "lm.fit(Z, df['price'])\n",
        "# Find the R^2\n",
        "print('The R-square is: ', lm.score(Z, df['price']))"
      ],
      "metadata": {
        "id": "UtsBLzM5c9pT",
        "outputId": "7b1c1e93-2749-48ea-eca0-23736371b9cf",
        "colab": {
          "base_uri": "https://localhost:8080/"
        }
      },
      "execution_count": 51,
      "outputs": [
        {
          "output_type": "stream",
          "name": "stdout",
          "text": [
            "The R-square is:  0.8093562806577457\n"
          ]
        }
      ]
    },
    {
      "cell_type": "markdown",
      "source": [
        "We can say that ~80.896 % of the variation of price is explained by this multiple linear regression \"multi_fit\".\n",
        "\n",
        "Let's calculate the MSE.\n",
        "\n",
        "We produce a prediction:\n"
      ],
      "metadata": {
        "id": "LARR1_oldBtU"
      }
    },
    {
      "cell_type": "code",
      "source": [
        "Y_predict_multifit = lm.predict(Z)"
      ],
      "metadata": {
        "id": "Ac07Jhr5dCUW"
      },
      "execution_count": 52,
      "outputs": []
    },
    {
      "cell_type": "markdown",
      "source": [
        "We compare the predicted results with the actual results:"
      ],
      "metadata": {
        "id": "Y6rp3YiSdFXh"
      }
    },
    {
      "cell_type": "code",
      "source": [
        "print('The mean square error of price and predicted value using multifit is: ', \\\n",
        "      mean_squared_error(df['price'], Y_predict_multifit))"
      ],
      "metadata": {
        "id": "vFwKr5tQdG_u",
        "outputId": "67a00be6-435b-4e81-d96e-07be26684eeb",
        "colab": {
          "base_uri": "https://localhost:8080/"
        }
      },
      "execution_count": 53,
      "outputs": [
        {
          "output_type": "stream",
          "name": "stdout",
          "text": [
            "The mean square error of price and predicted value using multifit is:  11980366.87072649\n"
          ]
        }
      ]
    },
    {
      "cell_type": "markdown",
      "source": [
        "#Model 3: Polynomial Fit\n",
        "\n",
        "Let's calculate the R^2.\n",
        "\n",
        "Let’s import the function r2_score from the module metrics as we are using a different function.\n"
      ],
      "metadata": {
        "id": "AAHheiPvdIe7"
      }
    },
    {
      "cell_type": "code",
      "source": [
        "from sklearn.metrics import r2_score"
      ],
      "metadata": {
        "id": "46kaCcASdKUV"
      },
      "execution_count": 54,
      "outputs": []
    },
    {
      "cell_type": "markdown",
      "source": [
        "We apply the function to get the value of R^2:"
      ],
      "metadata": {
        "id": "i0NvfxSIdNDS"
      }
    },
    {
      "cell_type": "code",
      "source": [
        "r_squared = r2_score(y, p(x))\n",
        "print('The R-square value is: ', r_squared)"
      ],
      "metadata": {
        "id": "PaGhnfgadNTU",
        "outputId": "0a79492d-b7fb-4811-8d46-aece94b0f31a",
        "colab": {
          "base_uri": "https://localhost:8080/"
        }
      },
      "execution_count": 55,
      "outputs": [
        {
          "output_type": "stream",
          "name": "stdout",
          "text": [
            "The R-square value is:  0.674194666390652\n"
          ]
        }
      ]
    },
    {
      "cell_type": "markdown",
      "source": [
        "We can say that ~67.419 % of the variation of price is explained by this polynomial fit.\n",
        "\n",
        "#MSE\n",
        "\n",
        "We can also calculate the MSE:\n"
      ],
      "metadata": {
        "id": "5z4r6stPdQJQ"
      }
    },
    {
      "cell_type": "code",
      "source": [
        "mean_squared_error(df['price'], p(x))"
      ],
      "metadata": {
        "id": "c6JZz0dqdSC5",
        "outputId": "5bf98884-7294-4690-f034-43e19c25c8f3",
        "colab": {
          "base_uri": "https://localhost:8080/"
        }
      },
      "execution_count": 56,
      "outputs": [
        {
          "output_type": "execute_result",
          "data": {
            "text/plain": [
              "20474146.426361218"
            ]
          },
          "metadata": {},
          "execution_count": 56
        }
      ]
    },
    {
      "cell_type": "markdown",
      "source": [
        "#5. Prediction and Decision Making\n",
        "Prediction\n",
        "\n",
        "In the previous section, we trained the model using the method fit. Now we will use the method predict to produce a prediction. Lets import pyplot for plotting; we will also be using some functions from numpy.\n"
      ],
      "metadata": {
        "id": "Vb151jd2dUu4"
      }
    },
    {
      "cell_type": "code",
      "source": [
        "import matplotlib.pyplot as plt\n",
        "import numpy as np\n",
        "\n",
        "%matplotlib inline"
      ],
      "metadata": {
        "id": "IVZO_4lfdVR6"
      },
      "execution_count": 57,
      "outputs": []
    },
    {
      "cell_type": "markdown",
      "source": [
        "Create a new input:\n"
      ],
      "metadata": {
        "id": "e7uGb9ildX_L"
      }
    },
    {
      "cell_type": "code",
      "source": [
        "new_input=np.arange(1, 100, 1).reshape(-1, 1)"
      ],
      "metadata": {
        "id": "nrJjxIAtdYTt"
      },
      "execution_count": 58,
      "outputs": []
    },
    {
      "cell_type": "markdown",
      "source": [
        "Fit the model:\n"
      ],
      "metadata": {
        "id": "Y9HjJkoZdbEf"
      }
    },
    {
      "cell_type": "code",
      "source": [
        "lm.fit(X, Y)\n",
        "lm"
      ],
      "metadata": {
        "id": "lJFxGijUdbUQ",
        "outputId": "6c04ea3d-271e-4e89-9805-388435b57b7a",
        "colab": {
          "base_uri": "https://localhost:8080/"
        }
      },
      "execution_count": 62,
      "outputs": [
        {
          "output_type": "execute_result",
          "data": {
            "text/plain": [
              "LinearRegression()"
            ]
          },
          "metadata": {},
          "execution_count": 62
        }
      ]
    },
    {
      "cell_type": "markdown",
      "source": [
        "Produce a prediction:\n"
      ],
      "metadata": {
        "id": "JrkzdKauddiA"
      }
    },
    {
      "cell_type": "code",
      "source": [
        "yhat=lm.predict(new_input)\n",
        "yhat[0:5]"
      ],
      "metadata": {
        "id": "JYrqqBhJdd-U",
        "outputId": "406dba5a-cdc8-4b82-cc3c-b88b8f1ae4d6",
        "colab": {
          "base_uri": "https://localhost:8080/"
        }
      },
      "execution_count": 63,
      "outputs": [
        {
          "output_type": "stream",
          "name": "stderr",
          "text": [
            "/usr/local/lib/python3.7/dist-packages/sklearn/base.py:451: UserWarning: X does not have valid feature names, but LinearRegression was fitted with feature names\n",
            "  \"X does not have valid feature names, but\"\n"
          ]
        },
        {
          "output_type": "execute_result",
          "data": {
            "text/plain": [
              "array([37601.57247984, 36779.83910151, 35958.10572319, 35136.37234487,\n",
              "       34314.63896655])"
            ]
          },
          "metadata": {},
          "execution_count": 63
        }
      ]
    },
    {
      "cell_type": "markdown",
      "source": [
        "We can plot the data:\n"
      ],
      "metadata": {
        "id": "5XzX1ERDd0Pk"
      }
    },
    {
      "cell_type": "code",
      "source": [
        "plt.plot(new_input, yhat)\n",
        "plt.show()"
      ],
      "metadata": {
        "id": "AKs41E-Ud0mK",
        "outputId": "d930ed6f-0ee5-4aba-e119-87ee9b7d5c24",
        "colab": {
          "base_uri": "https://localhost:8080/",
          "height": 265
        }
      },
      "execution_count": 64,
      "outputs": [
        {
          "output_type": "display_data",
          "data": {
            "text/plain": [
              "<Figure size 432x288 with 1 Axes>"
            ],
            "image/png": "[encoded data removed]"
          },
          "metadata": {
            "needs_background": "light"
          }
        }
      ]
    },
    {
      "cell_type": "markdown",
      "source": [
        "#Decision Making: Determining a Good Model Fit\n",
        "\n",
        "Now that we have visualized the different models, and generated the R-squared and MSE values for the fits, how do we determine a good model fit?\n",
        "\n",
        "    What is a good R-squared value?\n",
        "\n",
        "When comparing models, the model with the higher R-squared value is a better fit for the data.\n",
        "\n",
        "    What is a good MSE?\n",
        "\n",
        "When comparing models, the model with the smallest MSE value is a better fit for the data.\n",
        "Let's take a look at the values for the different models.\n",
        "\n",
        "#Simple Linear Regression: Using Highway-mpg as a Predictor Variable of Price.\n",
        "\n",
        "    R-squared: 0.49659118843391759\n",
        "    MSE: 3.16 x10^7\n",
        "\n",
        "Multiple Linear Regression: Using Horsepower, Curb-weight, Engine-size, and Highway-mpg as Predictor Variables of Price.\n",
        "\n",
        "    R-squared: 0.80896354913783497\n",
        "    MSE: 1.2 x10^7\n",
        "\n",
        "Polynomial Fit: Using Highway-mpg as a Predictor Variable of Price.\n",
        "\n",
        "    R-squared: 0.6741946663906514\n",
        "    MSE: 2.05 x 10^7\n",
        "\n",
        "Simple Linear Regression Model (SLR) vs Multiple Linear Regression Model (MLR)\n",
        "\n",
        "Usually, the more variables you have, the better your model is at predicting, but this is not always true. Sometimes you may not have enough data, you may run into numerical problems, or many of the variables may not be useful and even act as noise. As a result, you should always check the MSE and R^2.\n",
        "\n",
        "In order to compare the results of the MLR vs SLR models, we look at a combination of both the R-squared and MSE to make the best conclusion about the fit of the model.\n",
        "\n",
        "    MSE: The MSE of SLR is 3.16x10^7 while MLR has an MSE of 1.2 x10^7. The MSE of MLR is much smaller.\n",
        "    R-squared: In this case, we can also see that there is a big difference between the R-squared of the SLR and the R-squared of the MLR. The R-squared for the SLR (~0.497) is very small compared to the R-squared for the MLR (~0.809).\n",
        "\n",
        "This R-squared in combination with the MSE show that MLR seems like the better model fit in this case compared to SLR.\n",
        "Simple Linear Model (SLR) vs. Polynomial Fit\n",
        "\n",
        "    MSE: We can see that Polynomial Fit brought down the MSE, since this MSE is smaller than the one from the SLR.\n",
        "    R-squared: The R-squared for the Polynomial Fit is larger than the R-squared for the SLR, so the Polynomial Fit also brought up the R-squared quite a bit.\n",
        "\n",
        "Since the Polynomial Fit resulted in a lower MSE and a higher R-squared, we can conclude that this was a better fit model than the simple linear regression for predicting \"price\" with \"highway-mpg\" as a predictor variable.\n",
        "Multiple Linear Regression (MLR) vs. Polynomial Fit\n",
        "\n",
        "    MSE: The MSE for the MLR is smaller than the MSE for the Polynomial Fit.\n",
        "    R-squared: The R-squared for the MLR is also much larger than for the Polynomial Fit.\n",
        "\n",
        "#Conclusion\n",
        "\n",
        "Comparing these three models, we conclude that the MLR model is the best model to be able to predict price from our dataset. This result makes sense since we have 27 variables in total and we know that more than one of those variables are potential predictors of the final car price.\n"
      ],
      "metadata": {
        "id": "ILWp7-FQd6Oz"
      }
    },
    {
      "cell_type": "markdown",
      "source": [
        "#Graded Review Questions Instructions\n",
        "\n",
        "    Time allowed: Unlimited  \n",
        "        We encourage you to go back and review the materials to find the right answer\n",
        "        Please remember that the Review Questions are worth 50% of your final mark.\n",
        "    Attempts per question:\n",
        "        One attempt - For True/False questions\n",
        "        Two attempts - For any question other than True/False\n",
        "    Clicking the \"Final Check\" button when it appears, means your submission is FINAL.  You will NOT be able to resubmit your answer for that question ever again\n",
        "    Check your grades in the course at any time by clicking on the \"Progress\" ta\n",
        "\n"
      ],
      "metadata": {
        "id": "AatpEXpIeFiY"
      }
    },
    {
      "cell_type": "markdown",
      "source": [
        "# Question 1\n",
        "1 point possible (graded)\n",
        "\n",
        "Let X be a dataframe with 100 rows and 5 columns. Let y be the target with 100 samples. Assuming all the relevant libraries and data have been imported, the following line of code has been executed:"
      ],
      "metadata": {
        "id": "mXHnW7ZleP12"
      }
    },
    {
      "cell_type": "markdown",
      "source": [
        "LR = LinearRegression()\n",
        "\n",
        "LR.fit(X, y)\n",
        "\n",
        "yhat = LR.predict(X)\n",
        "\n",
        "#How many samples does yhat contain?"
      ],
      "metadata": {
        "id": "AIJ0iSMJeiCL"
      }
    },
    {
      "cell_type": "code",
      "source": [
        "LR = LinearRegression()\n",
        "\n",
        "LR.fit(X, y)\n",
        "\n",
        "yhat = LR.predict(X)\n"
      ],
      "metadata": {
        "id": "WaGUigFAeMIx"
      },
      "execution_count": 70,
      "outputs": []
    },
    {
      "cell_type": "code",
      "source": [
        "100"
      ],
      "metadata": {
        "id": "4RvXOXbVeXSI",
        "outputId": "9f7eaa30-76f4-454c-d32a-cc2e0dfe5751",
        "colab": {
          "base_uri": "https://localhost:8080/"
        }
      },
      "execution_count": 75,
      "outputs": [
        {
          "output_type": "execute_result",
          "data": {
            "text/plain": [
              "100"
            ]
          },
          "metadata": {},
          "execution_count": 75
        }
      ]
    },
    {
      "cell_type": "markdown",
      "source": [
        "# Question 2\n",
        "1 point possible (graded)\n",
        "What value of R^2 (coefficient of determination) indicates your model performs best?\n"
      ],
      "metadata": {
        "id": "GBsovYrafhoV"
      }
    },
    {
      "cell_type": "code",
      "source": [
        "1"
      ],
      "metadata": {
        "id": "gNqIJKL_fjDm",
        "outputId": "7437e2ac-b971-472c-b56a-85f503e02d40",
        "colab": {
          "base_uri": "https://localhost:8080/"
        }
      },
      "execution_count": 77,
      "outputs": [
        {
          "output_type": "execute_result",
          "data": {
            "text/plain": [
              "1"
            ]
          },
          "metadata": {},
          "execution_count": 77
        }
      ]
    },
    {
      "cell_type": "markdown",
      "source": [
        "# Question 3\n",
        "1 point possible (graded)\n",
        "Which statement is true about polynomial linear regression?"
      ],
      "metadata": {
        "id": "0VBFas2df4it"
      }
    },
    {
      "cell_type": "code",
      "source": [
        "#Although the predictor variables of polynomial linear regression are not linear, the relationship between the parameters or coefficients is linear. "
      ],
      "metadata": {
        "id": "TLRbtJ1zf6M3"
      },
      "execution_count": 79,
      "outputs": []
    },
    {
      "cell_type": "markdown",
      "source": [
        "# Question 4\n",
        "1 point possible (graded)\n",
        "The larger the mean squared error, the better your model performs"
      ],
      "metadata": {
        "id": "Aj7ifxr4gZTT"
      }
    },
    {
      "cell_type": "code",
      "source": [
        "#False "
      ],
      "metadata": {
        "id": "iBz9ivuCgcVD"
      },
      "execution_count": 80,
      "outputs": []
    },
    {
      "cell_type": "markdown",
      "source": [
        "# Question 5\n",
        "1 point possible (graded)\n",
        "\n",
        "Assume all the libraries are imported. y is the target and X is the features or dependent variables. Consider the following lines of code:\n",
        "\n",
        "Input=[('scale',StandardScaler()),('model',LinearRegression())]\n",
        "\n",
        "pipe=Pipeline(Input)\n",
        "\n",
        "pipe.fit(X,y)\n",
        "\n",
        "ypipe=pipe.predict(X)\n",
        "\n",
        "What is the result of ypipe?"
      ],
      "metadata": {
        "id": "APADYgrtgpLX"
      }
    },
    {
      "cell_type": "code",
      "source": [
        "Input=[('scale',StandardScaler()),('model',LinearRegression())]\n",
        "\n",
        "pipe=Pipeline(Input)\n",
        "\n",
        "pipe.fit(X,y)\n",
        "\n",
        "ypipe=pipe.predict(X)"
      ],
      "metadata": {
        "id": "T7BAR6iCgriY"
      },
      "execution_count": 81,
      "outputs": []
    },
    {
      "cell_type": "code",
      "source": [
        "#Standardize the data, then perform prediction using a linear regression model. "
      ],
      "metadata": {
        "id": "UEb2Cln1gxVB"
      },
      "execution_count": 83,
      "outputs": []
    },
    {
      "cell_type": "markdown",
      "source": [
        "![Modulo_4_A01793670_Semana_7_Data_Analysis_with_Python_Progress.JPG](data:image/jpeg;base64,/9j/4AAQSkZJRgABAQEAeAB4AAD/4RDcRXhpZgAATU0AKgAAAAgABAE7AAIAAAAGAAAISodpAAQAAAABAAAIUJydAAEAAAAMAAAQyOocAAcAAAgMAAAAPgAAAAAc6gAAAAgAAAAAAAAAAAAAAAAAAAAAAAAAAAAAAAAAAAAAAAAAAAAAAAAAAAAAAAAAAAAAAAAAAAAAAAAAAAAAAAAAAAAAAAAAAAAAAAAAAAAAAAAAAAAAAAAAAAAAAAAAAAAAAAAAAAAAAAAAAAAAAAAAAAAAAAAAAAAAAAAAAAAAAAAAAAAAAAAAAAAAAAAAAAAAAAAAAAAAAAAAAAAAAAAAAAAAAAAAAAAAAAAAAAAAAAAAAAAAAAAAAAAAAAAAAAAAAAAAAAAAAAAAAAAAAAAAAAAAAAAAAAAAAAAAAAAAAAAAAAAAAAAAAAAAAAAAAAAAAAAAAAAAAAAAAAAAAAAAAAAAAAAAAAAAAAAAAAAAAAAAAAAAAAAAAAAAAAAAAAAAAAAAAAAAAAAAAAAAAAAAAAAAAAAAAAAAAAAAAAAAAAAAAAAAAAAAAAAAAAAAAAAAAAAAAAAAAAAAAAAAAAAAAAAAAAAAAAAAAAAAAAAAAAAAAAAAAAAAAAAAAAAAAAAAAAAAAAAAAAAAAAAAAAAAAAAAAAAAAAAAAAAAAAAAAAAAAAAAAAAAAAAAAAAAAAAAAAAAAAAAAAAAAAAAAAAAAAAAAAAAAAAAAAAAAAAAAAAAAAAAAAAAAAAAAAAAAAAAAAAAAAAAAAAAAAAAAAAAAAAAAAAAAAAAAAAAAAAAAAAAAAAAAAAAAAAAAAAAAAAAAAAAAAAAAAAAAAAAAAAAAAAAAAAAAAAAAAAAAAAAAAAAAAAAAAAAAAAAAAAAAAAAAAAAAAAAAAAAAAAAAAAAAAAAAAAAAAAAAAAAAAAAAAAAAAAAAAAAAAAAAAAAAAAAAAAAAAAAAAAAAAAAAAAAAAAAAAAAAAAAAAAAAAAAAAAAAAAAAAAAAAAAAAAAAAAAAAAAAAAAAAAAAAAAAAAAAAAAAAAAAAAAAAAAAAAAAAAAAAAAAAAAAAAAAAAAAAAAAAAAAAAAAAAAAAAAAAAAAAAAAAAAAAAAAAAAAAAAAAAAAAAAAAAAAAAAAAAAAAAAAAAAAAAAAAAAAAAAAAAAAAAAAAAAAAAAAAAAAAAAAAAAAAAAAAAAAAAAAAAAAAAAAAAAAAAAAAAAAAAAAAAAAAAAAAAAAAAAAAAAAAAAAAAAAAAAAAAAAAAAAAAAAAAAAAAAAAAAAAAAAAAAAAAAAAAAAAAAAAAAAAAAAAAAAAAAAAAAAAAAAAAAAAAAAAAAAAAAAAAAAAAAAAAAAAAAAAAAAAAAAAAAAAAAAAAAAAAAAAAAAAAAAAAAAAAAAAAAAAAAAAAAAAAAAAAAAAAAAAAAAAAAAAAAAAAAAAAAAAAAAAAAAAAAAAAAAAAAAAAAAAAAAAAAAAAAAAAAAAAAAAAAAAAAAAAAAAAAAAAAAAAAAAAAAAAAAAAAAAAAAAAAAAAAAAAAAAAAAAAAAAAAAAAAAAAAAAAAAAAAAAAAAAAAAAAAAAAAAAAAAAAAAAAAAAAAAAAAAAAAAAAAAAAAAAAAAAAAAAAAAAAAAAAAAAAAAAAAAAAAAAAAAAAAAAAAAAAAAAAAAAAAAAAAAAAAAAAAAAAAAAAAAAAAAAAAAAAAAAAAAAAAAAAAAAAAAAAAAAAAAAAAAAAAAAAAAAAAAAAAAAAAAAAAAAAAAAAAAAAAAAAAAAAAAAAAAAAAAAAAAAAAAAAAAAAAAAAAAAAAAAAAAAAAAAAAAAAAAAAAAAAAAAAAAAAAAAAAAAAAAAAAAAAAAAAAAAAAAAAAAAAAAAAAAAAAAAAAAAAAAAAAAAAAAAAAAAAAAAAAAAAAAAAAAAAAAAAAAAAAAAAAAAAAAAAAAAAAAAAAAAAAAAAAAAAAAAAAAAAAAAAAAAAAAAAAAAAAAAAAAAAAAAAAAAAAAAAAAAAAAAAAAAAAAAAAAAAAAAAAAAAAAAAAAAAAAAAAAAAAAAAAAAAAAAAAAAAAAAAAAAAAAAAAAAAAAAAAAAAAAAAAAAAAAAAAAAAAAAAAAAAAAAAAAAAAAAAAAAAAAAAAAAAAAAAAAAAAAAAAAAAAAAAAAAAAAAAAAAAAAAAAAAAAAAAAAAAAAAAAAAAAAAAAAAAAAAAAAAAAAAAAAAAAAAAAAAAAAAAAAAAAAAAAAAAAAAAAAAAAAAAAAAAAAAAAAAAAAAAAAAAAAAAAAAAAAAAAAAAAAAAAAAAAAAAAAAAAAAAAAAAAAAAAAAAAAAAAAAAAAAAAAAAAAAAAAAAAAAAAAAAAAAAAAAAAAAAAAAAAAAAAAAAAAAAAAAAAAAAAAAAAAAAAAAAAAAAAAAAAAAAAAAAAAAAAAAAAAAAAAAAAAAAAAAAAAAAAAAAAAAAAAAAAAAAAAAAAAAAAAAAAAAAAAAAAAAAAAAAAAAAAAAAAAAAAAAAAAAAAAAAAAAAAAAAAAAAAAAAAAAAAAAAAAAAAAAAAAAAAAAAAAAAAAAAAAAAAAAAAAAAAAAAAAAAAAAAAAAAAAAAAAAAAAAAAAAAAAAAAAAAAAAAAAAAAAAAAAAAAAAAAAAAAAAAAAAAAAAAAAAAAAAAAAAAAAAAAAAAAAAAAAAAAAAAAAAAAAAAAAAAAAAAAAAAAAAAAAAAAAAAAAAAAAAAAAAAAAAAAAAAAAAAAAAAAAAAAAAAAAAAAAAAAAAAAAAAAAAAAAAAAAAAAAAAAAAAAAAAAAAAAAAAAAAAAAAAAAAAAAAAAAAAAAAAAAAAAAAAAAAAAAAAAAAAAAAAAAAAAAAAAAAAAAAAAAAAAAEJyeWFuAAAFkAMAAgAAABQAABCekAQAAgAAABQAABCykpEAAgAAAAM3OQAAkpIAAgAAAAM3OQAA6hwABwAACAwAAAiSAAAAABzqAAAACAAAAAAAAAAAAAAAAAAAAAAAAAAAAAAAAAAAAAAAAAAAAAAAAAAAAAAAAAAAAAAAAAAAAAAAAAAAAAAAAAAAAAAAAAAAAAAAAAAAAAAAAAAAAAAAAAAAAAAAAAAAAAAAAAAAAAAAAAAAAAAAAAAAAAAAAAAAAAAAAAAAAAAAAAAAAAAAAAAAAAAAAAAAAAAAAAAAAAAAAAAAAAAAAAAAAAAAAAAAAAAAAAAAAAAAAAAAAAAAAAAAAAAAAAAAAAAAAAAAAAAAAAAAAAAAAAAAAAAAAAAAAAAAAAAAAAAAAAAAAAAAAAAAAAAAAAAAAAAAAAAAAAAAAAAAAAAAAAAAAAAAAAAAAAAAAAAAAAAAAAAAAAAAAAAAAAAAAAAAAAAAAAAAAAAAAAAAAAAAAAAAAAAAAAAAAAAAAAAAAAAAAAAAAAAAAAAAAAAAAAAAAAAAAAAAAAAAAAAAAAAAAAAAAAAAAAAAAAAAAAAAAAAAAAAAAAAAAAAAAAAAAAAAAAAAAAAAAAAAAAAAAAAAAAAAAAAAAAAAAAAAAAAAAAAAAAAAAAAAAAAAAAAAAAAAAAAAAAAAAAAAAAAAAAAAAAAAAAAAAAAAAAAAAAAAAAAAAAAAAAAAAAAAAAAAAAAAAAAAAAAAAAAAAAAAAAAAAAAAAAAAAAAAAAAAAAAAAAAAAAAAAAAAAAAAAAAAAAAAAAAAAAAAAAAAAAAAAAAAAAAAAAAAAAAAAAAAAAAAAAAAAAAAAAAAAAAAAAAAAAAAAAAAAAAAAAAAAAAAAAAAAAAAAAAAAAAAAAAAAAAAAAAAAAAAAAAAAAAAAAAAAAAAAAAAAAAAAAAAAAAAAAAAAAAAAAAAAAAAAAAAAAAAAAAAAAAAAAAAAAAAAAAAAAAAAAAAAAAAAAAAAAAAAAAAAAAAAAAAAAAAAAAAAAAAAAAAAAAAAAAAAAAAAAAAAAAAAAAAAAAAAAAAAAAAAAAAAAAAAAAAAAAAAAAAAAAAAAAAAAAAAAAAAAAAAAAAAAAAAAAAAAAAAAAAAAAAAAAAAAAAAAAAAAAAAAAAAAAAAAAAAAAAAAAAAAAAAAAAAAAAAAAAAAAAAAAAAAAAAAAAAAAAAAAAAAAAAAAAAAAAAAAAAAAAAAAAAAAAAAAAAAAAAAAAAAAAAAAAAAAAAAAAAAAAAAAAAAAAAAAAAAAAAAAAAAAAAAAAAAAAAAAAAAAAAAAAAAAAAAAAAAAAAAAAAAAAAAAAAAAAAAAAAAAAAAAAAAAAAAAAAAAAAAAAAAAAAAAAAAAAAAAAAAAAAAAAAAAAAAAAAAAAAAAAAAAAAAAAAAAAAAAAAAAAAAAAAAAAAAAAAAAAAAAAAAAAAAAAAAAAAAAAAAAAAAAAAAAAAAAAAAAAAAAAAAAAAAAAAAAAAAAAAAAAAAAAAAAAAAAAAAAAAAAAAAAAAAAAAAAAAAAAAAAAAAAAAAAAAAAAAAAAAAAAAAAAAAAAAAAAAAAAAAAAAAAAAAAAAAAAAAAAAAAAAAAAAAAAAAAAAAAAAAAAAAAAAAAAAAAAAAAAAAAAAAAAAAAAAAAAAAAAAAAAAAAAAAAAAAAAAAAAAAAAAAAAAAAAAAAAAAAAAAAAAAAAAAAAAAAAAAAAAAAAAAAAAAAAAAAAAAAAAAAAAAAAAAAAAAAAAAAAAAAAAAAAAAAAAAAAAAAAAAAAAAAAAAAAAAAAAAAAAAAAAAAAAAAAAAAAAAAAAAAAAAAAAAAAAAAAAAAAAAAAAAAAAAAAAAAAAAAAAAAAAAAAAAAAAAAAAAAAAAAAAAAAAAAAAAAAAAAAAAAAAAAAAAAAAAAAAAAAAAAAAAAAAAAAAAAAAAAAAAAAAAAAAAAAAAAAAAAAAAAAAAAAAAAAAAAAAAAAAAAAAAAAAAAAAAAAAAAAAAAAAAAAAAAAAAAAAAAAAAAAAAAAAAAAAAAAAAAAAAAAAAAAAAAAAAAAAAAAAAAAAAAAAAAAAAAAAAAAAAAAAAAAAAAAAAAAAAAAAAAAAAAAAAAAAAAAAAAAAAAAAAAAAAAAAAAAAAAAAAAAAAAAAAAAAAAAAAAAAAAAAAAAAAAAAAAAAAAAAAAAAAAAAAAAAAAAAAAAAAAAAAAAAAAAAAAAAAAAAAAAAAAAAAAAAAAAAAAAAAAAAAAAAAAAAAAAAAAAAAAAAAAAAAAAAAAAAAAAAAAAAAAAAAAAAAAAAAAAAAAAAAAAAAAAAAAAAAAAAAAAAAAAAAAAAAAAAAAAAAAAAAAAAAAAAAAAAAAAAAAAAAAAAAAAAAAAAAAAAAAAAAAAAAAAAAAAAAAAAAAAAAAAAAAAAAAAAAAAAAAAAAAAAAAAAAAAAAAAAAAAAAAAAAAAAAAAAAAAAAAAAAAAAAAAAAAAAAAAAAAAAAAAAAAAAAAAAAAAAAAAAAAAAAAAAAAAAAAAAAAAAAAAAAAAAAAAAAAAAAAAAAAAAAAAAAAAAAAAAAAAAAAAAAAAAAAAAAAAAAAAAAAAAAAAAAAAAAAAAAAAAAAAAAAAAAAAAAAAAAAAAAAAAAAAAAAAAAAAAAAAAAAAAAAAAAAAAAAAAAAAAAAAAAAAAAAAAAAAAAAAAAAAAAAAAAAAAAAAAAAAAAAAAAAAAAAAAAAAAAAAAAAAAAAAAAAAAAAAAAAAAAAAAAAAAAAAAAAAAAAAAAAAAAAAAAAAAAAAAAAAAAAAAAAAAAAAAAAAAAAAAAAAAAAAAAAAAAAAAAAAAAAAAAAAMjAyMjoxMDozMSAxODoxMjoyNQAyMDIyOjEwOjMxIDE4OjEyOjI1AAAAQgByAHkAYQBuAAAA/+ELGGh0dHA6Ly9ucy5hZG9iZS5jb20veGFwLzEuMC8APD94cGFja2V0IGJlZ2luPSfvu78nIGlkPSdXNU0wTXBDZWhpSHpyZVN6TlRjemtjOWQnPz4NCjx4OnhtcG1ldGEgeG1sbnM6eD0iYWRvYmU6bnM6bWV0YS8iPjxyZGY6UkRGIHhtbG5zOnJkZj0iaHR0cDovL3d3dy53My5vcmcvMTk5OS8wMi8yMi1yZGYtc3ludGF4LW5zIyI+PHJkZjpEZXNjcmlwdGlvbiByZGY6YWJvdXQ9InV1aWQ6ZmFmNWJkZDUtYmEzZC0xMWRhLWFkMzEtZDMzZDc1MTgyZjFiIiB4bWxuczpkYz0iaHR0cDovL3B1cmwub3JnL2RjL2VsZW1lbnRzLzEuMS8iLz48cmRmOkRlc2NyaXB0aW9uIHJkZjphYm91dD0idXVpZDpmYWY1YmRkNS1iYTNkLTExZGEtYWQzMS1kMzNkNzUxODJmMWIiIHhtbG5zOnhtcD0iaHR0cDovL25zLmFkb2JlLmNvbS94YXAvMS4wLyI+PHhtcDpDcmVhdGVEYXRlPjIwMjItMTAtMzFUMTg6MTI6MjUuNzkzPC94bXA6Q3JlYXRlRGF0ZT48L3JkZjpEZXNjcmlwdGlvbj48cmRmOkRlc2NyaXB0aW9uIHJkZjphYm91dD0idXVpZDpmYWY1YmRkNS1iYTNkLTExZGEtYWQzMS1kMzNkNzUxODJmMWIiIHhtbG5zOmRjPSJodHRwOi8vcHVybC5vcmcvZGMvZWxlbWVudHMvMS4xLyI+PGRjOmNyZWF0b3I+PHJkZjpTZXEgeG1sbnM6cmRmPSJodHRwOi8vd3d3LnczLm9yZy8xOTk5LzAyLzIyLXJkZi1zeW50YXgtbnMjIj48cmRmOmxpPkJyeWFuPC9yZGY6bGk+PC9yZGY6U2VxPg0KCQkJPC9kYzpjcmVhdG9yPjwvcmRmOkRlc2NyaXB0aW9uPjwvcmRmOlJERj48L3g6eG1wbWV0YT4NCiAgICAgICAgICAgICAgICAgICAgICAgICAgICAgICAgICAgICAgICAgICAgICAgICAgICAgICAgICAgICAgICAgICAgICAgICAgICAgICAgICAgICAgICAgICAgICAgICAgICAKICAgICAgICAgICAgICAgICAgICAgICAgICAgICAgICAgICAgICAgICAgICAgICAgICAgICAgICAgICAgICAgICAgICAgICAgICAgICAgICAgICAgICAgICAgICAgICAgICAgIAogICAgICAgICAgICAgICAgICAgICAgICAgICAgICAgICAgICAgICAgICAgICAgICAgICAgICAgICAgICAgICAgICAgICAgICAgICAgICAgICAgICAgICAgICAgICAgICAgICAgCiAgICAgICAgICAgICAgICAgICAgICAgICAgICAgICAgICAgICAgICAgICAgICAgICAgICAgICAgICAgICAgICAgICAgICAgICAgICAgICAgICAgICAgICAgICAgICAgICAgICAKICAgICAgICAgICAgICAgICAgICAgICAgICAgICAgICAgICAgICAgICAgICAgICAgICAgICAgICAgICAgICAgICAgICAgICAgICAgICAgICAgICAgICAgICAgICAgICAgICAgIAogICAgICAgICAgICAgICAgICAgICAgICAgICAgICAgICAgICAgICAgICAgICAgICAgICAgICAgICAgICAgICAgICAgICAgICAgICAgICAgICAgICAgICAgICAgICAgICAgICAgCiAgICAgICAgICAgICAgICAgICAgICAgICAgICAgICAgICAgICAgICAgICAgICAgICAgICAgICAgICAgICAgICAgICAgICAgICAgICAgICAgICAgICAgICAgICAgICAgICAgICAKICAgICAgICAgICAgICAgICAgICAgICAgICAgICAgICAgICAgICAgICAgICAgICAgICAgICAgICAgICAgICAgICAgICAgICAgICAgICAgICAgICAgICAgICAgICAgICAgICAgIAogICAgICAgICAgICAgICAgICAgICAgICAgICAgICAgICAgICAgICAgICAgICAgICAgICAgICAgICAgICAgICAgICAgICAgICAgICAgICAgICAgICAgICAgICAgICAgICAgICAgCiAgICAgICAgICAgICAgICAgICAgICAgICAgICAgICAgICAgICAgICAgICAgICAgICAgICAgICAgICAgICAgICAgICAgICAgICAgICAgICAgICAgICAgICAgICAgICAgICAgICAKICAgICAgICAgICAgICAgICAgICAgICAgICAgICAgICAgICAgICAgICAgICAgICAgICAgICAgICAgICAgICAgICAgICAgICAgICAgICAgICAgICAgICAgICAgICAgICAgICAgIAogICAgICAgICAgICAgICAgICAgICAgICAgICAgICAgICAgICAgICAgICAgICAgICAgICAgICAgICAgICAgICAgICAgICAgICAgICAgICAgICAgICAgICAgICAgICAgICAgICAgCiAgICAgICAgICAgICAgICAgICAgICAgICAgICAgICAgICAgICAgICAgICAgICAgICAgICAgICAgICAgICAgICAgICAgICAgICAgICAgICAgICAgICAgICAgICAgICAgICAgICAKICAgICAgICAgICAgICAgICAgICAgICAgICAgICAgICAgICAgICAgICAgICAgICAgICAgICAgICAgICAgICAgICAgICAgICAgICAgICAgICAgICAgICAgICAgICAgICAgICAgIAogICAgICAgICAgICAgICAgICAgICAgICAgICAgICAgICAgICAgICAgICAgICAgICAgICAgICAgICAgICAgICAgICAgICAgICAgICAgICAgICAgICAgICAgICAgICAgICAgICAgCiAgICAgICAgICAgICAgICAgICAgICAgICAgICAgICAgICAgICAgICAgICAgICAgICAgICAgICAgICAgICAgICAgICAgICAgICAgICAgICAgICAgICAgICAgICAgICAgICAgICAKICAgICAgICAgICAgICAgICAgICAgICAgICAgICAgICAgICAgICAgICAgICAgICAgICAgICAgICAgICAgICAgICAgICAgICAgICAgICAgICAgICAgICAgICAgICAgICAgICAgIAogICAgICAgICAgICAgICAgICAgICAgICAgICAgICAgICAgICAgICAgICAgICAgICAgICAgICAgICAgICAgICAgICAgICAgICAgICAgICAgICAgICAgICAgICAgICAgICAgICAgCiAgICAgICAgICAgICAgICAgICAgICAgICAgICAgICAgICAgICAgICAgICAgICAgICAgICAgICAgICAgICAgICAgICAgICAgICAgICAgICAgICAgICAgICAgICAgICAgICAgICAKICAgICAgICAgICAgICAgICAgICAgICAgICAgICAgICAgICAgICAgICAgICAgICAgICAgICAgICAgICAgICAgICAgICAgICAgICAgICAgICAgICAgICAgICAgICAgICAgICAgIAogICAgICAgICAgICAgICAgICAgICAgICAgICAgPD94cGFja2V0IGVuZD0ndyc/Pv/bAEMABwUFBgUEBwYFBggHBwgKEQsKCQkKFQ8QDBEYFRoZGBUYFxseJyEbHSUdFxgiLiIlKCkrLCsaIC8zLyoyJyorKv/bAEMBBwgICgkKFAsLFCocGBwqKioqKioqKioqKioqKioqKioqKioqKioqKioqKioqKioqKioqKioqKioqKioqKioqKv/AABEIA3UHdgMBIgACEQEDEQH/xAAfAAABBQEBAQEBAQAAAAAAAAAAAQIDBAUGBwgJCgv/xAC1EAACAQMDAgQDBQUEBAAAAX0BAgMABBEFEiExQQYTUWEHInEUMoGRoQgjQrHBFVLR8CQzYnKCCQoWFxgZGiUmJygpKjQ1Njc4OTpDREVGR0hJSlNUVVZXWFlaY2RlZmdoaWpzdHV2d3h5eoOEhYaHiImKkpOUlZaXmJmaoqOkpaanqKmqsrO0tba3uLm6wsPExcbHyMnK0tPU1dbX2Nna4eLj5OXm5+jp6vHy8/T19vf4+fr/xAAfAQADAQEBAQEBAQEBAAAAAAAAAQIDBAUGBwgJCgv/xAC1EQACAQIEBAMEBwUEBAABAncAAQIDEQQFITEGEkFRB2FxEyIygQgUQpGhscEJIzNS8BVictEKFiQ04SXxFxgZGiYnKCkqNTY3ODk6Q0RFRkdISUpTVFVWV1hZWmNkZWZnaGlqc3R1dnd4eXqCg4SFhoeIiYqSk5SVlpeYmZqio6Slpqeoqaqys7S1tre4ubrCw8TFxsfIycrS09TV1tfY2dri4+Tl5ufo6ery8/T19vf4+fr/2gAMAwEAAhEDEQA/APpGiiigAooooAKKKKACiiigAooooAKKKKACiiigAooooAKKKKACiiigAooooAKKKKACiiigAooooAKKKKACiiigAooooAKKKKACiiigAooooAKKKKACiiigAooooAKKKKACiiigAooooAKKKKACiiigAooooAKKKKACiiigAooooAKKKKACiiigAooooAKKKKACiiigAooooAKKKKACiiigAooooAKKKKACiiigAooooAKKKKACiiigAooooAKKKKACiiigAooooAKKKKACiiigAooooAKKKKACiiigAooooAKKKKACiiigAooooAKKKKACiiigAooooAKKKKACiiigAooooAKKKKACiiigAooooAKKKKACiiigAooooAKKKKACiiigAooooAKKKKACiiigAooooAKKKKACiiigAooooAKKKKACiiigAooooAKKKKACiiigAooooAKKKKACiiigAooooAKKKKACiiigAooooAKKKKACiiigAooooAKKKKACiiigAooooAKKKKACiiigAooooAKKKKACiiigAooooAKKKKACiiigAooooAKKKKACiiigAooooAKKKKACiiigAooooAKKKKACiiigAooooAKKKKACiiigCG6/1Q/3q5bWvGOkaDqNvZX8xEsx+fYMiFT0Z/QZxXU3X+qH+9XPxeHNMSTUJJLZZn1FibhpRncOy+wFAGorq6K6MGVhkMDkEetFVtM0+HStNhsbYsYYF2pvOSBngZooA26KKKACiiigApCwVSzEAAZJPavINc8Xarqug+O7SeURrpV4sVtJDlHVfMAwSDzXf2cv2zwzp9jcLPKbyxAklGTgFBklj3PatZ0nCHN/WxjCtCVTle3/AAbG5Fd288PmwTxSx/30cEfmKILmG6j8y3kWRM43KcjNcLDc6b4Axo1pbT3KXJErvM69ScfQ9KuyJqg1K50+xEWn6c8bGO7iA/d5XAcc9d2Otc1FyqyaTXurX/gF18Rh4VXCm3JcyV7d+r7HZUVzugxT6X4dWw1HWf7TvRG7LcMwDSDH8PPIHTNea2PjPV/D3gCyubSUTzXWtPDI9yTIdu9RgEn0rqhSc4toVapGlU5d1rr6HtbMEUs5CgdST0psU8U2fJkSTHXawOK5P4nxrN4HlhlG6OW5t0kTPDqZVyD6g+lZ2veDdJ8L+H/EOr+HIf7MZtHnhaG0HloxAJDnH8Q6A+9TGKa1YSm03ZbHeR3MErFYpo3YdQrAmgXMBl8sTRl/7u4Z/KvLE8OaPoGqeBrzRdOgsbi63LPLAu1pQbcsQxHXkZrL0zTfDFr4Y0LU9R0y6h1K6vZH/tazt9ziQTuoV5O27ge4B9Kv2S7/ANa/5GftX1X9af5ntKyxszKrqWT7wB6fWmfa7fy/M8+PZnG7eMfnXkN5I/hn4x61rUCKmktJbW+pxgcETJxKfo2M/wC971VOh6T/AMKT1dYrC22DVuNqDHFwqjH0ViB7Gj2S013t+Ie2eum1/wAD2d7u2jOJJ4lOM4ZwOKUXVu0ZcTxlF4LBxgV5z8SPBHh5vCmoay+mxNeRWkFvCx6QorgAIO3BIzSeLPBugaH8J/ET6XpsUAuLVbhowPkWREAVlHY9/qalQi0tdynOSb02PSPtEO5B50eXGUG4fN9PWk+0wYc+dHhPvfMPl+tedeItD0rSLjwRrUdhbxx2FxFaE7OEjdSF+gVjuB7GqmhaFpd74A8XasdOgCavLcuo2YBjjJCfkyk/Xmn7NWvcPaO9rHp6XltIwWO4iZj0AcEmpq8h+G2m+F9TvdMFt4Wk0/UNNsYbv7c8Ri892BUn/bBwTnoa9eqJx5XYqnLnVwqnq93JYaJfXkIVpLe3klQOOCVUkZ9uKuVT1e0kv9EvrOEqslxbyRIXPALKQM+3NZSvyuxtG3MrnIX3jS7h1DTbeXWND0WO60pL1pdRiLB5GOCi/vkwO/c1Fc+PdVs9N8O3t1Y28cd9LL9u+R+IUYDzY8kEAqd/zA/L+daKaJrumarYXmnW+nXnk6THYSpcXjw4ZWyWBET5H1xUNl4HuFTTY7+S2lhja+e7hjyEUXOf3cYx90ZI5x647VpK2tvP83b8CF0v5flr+Jd1rxRc2PjTRtGso4XhuXxeSOpJQMrmMKQcAnynPOeB71vadenULUzG0ubQiR08u5QK/wArFd2ATwcZB7giuS0rwXqdpFpcuoXkF1fW+pLc3M2SN8SQPDGo464Kk5wMlufXrdP+3m1P9qi3E/mPj7MWK7Nx2fe5ztxn3zip6f15Brf+vM4+18S+JR4SHii4OmXNlGrzT2UNtJFKsSMQxWQysCwC5wVGemRV/wAQ+MH0rUtOjsoop7VkW5v5WzmG3Z1jVx77m3c/wo1ULXw14lbwmPDFx/ZlrYurxT3kNzJLK8TsSwWMxqFJBxkscdcGrZ8A2mo3Oqza285+2Yt4orS+niRLZU2ojKrKGPLMQQRliOaP6/r8PxKf9f19/wCBd1HVNYuPEE+l+HzZRtZ2iXE0l3E8gdnLBI1Csu37jEsc4yODVG88X6i+g6Hq2lWEIttQkthcPcSZ8oSyIhRVGCWG48nAGO+cUlpofiXSzHd2kmnXd9LYR2d0biZ41LRFtkwIQliQ53KQOejVbm8KyR+DtL0SymRjYzWjtJLld4ilR3PGeTtOB6nrQtH81+bv+Fv6uS7/AIfov1v/AFYk1HVNYuPEE+l+HzZRtZ2qXE0l3E8m9nLBI1Csu37jEsc4yODVG88X6i+g6Hq2lWEIttQkthcPcSZ8oSyIhRVGCWG48nAGO+cVe1LS9Yt9euNU8Piyle8tUt5o7yV4wjIWKSAqrbvvkFeM4HIqObwrJH4O0vRLKZGNjNaO0kuV3iKVHc8Z5O04HqetC6X7r89fwt/Vxy627fp/n/WxV8R+KZ9L8VRaZ/bWi6NbtZfaPP1SItvbft2r++jHTnvTbrxlc6Z4osLO7Npc6VNZQyT30ClQkkrsqSD5mAiJUDqSN4OSM1f1LTtai8XrrGkW1hdRmx+yvHdXbwEHzN2RtifI/KnN4fl1HXbi81eG2a2vNKSyntkkZ/m3szDJUZXDYB4PsKFsvn+tv0B9fl+l/wBS9pepTXup6xbSqgSxulhjKg5KmGOTnnrlz6cYrTrnPB+gajoEOpR6peJetPdB4ZgTvaJYkjTfkffwnOM56966OjovkJX6hRRRQMKKKKACiiigAooooAKKKKACiiigAooooAKKKKACiiigAooooAKKKKACiiigAooooAKKKKACiiigAooooAKKKKACiiigAooooAKKKKACiiigAooooAKKKKACiiigAooooAKKKKACiiigAooooAKKKKACiiigAooooAKKKKACiiigAooooAKKKKACiiigAooooAKKKKACiiigAooooAKKKKACiiigAooooAKKKKACiiigAooooAKKKKACiiigAooooAKKKKACiiigAooooAKKKKACiiigAooooAKKKKACiiigAooooAKKKKACiiigAooooAKKKKACiiigAooooAKKKKACiiigAooooAKKKKACiiigAooooAKKKKACiiigAooooAKKKKACiiigAooooAKKKKACiiigAooooAKKKKACiiigAooooAKKKKACiiigAooooAKYxLPsU7cDJI/z7U+mD/j4f/dX+ZoAPLb/AJ6v+Q/wo8tv+ez/AJD/AAp5qi8rynO4hOwHH50AW/Lb/ns/5D/Cjy2/56v+Q/wqmrvEcqSR/dJzmryMGUMOhGRQA1SVfYx3ZGQT/n3p9MP/AB8J/ut/MU+gAoqFby2a9azW4iN0iCRoA43qpOAxXqASDz7VBda1pVjfQ2V7qdnb3c+PKgluFSSTJwNqk5PPpQBdoqC8vrTT4POv7qG1i3BfMmkCLknAGT3JqtqXiDRtGkSPWNWsbB5BuRbq5SIsPUBiM0AaFFZ1v4i0W70+a+tdYsJrOA4luI7pGjjP+0wOB171Lb6xpl3pzaha6jaT2S5LXMc6tGMdcsDjigC5RVLTda0vWUdtI1Kzv1jOHNrOsoU++0nFJ/belf2t/Zf9p2f9odfsn2hPN6Z+5nPTnpQBeorDPjfwoH2HxPo27ONv9oRZz/31V651vSrK+hsrzU7O3up8eVBLcKryZOBtUnJ/CgC9RRRQAUUUUAFFFFABRRRQAUUUUAZmvyPHYIY2ZT5oGVOOxrnvtVx/z3k/77Nb/iH/AJB6f9dR/I1zdAEv2q4/57yf99mioqKAO5ooooAKKKKAPA7n/jx+KH/YQX/0aK9Z0azlOg6fKjSTJNZRRvCX2hV2jJHvXksUlvfa18QtA+121te399utxcyiNJNsmSNx78dK9E0LxBq+iaPZ2niHQ53jhjWP7dp7rcREDAywX5l45PGK7a9NVKaXVO/4L7zz6M+Sq29mrfiyW+JTSYtOje207V5ATbxTzKzMqnJKsR6AniktdGS7tov7YilvLu7t2gmu4ZCyiMnPUcE474ro7STSNd+z6paeRdmMERThcsmeo55B9qqXdnZ6Ley6tJLIkUu0TeZPtiiUDGQp4HXtXlypOm17O60tZdvT8D05Spyw8aSSet23bz69rW+dzN0jw9oFvH59jCZLrT4pY45pCSyhs59u5/OvI9Q/5JtpH/YwP/6GtesXniS6u7W4h8JaBcXJlQ4u7hRbwZI65fBb8B+VeUeI0XRfCeh6He3lrNqX9rfaJIraYSbFLLyxHSvRwUKlOjy1bc1+nz6Hl1587ik7qKaXbdaL/gHuHizQpfEXh2Wwt7hbaYvHJHIyblDIwYZHccVip4T8QaoupjxRrkMyXmnvZRxWUBjRN/VyCTlh2rtKKwU2lZHc4Rbuzywp/ZPiHR7fxr4w0ZE0hS0FvFH5UhJTYNxLHjaSe1R/2DcWs2meF73xZpY083QubW3EGLiVS7OuG3YOSTzitvQNLsNT8W+N49QtYZle7ijJdASFMC5APbrSXmlWOm+OvBFlaRqYLWC4ihL/ADMFWL5fmPJ6Ct+bW39bXOfl0v5+fexdi8HXlx4j8RXOr3NrcabrUIhNssJDqFXauWz6e3WsLTfBU0/wsl8N6FrlncYviXuzGXUBXDbSAfvAqAfxruvEmqJonhjUdSkOFtbZ5OD1IHA/OvOPgtewp/aujxXbXLGOG9LspXDyJiUAEDo4P6VMXJwcu1ipKCmo97m54m1Kw8SaC3hWz8T6VHq0zJFMD824ryQqg8HIHc0njDUNPvPCsvhO78TaVZ6rPCkFwZenIwcLnIJ7c8Vj2cTeFtKtdL8U+Do7izW/Kf2kkkT7nkmJjYL97PzAetSanb3HhhvE0+s+EYtY0i6uZLyW7EkXELKMgq3zZGD0/CqSSdl+n9fInmbV3+v9fM6zW/DFz4g+HT6De3UJvJLdF+0xxkIJFwQwXOcZHrTx4Yns/hyPDelXMUUy2YtlnljLLkjDMRx1yfxNaraha2ejw3SxyfZzGnlRwws7YI+UBVBNVNM8RW+r6qIrCeCa2a0FwhG4SZ3shyCMAAqR1zkHisbyt5G9oX8zD0Hw74x0xtLtrvXrB9NsQqNFDaFXlRVwAWJNdtRRUyk5O7KjFRVkFMnmjtreSeZtscSl3bGcADJNPqjrf/Iv6h/16y/+gGs5O0WzSKvJIwdP+KHg7U7uC2tdZUSXB2xGa3lhVz6BnUDPtmusryaY2I/Zjh/tLZt/sweTu6+b/Bj33Yq9qN6L6HSNGuZvE0utW+lJNdQaLciDyyygb5WZlGcg4GfXIq52i2u3/B/yIjqk+/8AwP8AM9GmuoLZoluJ44jM/lxB3C72wTtGepwCcD0qWvEI5LrxTofw4utW1G+M9zeSwySQ3LRMdu8B8qfv4GN3Xr610ni66tZLy50vTbzxVPe6Rp483+zL3y44MruR5Xd13sRz1bIzxmlL3U79G/wVykru39b2PS6yn8TaPH4nj8OveqNVkh85bba2SnPO7G3PBOM5qn4G1S41X4f6PqWpSh55rRXmlPG445Y/lmvGbjxC8tzdeNY9K1drldaS6hvFsnNv9iQGLZ5nQZUtn3ptWnyv+tbf8H5MlO8OZf11/wCAfQ9Feb3cV14o+KV3p0XiDVLPSv7IgukTT7kxbmLsAwPYYPOMZ4z0rN0XxP8Abfhzptnrmoa1PqFxfy2tv/Zkm27uhE54L8YG3GSSPrS1/r1t+Y/6/C56P4j1+18MeH7rWL+OaS3tQC6wKC5ywXgEgdT61pKwdAw6EZrw/UtQvpvht4+029l1B4dPuYFt01KZZbiJWZCVZ1ZgcHpya6DxF4lvvBOua5591cTQanpa3GlpJIzCK5XEZjQE8ZLq2BS6f12uHVfP80v1PUaonWbBdeXRTP8A8TBrc3Ih2NzGG27t2Mde2c15lrWk+JdCtdPuNXvNf1DR7XTALyTS9SMdxDPktJKwJBlHOBycAdK0ptQ1HUvGsFp4c1efyrrwm01m88jFDKXASVl6bsEZOM/ypvT8fyf+QdPu/Nf5npNFec+AJ5rLxA2ka++vwa4LLe8GoX/2q2nUMAZYmyQDntxgHHNVvHev6l4X8Uah5N1cNFq+jmOxi8xisd2sgQFBnCnEinj0ofS3X/g/5Atb3/rb/M9PrM0/xHpOp6bHf2d9GbWSY26SSZj3SBtu0BgDncMAd+1ebaDqeszeIdE8IXGp3ktzpWpXT39w0zb54I1DRbznLK3mqMHjismb7TrngbwpNqOpahJLJ4oNu0gu3DbTK4BznOV2jae3ajdq3X/NL9RX0d+n+T/yPXZfENpF4sg8PNHMbue0a7Vwo8sIrbSCc5zk+lateX614fN38WNG0qHVdStYo9El33EVyftDqJRx5py3XGT14xW38Mr69n0/W7C/vbi+/svWLiyhnuX3ytGuMbm7nk80LVff+DsN6P7vyuXNU+JPhTRdVuNO1LVGhurYqJl+yzMseQCMsEK9CO9dLb3EN3bR3FrKk0Mqh45EbKupGQQe4rypLTxLqHjzx3ZeHDpKQ3L28VzJfmQsgaDGUVRg8E9fapZZpfhRqVjHc39xdaPJozwosrnYt1Au7KrkhN65GB1PrST91N9v0uOzvZf1qv6+R6fJdW8M0MM08ccs5KxIzgNIQMkKO+ACeKz7TxDaXnibUNDijmF1p8UUsrso2MJASNpznPHOQK8sXw/fXGt/D6PXtW1Zr2/hu5rh1vpEaNim8BSDlcBtpx2GK1T4efWvi14ktl1jU9PihsLTLWNyYpJG2kAs/U4547k89Kb93fz/AAv/AJCumrry/M9TorxvRvEGs+JdD8D6Teavd2i6q12Lu9t5PLnl8gkIofHBOBk9TRq+saxovhrx5pNtrN9cror2rWd/LMTOnmFSyGQYJx055wcUPRv+utgWrseyUV5tDFqPhn4meHbP+3tU1GLWbe4N3Hez703ogYMi4wnPYduK9Jp9L/12EncKKKKQwooooA53xlqV9ZafY2mkzC3u9Uvo7JLgqG8kMCzOAeCQqtjPfFLFotl4Yhl1abVdXmjtLd3n+138k6OoGSxRiQCMH7oFWfE2hvr2lxxW1yLW8tbhLq0nKbhHKhyMjuCMgj0NU/sXiDWtOutM8S22lwWl1ayQSyWVzJI7FhjIVo1Cjknqe1LXldt/+B/w49Lq+3/BIbXxdfibTJNY0QWNjqsgitpluxK6OwJQSptAXcB2ZsHANTr4s3eHdf1X7Fj+x5bmPyvN/wBd5IznOPlz9Dj3qlFoHiG/bR7XXZNPFnpM6Tme2kdpbt4wQmVZQIxzuOGbpiql94W8RjS/EWj6ZJpgs9YmnmS6nkkEkXmr8yGMIQecgNuGAc4OMFy2fL52/C36ij0v5X/G/wChonxdf3OvJpOlaKtzM1lDetLLd+VGiSFgQTsJyNoxgHOT0xUmleJ77WtUuYrDTbU2drdvazu9/i4QqSCxhCEAEjIywJHOKl0fQLrT/EkuoTSQtE+mW1mFRiW3xlyx6dPmGP5Vn3/hzVdV8SWd9NY6TZPaXYlGpW08huZIVJ/dFdijDDg5dhyeKp25tNtfz/yJV+XXy/L/ADHXfjieCK+1GHSPN0TT7g29zeG52yZVtrukW0hlU9SWB4OAasp4ovb3xFfaZpGnWs62EiJOZ7/ypSGVW3pGEbK4bqSuSDWKPABstQvPI8PeGdVt7m6e4S41GHE8W9tzKf3bbwCTj5l4496v+JvDeqeILsIljpEAilQ2uqieQXVsoIJ2qE69R/rAOeRUx6X/AK2/r9Spdbf12/r8DX8Y3NxZ+DNVuLK7SzuI7ZjHPI4QK2OPmPAJ6A+pFc54D1eO4TUtSW9u4dD3RQQpq94ZJo7gZWTJdiUBLIApPJ5AAIz0XizRLnXNIiisJoorq2uoruHzwTG7xsGCuBztPt069q5i+8G6/qfiSDXpU0i0mhmieWwhnmaK92HhpX2r8ydV/dnkDJIxgjvr/X9f8EJbaf15f16Gx8R7trLwc0wvJbJPtdsss8U7QssZmQP86kEDaTzmsXS9Zgs/EF9L4Z1S71vRbbTJbi6868e5jjnUgoqTPuOWXdlQSBgHFdV4q0e41zRktLR40kW7t5yZSQNscquRwDzhTj3q9q9pJf6JfWcJVZLi3kiQueAWUgZ9uanVRbW+v5Ias2k9tPzOdh8aXn/CNprV5ohgguxCthAt0GmuJJSAqldoVASQc7jxyQOlPn8TXMYv9N8RaQlrP/Z013ElveGWO4jQYdd+xWVhkduhyDUt54YubnwTpmmR3EUWoaattJBNgtH50IXr0JU4I9cGs3WNM1SeLUtd8RGxtTa6Rc21vb2kzSL865d2dlT+4AFxxzyadSy5ref3W0/EKd2438vz1/AuW3iORLLQ9N8P6Us91d6cl0sE92UjtoAqgbpNrMTlgo+Uk4JOKSPxy13bWUOnaU02r3U81u1lJOEWB4TiUvJg/KOMEAk7hxWSPBx1XS/Derw6dpOpTQ6RFbS2erR5jZSqsGVtrFWBz/CcgnpWiPC2oWn9l6jotjo2m39i0ytY2+5LWWOXGRvVAQ3yqd2zqOlXL4nfu/z0/wCCRH4Vb+tP8xNU17xTb694fs4dN06J75p/Oha/YqxRCQN/kkgYw2QMk8EAcm5Z+KNQ1LXLyx07TLR47C5W3uTLqGyZeAS6xeWcrzwSy7sU3UtK1+9udE1ZItNGo6dLMZLU3EghdJFK8SeXuyBg/c55qtrnhzVtd1SCWSx0i1e3uUkh1WKeT7VHGrAlAvljqMqfnxznHaktynsdlRRRSAKKKKACiiigDgvFl1EPiBY2l/PrYsm0ySTydJe6yZBKoDMsHPQkZPHNWvBmoX82garJaPNqSw3zx2MN9cYnVAF+SViCykEscMN23GRV3V9L1tfGNtreiw6fcLHYvaPFd3LwnLOrZBWN8/d9utZNz4M1q807Uri4ubP+0dSv4bq4tI5JFtpIo1C+QXxuIZRy23k8YxSjt9//AKV/kOWr+78v8zRbxq+nJrC+ItOWzn0q3juWS1uPPWZH3BdpKod25SuCB25rKvtR1a58deEU1rSI9PLS3EkZhu/PH+obKt8q4YZHTI680yL4czzf24Hh0rSItUs4oooNMjO2CWN2YMflXfyVOcKe2OMnQu7DxDNrGk63r39m29roomlmjtJZJWmBhZSw3IuMf3eep+btTeiuLV3S/rRDYPHOp3S6PdQaHbDTtZufItZ5NQIkAwxDOgiOMhCQAx7ZIqa78cTwRX2ow6R5uiafcG3ubw3O2TKttd0i2kMqnqSwPBwDXLaAW8P2ek61faLb3Fvd3X+izLqrs0QuJDtMdqQYkIDgEI2cZ5PNbA8AGy1C88jw94Z1W3ubp7hLjUYcTxb23Mp/dtvAJOPmXjj3p211/rbT8+wO3T+t/wDgdzaTxRe3viK+0zSNOtZ1sJEScz3/AJUpDKrb0jCNlcN1JXJBrpq47xN4b1TxBdhEsdIgEUqG11UTyC6tlBBO1QnXqP8AWAc8iuxpLYOoUUUUAFFFFABXOardXEfxD8PW0c8iwTWt40kSuQrlfK2kjocZOPTJro65vxBpWsTeJNI1fRIrGc2MVxHJFd3Dw7vM2YIKo/TYe1H2l8/yYFvW9dm0+/sdN02yF9qN9vaOJ5vKjRExud32sQBuA4Ukk1Dp/iG91TSbp7LS0/tOzuja3FnLc7URxgk+ZtOV2sGB25IPSsrXPC2oeIJtO1TUdL0Oe+svMjaxunae3ljfb/G0YKsCuQdh7jvUV34PvZ9FtILXStCslhvvtFxpVs7R2t2mzaA7LGCSDg8oQdoBFC21/rX/ACD0/r+mWbnx1Lp2jazc6lpXl3mjzxRz20Fz5iushXayPtBPDdCo5GPepb7xVq+nLpsd14eX7Xqd01vBbx3wYoPLLhnOwAfdOQN2ByC3SsZPh9fppHiC2gj0mxOqzWssNvZqY4YPLKll4Xn7vXHJPQV1es6PcajrehXkDxrHp1080ockFlaF0G3A65YdccUf8D9L/qHR/P8A4Bgax4p8zw/4gtfEGjAT6asJmtoL5ikySMNpWUKrDkHI2jp71oz+J9Uk8Salo+jaHHdyadHFI80975KMHUkKMIx3cHjGPUiqev8Ag/UNVk8StbzWyjVoLWODezDaYmJbdhTgc8Yz+FbOm6PcWfirXNTleMw6gtuIlUncvloVO7jHU8YJoe2gzOi8ayalb6KND01bi61aCS4WK6uPJSFI8B9zhXJO5gAApz14rQ8Ka7c+IdJkvLyxjsXS4kg8pLgzEGNijZOxR1B6Z4xz2rh5NCvbaTw14bjihutR0u2nup/LvpLMNG7FRtnQeYOTyoXBwMnpnr/BN/Bc6Tc2VtpsWnDTLlrR4oJ/PjLABiyyYBbO7kkA5znmno7/AD/P+kJ6W/rp/TOHvNVsf+KnafxNqMGvW+ozpp1pBqMrMcBfLRbfcVZS3GNuOtd3dan4is9Jgni0a2u5Es1muvMvfJIk25ZEARsnr1IHvU/hzR7jSG1c3Lxt9t1KW7j8sk4RgoAOQOeD6/WsHXfBt9qviHULmW10nU7a8hSOBtT3OdPwpDGOLYVbJ+b7yHPU1Oqikuy/L+rlaOTb2u/zHyeKtYvvEWgLoVpaSafqenSXgS5uTEzD92RnEbYKh+ACc5OcYGczSNc1TR18W3NnoyXlnZ6tcz3Esl35TEBVLCNdrbiAM8lR0GfTUtPC2saVH4XmsTY3FzpGnmxuIppnjRwyplkYIx4MfQryD2q5D4ZvI/D/AInsWlg83V7i6lgIY7VEqBV3ccHI5xn8actL8vZ/mrfgTHVJS7r8nf8AESfxfcXGtR6boVhbXUz2Ud6Ptl79mMiPnAQBHLEbeegGRzXTxlmjUyLscgFlBzg+ma43WfDOqajoNtpDaZol7HDZpFHc3U8iSW8oXaXQCMk4wCCGQ11lhbyWmm21tNO1xJDCkbzP1kIABY+561Ttd2Er6XLFFFFSMKKKKACuN+IV0bdtASSfUYrafUdlwumvMJZF8mQ7QIfnPIBwPSuyrnvFWk6nqE+j3WjLaSTade/aGjupmiVx5bpjcqMc/PnpSfT1X5h0fo/yOe0TWzp994jnsZ9SuNM0+wW4Wz1aWQXHmgOzFRLmVUICjLDGc46V0tx4l8iz0Cf7Ju/tmeKHb5mPJ3xM+enzY247dazP+EX1XWNS1LUPEElnaSXWmPpkMNi7yqiMSWdmZV3HPQYAAqvH4d8T3R8Nw6i2lQ22iXEcj/Z5pHa4CxsgPKDZ1+782c9Rjml0T8vuu7/hYT6tef5K343NLw/4nvvEM3nWmm2q6cJ5IXkN/m4iKEj54dmFJI6b84IrL07xYtj4a0D+x9DeQ6tdzW8Nsbwt5bAyMWLsCSMqSfQHgHABs/8ACOare+K7HVrqx0nT5bWVmmvLGeRprtNpAjdSijbyDyzYxx603SvB9/Y2XheGWa2LaReXE85VmwyyLKAF+Xk/vBnOO9Lohvd/13LH/CbNZWusf25pv2a70oRFobafz1mEvEexiq8lvlwQMGh/GV1psl1D4i0j7JPFp8moRJa3P2gTIn31yVXDjK8YI561DrfgiXXLrxF9omgWHU4bVYNyeZseEs3zqRgqSRxnkZ6U7RPD15pck9xB4a8LabdC3ZIprAEGR+MBiIlKoccgFj09KXf+un+Y/wCvyJB4vvrfwzda9qGmWn2GK28+J7HUPtHmc/dJMahcZ5IJAwa19E1DUtQiaXULKyghZVeCWzvjcrKDnPJjTGOPUHNYGneG9XsdZvtWtdP0bTpZ7XyvsNrcSNDcybwfMkPlrggZAIQn5jknpVrwx4cutK1rUNQltbDTIbuNFFhp0rPFvBJMpyiAMcgcL25JqupPT+vI6miiikMKKKKACiiigAooooAKKKKACiiigAooooAKKKKACiiigAooooAKKKKACiiigAooooAKKKKACiiigAooooAKKKKACiiigAooooAKKKKACiiigAooooAKKKKACiiigAooooAKKKKACiiigAooooAKKKKACiiigAooooAKKKKACiiigAooooAKKKKACiiigAooooAKKKKACiiigAooooAKKKKACiiigAooooAKKKKACmD/AI+H/wB1f5mn0wf8fD/7q/zNADmGVI9Ris9OFweCOD9a0TVKZo2ctFuLdyBwaAGMcDJq5ApSFVPUDmqkRRXDTBjjpxwKvKQygqcg9CKAGn/j4T/db+YpzMFUsxAAGST2pp/4+E/3W/mKg1OxXVNKurCSaWFLmJomkhIDqGGCVJBAPPpSd7aDVr6nlmm65Cvim18VmDUFfUdQe2mkewmWEWb7Y4D5pXZjckbdf+WjVu21jaalpPjubUYY5JZLy4hd3AyI44V8sZPTHUe5zXXX2g2N/wCGpNClRksnt/s4EZwyKBgFT2IwCPcVmX3gezvprhjqWpQRXqIt9BBKipebQFy/y5BKgAlCuRQ1o4rtb8v8vxBPVSfe/wDX3/gc34ns4NU+E2m6zqMIm1GO0sykshJKF3i3EA8An1644zXe6te2ml6TdajfhfItYmlckAnAGePeotX0O01nQ30qcvDbNsx5BClQjBgBkEY+UdulLrOjW+u2UdpePKsCzxzOkZAEuxgwRsg5UkDIGOnWqk73t3/MmKslc4yPw1qTeF9JvzYreXzamNXv7EsqGUuGAQbsLmMMmASB8nUVNpCPqXjrxBBc6JDb28ljbSyWV0UcNMGk2tIF3KGIUdC3CqevA7S/tZby0aGC+uLFyQRPbhC68/7asvP0rLg8KW9rp1zBa6hqEV1dyiafURMDcSOMYJJUrjAxt27cdqXXT+tLfh+g+mu//BucvJc6hpvjDUb/AFezt7PUBocxso7FvNilWMhmLOQrFgSuAVAAJ5OeH+EdSufD/h/QI7zQ44LPUzGhvUug87zyrnzJU2D77Z5DsRkZx26fTvDEFnqUmoXl9earevCYBNesh2Rk5KqqKqgEgZOMnA5qtZ+CbO0ubMm/1C4tLCTzLOwnlUw27YIXGFDNtBIG5mx2px00f9at/r94PX+vJL9PuK3imOLVtb0nw1HGpW4k+232FHFvEQQp/wB6TYPoGrMtrG01LSfHc2owxySyXlxC7uBkRxwr5YyemOo9zmuwtdGt7XW77VQ8slzerGjeYQRGiA4VOOBkknryazNT8F2ep3l3L9u1C0hvwovrW2lVY7rAx82VLDKgKSpXIHNRbRrun+Nv0RSdnftb+vxL3he4mvPCOkXN0S001lC8hbqWKAk1q02ONIoljiUIiAKqqMAAdBTq0k7ybM4qySCvK/ih438e+CdRin0fStMv9HuWWOKRreV5EkPGx9sg6noQOenWvVKOvWotqWYfhC48R3fh2G58YQWdtqMx3m3s0YLEpAwrbmbLdc4OO3atyiiqbuyVogooopDCiiigDK8Q/wDIPT/rqP5GubrpPEP/ACD0/wCuo/ka5ugAooooA7miiigAooooA52/8AeFNUvJbrUNAsp7iZi8krxfM5Pcmq0Hw30Cwbfoy3mkvjANjdyRgf8AAclT+Irq6Kvnl3I9nDexQtNIitJvPDs9wfvzEKrSjn7+0AHr1xngUahpMGosrzcyIB5bMocRn+8qtld3uQegq/RS5ne4+WNrWOWu/h7o+puX1ubUNUJz8t1ePsHJONikL39KW2+Gng20kjkg8O2KvGwZWMeSCOh5rqKKfPLuL2cN7BRRRUFnH6n4EmutV1G70zX7zTY9TwbqGJFcOwXbkE9PlwKZffD95JtHbStcutOXR7X7NbKqK+Bt2liT3I4rs6Kv2kjP2cTi7zwBd6h4ZvNJvfEt9M15Os0k7opICnOwDoBkD8qvDwjIPGFrrw1aYGC0Fo1usahZF75PucH2rpqKPaSD2cTi5fh9PcypDeeJNQuNNS5+0CzkCnkNuC7+uAT+gp2s+A7rV5NQi/4SXUIdO1Enz7ParKFYYZVY8gEflXZUU/aSD2cTC1Pw7cX1rHa2+qy21rCItkIjBB2ZyGOQWVgQCMj7oNQ+G/B8HhyZJIbqScpbtAN6gcGV5c8e74/CujoqeZ2sPkje4UUUVJYUyeGO5t5IJl3RyqUdc4yCMEU+ijcNjk9N+GHg/SryC6s9GXzbc5i86eWZYz6hXYgH3xWhq/gzQNd1NNQ1TTxNdJH5XmCV03pnO1grAOvs2RW5RQBz9x4F8OXWg2+jTaYv2C1lM0ESyupicknKsGDDlj0NRz/D7wxdXkV1PpYeWOFIMmaTEiIMKrruxJgAfeBrpKKAM+30LTrXw+NEt4DHp4gMAhWRshCMEbs7uh65zRFoOmQ+HRoUdoq6aLc232fJx5ZGCM5z075zWhRQ9b36htsZOmeF9I0a8W6060MU6WiWauZnfEKHKr8xPT16+9UZPh/4Yl0qHTm0z/RoLhrmILcSq8cjHLMrhtwz6A4rpKKP6/X89Q/r9Dnl8B+Gk0q+01NLVLTUNn2qNZXHmlMbSSGznjkjknk5rG13QNS8U+N9IjvdHjttG0S4N0t5JOjtdMFG1FQcqN3J3ddtd1RR1uHSxgaz4H8P+IL5rzVrJ5pmjETlbqWNXQEkBlVgGHJ6g1Pc+E9Du7gzTWCFzYnTsK7Kotyc+WFBAA9wM+9bFFHkBiaJ4O0Lw9dyXWlWTR3EkYiaaWeSZ9gOdoZ2JA9hxVjVvDmk65d2FzqtmtxNp03n2rF2HlvxzwRnoODkcVp0UAZkHhzSbbxHc69BZqmp3UQimuN7EuoxgYzgfdHIHaqcngfw7N4d/sOXTVbTvOM4hMr5WQsWLBt24HJPQ98Vv0UAZNn4Y0iwvrS8tbVluLO2NpBI0zsViJyV5Y557nJ96n0vRNP0Zrw6bb+Sb25e6uPnZt8rY3NyTjOBwMCr9FAFGz0awsNSv7+0g8u61Bka5k3sfMKrtXgnAwPTFcp410LU/GGsado0ukRrottdx3c+oyzofMCg5jWMfMCc4JPGM13NFHVeX6B0Zka94W0bxNDbx63Z/aBbOXhZZHjaMkYOGQgj6Zqa00HTbHU7jUbW32XVzFHDLJ5jHciDCjBOBgdxye9aNFAHPP4D8NSeHINCfS1bTreQyQxGV90bFixKvu3A5J6HvTovA3hyHw3caDFpiJp1y26eISPulOQcs+dxOQOc9q36KAM+40LTrvV7HU7i333mnq620u9h5YcYbgHByPUGtCiigAooooAKKKKACiiigAooooAKKKKACiiigAooooAKKKKACq1/pljqtuINUsre9hVg4juIlkUMOhwwIz71ZooAAAAABgDoBRRRQAUUUUAFFFFABRRRQAUUUUAFFFFABRRRQBmWnhrQrC++2WOi6dbXXJ8+G0RH56/MBmtOiigAooooAKKKKACiiigAooooAKKKKACiiigAooooAo6lomlayqLq+mWd+sZJQXVusoXPpuBxVm1tLextUtrK3it4IxhIoUCKo9gOBUtFABRRRQAUUUUAFFFFABRRRQAUUUUAFFFFABRRRQAUUUUAFFFFABRRRQAUUUUAFFFFABRRRQAUUUUAFFFFABRRRQAUUUUAFFFFABRRRQAUUUUAFFFFABRRRQAUUUUAFFFFABRRRQAUUUUAFFFFABRRRQAUUUUAFFFFABRRRQAUUUUAFFFFABRRRQAUUUUAFFFFABRRRQAUUUUAFFFFABRRRQAUUUUAFFFFABRRRQAUUUUAFFFFABRRRQAUUUUAFFFFABRRRQAUUUUAFFFFABRRRQAUUUUAFFFFABTB/wAfD/7q/wAzT6ayEncpw3TkZzQBWuZN7GMfdH3vf2qOpjaZYksuScn5T/jR9k91/I/40AQ06F/Kkx/Ax5HofWpPsnuv5H/Gj7H7r/3yf8aAJT/x8J/ut/MVJTVQg7mOW6dMYp1ABRRRQAUUUUAFFFFABRRRQAUUUUAFFFFABRRRQAUUUUAFFFFABRRRQBleIf8AkHp/11H8jXN10niH/kHp/wBdR/I1zdABRRRQB3NFYP8AZGqf9DLqf/fq1/8AjNH9kap/0Mup/wDfq1/+M1pyr+Zfj/kZc8v5X+H+ZvUVg/2Rqn/Qy6n/AN+rX/4zR/ZGqf8AQy6n/wB+rX/4zRyr+Zfj/kHPL+V/h/mb1FYP9kap/wBDLqf/AH6tf/jNH9kap/0Mup/9+rX/AOM0cq/mX4/5Bzy/lf4f5m9RWD/ZGqf9DLqf/fq1/wDjNH9kap/0Mup/9+rX/wCM0cq/mX4/5Bzy/lf4f5m9RWD/AGRqn/Qy6n/36tf/AIzR/ZGqf9DLqf8A36tf/jNHKv5l+P8AkHPL+V/h/mb1FYP9kap/0Mup/wDfq1/+M0f2Rqn/AEMup/8Afq1/+M0cq/mX4/5Bzy/lf4f5m9RWD/ZGqf8AQy6n/wB+rX/4zR/ZGqf9DLqf/fq1/wDjNHKv5l+P+Qc8v5X+H+ZvUVg/2Rqn/Qy6n/36tf8A4zR/ZGqf9DLqf/fq1/8AjNHKv5l+P+Qc8v5X+H+ZvUVg/wBkap/0Mup/9+rX/wCM0f2Rqn/Qy6n/AN+rX/4zRyr+Zfj/AJBzy/lf4f5m9RWD/ZGqf9DLqf8A36tf/jNH9kap/wBDLqf/AH6tf/jNHKv5l+P+Qc8v5X+H+ZvUVg/2Rqn/AEMup/8Afq1/+M0f2Rqn/Qy6n/36tf8A4zRyr+Zfj/kHPL+V/h/mb1FYP9kap/0Mup/9+rX/AOM0f2Rqn/Qy6n/36tf/AIzRyr+Zfj/kHPL+V/h/mb1FYP8AZGqf9DLqf/fq1/8AjNH9kap/0Mup/wDfq1/+M0cq/mX4/wCQc8v5X+H+ZvUVg/2Rqn/Qy6n/AN+rX/4zR/ZGqf8AQy6n/wB+rX/4zRyr+Zfj/kHPL+V/h/mb1FYP9kap/wBDLqf/AH6tf/jNH9kap/0Mup/9+rX/AOM0cq/mX4/5Bzy/lf4f5m9RWD/ZGqf9DLqf/fq1/wDjNH9kap/0Mup/9+rX/wCM0cq/mX4/5Bzy/lf4f5m9RWD/AGRqn/Qy6n/36tf/AIzR/ZGqf9DLqf8A36tf/jNHKv5l+P8AkHPL+V/h/mb1FYP9kap/0Mup/wDfq1/+M0f2Rqn/AEMup/8Afq1/+M0cq/mX4/5Bzy/lf4f5m9RWD/ZGqf8AQy6n/wB+rX/4zR/ZGqf9DLqf/fq1/wDjNHKv5l+P+Qc8v5X+H+ZvUVg/2Rqn/Qy6n/36tf8A4zR/ZGqf9DLqf/fq1/8AjNHKv5l+P+Qc8v5X+H+ZvUVg/wBkap/0Mup/9+rX/wCM0f2Rqn/Qy6n/AN+rX/4zRyr+Zfj/AJBzy/lf4f5m9RWD/ZGqf9DLqf8A36tf/jNH9kap/wBDLqf/AH6tf/jNHKv5l+P+Qc8v5X+H+ZvUVg/2Rqn/AEMup/8Afq1/+M0f2Rqn/Qy6n/36tf8A4zRyr+Zfj/kHPL+V/h/mb1FYP9kap/0Mup/9+rX/AOM0f2Rqn/Qy6n/36tf/AIzRyr+Zfj/kHPL+V/h/mb1FYP8AZGqf9DLqf/fq1/8AjNH9kap/0Mup/wDfq1/+M0cq/mX4/wCQc8v5X+H+ZvUVg/2Rqn/Qy6n/AN+rX/4zR/ZGqf8AQy6n/wB+rX/4zRyr+Zfj/kHPL+V/h/mb1FYP9kap/wBDLqf/AH6tf/jNH9kap/0Mup/9+rX/AOM0cq/mX4/5Bzy/lf4f5m9RWD/ZGqf9DLqf/fq1/wDjNH9kap/0Mup/9+rX/wCM0cq/mX4/5Bzy/lf4f5m9RWD/AGRqn/Qy6n/36tf/AIzR/ZGqf9DLqf8A36tf/jNHKv5l+P8AkHPL+V/h/mb1FYP9kap/0Mup/wDfq1/+M0f2Rqn/AEMup/8Afq1/+M0cq/mX4/5Bzy/lf4f5m9RWD/ZGqf8AQy6n/wB+rX/4zR/ZGqf9DLqf/fq1/wDjNHKv5l+P+Qc8v5X+H+ZvUVg/2Rqn/Qy6n/36tf8A4zR/ZGqf9DLqf/fq1/8AjNHKv5l+P+Qc8v5X+H+ZvUVg/wBkap/0Mup/9+rX/wCM0f2Rqn/Qy6n/AN+rX/4zRyr+Zfj/AJBzy/lf4f5m9RWD/ZGqf9DLqf8A36tf/jNH9kap/wBDLqf/AH6tf/jNHKv5l+P+Qc8v5X+H+ZvUVg/2Rqn/AEMup/8Afq1/+M0f2Rqn/Qy6n/36tf8A4zRyr+Zfj/kHPL+V/h/mb1FYP9kap/0Mup/9+rX/AOM0f2Rqn/Qy6n/36tf/AIzRyr+Zfj/kHPL+V/h/mb1FYP8AZGqf9DLqf/fq1/8AjNH9kap/0Mup/wDfq1/+M0cq/mX4/wCQc8v5X+H+ZvUVg/2Rqn/Qy6n/AN+rX/4zR/ZGqf8AQy6n/wB+rX/4zRyr+Zfj/kHPL+V/h/mb1FYP9kap/wBDLqf/AH6tf/jNH9kap/0Mup/9+rX/AOM0cq/mX4/5Bzy/lf4f5m9RWD/ZGqf9DLqf/fq1/wDjNH9kap/0Mup/9+rX/wCM0cq/mX4/5Bzy/lf4f5m9RWD/AGRqn/Qy6n/36tf/AIzR/ZGqf9DLqf8A36tf/jNHKv5l+P8AkHPL+V/h/mb1FYP9kap/0Mup/wDfq1/+M0f2Rqn/AEMup/8Afq1/+M0cq/mX4/5Bzy/lf4f5m9RWD/ZGqf8AQy6n/wB+rX/4zR/ZGqf9DLqf/fq1/wDjNHKv5l+P+Qc8v5X+H+ZvUVg/2Rqn/Qy6n/36tf8A4zR/ZGqf9DLqf/fq1/8AjNHKv5l+P+Qc8v5X+H+ZvUVg/wBkap/0Mup/9+rX/wCM0f2Rqn/Qy6n/AN+rX/4zRyr+Zfj/AJBzy/lf4f5m9RWD/ZGqf9DLqf8A36tf/jNH9kap/wBDLqf/AH6tf/jNHKv5l+P+Qc8v5X+H+ZvUVg/2Rqn/AEMup/8Afq1/+M0f2Rqn/Qy6n/36tf8A4zRyr+Zfj/kHPL+V/h/mb1FYP9kap/0Mup/9+rX/AOM0f2Rqn/Qy6n/36tf/AIzRyr+Zfj/kHPL+V/h/mb1FYP8AZGqf9DLqf/fq1/8AjNH9kap/0Mup/wDfq1/+M0cq/mX4/wCQc8v5X+H+ZvUVg/2Rqn/Qy6n/AN+rX/4zR/ZGqf8AQy6n/wB+rX/4zRyr+Zfj/kHPL+V/h/mb1FYP9kap/wBDLqf/AH6tf/jNH9kap/0Mup/9+rX/AOM0cq/mX4/5Bzy/lf4f5m9RWD/ZGqf9DLqf/fq1/wDjNH9kap/0Mup/9+rX/wCM0cq/mX4/5Bzy/lf4f5m9RWD/AGRqn/Qy6n/36tf/AIzR/ZGqf9DLqf8A36tf/jNHKv5l+P8AkHPL+V/h/mb1FYP9kap/0Mup/wDfq1/+M0f2Rqn/AEMup/8Afq1/+M0cq/mX4/5Bzy/lf4f5m9RWD/ZGqf8AQy6n/wB+rX/4zR/ZGqf9DLqf/fq1/wDjNHKv5l+P+Qc8v5X+H+ZvUVg/2Rqn/Qy6n/36tf8A4zR/ZGqf9DLqf/fq1/8AjNHKv5l+P+Qc8v5X+H+ZvUVg/wBkap/0Mup/9+rX/wCM0f2Rqn/Qy6n/AN+rX/4zRyr+Zfj/AJBzy/lf4f5m9RWD/ZGqf9DLqf8A36tf/jNH9kap/wBDLqf/AH6tf/jNHKv5l+P+Qc8v5X+H+ZvUVg/2Rqn/AEMup/8Afq1/+M0f2Rqn/Qy6n/36tf8A4zRyr+Zfj/kHPL+V/h/mb1FYP9kap/0Mup/9+rX/AOM0f2Rqn/Qy6n/36tf/AIzRyr+Zfj/kHPL+V/h/mb1FYP8AZGqf9DLqf/fq1/8AjNH9kap/0Mup/wDfq1/+M0cq/mX4/wCQc8v5X+H+ZvUVg/2Rqn/Qy6n/AN+rX/4zR/ZGqf8AQy6n/wB+rX/4zRyr+Zfj/kHPL+V/h/mb1FYP9kap/wBDLqf/AH6tf/jNH9kap/0Mup/9+rX/AOM0cq/mX4/5Bzy/lf4f5m9RWD/ZGqf9DLqf/fq1/wDjNH9kap/0Mup/9+rX/wCM0cq/mX4/5Bzy/lf4f5m9RWD/AGRqn/Qy6n/36tf/AIzR/ZGqf9DLqf8A36tf/jNHKv5l+P8AkHPL+V/h/mb1FYP9kap/0Mup/wDfq1/+M0f2Rqn/AEMup/8Afq1/+M0cq/mX4/5Bzy/lf4f5m9RWD/ZGqf8AQy6n/wB+rX/4zR/ZGqf9DLqf/fq1/wDjNHKv5l+P+Qc8v5X+H+ZvUVg/2Rqn/Qy6n/36tf8A4zR/ZGqf9DLqf/fq1/8AjNHKv5l+P+Qc8v5X+H+ZvUVg/wBkap/0Mup/9+rX/wCM0f2Rqn/Qy6n/AN+rX/4zRyr+Zfj/AJBzy/lf4f5m9RWD/ZGqf9DLqf8A36tf/jNH9kap/wBDLqf/AH6tf/jNHKv5l+P+Qc8v5X+H+ZvUVg/2Rqn/AEMup/8Afq1/+M0f2Rqn/Qy6n/36tf8A4zRyr+Zfj/kHPL+V/h/mb1FYP9kap/0Mup/9+rX/AOM0f2Rqn/Qy6n/36tf/AIzRyr+Zfj/kHPL+V/h/mb1FYP8AZGqf9DLqf/fq1/8AjNH9kap/0Mup/wDfq1/+M0cq/mX4/wCQc8v5X+H+ZvUVg/2Rqn/Qy6n/AN+rX/4zR/ZGqf8AQy6n/wB+rX/4zRyr+Zfj/kHPL+V/h/mb1FYP9kap/wBDLqf/AH6tf/jNH9kap/0Mup/9+rX/AOM0cq/mX4/5Bzy/lf4f5m9RWD/ZGqf9DLqf/fq1/wDjNH9kap/0Mup/9+rX/wCM0cq/mX4/5Bzy/lf4f5m9RWD/AGRqn/Qy6n/36tf/AIzR/ZGqf9DLqf8A36tf/jNHKv5l+P8AkHPL+V/h/mb1FYP9kap/0Mup/wDfq1/+M0f2Rqn/AEMup/8Afq1/+M0cq/mX4/5Bzy/lf4f5m9RWD/ZGqf8AQy6n/wB+rX/4zR/ZGqf9DLqf/fq1/wDjNHKv5l+P+Qc8v5X+H+ZvUVg/2Rqn/Qy6n/36tf8A4zR/ZGqf9DLqf/fq1/8AjNHKv5l+P+Qc8v5X+H+ZvUVg/wBkap/0Mup/9+rX/wCM0f2Rqn/Qy6n/AN+rX/4zRyr+Zfj/AJBzy/lf4f5m9RWD/ZGqf9DLqf8A36tf/jNH9kap/wBDLqf/AH6tf/jNHKv5l+P+Qc8v5X+H+ZvUVg/2Rqn/AEMup/8Afq1/+M0f2Rqn/Qy6n/36tf8A4zRyr+Zfj/kHPL+V/h/mb1FYP9kap/0Mup/9+rX/AOM0f2Rqn/Qy6n/36tf/AIzRyr+Zfj/kHPL+V/h/mb1FYP8AZGqf9DLqf/fq1/8AjNH9kap/0Mup/wDfq1/+M0cq/mX4/wCQc8v5X+H+ZvUVg/2Rqn/Qy6n/AN+rX/4zR/ZGqf8AQy6n/wB+rX/4zRyr+Zfj/kHPL+V/h/mb1FYP9kap/wBDLqf/AH6tf/jNH9kap/0Mup/9+rX/AOM0cq/mX4/5Bzy/lf4f5m9RWD/ZGqf9DLqf/fq1/wDjNH9kap/0Mup/9+rX/wCM0cq/mX4/5Bzy/lf4f5m9RWD/AGRqn/Qy6n/36tf/AIzR/ZGqf9DLqf8A36tf/jNHKv5l+P8AkHPL+V/h/mb1FYP9kap/0Mup/wDfq1/+M0f2Rqn/AEMup/8Afq1/+M0cq/mX4/5Bzy/lf4f5m9RWD/ZGqf8AQy6n/wB+rX/4zR/ZGqf9DLqf/fq1/wDjNHKv5l+P+Qc8v5X+H+ZvUVg/2Rqn/Qy6n/36tf8A4zR/ZGqf9DLqf/fq1/8AjNHKv5l+P+Qc8v5X+H+ZvUVg/wBkap/0Mup/9+rX/wCM0f2Rqn/Qy6n/AN+rX/4zRyr+Zfj/AJBzy/lf4f5m9RWD/ZGqf9DLqf8A36tf/jNH9kap/wBDLqf/AH6tf/jNHKv5l+P+Qc8v5X+H+ZvUVg/2Rqn/AEMup/8Afq1/+M0f2Rqn/Qy6n/36tf8A4zRyr+Zfj/kHPL+V/h/mb1FYP9kap/0Mup/9+rX/AOM0f2Rqn/Qy6n/36tf/AIzRyr+Zfj/kHPL+V/h/mb1FYP8AZGqf9DLqf/fq1/8AjNH9kap/0Mup/wDfq1/+M0cq/mX4/wCQc8v5X+H+ZvUVg/2Rqn/Qy6n/AN+rX/4zR/ZGqf8AQy6n/wB+rX/4zRyr+Zfj/kHPL+V/h/mb1FYP9kap/wBDLqf/AH6tf/jNH9kap/0Mup/9+rX/AOM0cq/mX4/5Bzy/lf4f5m9RWD/ZGqf9DLqf/fq1/wDjNH9kap/0Mup/9+rX/wCM0cq/mX4/5Bzy/lf4f5m9RWD/AGRqn/Qy6n/36tf/AIzR/ZGqf9DLqf8A36tf/jNHKv5l+P8AkHPL+V/h/mb1FYP9kap/0Mup/wDfq1/+M0f2Rqn/AEMup/8Afq1/+M0cq/mX4/5Bzy/lf4f5m9RWD/ZGqf8AQy6n/wB+rX/4zR/ZGqf9DLqf/fq1/wDjNHKv5l+P+Qc8v5X+H+ZvUVg/2Rqn/Qy6n/36tf8A4zR/ZGqf9DLqf/fq1/8AjNHKv5l+P+Qc8v5X+H+ZvUVg/wBkap/0Mup/9+rX/wCM0f2Rqn/Qy6n/AN+rX/4zRyr+Zfj/AJBzy/lf4f5m9RWD/ZGqf9DLqf8A36tf/jNH9kap/wBDLqf/AH6tf/jNHKv5l+P+Qc8v5X+H+ZvUVg/2Rqn/AEMup/8Afq1/+M0f2Rqn/Qy6n/36tf8A4zRyr+Zfj/kHPL+V/h/mb1FYP9kap/0Mup/9+rX/AOM0f2Rqn/Qy6n/36tf/AIzRyr+Zfj/kHPL+V/h/mb1FYP8AZGqf9DLqf/fq1/8AjNH9kap/0Mup/wDfq1/+M0cq/mX4/wCQc8v5X+H+ZvUVg/2Rqn/Qy6n/AN+rX/4zR/ZGqf8AQy6n/wB+rX/4zRyr+Zfj/kHPL+V/h/mb1FYP9kap/wBDLqf/AH6tf/jNH9kap/0Mup/9+rX/AOM0cq/mX4/5Bzy/lf4f5m9RWD/ZGqf9DLqf/fq1/wDjNH9kap/0Mup/9+rX/wCM0cq/mX4/5Bzy/lf4f5m9RWD/AGRqn/Qy6n/36tf/AIzR/ZGqf9DLqf8A36tf/jNHKv5l+P8AkHPL+V/h/mb1FYP9kap/0Mup/wDfq1/+M0f2Rqn/AEMup/8Afq1/+M0cq/mX4/5Bzy/lf4f5m9RWD/ZGqf8AQy6n/wB+rX/4zR/ZGqf9DLqf/fq1/wDjNHKv5l+P+Qc8v5X+H+ZvUVg/2Rqn/Qy6n/36tf8A4zR/ZGqf9DLqf/fq1/8AjNHKv5l+P+Qc8v5X+H+ZvUVg/wBkap/0Mup/9+rX/wCM0f2Rqn/Qy6n/AN+rX/4zRyr+Zfj/AJBzy/lf4f5m9RWD/ZGqf9DLqf8A36tf/jNH9kap/wBDLqf/AH6tf/jNHKv5l+P+Qc8v5X+H+ZZ8Q/8AIPT/AK6j+Rrm60tQsLy1tle61e8vVLgCOdIQoODz8kanP4456Vm1DVnuaRba1VgooopDO5xRiiigAxRiiigAxRiiigAxRiiigAxRiiigAxRiiigAxRiiigAxRiiigAxRiiigAxRiiigAxRiiigAxRiiigAxRiiigAxRiiigAxRiiigAxRiiigAxRiiigAxRiiigAxRiiigAxRiiigAxRiiigAxRiiigAxRiiigAxRiiigAxRiiigAxRiiigAxRiiigAxRiiigAxRiiigAxRiiigAxRiiigAxRiiigAxRiiigAxRiiigAxRiiigAxRiiigAxRiiigAxRiiigAxRiiigAxRiiigAxRiiigAxRiiigAxRiiigAxRiiigAxRiiigAxRiiigAxRiiigAxRiiigAxRiiigAxRiiigAxRiiigAxRiiigAxRiiigAxRiiigAxRiiigAxRiiigAxRiiigAxRiiigAxRiiigAxRiiigAxRiiigAxRiiigAxRiiigAxRiiigAxRiiigAxRiiigAxRiiigAxRiiigAxRiiigAxRiiigAxRiiigAxRiiigAxRiiigAxRiiigAxRiiigAxRiiigAxRiiigAxRiiigAxRiiigAxRiiigAxRiiigAxRiiigAxRiiigAxRiiigAxRiiigAxRiiigAxRiiigAxRiiigAxRiiigAxRiiigAxRiiigAxRiiigAxRiiigAxRiiigAxRiiigAxRiiigAxRiiigAxRiiigAxRiiigAxRiiigAxRiiigAxRiiigAxRiiigAxRiiigAxRiiigAxRiiigAxRiiigAxRiiigAxRiiigAxRiiigAxRiiigAxRiiigAxRiiigAxRiiigAxRiiigAxRiiigAxRiiigAxRiiigDK8Q/8g9P+uo/ka5uuk8Q/wDIPT/rqP5GuboAKKKKAO5ooooAKKKpalrWl6MiPq+pWdgshwjXU6xBj7biM0AXaKjguIbq3Se1lSaGRQySRsGVgehBHBFSUAFFFFABRRRQAUUUUAFFFULzXdJ0+5Fvf6pZWs7AERT3CIxB6HBOaaTbshOSirtl+igHIyORRSGFFFFABRRRQAUUUUAFFFFABRVe+v7PTLRrrUruC0t0xumuJBGi5OBljwOaj03WNM1iN5NI1G0v0Q4ZrWdZQp9CVJxQBcooJwMngUyGaK4gSa3kSWKRQySIwZWB5BBHUUAPooooAKKKKACiiquoanYaTa/adVvbeyg3BfNuZVjXJ6DLEDNAFqiqVnrOmajZyXenaja3dtHnfNbzLIi4GTkqSKs29xFd2sVxbSLLDMgeN1OQykZBH4UASUUUUAFFFQ3d5b2Fs1xezJBCpALucAEkAfqQKAJqKKKACiiigAooooAKKKKACiiigAooooAKKKKACiiigAooooAKKKKACiiigAooooAKKKKACiiigAooooAKKKKACiiigAooooAKKKKACiiigAooooAKKKKACiiigAooooAKKKKACiiigAooooAKKKKACiiigAooooAKKKKACiiigAooooAKKKKACiiigAooooAKKKKACiiigAooooAKKKKACiiigAooooAKKKKACiiigAooooAKKKKACiiigAooooAKKKKACiiigAooooAKKKKACiiigAooooAKKKKACiiigAooooAKKKKACiiigAooooAKKKKACiiigAooooAKKKKACiiigAooooAKKKKACiiigAooooAKKKKACiiigAooooAKKKKACiiigAooooAKKKKACiiigAooooAKKKKACiiigAooooAKKKKACiiigAooooAKKKKACiiigAooooAKKKKACiiigAooooAKKKKACiiigAooooAKKKKACiiigAooooAKKKKACiiigDK8Q/8AIPT/AK6j+Rrm66TxD/yD0/66j+Rrm6ACiiigDuaKKKACuS0X7O3xF8R/b/LOoKIBa7/vC18sfcz/AA+Zvzjv17V1tUdS0TStZVBq+mWd+I8lBdW6S7c+m4HFHW4HO3ccep+L7zT7zULmxsbLTop7VLO7e2B3NIHkJQjcF2qMHKjPI5qp4V1u/v8AWNGfU7p/9I0J5mVm2rKwlQCXb0yV56cBq6u60DR763t4L3SbG4htQBBHNbI6xDp8oIwvQdKff6NpmqpEmqadaXqwndGtzAsgQ+o3A4oWn9ev+f4fcPX+vT/L8fv4HRZ7rXm8MQzavffZrqHUZJzBdujTqk6BPnU7hgHggg44zgmtRUuNF8Vxy6xJe3dveXvk2NzDqcvlxkrhYpLcsFONp+YBiTy2K66LTrKB4mgs7eNoQ4iKRKCgc5bGBxkgE46moItB0eHVG1KHSrGO/YktdJbIJST1y+M8/WhaW/rqD1RxHhX/AISTVZLDWjPCge7kF75mrzPuUFlMItjGI0ZTjGDn5eScmvR6oDQdIGq/2mNKsRqGc/axbJ5vTH38Z6cdav0dLA97hRRRQAVyN0moTeMtYt9OtbKdZrC3SQ3czKFBMo+6Ebf34ytddUawRLcPOsSCaRQryBRuYDOAT3AyfzNXCSje6M5xcrWdjlLDSZIfENvo8mo3jWthpNvhIpmiEjh3Xcdpz0HTODxnOBVS2ubgaTp+s/b7ltSuNRWCW3NwxjIMpR4hFnaNq5OQM/LknrXbiCIXBnESCZlCGTaNxUEkDPXGSePeq66Vp6ag1+lhbLeMMNciFRIR/vYzW3t76v8Arv8Aec/1eytH/htNPu6epw1rem+8URWU2pzpew6nL9o3ar5aSxAtsjSASBs/c/gAO0nJB5mWa9tvAtzrC391LeSTvD5kt04SGL7TsJA5AwoPz7SR9BitmDwpcx2ltp82oxPptrcLOka2m2Zir71DSbyDzjJCgn8a6BLW3itzbxQRpCc5jVAFOSSeOnJJz9a0nWgrcuv+X/B7EQoTbk5aXv8Ae/zt3OUj0rXxZ30Ed3FbRzLC0Ef9qTXDZDfOPNdA6B1wOM4PIqJY7q/sxDp63qPYXTLe2EurSCSU+WpGy4DFsDcDgkA55xXSR+HtFitZbaLSLBIJiDLEtsgWTHTcMYOPeh/D2iyWcdpJpFg1tExaOFrZCiE9SFxgGo9sr/1/n/W9yvq8tP6/T+tmmLoV3b32h2txZ+d5Lp8v2hy7jBwQzEnJyOuTn1rQpscaQxLFCixxoAqoowFA6ADtTq55NOTaOuCaikwoooqSjm/HP/IDtP8AsKWP/pTHWd4jvbTT/HmmXtttNxa2d1LqQgGX+zLHld4H+3t2575x3rrb6ws9TtGtdStILu3fG6G4jEiNg5GVPB5qLT9G0zSYHh0rTrSyikOXS2gWNW+oUDNLWz/rpYelzz+1nu21uG1kaeC11XR7i5aA63PdSEDYUc7seUfmYfu2IPPoKitVu7bwt4K03SpJWh1O3Ek3natPb+Y6wKVjWZQ7IDyQiYB2/UH0Ow0HR9LfdpmlWNm2Sc29skZ5xnoB1wPyFMHhzRBYS2I0bTxaTSeZLbi1Ty5H/vMuME8Dk+lPTp/Wr/z/AAFr18/yX+RysukeJv7Js0vLkXYtZ52ksrTV5YpJYiR5Y+0AIzMnIw2A2QSciur8P3ttqXh2xvLEzm3mhVo/tDlpMY/iYk5Pvk59TUcvhbw/PZw2k2habJbW5JhgezjKRk9dqkYGfatOONIYljiRURAFVVGAoHQAUxDqKKKQwrm/GXXQP+w1b/8As1dJVXUNMsNWtfs2q2Vvewbg3lXMSyLkdDhgRmjqn2a/MOjXqchrckaeOpZNHdVuI9GuTqTQnBX7vkbiP4s78Z5xmqEsl7baRpuv6tPfX2lpplq0wtdTkgltn25aRkDKJt2Rncc8cA5rvLLSNN06ze00/T7W0tnzvhggVEbPByoGDUMnhvQ5bqC5l0bT3ntlVYJWtULRBfuhTjIA7Y6ULT+vX/MHr/Xp/kYeioNY13V7zUL+8E9jqJghto7ySKOKMKpTMasA27OcsDnPHSsrTtZuH8K+CWfUZWubvUFSYmcl5gFl3BucsAQMg+grtZ9E0q61KLULnTLOa9hx5dzJbq0iY6YYjIpsXh/RoL572HSLGO6kfzHnS2QOzf3i2Mk8nmnHS3lb8P8AMH187/j/AJHIxxX+natJaajeXQvtS+0jT9UTUZJLfO1mXdbFgqFFx0Uj5eoJqjc3lzpGiahp8x1C01eEWckkp1WW6jlRrhU3xs7ZTOGBXav4iu6h8N6Hb3E89vo2nxTXKsk8iWqK0qt94MQOQe+etLa+HdFsbWS2stHsLeCVleSKK1RFdlOQSAMEgjIpR0sD1/r+v6+44zU7md9O8VaxLqt5bahpNy8dnDHcukaBUUxKYgdr+YT/ABAk7uMYFPvIrrULvxfcXGo6jbtp8MclrDb3kkSwP9mDk4UgNzjhsr145NdpPoul3Woxahc6bZzXsOPKuZIFaRMdMMRkfhUxsrUm4JtoSboYn/dj98Mbfm/vccc9qVvdt5f0xp+9f+vQi0i5kvdDsbqbHmT28cj4HcqCf51cpscaQxJFCixxooVUUYCgdAB2FOqpNNtomKaSTCiiikMKKKKACiiigAooooAKKKKACiiigAooooAKKKKACiiigAooooAKKKKACiiigAooooAKKKKACiiigAooooAKKKKACiiigAooooAKKKKACiiigAooooAKKKKACiiigAooooAKKKKACiiigAooooAKKKKACiiigAooooAKKKKACiiigAooooAKKKKACiiigAooooAKKKKACiiigAooooAKKKKACiiigAooooAKKKKACiiigAooooAKKKKACiiigAooooAKKKKACiiigAooooAKKKKACiiigAooooAKKKKACiiigAooooAKKKKACiiigAooooAKKKKACiiigAooooAKKKKACiiigAooooAKKKKACiiigAooooAKKKKACiiigAooooAKKKKACiiigAooooAKKKKACiiigAooooAKKKKACiiigAooooAKKKKACiiigAooooAKKKKACiiigAooooAKKKKACiiigAooooAKKKKACiiigAooooAKKKKACiiigDK8Q/8AIPT/AK6j+Rrm66TxD/yD0/66j+Rrm6ACiiigDuaKKhkvLaJyktxEjDqrOARQBNRVf7fZ/wDP3B/38FH2+z/5+4P+/goAsUVX+32f/P3B/wB/BR9vs/8An7g/7+CgCxRVf7fZ/wDP3B/38FH2+z/5+4P+/goAsUVX+32f/P3B/wB/BR9vs/8An7g/7+CgCxRVf7fZ/wDP3B/38FeceKviB4q0rxNd2eh6PBe2MWzyp/sssm/KKT8ysAcEkcela0qUqsuWJhXrxoR5pX+Wp6fRXjH/AAtDx5/0LkH/AIAz/wDxdH/C0PHn/QuQf+AM/wD8XXV9Rq9195yf2lR7S+5ns9FeMf8AC0PHn/QuQf8AgDP/APF0f8LQ8ef9C5B/4Az/APxdH1Gr3X3h/aVHtL7mez0V4x/wtDx5/wBC5B/4Az//ABdH/C0PHn/QuQf+AM//AMXR9Rq9194f2lR7S+5ns9FeMf8AC0PHn/QuQf8AgDP/APF0f8LQ8ef9C5B/4Az/APxdH1Gr3X3h/aVHtL7mez0V4x/wtDx5/wBC5B/4Az//ABdH/C0PHn/QuQf+AM//AMXR9Rq9194f2lR7S+5ns9FZekawl3oljc38sEF1NbxyTRbtuxyoLLgnIwcjB5q59vs/+fuD/v4K4WrOx6Kd1csUVX+32f8Az9wf9/BR9vs/+fuD/v4KQyxRVf7fZ/8AP3B/38FH2+z/AOfuD/v4KALFFV/t9n/z9wf9/BR9vs/+fuD/AL+CgCxRVf7fZ/8AP3B/38FH2+z/AOfuD/v4KALFFV/t9n/z9wf9/BR9vs/+fuD/AL+CgCxRVf7fZ/8AP3B/38FH2+z/AOfuD/v4KALFFV/t9n/z9wf9/BR9vs/+fuD/AL+CgCxRVf7fZ/8AP3B/38FH2+z/AOfuD/v4KALFFV/t9n/z9wf9/BR9vs/+fuD/AL+CgCxRVf7fZ/8AP3B/38FH2+z/AOfuD/v4KALFFV/t9n/z9wf9/BR9vs/+fuD/AL+CgCxRVf7fZ/8AP3B/38FH2+z/AOfuD/v4KALFFV/t9n/z9wf9/BR9vs/+fuD/AL+CgCxRVf7fZ/8AP3B/38FH2+z/AOfuD/v4KALFFV/t9n/z9wf9/BR9vs/+fuD/AL+CgCxRVf7fZ/8AP3B/38FH2+z/AOfuD/v4KALFFV/t9n/z9wf9/BR9vs/+fuD/AL+CgCxRVf7fZ/8AP3B/38FH2+z/AOfuD/v4KALFFV/t9n/z9wf9/BR9vs/+fuD/AL+CgCxRVf7fZ/8AP3B/38FH2+z/AOfuD/v4KALFFV/t9n/z9wf9/BR9vs/+fuD/AL+CgCxRVf7fZ/8AP3B/38FH2+z/AOfuD/v4KALFFV/t9n/z9wf9/BR9vs/+fuD/AL+CgCxRVf7fZ/8AP3B/38FH2+z/AOfuD/v4KALFFV/t9n/z9wf9/BR9vs/+fuD/AL+CgCxRVf7fZ/8AP3B/38FH2+z/AOfuD/v4KALFFV/t9n/z9wf9/BR9vs/+fuD/AL+CgCxRVf7fZ/8AP3B/38FH2+z/AOfuD/v4KALFFV/t9n/z9wf9/BR9vs/+fuD/AL+CgCxRVf7fZ/8AP3B/38FH2+z/AOfuD/v4KALFFV/t9n/z9wf9/BR9vs/+fuD/AL+CgCxRVf7fZ/8AP3B/38FH2+z/AOfuD/v4KALFFV/t9n/z9wf9/BR9vs/+fuD/AL+CgCxRVf7fZ/8AP3B/38FH2+z/AOfuD/v4KALFFV/t9n/z9wf9/BR9vs/+fuD/AL+CgCxRVf7fZ/8AP3B/38FH2+z/AOfuD/v4KALFFV/t9n/z9wf9/BR9vs/+fuD/AL+CgCxRVf7fZ/8AP3B/38FH2+z/AOfuD/v4KALFFV/t9n/z9wf9/BR9vs/+fuD/AL+CgCxRVf7fZ/8AP3B/38FH2+z/AOfuD/v4KALFFV/t9n/z9wf9/BR9vs/+fuD/AL+CgCxRVf7fZ/8AP3B/38FH2+z/AOfuD/v4KALFFV/t9n/z9wf9/BR9vs/+fuD/AL+CgCxRVf7fZ/8AP3B/38FH2+z/AOfuD/v4KALFFV/t9n/z9wf9/BR9vs/+fuD/AL+CgCxRVf7fZ/8AP3B/38FH2+z/AOfuD/v4KALFFV/t9n/z9wf9/BR9vs/+fuD/AL+CgCxRVf7fZ/8AP3B/38FH2+z/AOfuD/v4KALFFV/t9n/z9wf9/BR9vs/+fuD/AL+CgCxRVf7fZ/8AP3B/38FH2+z/AOfuD/v4KALFFV/t9n/z9wf9/BR9vs/+fuD/AL+CgCxRVf7fZ/8AP3B/38FH2+z/AOfuD/v4KALFFV/t9n/z9wf9/BR9vs/+fuD/AL+CgCxRVf7fZ/8AP3B/38FH2+z/AOfuD/v4KALFFV/t9n/z9wf9/BR9vs/+fuD/AL+CgCxRVf7fZ/8AP3B/38FH2+z/AOfuD/v4KALFFV/t9n/z9wf9/BR9vs/+fuD/AL+CgCxRVf7fZ/8AP3B/38FH2+z/AOfuD/v4KALFFV/t9n/z9wf9/BR9vs/+fuD/AL+CgCxRVf7fZ/8AP3B/38FH2+z/AOfuD/v4KALFFV/t9n/z9wf9/BR9vs/+fuD/AL+CgCxRVf7fZ/8AP3B/38FH2+z/AOfuD/v4KALFFV/t9n/z9wf9/BR9vs/+fuD/AL+CgCxRVf7fZ/8AP3B/38FH2+z/AOfuD/v4KALFFV/t9n/z9wf9/BR9vs/+fuD/AL+CgCxRVf7fZ/8AP3B/38FH2+z/AOfuD/v4KALFFV/t9n/z9wf9/BR9vs/+fuD/AL+CgCxRVf7fZ/8AP3B/38FH2+z/AOfuD/v4KALFFV/t9n/z9wf9/BR9vs/+fuD/AL+CgCxRVf7fZ/8AP3B/38FH2+z/AOfuD/v4KALFFV/t9n/z9wf9/BR9vs/+fuD/AL+CgCxRVf7fZ/8AP3B/38FH2+z/AOfuD/v4KALFFV/t9n/z9wf9/BR9vs/+fuD/AL+CgCxRVf7fZ/8AP3B/38FH2+z/AOfuD/v4KALFFV/t9n/z9wf9/BR9vs/+fuD/AL+CgCxRVf7fZ/8AP3B/38FH2+z/AOfuD/v4KALFFV/t9n/z9wf9/BR9vs/+fuD/AL+CgCxRVf7fZ/8AP3B/38FH2+z/AOfuD/v4KALFFV/t9n/z9wf9/BR9vs/+fuD/AL+CgCxRVf7fZ/8AP3B/38FH2+z/AOfuD/v4KALFFV/t9n/z9wf9/BR9vs/+fuD/AL+CgCxRVf7fZ/8AP3B/38FH2+z/AOfuD/v4KALFFV/t9n/z9wf9/BR9vs/+fuD/AL+CgCxRVf7fZ/8AP3B/38FH2+z/AOfuD/v4KALFFV/t9n/z9wf9/BR9vs/+fuD/AL+CgCxRVf7fZ/8AP3B/38FH2+z/AOfuD/v4KALFFV/t9n/z9wf9/BR9vs/+fuD/AL+CgCxRVf7fZ/8AP3B/38FH2+z/AOfuD/v4KALFFV/t9n/z9wf9/BR9vs/+fuD/AL+CgCxRVf7fZ/8AP3B/38FH2+z/AOfuD/v4KALFFV/t9n/z9wf9/BR9vs/+fuD/AL+CgCxRVf7fZ/8AP3B/38FH2+z/AOfuD/v4KALFFV/t9n/z9wf9/BR9vs/+fuD/AL+CgCxRVf7fZ/8AP3B/38FH2+z/AOfuD/v4KALFFV/t9n/z9wf9/BR9vs/+fuD/AL+CgCxRVf7fZ/8AP3B/38FH2+z/AOfuD/v4KALFFV/t9n/z9wf9/BR9vs/+fuD/AL+CgCxRVf7fZ/8AP3B/38FH2+z/AOfuD/v4KALFFV/t9n/z9wf9/BR9vs/+fuD/AL+CgCxRVf7fZ/8AP3B/38FH2+z/AOfuD/v4KALFFV/t9n/z9wf9/BR9vs/+fuD/AL+CgCxRVf7fZ/8AP3B/38FH2+z/AOfuD/v4KALFFV/t9n/z9wf9/BR9vs/+fuD/AL+CgCxRVf7fZ/8AP3B/38FH2+z/AOfuD/v4KALFFV/t9n/z9wf9/BR9vs/+fuD/AL+CgCxRTIpo5lLQyLIoOCUYEZp9AGV4h/5B6f8AXUfyNc3XSeIf+Qen/XUfyNc3QAUUUUAdzVe1/wBdd/8AXYf+gLViq9r/AK67/wCuw/8AQFoAsUUUUAFFFFABRRRQAUUUUAFFFFABRRRQAUUUUAFFFFABRRRQAUUUUAFFFFABRRRQAUUUUAFFFFABRRRQAUUUUAFFFFABRRRQAUUUUAFFFFABRRRQAUUUUAFFFFABRRRQAUUUUAFFFFABRRRQAUUUUAFFFFABRRRQAUUUUAFFFFABRRRQAUUUUAFFFFABRRRQAUUUUAFFFFABRRRQAUUUUAFFFFABRRRQAUUUUAFFFFABRRRQAUUUUAFFFFABRRRQAUUUUAFFFFABRRRQAUUUUAFFFFABRRRQAUUUUAFFFFABRRRQAUUUUAFFFFABRRRQAUUUUAFFFFABRRRQAUUUUAFFFFABRRRQAUUUUAFFFFABRRRQAUUUUAFFFFABRRRQAUUUUAFFFFABRRRQAUUUUAFFFFABRRRQAUUUUAFFFFABRRRQAUUUUAFFFFABRRRQAUUUUAFFFFABRRRQAUUUUAFFFFABRRRQAUUUUAFFFFABRRRQAUUUUAFFFFABRRRQAUUUUAFFFFABRRRQAUUUUAFFFFABRRRQAUUUUAFFFFABRRRQAUUUUAFFFFABRRRQAUUUUAFFFFABRRRQAUUUUAFFFFABRRRQAUUUUAFFFFAFe2/4+bv/AK6j/wBAWrFV7b/j5u/+uo/9AWrFAGfrNs91ZokZUESA/N9DWL/ZFx/fj/M/4V0l1/qh/vVUoAxv7IuP78f5n/CitmigDRqva/667/67D/0BasVXtf8AXXf/AF2H/oC0AWKKKKACiiigAooooAKKKKACiiigAooooAKKKKACiiigAooooAKKKKACiiigAooooAKKKKACiiigAooooAKKKKACiiigAooooAKKKKACiiigAooooAKKKKACiiigAooooAKKKKACiiigAooooAKKKKACiiigAooooAKKKKACiiigAooooAKKKKACiiigAooooAKKKKACiiigAooooAKKKKACiiigAooooAKKKKACiiigAooooAKKKKACiiigAooooAKKKKACiiigAooooAKKKKACiiigAooooAKKKKACiiigAooooAKKKKACiiigAooooAKKKKACiiigAooooAKKKKACiiigAooooAKKKKACiiigAooooAKKKKACiiigAooooAKKKKACiiigAooooAKKKKACiiigAooooAKKKKACiiigAooooAKKKKACiiigAooooAKKKKACiiigAooooAKKKKACiiigAooooAKKKKACiiigAooooAKKKKACiiigAooooAKKKKACiiigAooooAKKKKACiiigAooooAKKKKACiiigAooooAKKKKACiiigAooooAKKKKACiiigAooooAKKKKACiiigAooooAKKKKACiiigCvbf8fN3/wBdR/6AtWKr23/Hzd/9dR/6AtWKAIbr/VD/AHqqVbuv9UP96qlABRRRQBo1Xtf9dd/9dh/6AtWKr2v+uu/+uw/9AWgCxRRRQAUUUUAFFcp8RPFsnhHwz9ps4xLfXMggtVYZAcg/MR3wB09cVhW/w98U3dmLrU/HmqwajIA7JbsRDG393aGAOPbA9qFqGx6RRXP6lr9n4K8M283iXUWnkRFjMnljzLmTHOFHr+Q7ms7R/idouraxDpk1tqGl3VwAYF1G38oTZ6bSCevbOM0buyDpdnY0VhP4tsY/G0fhcxXH22S3+0CQKvl7eeM5znj0o1HxbY6b4s07w/PFcNd6gheJ0VTGoGfvEnP8J6A0b28w2v5G7RXI6v8AEzQND1TUdP1E3CXFgI8osYbzy65CxjOScHnOB70XPxJ0a00HT9Tngvw+pMy2tiIAbiQhtp+UHHX37ijpcPI66iuc8OeNLTxJfT2UWnapp9zBGJGjv7byiVJwCOTWdf8AxR0Wzv7q2tLLVNUFmcXM+n2vmRQkddzEjpjr0o2A7SiqOjazY6/pMOo6VOJ7aYfKwGCD3BHYj0rhvjBe6ha2+gw6bqN3p5ur7yZJLWZo2KkAdiM9aHdOwKzVz0eivIfFFt4g+GhsNZtfFOoatayXKwT2moOZNwIJ4yTjhT0wa7jXPH+ieHNYGnau80Dm0+1iXYChXcVCjnJYkdMfjRpa/wDXcNb2OmormNP8f6Ne+FrjxBcC50+xgkMTG8iCsxwPuhSc5zxWZZfFzQLm7torq11PToro4gur22CQyfRgx49+nrRbWwdLndUVheJPF+m+GPs0d4txc3V2223s7SLzJpT3wvHr61jWHxQsNQ15NGj0LXor0soeKWyAMIJA3uN2VXkHOKFrsD03O2ori9R+Kvh7TLjULa6F39psbgW5gSJWedueUG7kDHU4q/qPjzR9J8PWOrXwuYxqCq1taeVmeQkA7QoPXkd8cjnmjpcOtjpaK5fQfH2l67q7aU1tf6ZqGzzEtdSt/JeRfVeTn+f5Gqd/8UNItdUurGy0/VtVezbbcSafaeYkTc5BJI9D7cUAdpRXNXvj3RNP8K2uv3TTpbXeBBF5R82RuflC+vB7496ZoXjyz1zWF0z+ydY065aMyIL+08sMo6kEE+venbWwdLnUUVmeI9WOiaDdXyW1zcvGh2R20JkbOODgdh1J7V5F8KLDTdZvrfUtV0vWrrV/tDz/ANrSKxtsr0UvnBP1HWlHVtdgeiue4UVwl58XfD9tdXEdra6nqMNqcTXdlbB4Y/qxYce+Mema35PF+k/8IhL4ltpWu9PjjMhMK/MQDgjBIwc9jijpcOtjcorjrD4naDquuWWlaal5dTXaqxkjiBjhLLu2u2eCB1xnBrb8VpeSeENVXTGnW8+ySGA25Ik37SRtxznPpSlorgtXY1qKwdGu5dI+H9nea5JN51tp6zXTXBJk3BMtuzzn6815t4J8Ra/a+LNK1DxDf3Mun+JhMIIZZWZIHD/KFBOBngDHZqq3v8v9f0xX93m/r+kez0Vw/wAS9f1LToNJ0fQp/s1/rV0LdbjGTEuQCR7/ADDn0z3rCvhrfw38R6JLP4ivtZ0vUpxa3SXzlzGxxhlJJx1Jx7d6UdX87Dei/E9VorgviNqXihLW6tPD8LWFnBZvdXOqs3OACfLjxyGOOvUZ7daveApLrWfhXYG7vrlrm5t5Ea6MhaUEswDbjzkdvpRum/66/wCQbNI6+ivMta8EXGhaHd6neePvEghtYjIw+2N82OgHPUnA/GsW31/xJ4a+DtrfTahcT6nrV6Ft5ruQytBGw4OWz2TI7fNmj/gfiH9fcez0V5L4h0/xJ8OdNtvEMPim/wBXSKVEvbW9ctHIrHqgJO3nj1569q63XtC1PxPPZ3Vl4pu9I0poVcw2gCSOx5B8wEEDBHHPSjpoHqdbRXl/g++1XT/iddeHoNeuPEOkpbebLPcP5rW79lL5PPbGe/Tio9R1288W+I9Sg/4SdfDPh/S5/sxnSZYpLqYZyA5IxjB6H04OeDtbr/wwd7nqlFcpZ+GvtHg+bT7DxXql0l1IJYtTF55kyjj5VkHb5T+ZrivG/hy98IeGZdRHjnxHNcF1it4WvWHmOe3X0yfwoeg1qewUV5f4g1PxB4e8G+GfD0GoSHXdXkWCW9lYu8eSC3J5yC4GfQcdqivhrfw38R6JLP4ivtZ0vUpxa3SXzlzGxxhlJJx1Jx7d6dvet52Jvpfyueq0VyWnQ6uPirrElxJenSTZReQrs/kbzjO0H5c8HOOea1fFmur4b8K3+rMAzW8RManoznhR+ZFS3aPMUleVjYorm/AdrfW/g+0n1i9uLu9vF+1TPPIW2b+Qqg/dAGOBx1rzT/hLtb/4Sv8A4TD7fc/8I3/a32D7N5reV5e3G/ZnHvn1qre9y/12/Mm94839d/yPb6K5X4jeJp/C3gu4v7Db9rkdYbdiMhWb+LHfABP1xXF65p/irwFoVp4n/wCEov8AUpY5I/t1ndOXhIc8hQTxgnH45GOlJPv6D9D16iuX8S6tr0+l2Efg6yEs2pgEXspHl2iFQd7DucHjtx36HF+Deo3+o+GdRfVNQuL+WPUXjWWeRnO0InAyeB1OPenbVrsK+ifc9CorgLr4d3ima5k8eeIoYhukb/TGCoOvr0Fct4V13WdH8BeJvFMmp32o26uINNF/M0h4bbvIJx1cdP7pFTfR3Ktroe0UV5DNoniux8EL4vi8Y6hNqK24vpLWR825QjcUCZxwD6Y9hXVudU8eeDdIv9I1uTQkuUD3ZgQFm7EK2crhgec9DVNNX8hJp/M7OivJGbVvCfxF0PTNJ8U32vR3zlby0u5vPaFBjLE5O3gk9vu961PFfiDUNW8XzeGtL1mPQbGxgE2pakzAMu7G1FJI29RzkdT6YK3St1/QOup6PRXJeGdDgTSr/wDs/wAX6hrUd5H5QuZL4T+QwBBMbD7p+YH8BXP614IuNC0O71O88feJBDaxGRh9sb5sdAOepOB+NKTtuC12PTaK8g0/xBrvhT4JtrN9fXF3qWoz/wCiPdyNK0SvgL97PZSwHTkUuuaf4q8BaFaeJ/8AhKL/AFKWOSP7dZ3Tl4SHPIUE8YJx+ORjpVPR2fp8wWq0/qx69RXKeJfFlxa2mlWvh2KO41XW8fY1l+5Gm0M0jY7AH/OK47ULnQrG9e38S/E7XDqaHEw0+Vo4Ub02xoyrj0J/Kl1Dpc9corg/Dmv6jpviK10TV9QGr2GpWxudK1LZtkkUDJRwOp2856n8cDJsPiley+ONXgbRtcu7CFESCzttPDSwsPvM44YZPTJ/AU93YOlz1Kiud8R+NtL8NTW1tdJdXV9dDMNjZw+ZM49duR/P1x0NL4b8a6X4nuLi1tUurO+teZrK9i8qZB64yePx9PUUlrsB0NFcTqnxV0HTtVnsLa31HVJrbInOn24kWIjqCSR09siuq0nUodZ0i21G1WRIbmMSIJV2sAemRQtVdA9HYuUVzGv+P9F8Na0umar9oSZ7b7QjJGGV/mKhBg5LEjpjHvWZb/F3w48lzDfRahptzbqG+z3lttklyQAFUE5PI4OPXoDRuB3VFcn4f+I2keINbbSFtr/T78JvWC/gEbOMZOME9uecVc03xlp+peJ7/QDDc2moWQ3MlyqqJV/vIQxyMEHtwfrQB0FFcvp3iOx8c2ur2OkG/gigLW/9oxkRqX9Y2VtxI4PQdvWqvw01681bQLix1iQyanpNy1ncOxyz7ejH36jPfGaFr+YPQ7KiiigAooooAKKKKACiiigAooooAKKKKACiiigAooooAKKKKACiiigAooooAKKKKACiiigAooooAKKKKACiiigAooooAKKKKACiiigAooooAKKKKACiiigAooooAKKKKACiiigAooooAKKKKACiiigAooooAKKKKACiiigAooooAKKKKACiiigAooooAKKKKACiiigAooooAKKKKACiiigAooooAKKKKACiiigAooooAKKKKACiiigAooooAKKKKACiiigAooooAKKKKACiiigAooooAKKKKACiiigAooooAKKKKACiiigAooooAKKKKACiiigAooooAKKKKACiiigAooooAKKKKACiiigAooooAKKKKACiiigAooooAKKKKACiiigAooooAKKKKAK9t/x83f8A11H/AKAtWKr23/Hzd/8AXUf+gLVigCG6/wBUP96qlW7r/VD/AHqqUAFFFFAGjVe1/wBdd/8AXYf+gLViq9r/AK67/wCuw/8AQFoAsUUUUAFFFFAHm/xotbgeH9M1aCMyppl8k0qgdFPf8wB+NdhY+LNB1HS01C31azFuyhizzquz2YE8H2Na0sUc8LxTIskbqVdHGQwPUEdxXIy/CnwTLctO+hRh2O4hJpVX/vkNgfTFC0ugetmc78Rri3Xxx4J1W7ljfRxOT524GMMSpDE9MdDn0BpPjFd2t9b6BZabNHNqsmoI9uInDMFIxnjsTt+uPavRLzQ9Lv8ARxpV5YwzWKoEWBl+VQBgY9MdiORWZongHwx4dvftmkaRFDcAYErO8jL9C5OPwoWll0TuD1162schqU8Vl+0Vp8l5IsKS6bsR3O0MxDgDP1qLxFqNpe/Hzw1DaTpM9tEyS7GBCMQ52n3x/Ou+1/wlofihIl13To7vyvuMWZGX23KQce2ar2PgXw1ps9jNYaVHBLp7M1u6O4KlhhiefmOAPvZojo436f8AB/zCWqaXVf1+RyWjWkE/7Q/iCaaNXe3so2iJGdhKRDI98Ej8a3vG3hiy8R3mnNHrP9k61aFpLKVXG4jjd8hILDgdOn6Vu2/h/TLXxBda3BbbdRu4xHNN5jHeoxgbScD7o6DtVfxB4Q0LxT5P9vaet2YM+W3mOhXPXlSD2pfZiuw+rfc5Pwz4p8RyeJNT8I689peX1vZtNDfWnAJwMBwMAH5h2GMd85rlfhfY61daDdWuleMo9GmhuX+0WD6bFK6twNxLkE5xj2xivWNA8J6H4XSRdC06O0Mv33BZ2b2LMSce2apax8PPCmvXzXmqaPFJcN9+RHeIufU7CMn3NPr8hdPmQfDzw3D4Y0G5tbbWItWSW7eUzRIEVGwAVwGYcFf16VzXxsjeaDw5HDKYZH1EKkgGdhIGDjvivRNJ0ew0LTY7DSbZLa2jJKxqSeT1OTyT9ah1nw7pXiA2p1e1+0fZJRNB+8Zdj+vykZ/Gm9Wvl+ALRP5/iclb/DC4vNWtr3xd4mu9eS0cPDbPEIow3qRuOfwxmqWv2kF5+0JoCXMayKmnGRVYZG5TKQfwPNem1my+H9Mn8RQa7LbbtSt4jDFP5jDahzkbc7T949R3pdV5f5B0fn/mcN8bY3Ph7Sp5FZ7GHUUa6UDPy4Iyf1H40/4uaro9z8M3SG6t53uXiNksThixDDJUDttyPxr0O6tbe+tZLa8hjnglXa8UihlYehBrnNN+G3hHSdQS+sdFiS4Q7kZ5HkCn1AZiAffHFK11Z97/AJf5DvZ3RxviWC+0jXvAuqwKt7rKWwtTp0j7GmPl/MQx4Ujcck98dea3vD+g67qHxDn8W+ILGPSQtp9lhsluFmc+rMy8ev8Akc8/8QpLK58fQ23jwXFv4aitt9nNBCSGmON251Ut68D0U1maFpmkP8QNHm+GB1FrWJydSuXDiDy+PlywBJIzx9MVUXzO/m/lcmSsvkvnY6HwBaQSfFbxtdvGrTw3CpG5HKhi2cfXaKofEtbqP4q+G5/7TXSIGgZIb+SBZUhly2cq3y91GT0zntXpen+H9M0rUr/ULC28q61Bw91J5jN5hGcHBJA6npipNX0XTdesTZ6xZxXcBOdkg6H1B6g+45qdlHyKerl5nEL4Nv7jxho2p6744g1C5s3LW0AsYoXlXGWUFXyRgeh71T1Dw/feHbjVfEfgDxJaCB5HnvdPuWV4mdclgGH3TnjHB/2q63Rfh94X8O6gt9pGlJBdKCFkMskhXIwcbmOOKr3fwv8AB19fyXlzoqNPK5d2E8qhmJyTtDAfpT16eYvUxXNh8UPAOk3eq3Q0W/kmZrWRJACJkJUlASCw4zgHI9eM03QfEviTRvHtr4R8S3Vpq63UTSQ3sA2yKACRvUcfwnt36muu1TwhoGs6Tb6ZqGmQyWdt/qYUJjEfGONpBFR6D4J8O+GJ3n0TS47aZxtMhdpGx6AsSQPpT05m+gteW3U0dZ/5AV//ANe0n/oJrzv4aRXE/wAD7uGyz9okS6WLb13EHGPxr06aFLiCSGZd0cilGGcZBGDVLRNC07w7pq6fo1v9mtVYsI97PgnryxJqbfEu6sVf4fJ3OI+Euq6PbfDKNJrq2ga1eU3qyuFKkseWB9Vx+WK5Xw0j/wDCkfF8yKy2Us8rWykfw/KOPboPwNek6l8N/CWr6i99f6LE9w53OySPGGPqVVgCffHNbM+haZc6E+jSWca6c8flG3jzGu30G3GPwpy95Pu1YI+612TuY/w4tILP4daMtvGqCS2WV8D7zNySa6eq+n2FtpenwWNjH5VtboI4k3FtqjoMnJP41YqpO8myIqySPPfi/qE76HY+HNOI+265crAoJ/gBGc+2Sv4ZrlvFvhfx3b+D4Gvp9Fa00MJPALLzBKgQYyCVHQcnntXrF14c0q91+11q6tfM1CzUpBKZGwgOf4c7e55xV+4giuraW3uEEkUqFHQ9GUjBH5VGqWm/9WL0bV9v6ueS+MtYi1D/AIQHxgflsluVNw3aIkoSD9Cj/lVv4qXtrreoeF9G0y4iubmfUFlxC4fanTccduc/ga7q18I6FaeHX0KLT0OmOSTbSu0gyTngsSRzzweDUGh+BPDXhu8N1o2lR29wRjzWd5GUexcnH4VWl/K9/wCvmTrbztYd45/5EHXP+vCb/wBANZ/wr/5Jho3/AFzf/wBGNXT31lb6lp89lex+bb3EZjlTcRuUjBGRyPwqPStKs9E0uHTtMh8i1gBEce4ttBJPUknqTSWl/l+v+Y30+f6HAfEieTxJ4k0bwPZOQLqQXN+yn7sS8gfoT9QtdX4p8K6Z4j8Mf2Ret9mgjKGCRCB5LLwpGeO+Me9W7bw3pVp4gudbgtcaldIElnaR2LLxwASQOg6AdKn1fSLHXdLm07VYPPtJseZHvZd2CCOVIPUCl9m3z/r0H9q54z480a8j02z0O98Xz+ItTnnjis7FI1j8vnl5ApJY44Bb1J9a9P1HSfDWr6db+Gtbkt7k2qRsLU3JRxtXCthWDYxn2qbQvBHhzw1O0+i6VFbzEY80s0jgegZiSPwpuu+BfDfiW7F1rWlpcThQvmCR42IHQEqRn8afS3mLrc4TQWg8NfGC38PeEb57jR7m3aS7tfN81LdwGPB5weF/7657YqeAdD8PSeJfEtl4qgtpdQt7xzHDekFRGSSXVW4ycAk+mK9O0HwnofhlHXQ9NitDJw7jLOw9CzEnHtmoNe8D+HPE1ytxrWlx3E6jaJQ7RsR6EqQT+NHb0a/r8g7nIfCMRRa14sttIcvosV6v2TDFkB+bO09+AvPpilvz/wAJv8Y7ewX59L8Nr503915z0H4HA/4C1eg6VpFhomnpY6Tax2tsnSOMY59SepPuear6N4b0rw+bo6Ra+Q13J5s7GRnaRvUliT3P50+qfb8xdH5/1/XzOI+KmNP8SeD9bnytpZ3+2eQ9EBKkE/grflVf4qXtrreoeF9G0y4iubmfUFlxC4fanTccduc/ga9K1HTbPV7CWy1O2jubaUYeOQZB/wDr+9ZGh+BPDXhu8N1o2lR29wRjzWd5GUexcnH4Uo6WT6O/9fMb127WOgrgfjQrn4a3JQHas8RfHpu/xxXfVm+IdGh8Q+Hr3Srk7Uuoim7Gdp6hvwIB/Cple2hUXZ6nO+P/ABAmhfDOa4s2xJdQpbWuPV1xx9FyfwrjP+EC8ej4fnQPM0L+z/L8zyf3nnbs7+uzG7PHp+Fdl4f8KvqnhfS7Lxzpe670aTbbt9oykgXGyTCNzwAMMOx45rtaqSV5ef8ASIjdKK7HiGv6nN4p+AdhejdJcaVdRpdDuNgKZP1DKfxrofil4j0zUfhesdhdxXEupPCLeONwzN8wY8DnjGPrxXb6Z4V0XR4r6LT7BY4tQcvcxM7OkhOc/KxIAOegwKz9N+HPhLSdTXULDRYY7lG3I7O7hD6hWJAP0HFD9569Wn/mNe7a3S6/yNnRrV7Hw/YWkv8ArILWOJvqqAH+VcF8Dv8AkVtV/wCwpJ/6Alel1maH4d0vw3ay22i2v2aKaUzOvmM+XIAJyxPoKd7ycn1/zFa0Uu3+TOV+LGsTw6FbeH9LOdR1yYW0ag8hMjcfxyB9CfSt9PCmmR+Bh4auBmxW28l2ztPqXz2Ofm+tWp/DelXXiG31y4tfM1G2Ty4ZmkfCLz0XO3+I84zV+6tob2zmtblN8MyNHIuSNykYIyPapt7rXf8ApFX95PseN+LNCbwv4Nm0+/8AG899Z+WUsdJSNUeRjwgLAlmQZzjAHA9hXb6Fpel6f8PdL8M+JZYI2ubTbJbTT+W0hJ3Mo5B4LdquaR8OvCeh3y3mm6NFHcIcpJI7ylD6jeTg+4q/r/hXRPFEUSa7YJdiEnyyWZWXPXDKQewp9LdxdfQ8x12y07wH400JPAd08Nxe3Ihu9OS4MqOmQMsCSQeT1/DGKmj0jR5fjtrMHiqOJ47mJJ7KK5bEUrbVHQ8MR8wAPvXf6H4E8M+HLr7To+kxQT4wJWZpGX6FySPwqzr3hTRPE8Uceu6fHdiP7jElWX2DKQce2aNrP1/EN7r0/A4HwjDY2Pxt1i08LlBpf2ENcRwNmJZcrwO3BJ4HTJFW/iRPJ4k8SaN4HsnIF1ILm/ZT92JeQP0J+oWu20Lw3pHhq1a30OxjtI3OX25LOfdiST+JotvDelWniC51uC1xqV0gSWdpHYsvHABJA6DoB0o/lT6f8OHd9/8AhjjvjLpxPw4jNnFiLT7mKQoo4VACn5DcKrfFLxHpmo/C9Y7C7iuJdSeEW8cbhmb5gx4HPGMfXivS5oYrmB4biNJYpFKvG6gqwPUEHqK5vTfhz4S0nU11Cw0WGO5RtyOzu4Q+oViQD9BxStfR97j2s100OcNs+lfEnwpDet5e7RGs4XPQTKOR9cVjaZb61p/gLUPBkfhfUjrF00qSXvlAW0u9v9YZif7vH4AV6b4i8Naf4n05bTUlkBjcSQzwtskhcdGVuxrBXwn4wiUQweP5hAvCiXS4nkx7uTkn3pv3r363/O/6iWlreX4Kxi+GbTU9a17wu0+j32mWvhuxaOV72Hy/OmaMR4Qd14zmm+D54bX4zeMUuZY4mcKyh2AyBgk/kRXoul2UmnaZDazXk99JGDuuLggvISScnH1/LFZGt+AfDPiLUBfaxpUdxc4CmQSOhYDpnawz+NO9pX9fxFb3ben4Hnmtx34+PE/la8mhSXNkgs7uW2SZXXaoKAOQBkhufbHeuk0rwfe23jg6zqHi+HVdUWzeMQLaRwOyYwCQrdASOcenNdXrXhbRPENnHbazp0V1HEMR7shk+jAgjoOhqDQPBXh7wvPJNoWmpayyrsd/Md2K5zjLE4HFTbS3r+N/8x31v6fgcT8FdQ06z8L39pd3ENvqMd67XKTOFfGAATntwR9c16Dc+I9Gs4rSW51S1jjvW2WzmUbZT/snofrWXq/w68Ka7qDXup6PFJcvy8iSPHvPqdjAE+5q3d+DfD99a6dbXWmxvDphBtE3MBF09DyOBwc5qr3tfyFte3mcfrcMc37Q+geaobZprOuR0I83BpPENvFJ+0F4bLxqx+wu3I7qJSD+Fd1L4f0yfxFBrsttu1K3iMMU/mMNqHORtztP3j1Heifw/plz4gttbntt2o2sZjhm8xhtU5yNoOD949R3pR05fK/43/zG9ebzt+hxHiRFHx88KuBhmtJQT64WT/Gsb4rxHXfF1lpvhaGWTX7a2ke5mgfbshKn5GPqcn/vrH8VeoXPh/TLzXrTWri236hZoUgm8xhsByCNoOD1PUUzS/DWk6NqF7fadaeXdXzbriZpHkZzknqxOBz0GBStdJeo7+82vIxPhbe6VdeAbKPR4/I+zjyrmFjllmH3i3rk8/Q1l/Dz5viB46eL/U/bUX/gQL7v1rpv7AstAbVdW8O6WX1O8Qu8STlVnk6jIZtg5PXjqfWqfw98M3Hhvw6w1MhtTvpmurxgc4dv4cjrgfrmqveTl5f5f5E2tHl8/wAjqqKKKQwooooAKKKKACiiigAooooAKKKKACiiigAooooAKKKKACiiigAooooAKKKKACiiigAooooAKKKKACiiigAooooAKKKKACiiigAooooAKKKKACiiigAooooAKKKKACiiigAooooAKKKKACiiigAooooAKKKKACiiigAooooAKKKKACiiigAooooAKKKKACiiigAooooAKKKKACiiigAooooAKKKKACiiigAooooAKKKKACiiigAooooAKKKKACiiigAooooAKKKKACiiigAooooAKKKKACiiigAooooAKKKKACiiigAooooAKKKKACiiigAooooAKKKKACiiigAooooAKKKKACiiigAooooAKKKKACiiigAooooAKKKKACiiigAooooAKKKKAK9t/wAfN3/11H/oC1Yqvbf8fN3/ANdR/wCgLVigCG6/1Q/3qqVbuv8AVD/eqpQAUUUUAaNV7X/XXf8A12H/AKAtWKr2v+uu/wDrsP8A0BaALFFFFABRRRQAUUUUAFFFFABRRRQAUUUUAFFFFABRRRQAUUUUAFFFFABRRRQAUUUUAFFFFABRRRQAUUUUAFFFFABRRRQAUUUUAFFFFABRRRQAUUUUAFFFFABRRRQAUUUUAFFFFABRRRQAUUUUAFFFFABRRRQAUUUUAFFFFABRRRQAUUUUAFFFFABRRRQAUUUUAFFFFABRRRQAUUUUAFFFFABRRRQAUUUUAFFFFABRRRQAUUUUAFFFFABRRRQAUUUUAFFFFABRRRQAUUUUAFFFFABRRRQAUUUUAFFFFABRRRQAUUUUAFFFFABRRRQAUUUUAFFFFABRRRQAUUUUAFFFFABRRRQAUUUUAFFFFABRRRQAUUUUAFFFFABRRRQAUUUUAFFFFABRRRQAUUUUAFFFFABRRRQAUUUUAFFFFABRRRQAUUUUAFFFFABRRRQAUUUUAFFFFABRRRQAUUUUAFFFFABRRRQAUUUUAFFFFABRRRQAUUUUAFFFFABRRRQAUUUUAFFFFABRRRQAUUUUAFFFFABRRRQAUUUUAFFFFABRRRQAUUUUAFFFFABRRRQAUUUUAFFFFABRRRQAUUUUAFFFFABRRRQAUUUUAFFFFABRRRQBXtv+Pm7/AOuo/wDQFqxVe2/4+bv/AK6j/wBAWrFAEN1/qh/vVUq3df6of71VKACiiigDRqva/wCuu/8ArsP/AEBasVXtf9dd/wDXYf8AoC0AWKKKKACiiigAooooAKKKKACiiigAooooAiubmGztZLi5fy4olLOxGcD6Dr9KzYvElpL4fTVlguQkkphjt2jAmeTzDGE2k8EsO5GOpxg4165b+xr5PDUCCDddWmpverBvXMq/aHfAJOASjZGSOcAkdQAX/wDhJoBauz2V2l2twLb7AQnnGQruAGG2YK/NndjAPOQRUc3iy2h083BsrxpkleKW0VU82Iopds5bbgLg5DHORjOazpNM1Ka/Ou/2fIsyX8c62DSx+Y0SwvEedxQNmRmA3YwByD0W40G71DTdTvJobm1vbq5eeG3hmjDqpgWDYzHcg3KuSRnGeDkCgDorPU7e/uZYrTdIsKIzSgDZlxuC+u7aVYjHRl9auVxmk+Fp9I8QWhS280RMJH1AsvKGF1aHrv5lYOBjbjHOQBWrq9jaah4n02K/tYbqNbO5YJNGHAO+AZwe/JoA3qKxf+EZ0H/oCad/4CR/4Uf8IzoP/QE07/wEj/wpgbVFYv8AwjOg/wDQE07/AMBI/wDCj/hGdB/6Amnf+Akf+FAG1RWL/wAIzoP/AEBNO/8AASP/AAo/4RnQf+gJp3/gJH/hQBtUVi/8IzoP/QE07/wEj/wo/wCEZ0H/AKAmnf8AgJH/AIUAbVFYv/CM6D/0BNO/8BI/8KP+EZ0H/oCad/4CR/4UAbVFYv8AwjOg/wDQE07/AMBI/wDCszxH4e0WDwvqksGkWEckdpKyOlsgKkIcEEDg0norlRXNJR7nW0V8uUVy/WV2Pc/sWp/Oj6jor5coo+srsH9i1P50fUdFfLlFH1ldg/sWp/Oj6jor5coo+srsH9i1P50fUdFfLlFH1ldg/sWp/Oj6jor5coo+srsH9i1P50fUdFfLlFH1ldg/sWp/Oj6jor5coo+srsH9i1P50fUdFcX4P0DR7nwfps1zpNjNK8ILSSWyMzHJ6kjmtr/hGdB/6Amnf+Akf+FdS1Vzw6keSbj2NqisX/hGdB/6Amnf+Akf+FH/AAjOg/8AQE07/wABI/8ACmSbVFeA/EC1t7LxreQWcEVvCqx7Y4kCqMopPArmq5ZYhRdrHtUsonUpxmpLVXPqOivlyil9ZXY0/sWp/Oj6jor5coo+srsH9i1P50fUdFfLlFH1ldg/sWp/Oj6jor5coo+srsH9i1P50fUdFfLlFH1ldg/sWp/Oj6jor5coo+srsH9i1P50fUdFfLlFH1ldg/sWp/Oj6jorxT4W2FnqGuXkd/aQXSLbblWeMOAdw5wa9R/4RnQf+gJp3/gJH/hW8Jc8bnlYqg8PUdNu5tUVi/8ACM6D/wBATTv/AAEj/wAKP+EZ0H/oCad/4CR/4VocxtUV5x8SdG0uw8JGax02ztpftCDfDAqNjnjIFeR1hUrKDtY9TC5dPE0/aKVj6jor5corP6yux1f2LU/nR9R0V8uUUfWV2D+xan86PqOivlyij6yuwf2LU/nR9R0V8uUUfWV2D+xan86PqOivlyij6yuwf2LU/nR9R0V8uUUfWV2D+xan86PqOivlyij6yuwf2LU/nR9R0V8ur94fWvoj/hGdB/6Amnf+Akf+Fa06iqXscGMwUsJy8zve/wCBtUVi/wDCM6D/ANATTv8AwEj/AMKP+EZ0H/oCad/4CR/4VscBtUVi/wDCM6D/ANATTv8AwEj/AMKP+EZ0H/oCad/4CR/4UAbVFYv/AAjOg/8AQE07/wABI/8ACj/hGdB/6Amnf+Akf+FAG1RWL/wjOg/9ATTv/ASP/Cj/AIRnQf8AoCad/wCAkf8AhQBtUVi/8IzoP/QE07/wEj/wo/4RnQf+gJp3/gJH/hQBtUVi/wDCM6D/ANATTv8AwEj/AMKP+EZ0H/oCad/4CR/4UAbVFYv/AAjOg/8AQE07/wABI/8ACj/hGdB/6Amnf+Akf+FAG1RWL/wjOg/9ATTv/ASP/Cj/AIRnQf8AoCad/wCAkf8AhQBtUVi/8IzoP/QE07/wEj/wo/4RnQf+gJp3/gJH/hQBtUVi/wDCM6D/ANATTv8AwEj/AMKP+EZ0H/oCad/4CR/4UAbVFYv/AAjOg/8AQE07/wABI/8ACj/hGdB/6Amnf+Akf+FAG1RWL/wjOg/9ATTv/ASP/Cj/AIRnQf8AoCad/wCAkf8AhQBtUVi/8IzoP/QE07/wEj/wo/4RnQf+gJp3/gJH/hQBtUVi/wDCM6D/ANATTv8AwEj/AMKP+EZ0H/oCad/4CR/4UAbVFYv/AAjOg/8AQE07/wABI/8ACj/hGdB/6Amnf+Akf+FAG1RWL/wjOg/9ATTv/ASP/Cj/AIRnQf8AoCad/wCAkf8AhQBtUVi/8IzoP/QE07/wEj/wo/4RnQf+gJp3/gJH/hQBtUVi/wDCM6D/ANATTv8AwEj/AMKP+EZ0H/oCad/4CR/4UAbVFYv/AAjOg/8AQE07/wABI/8ACj/hGdB/6Amnf+Akf+FAG1RWL/wjOg/9ATTv/ASP/Cj/AIRnQf8AoCad/wCAkf8AhQBtUVi/8IzoP/QE07/wEj/wo/4RnQf+gJp3/gJH/hQBtUVi/wDCM6D/ANATTv8AwEj/AMKP+EZ0H/oCad/4CR/4UAbVFYv/AAjOg/8AQE07/wABI/8ACj/hGdB/6Amnf+Akf+FAG1RWL/wjOg/9ATTv/ASP/Cj/AIRnQf8AoCad/wCAkf8AhQBtUVi/8IzoP/QE07/wEj/wo/4RnQf+gJp3/gJH/hQBtUVi/wDCM6D/ANATTv8AwEj/AMKP+EZ0H/oCad/4CR/4UAbVFYv/AAjOg/8AQE07/wABI/8ACj/hGdB/6Amnf+Akf+FAG1RWL/wjOg/9ATTv/ASP/Cj/AIRnQf8AoCad/wCAkf8AhQBtUVi/8IzoP/QE07/wEj/wo/4RnQf+gJp3/gJH/hQBtUVi/wDCM6D/ANATTv8AwEj/AMKP+EZ0H/oCad/4CR/4UAbVFYv/AAjOg/8AQE07/wABI/8ACj/hGdB/6Amnf+Akf+FAG1RWL/wjOg/9ATTv/ASP/Cj/AIRnQf8AoCad/wCAkf8AhQBtUVi/8IzoP/QE07/wEj/wo/4RnQf+gJp3/gJH/hQBtUVi/wDCM6D/ANATTv8AwEj/AMKP+EZ0H/oCad/4CR/4UAbVFYv/AAjOg/8AQE07/wABI/8ACj/hGdB/6Amnf+Akf+FAG1RWL/wjOg/9ATTv/ASP/Cj/AIRnQf8AoCad/wCAkf8AhQBtUVi/8IzoP/QE07/wEj/wo/4RnQf+gJp3/gJH/hQBtUVi/wDCM6D/ANATTv8AwEj/AMKP+EZ0H/oCad/4CR/4UAbVFYv/AAjOg/8AQE07/wABI/8ACj/hGdB/6Amnf+Akf+FAG1RWL/wjOg/9ATTv/ASP/Cj/AIRnQf8AoCad/wCAkf8AhQBtUVi/8IzoP/QE07/wEj/wo/4RnQf+gJp3/gJH/hQBtUVi/wDCM6D/ANATTv8AwEj/AMKP+EZ0H/oCad/4CR/4UAbVFYv/AAjOg/8AQE07/wABI/8ACj/hGdB/6Amnf+Akf+FAG1RWL/wjOg/9ATTv/ASP/Cj/AIRnQf8AoCad/wCAkf8AhQBtUVi/8IzoP/QE07/wEj/wo/4RnQf+gJp3/gJH/hQBtUVi/wDCM6D/ANATTv8AwEj/AMKP+EZ0H/oCad/4CR/4UAbVFYv/AAjOg/8AQE07/wABI/8ACj/hGdB/6Amnf+Akf+FAG1RWL/wjOg/9ATTv/ASP/Cj/AIRnQf8AoCad/wCAkf8AhQBtUVi/8IzoP/QE07/wEj/wo/4RnQf+gJp3/gJH/hQBtUVi/wDCM6D/ANATTv8AwEj/AMKP+EZ0H/oCad/4CR/4UAbVFYv/AAjOg/8AQE07/wABI/8ACj/hGdB/6Amnf+Akf+FAG1RWL/wjOg/9ATTv/ASP/Cj/AIRnQf8AoCad/wCAkf8AhQBtUVi/8IzoP/QE07/wEj/wo/4RnQf+gJp3/gJH/hQBtUVi/wDCM6D/ANATTv8AwEj/AMKP+EZ0H/oCad/4CR/4UAbVFYv/AAjOg/8AQE07/wABI/8ACj/hGdB/6Amnf+Akf+FAG1RWL/wjOg/9ATTv/ASP/Cj/AIRnQf8AoCad/wCAkf8AhQBtUVi/8IzoP/QE07/wEj/wo/4RnQf+gJp3/gJH/hQBtUVi/wDCM6D/ANATTv8AwEj/AMKP+EZ0H/oCad/4CR/4UAbVFYv/AAjOg/8AQE07/wABI/8ACj/hGdB/6Amnf+Akf+FAG1RWL/wjOg/9ATTv/ASP/Cj/AIRnQf8AoCad/wCAkf8AhQBtUVi/8IzoP/QE07/wEj/wo/4RnQf+gJp3/gJH/hQBtUVi/wDCM6D/ANATTv8AwEj/AMKP+EZ0H/oCad/4CR/4UAbVFYv/AAjOg/8AQE07/wABI/8ACj/hGdB/6Amnf+Akf+FAG1RWL/wjOg/9ATTv/ASP/Cj/AIRnQf8AoCad/wCAkf8AhQBtUVi/8IzoP/QE07/wEj/wo/4RnQf+gJp3/gJH/hQBtUVi/wDCM6D/ANATTv8AwEj/AMKP+EZ0H/oCad/4CR/4UAbVFYv/AAjOg/8AQE07/wABI/8ACj/hGdB/6Amnf+Akf+FAG1RWL/wjOg/9ATTv/ASP/Cj/AIRnQf8AoCad/wCAkf8AhQBtUVi/8IzoP/QE07/wEj/wo/4RnQf+gJp3/gJH/hQBtUVy+raHpNnbW09ppdlBMl9abZIrdFZc3EYOCBnoa6ikAUUUUAFFFFAFe2/4+bv/AK6j/wBAWrFV7b/j5u/+uo/9AWrFAEN1/qh/vVUq3df6of71VKACiiigDRqva/667/67D/0BasVXtf8AXXf/AF2H/oC0AWKKKKACiiigAooooAKKKKACiiigAooooAKKKKACiiigArIvP+Rt0/8A68br/wBGQVr1kXn/ACNun/8AXjdf+jIKANCiiimIKKKKACiiigAooooAKKKKACsrxR/yKOr/APXlN/6Aa1ayvFH/ACKOr/8AXlN/6AaUtma0f4kfVHzxRRRXkH6CFFFFABRRRQAUUUUAFFFFABRRRQAUUUUAFFFFAHv/AIJ/5EnS/wDrgP5mt2sLwT/yJOl/9cB/M1u160PhR+f4j+NP1f5hRRRVGJ4b8Sv+R8vf92L/ANFrXK11XxK/5Hy9/wB2L/0WtcrXlVPjZ95hP93p+i/IKKKKg6gooooAKKKKACiiigAooooAKKKKACiiigD0D4Q/8jDff9ev/s6165Xkfwh/5GG+/wCvX/2da9cr0cP8B8bm3+9P0QUUUVueWcZ8VP8AkSz/ANfKf1rxavafip/yJZ/6+U/rXi1efiPjPrsn/wB2+bCiiiuc9gKKKKACiiigAooooAKKKKACiiigAooooAVfvD619N18yL94fWvpuuzC9T5zPP8Al38/0Ciiiuw+cCiiigAooooAKKKKACiiigAooooAKKKKACiiigAooooAKKKKACiiigAooooAKKKKACiiigAooooAKKKKACiiigAooooAKKKKACiiigAooooAKKKKACiiigAooooAKKKKACiiigAooooAKKKKACiiigAooooAKKKKACiiigAooooAKKKKACiiigAooooAKKKKACiiigAooooAKKKKACiiigAooooAKKKKACiiigAooooAKKKKACiiigAooooAKKKKACiiigAooooAKKKKACiiigAooooAKKKKACiiigAooooAKKKKACiiigAooooAKKKKACiiigAooooAKKKKACiiigAooooAKKKKACiiigAooooAzdf/AOQfD/1/Wn/pTHWzWNr/APyD4f8Ar+tP/SmOtmkMKKKKACiiigCvbf8AHzd/9dR/6AtWKr23/Hzd/wDXUf8AoC1YoAhuv9UP96qlW7r/AFQ/3qqUAFFFFAGjVe1/113/ANdh/wCgLViq9r/rrv8A67D/ANAWgCxRRRQAUUUUAFFFFABRRRQAUUUUAFFFFABRRRQAUUUUAFZF5/yNun/9eN1/6MgrXrIvP+Rt0/8A68br/wBGQUAaFFFFMQUUUUAFFFFABRRRQAUUUUAFZXij/kUdX/68pv8A0A1q1leKP+RR1f8A68pv/QDSlszWj/Ej6o+eKKKK8g/QQooooAKKKKACiiigAooooAKKKKACiiigAooooA9/8E/8iTpf/XAfzNbtYXgn/kSdL/64D+Zrdr1ofCj8/wAR/Gn6v8woooqjE8N+JX/I+Xv+7F/6LWuVrqviV/yPl7/uxf8Aota5WvKqfGz7zCf7vT9F+QUUUVB1BRRRQAUUUUAFFFFABRRRQAUUUUAFFFFAHoHwh/5GG+/69f8A2da9cryP4Q/8jDff9ev/ALOteuV6OH+A+Nzb/en6IKKKK3PLOM+Kn/Iln/r5T+teLV7T8VP+RLP/AF8p/WvFq8/EfGfXZP8A7t82FFFFc57AUUUUAFFFFABRRRQAUUUUAFFFFABRRRQAq/eH1r6br5kX7w+tfTddmF6nzmef8u/n+gUUUV2HzgUUUUAFFFFABRRRQAUUUUAFFFFABRRRQAUUUUAFFFFABRRRQAUUUUAFFFFABRRRQAUUUUAFFFFABRRRQAUUUUAFFFFABRRRQAUUUUAFFFFABRRRQAUUUUAFFFFABRRRQAUUUUAFFFFABRRRQAUUUUAFFFFABRRRQAUUUUAFFFFABRRRQAUUUUAFFFFABRRRQAUUUUAFFFFABRRRQAUUUUAFFFFABRRRQAUUUUAFFFFABRRRQAUUUUAFFFFABRRRQAUUUUAFFFFABRRRQAUUUUAFFFFABRRRQAUUUUAFFFFABRRRQAUUUUAFFFFABRRRQAUUUUAFFFFABRRRQAUUUUAFFFFABRRRQAUUUUAFFFFAGbr/APyD4f8Ar+tP/SmOtmsbX/8AkHw/9f1p/wClMdbNIYUUUUAFFFFAFe2/4+bv/rqP/QFqxVe2/wCPm7/66j/0BasUAQ3X+qH+9VSrd1/qh/vVUoAKKKKANGq9r/rrv/rsP/QFqxVe1/113/12H/oC0AWKKKKACiiigAooooAKKKKACiiigAooooAKKKKACiiigArIvP8AkbdP/wCvG6/9GQVr1kXn/I26f/143X/oyCgDQooopiCiiigAooooAKKKKACiiigArK8Uf8ijq/8A15Tf+gGtWsrxR/yKOr/9eU3/AKAaUtma0f4kfVHzxRRRXkH6CFFFFABRRRQAUUUUAFFFFABRRRQAUUUUAFFFFAHv/gn/AJEnS/8ArgP5mt2sLwT/AMiTpf8A1wH8zW7XrQ+FH5/iP40/V/mFFFFUYnhvxK/5Hy9/3Yv/AEWtcrXVfEr/AJHy9/3Yv/Ra1yteVU+Nn3mE/wB3p+i/IKKKKg6gooooAKKKKACiiigAooooAKKKKACiiigD0D4Q/wDIw33/AF6/+zrXrleR/CH/AJGG+/69f/Z1r1yvRw/wHxubf70/RBRRRW55ZxnxU/5Es/8AXyn9a8Wr2n4qf8iWf+vlP614tXn4j4z67J/92+bCiiiuc9gKKKKACiiigAooooAKKKKACiiigAooooAVfvD619N18yL94fWvpuuzC9T5zPP+Xfz/AECiiiuw+cCiiigAooooAKKKKACiiigAooooAKKKKACiiigAooooAKKKKACiiigAooooAKKKKACiiigAooooAKKKKACiiigAooooAKKKKACiiigAooooAKKKKACiiigAooooAKKKKACiiigAooooAKKKKACiiigAooooAKKKKACiiigAooooAKKKKACiiigAooooAKKKKACiiigAooooAKKKKACiiigAooooAKKKKACiiigAooooAKKKKACiiigAooooAKKKKACiiigAooooAKKKKACiiigAooooAKKKKACiiigAooooAKKKKACiiigAooooAKKKKACiiigAooooAKKKKACiiigAooooAKKKKACiiigAooooAzdf/wCQfD/1/Wn/AKUx1s1ja/8A8g+H/r+tP/SmOtmkMKKKKACiiigCvbf8fN3/ANdR/wCgLViq9t/x83f/AF1H/oC1YoAhuv8AVD/eqpVu6/1Q/wB6qlABRRRQBo1Xtf8AXXf/AF2H/oC1Yqva/wCuu/8ArsP/AEBaALFFFFABRRRQAUUUUAFFFFABRRRQAUUUUAFFFFABRRRQAVkXn/I26f8A9eN1/wCjIK16yLz/AJG3T/8Arxuv/RkFAGhRRRTEFFFFABRRRQAUUUUAFFFFABWV4o/5FHV/+vKb/wBANatZXij/AJFHV/8Arym/9ANKWzNaP8SPqj54oooryD9BCiiigAooooAKKKKACiiigAooooAKKKKACiiigD3/AME/8iTpf/XAfzNbtYXgn/kSdL/64D+Zrdr1ofCj8/xH8afq/wAwoooqjE8N+JX/ACPl7/uxf+i1rla6r4lf8j5e/wC7F/6LWuVryqnxs+8wn+70/RfkFFFFQdQUUUUAFFFFABRRRQAUUUUAFFFFABRRRQB6B8If+Rhvv+vX/wBnWvXK8j+EP/Iw33/Xr/7OteuV6OH+A+Nzb/en6IKKKK3PLOM+Kn/Iln/r5T+teLV7T8VP+RLP/Xyn9a8Wrz8R8Z9dk/8Au3zYUUUVznsBRRRQAUUUUAFFFFABRRRQAUUUUAFFFFACr94fWvpuvmRfvD619N12YXqfOZ5/y7+f6BRRRXYfOBRRXPy+O/DUEzxS6oivGxVh5b8EcHtSckty4U51PgTfodBRXOf8LA8L/wDQWT/v0/8A8TR/wsDwv/0Fk/79P/8AE1PPDua/Va/8j+5nR0Vzn/CwPC//AEFk/wC/T/8AxNH/AAsDwv8A9BZP+/T/APxNHPDuH1Wv/I/uZ0dFc5/wsDwv/wBBZP8Av0//AMTR/wALA8L/APQWT/v0/wD8TRzw7h9Vr/yP7mdHRXOf8LA8L/8AQWT/AL9P/wDE0f8ACwPC/wD0Fk/79P8A/E0c8O4fVa/8j+5nR0Vzn/CwPC//AEFk/wC/T/8AxNH/AAsDwv8A9BZP+/T/APxNHPDuH1Wv/I/uZ0dFc5/wsDwv/wBBZP8Av0//AMTR/wALA8L/APQWT/v0/wD8TRzw7h9Vr/yP7mdHRXOf8LA8L/8AQWT/AL9P/wDE0f8ACwPC/wD0Fk/79P8A/E0c8O4fVa/8j+5nR0Vzn/CwPC//AEFk/wC/T/8AxNaulazp+t2zz6XcrcRI+xmCkYOAccgeopqUXsyJUKsFeUWl6F6iiiqMgooooAKKKKACiiigAooooAKKKKACiiigAooooAKKKKACiiigAooooAKKKKACiiigAooooAKKKKACiiigAooooAKKKKACiiigAooooAKKKKACiiigAooooAKKKKACiiigAooooAKKKKACiiigAooooAKKKKACiiigAooooAKKKKACiiigAooooAKKKKACiiigAooooAKKKKACiiigAooooAKKKKACiiigAooooAKKKKACiiigAooooAKKKKACiiigAooooAKKKKACiiigAooooAKKKKACiiigAooooAKKKKACiiigAooooAzdf/5B8P8A1/Wn/pTHWzWNr/8AyD4f+v60/wDSmOtmkMKKKKACiiigCvbf8fN3/wBdR/6AtWKr23/Hzd/9dR/6AtWKAIbr/VD/AHqqVbuv9UP96qlABRRRQBo1Xtf9dd/9dh/6AtWKr2v+uu/+uw/9AWgCxRRRQAUUUUAFFFFABRRRQAUUUUAFFFFABRRRQAUUUUAFZF5/yNun/wDXjdf+jIK16yLz/kbdP/68br/0ZBQBoUUUUxBRRRQAUUUUAFFFFABRRRQAVleKP+RR1f8A68pv/QDWrWV4o/5FHV/+vKb/ANANKWzNaP8AEj6o+eKKKK8g/QQooooAKKKKACiiigAooooAKKKKACiiigAooooA9/8ABP8AyJOl/wDXAfzNbtYXgn/kSdL/AOuA/ma3a9aHwo/P8R/Gn6v8woooqjE8N+JX/I+Xv+7F/wCi1rla6r4lf8j5e/7sX/ota5WvKqfGz7zCf7vT9F+QUUUVB1BRRRQAUUUUAFFFFABRRRQAUUUUAFFFFAHoHwh/5GG+/wCvX/2da9cryP4Q/wDIw33/AF6/+zrXrlejh/gPjc2/3p+iCiiitzyzjPip/wAiWf8Ar5T+teLV7T8VP+RLP/Xyn9a8Wrz8R8Z9dk/+7fNhRRRXOewFFFFABRRRQAUUUUAFFFFABRRRQAUUUUAKv3h9a+m6+ZF+8PrX03XZhep85nn/AC7+f6BRRRXYfOBXzdq3/Iavv+viT/0I19I183at/wAhq+/6+JP/AEI1yYnZH0GSfFP5FSiiiuI+mCiiigAooooAKKKKACiiigAooooAKKKKACvXvhF/yLV5/wBfZ/8AQFryGvXvhF/yLV5/19n/ANAWt8P8Z5Wbf7q/VHfUUUV6J8cFFFFABRRRQAUUUUAFFFFABRRRQAUUUUAFFFFABRRRQAUUUUAFFFFABRRRQAUUUUAFFFFABRSO2yNm67QTXmf/AAuMf9AM/wDgX/8AYVEpxh8R00MLWxF/ZK9vQ9NorzL/AIXGP+gGf/Av/wCwo/4XGP8AoBn/AMC//sKj29PudH9mYv8Ak/Ff5nptFeZf8LjH/QDP/gX/APYUf8LjH/QDP/gX/wDYUe3p9w/szF/yfiv8z02ivMv+Fxj/AKAZ/wDAv/7Cj/hcY/6AZ/8AAv8A+wo9vT7h/ZmL/k/Ff5nptFeZf8LjH/QDP/gX/wDYUf8AC4x/0Az/AOBf/wBhR7en3D+zMX/J+K/zPTaK8y/4XGP+gGf/AAL/APsKP+Fxj/oBn/wL/wDsKPb0+4f2Zi/5PxX+Z6bRXmX/AAuMf9AM/wDgX/8AYUf8LjH/AEAz/wCBf/2FHt6fcP7Mxf8AJ+K/zPTaK8y/4XGP+gGf/Av/AOwo/wCFxj/oBn/wL/8AsKPb0+4f2Zi/5PxX+Z6bRXmX/C4x/wBAM/8AgX/9hXbeGNe/4STQ01H7P9m3uy+Xv34wcdcCqjUhJ2TMa2Cr0I89SNl6o16KKK0OQKKKKACiiigAooooAKKKKACiiigAooooAKKKKACiiigAooooAKKKKACiiigAooooAKKKKACiiigAooooAKKKKACiiigAooooAKKKKACiiigAooooAKKKKACiiigAooooAKKKKACiiigAooooAKKKKACiiigAooooAKKKKACiiigAooooAKKKKACiiigDN1//AJB8P/X9af8ApTHWzWNr/wDyD4f+v60/9KY62aQwooooAKKKKAK9t/x83f8A11H/AKAtWKr23/Hzd/8AXUf+gLVigCG6/wBUP96qlW7r/VD/AHqqUAFFFFAGjVe1/wBdd/8AXYf+gLViq9r/AK67/wCuw/8AQFoAsUUUUAFFFFABRRRQAUUUUAFFFFABRRRQAUUUUAFFFFABWRef8jbp/wD143X/AKMgrXrIvP8AkbdP/wCvG6/9GQUAaFFFFMQUUUUAFFFFABRRRQAUUUUAFZXij/kUdX/68pv/AEA1q1leKP8AkUdX/wCvKb/0A0pbM1o/xI+qPniiiivIP0EKKKKACiiigAooooAKKKKACiiigAooooAKKKKAPf8AwT/yJOl/9cB/M1u1heCf+RJ0v/rgP5mt2vWh8KPz/Efxp+r/ADCiiiqMTw34lf8AI+Xv+7F/6LWuVrqviV/yPl7/ALsX/ota5WvKqfGz7zCf7vT9F+QUUUVB1BRRRQAUUUUAFFFFABRRRQAUUUUAFFFFAHoHwh/5GG+/69f/AGda9cryP4Q/8jDff9ev/s6165Xo4f4D43Nv96fogooorc8s4z4qf8iWf+vlP614tXtPxU/5Es/9fKf1rxavPxHxn12T/wC7fNhRRRXOewFFFFABRRRQAUUUUAFFFFABRRRQAUUUUAKv3h9a+m6+ZF+8PrX03XZhep85nn/Lv5/oFFFFdh84FfN2rf8AIavv+viT/wBCNfSNfN2rf8hq+/6+JP8A0I1yYnZH0GSfFP5FSiiiuI+mCiiigAooooAKKKKACiiigAooooAKKKKACvXvhF/yLV5/19n/ANAWvIa9e+EX/ItXn/X2f/QFrfD/ABnlZt/ur9Ud9RRRXonxwUUUUAFFFFABRRRQAUUUUAFFFFABRRRQAUUUUAFFFFABRRRQAUUUUAFFFFABRRRQAUUUUAMm/wCPeT/dP8q+Zq+mZv8Aj3k/3T/KvmauPFdD6PI9qny/UKKKK4z6MKKKKACiiigAooooAKKKKACiiigAooooAK9t+GH/ACI8H/XaT/0KvEq9t+GH/Ijwf9dpP/Qq6cP8Z42cf7svVfqdfRRRXefJBRRRQAUUUUAFFFFABRRRQAUUUUAFFFFABRRRQAUUUUAFFFFABRRRQAUUUUAFFFFABRRRQAUUUUAFFFFABRRRQAUUUUAFFFFABRRRQAUUUUAFFFFABRRRQAUUUUAFFFFABRRRQAUUUUAFFFFABRRRQAUUUUAFFFFABRRRQAUUUUAFFFFABRRRQAUUUUAZuv8A/IPh/wCv60/9KY62axtf/wCQfD/1/Wn/AKUx1s0hhRRRQAUUUUAV7b/j5u/+uo/9AWrFV7b/AI+bv/rqP/QFqxQBDdf6of71VKt3X+qH+9VSgAooooA0ar2v+uu/+uw/9AWrFV7X/XXf/XYf+gLQBYooooAKKKKACiiigAooooAKKKKACiiigAooooAKKKKACsi8/wCRt0//AK8br/0ZBWvWRef8jbp//Xjdf+jIKANCiiimIKKKKACiiigAooooAKKKKACsrxR/yKOr/wDXlN/6Aa1ayvFH/Io6v/15Tf8AoBpS2ZrR/iR9UfPFFFFeQfoIUUUUAFFFFABRRRQAUUUUAFFFFABRRRQAUUUUAe/+Cf8AkSdL/wCuA/ma3awvBP8AyJOl/wDXAfzNbtetD4Ufn+I/jT9X+YUUUVRieG/Er/kfL3/di/8ARa1ytdV8Sv8AkfL3/di/9FrXK15VT42feYT/AHen6L8goooqDqCiiigAooooAKKKKACiiigAooooAKKKKAPQPhD/AMjDff8AXr/7OteuV5H8If8AkYb7/r1/9nWvXK9HD/AfG5t/vT9EFFFFbnlnGfFT/kSz/wBfKf1rxavafip/yJZ/6+U/rXi1efiPjPrsn/3b5sKKKK5z2AooooAKKKKACiiigAooooAKKKKACiiigBV+8PrX03XzIv3h9a+m67ML1PnM8/5d/P8AQKKKK7D5wK+btW/5DV9/18Sf+hGvpGvm7Vv+Q1ff9fEn/oRrkxOyPoMk+KfyKlFFFcR9MFFFFABRRRQAUUUUAFFFFABRRRQAUUUUAFevfCL/AJFq8/6+z/6AteQ1698Iv+RavP8Ar7P/AKAtb4f4zys2/wB1fqjvqKKK9E+OCiiigAooooAKKKKACiiigAooooAKKKKACiiigAooooAKKKKACiiigAooooAKKKKACiiigBk3/HvJ/un+VfM1fTM3/HvJ/un+VfM1ceK6H0eR7VPl+oUUUVxn0YUUUUAFFFFABRRRQAUUUUAFFFFABRRRQAV7b8MP+RHg/wCu0n/oVeJV7b8MP+RHg/67Sf8AoVdOH+M8bOP92Xqv1OvooorvPkgooooAKKKKACiiigAooooAKKKKACiiigAooooAKKKKACiiigAooooAKKKKACiiigAooooAKKKKACiiigAooooAKKKKACiiigAooooAKKKKACiiigAooooAKKKKACiiigAooooAKKKKACiiigAooooAKKKKACiiigAooooAKKKKACiiigAooooAKKKKAM3X/wDkHw/9f1p/6Ux1s1ja/wD8g+H/AK/rT/0pjrZpDCiiigAooooAr23/AB83f/XUf+gLViq9t/x83f8A11H/AKAtWKAIbr/VD/eqpVu6/wBUP96qlABRRRQBo1Xtf9dd/wDXYf8AoC1Yqva/667/AOuw/wDQFoAsUUUUAFFFFABRRRQAUUUUAFFFFABRRRQAUUUUAFFFFABWRef8jbp//Xjdf+jIK16yLz/kbdP/AOvG6/8ARkFAGhRRRTEFFFFABRRRQAUUUUAFFFFABWV4o/5FHV/+vKb/ANANatZXij/kUdX/AOvKb/0A0pbM1o/xI+qPniiiivIP0EKKKKACiiigAooooAKKKKACiiigAooooAKKKKAPf/BP/Ik6X/1wH8zW7WF4J/5EnS/+uA/ma3a9aHwo/P8AEfxp+r/MKKKKoxPDfiV/yPl7/uxf+i1rla6r4lf8j5e/7sX/AKLWuVryqnxs+8wn+70/RfkFFFFQdQUUUUAFFFFABRRRQAUUUUAFFFFABRRRQB6B8If+Rhvv+vX/ANnWvXK8j+EP/Iw33/Xr/wCzrXrlejh/gPjc2/3p+iCiiitzyzjPip/yJZ/6+U/rXi1e0/FT/kSz/wBfKf1rxavPxHxn12T/AO7fNhRRRXOewFFFFABRRRQAUUUUAFFFFABRRRQAUUUUAKv3h9a+m6+ZF+8PrX03XZhep85nn/Lv5/oFFFFdh84FfN2rf8hq+/6+JP8A0I19I183at/yGr7/AK+JP/QjXJidkfQZJ8U/kVKKKK4j6YKKKKACiiigAooooAKKKKACiiigAooooAK9e+EX/ItXn/X2f/QFryGvXvhF/wAi1ef9fZ/9AWt8P8Z5Wbf7q/VHfUUUV6J8cFFFFABRRRQAUUUUAFFFFABRRRQAUUUUAFFFFABRRRQAUUUUAFFFFABRRRQAUUUUAFFFFADJv+PeT/dP8q+Zq+mZv+PeT/dP8q+Zq48V0Po8j2qfL9QooorjPowooooAKKKKACiiigAooooAKKKKACiiigAr234Yf8iPB/12k/8AQq8Sr234Yf8AIjwf9dpP/Qq6cP8AGeNnH+7L1X6nX0UUV3nyQUUUUAFFFFABRRRQAUUUUAFFFFABRRRQAUUUUAFFFFABRRRQAUUUUAFFFFABRRRQAUUUUAFFFFABRRRQAUUUUAFFFFABRRRQAUUUUAFFFFABRRRQAUUUUAFFFFABRRRQAUUUUAFFFFABRRRQAUUUUAFFFFABRRRQAUUUUAFFFFABRRRQAUUUUAFFFFAGbr//ACD4f+v60/8ASmOtmsbX/wDkHw/9f1p/6Ux1s0hhRRRQAUUUUAV7b/j5u/8ArqP/AEBasVXtv+Pm7/66j/0BasUAQ3X+qH+9VSrd1/qh/vVUoAKKKKANGq9r/rrv/rsP/QFqxVe1/wBdd/8AXYf+gLQBYooooAKKKKACiiigAooooAKKKKACiiigAooooAKKKKACsi8/5G3T/wDrxuv/AEZBWvWRef8AI26f/wBeN1/6MgoA0KKKKYgooooAKKKKACiiigAooooAKyvFH/Io6v8A9eU3/oBrVrK8Uf8AIo6v/wBeU3/oBpS2ZrR/iR9UfPFFFFeQfoIUUUUAFFFFABRRRQAUUUUAFFFFABRRRQAUUUUAe/8Agn/kSdL/AOuA/ma3awvBP/Ik6X/1wH8zW7XrQ+FH5/iP40/V/mFFFFUYnhvxK/5Hy9/3Yv8A0WtcrXVfEr/kfL3/AHYv/Ra1yteVU+Nn3mE/3en6L8goooqDqCiiigAooooAKKKKACiiigAooooAKKKKAPQPhD/yMN9/16/+zrXrleR/CH/kYb7/AK9f/Z1r1yvRw/wHxubf70/RBRRRW55ZxnxU/wCRLP8A18p/WvFq9p+Kn/Iln/r5T+teLV5+I+M+uyf/AHb5sKKKK5z2AooooAKKKKACiiigAooooAKKKKACiiigBV+8PrX03XzIv3h9a+m67ML1PnM8/wCXfz/QKKKK7D5wK+btW/5DV9/18Sf+hGvpGvm7Vv8AkNX3/XxJ/wChGuTE7I+gyT4p/IqUUUVxH0wUUUUAFFFFABRRRQAUUUUAFFFFABRRRQAV698Iv+RavP8Ar7P/AKAteQ1698Iv+RavP+vs/wDoC1vh/jPKzb/dX6o76iiivRPjgooooAKKKKACiiigAooooAKKKKACiiigAooooAKKKKACiiigAooooAKKKKACiiigAooooAZN/wAe8n+6f5V8zV9Mzf8AHvJ/un+VfM1ceK6H0eR7VPl+oUUUVxn0YUUUUAFFFFABRRRQAUUUUAFFFFABRRRQAV7b8MP+RHg/67Sf+hV4lXtvww/5EeD/AK7Sf+hV04f4zxs4/wB2Xqv1OvooorvPkgooooAKKKKACiiigAooooAKKKKACiiigAooooAKKKKACiiigAooooAKKKKACiiigAooooAKKKKACiiigAooooAKKKKACiiigAooooAKKKKACiiigAooooAKKKKACiiigAooooAKKKKACiiigAooooAKKKKACiiigAooooAKKKKACiiigAooooAKKKKAM3X/APkHw/8AX9af+lMdbNY2v/8AIPh/6/rT/wBKY62aQwooooAKKKKAK9t/x83f/XUf+gLViq9t/wAfN3/11H/oC1YoAhuv9UP96qlW7r/VD/eqpQAUUUUAaNV7X/XXf/XYf+gLViq9r/rrv/rsP/QFoAsUUUUAFFFFABRRRQAUUUUAFFFFABRRRQAUUUUAFFFFABWRef8AI26f/wBeN1/6MgrXrIvP+Rt0/wD68br/ANGQUAaFFFFMQUUUUAFFFFABRRRQAUUUUAFZXij/AJFHV/8Arym/9ANatZXij/kUdX/68pv/AEA0pbM1o/xI+qPniiiivIP0EKKKKACiiigAooooAKKKKACiiigAooooAKKKKAPf/BP/ACJOl/8AXAfzNbtYXgn/AJEnS/8ArgP5mt2vWh8KPz/Efxp+r/MKKKKoxPDfiV/yPl7/ALsX/ota5Wuq+JX/ACPl7/uxf+i1rla8qp8bPvMJ/u9P0X5BRRRUHUFFFFABRRRQAUUUUAFFFFABRRRQAUUUUAegfCH/AJGG+/69f/Z1r1yvI/hD/wAjDff9ev8A7OteuV6OH+A+Nzb/AHp+iCiiitzyzjPip/yJZ/6+U/rXi1e0/FT/AJEs/wDXyn9a8Wrz8R8Z9dk/+7fNhRRRXOewFFFFABRRRQAUUUUAFFFFABRRRQAUUUUAKv3h9a+m6+ZF+8PrX03XZhep85nn/Lv5/oFFFFdh84FfN2rf8hq+/wCviT/0I19I183at/yGr7/r4k/9CNcmJ2R9BknxT+RUoooriPpgooooAKKKKACiiigAooooAKKKKACiiigAr174Rf8AItXn/X2f/QFryGvXvhF/yLV5/wBfZ/8AQFrfD/GeVm3+6v1R31FFFeifHBRRRQAUUUUAFFFFABRRRQAUUUUAFFFFABRRRQAUUUUAFFFFABRRRQAUUUUAFFFFABRRRQAyb/j3k/3T/Kvmavpmb/j3k/3T/KvmauPFdD6PI9qny/UKKKK4z6MKKKKACiiigAooooAKKKKACiiigAooooAK9t+GH/Ijwf8AXaT/ANCrxKvbfhh/yI8H/XaT/wBCrpw/xnjZx/uy9V+p19FFFd58kFFFFABRRRQAUUUUAFFFFABRRRQAUUUUAFFFFABRRRQAUUUUAFFFFABRRRQAUUUUAFFFFABRRRQAUUUUAFFFFABRRRQAUUUUAFFFFABRRRQAUUUUAFFFFABRRRQAUUUUAFFFFABRRRQAUUUUAFFFFABRRRQAUUUUAFFFFABRRRQAUUUUAFFFFABRRRQBm6//AMg+H/r+tP8A0pjrZrG1/wD5B8P/AF/Wn/pTHWzSGFFFFABRRRQBXtv+Pm7/AOuo/wDQFqxVe2/4+bv/AK6j/wBAWrFAEN1/qh/vVUq3df6of71VKACiiigDRqva/wCuu/8ArsP/AEBasVXtf9dd/wDXYf8AoC0AWKKKKACiiigAooooAKKKKACsnxReT6f4X1C7tJWimihLI6qGKn1AIIP5GtaqupafFqumz2NwzrFOu1ihAYD2yDQBhaZqGoRy6hKbm5utPgtRIk+sQfYisoLblz5S4QKFJbYcZ6nkCGLxv52n3M0UFjNJb3CQvLb35ktUVl3b3mEeVAwQfl4OM8HI6HVdNi1fTns55JIlZ0cSREbkZHDqRkEcMoPIIqjD4deD7RJDrOordXTI011iEu20EAYMewDBHRR0B6k5AKt54ouLS3sHaDTB9rRn+0SaiVteo2qs3lHczA5AIHQ4zitDXTqh0FzpSuL4tFkW5jLBd6+ZtMmFJ2bsbsVXfwyP7LGnwarfW9uwl84RrCfPMjFnLbozjJZuF2gZ4HStKaxJ09LSyuprERqqpJAEZlUdvnVh09RQBzS6vdNFb6XHfX8N/NqC208l7Hb+dbqYWl+Xyx5RyqcH5sbjnkYqrquu6hp9jd20+rNbtZXkkJ1Bo4w0n+jCaNSCuzJLhTgDO3jBNb3/AAi9uYH33l296863BvyyecJFG1SAF2ABcrjbjBORkk1Yg0OODS7mzW7ui92zPPdF1Ers2ATkAAHAAGAMADGKAMjQPFb6rqmJoZkgn2QwlUXyxII2dsknfkgMRwV2qpzlsVpXzBfFmnEhj/oV191Sf44PSnp4etItVivYXljWHBW2TaIt4jMYfpuyEbbjOMY4zzS3H/I36f8A9eN1/wCjLegC15y/3Jf+/Tf4Uecv9yX/AL9N/hVqigCr5y/3Jf8Av03+FHnL/cl/79N/hVqigCr5y/3Jf+/Tf4Uecv8Acl/79N/hVqigCr5y/wByX/v03+FHnL/cl/79N/hVqigCr5y/3Jf+/Tf4Uecv9yX/AL9N/hVqigCr5y/3Jf8Av03+FZXieUHwlqw2yf8AHlL1jb+4fat+snxV/wAifq//AF5Tf+gGlLZmlH+JH1R845+v5UZ+v5U6ivJP0Ebn6/lRn6/lTqKAG5+v5UZ+v5U6igBufr+VGfr+VOooAbn6/lRn6/lTqKAG5+v5UZ+v5U6igBufr+VGfr+VOooAbn6/lRn6/lTqKAPe/BUoHgrSxtk/1A6Rse59q3fOX+5L/wB+m/wrK8Df8iPpX/XAfzNb9erD4UfAYj+NP1f5lXzl/uS/9+m/wo85f7kv/fpv8KtUVRieCfEhg3ju9IDD5Y+qkf8ALNa5bP1/Kut+Jn/I/wB9/uxf+i1rlK8up8bPu8J/u8PRfkNz9fyoz9fyp1FQdQ3P1/KjP1/KnUUANz9fyoz9fyp1FADc/X8qM/X8qdRQA3P1/KjP1/KnUUANz9fyoz9fyp1FADc/X8qM/X8qdRQB3vwjcL4gvchj/ovZCf4x6V635y/3Jf8Av03+FeU/B7/kYr7/AK9f/Z1r2CvQofAfHZt/vT9EVfOX+5L/AN+m/wAKPOX+5L/36b/CrVFbnlnBfFKQN4MICyD/AEhOsbD19RXjGfr+Ve3/ABX/AORJP/XzH/WvEq4MR8Z9blH+7fNjc/X8qM/X8qdRXOewNz9fyoz9fyp1FADc/X8qM/X8qdRQA3P1/KjP1/KnUUANz9fyoz9fyp1FADc/X8qM/X8qdRQA3P1/KjP1/KnUUAIp+YdevpX0z5y/3Jf+/Tf4V80L94fWvqGuzDdT5zO/+Xfz/Qq+cv8Acl/79N/hR5y/3Jf+/Tf4VaorrPnSr5y/3Jf+/Tf4V84asf8AidXvB/4+JOx/vGvpmvmnV/8AkOX3/XxJ/wChGuXE7I+gyT4p/Io5+v5UZ+v5U6iuI+lG5+v5UZ+v5U6igBufr+VGfr+VOooAbn6/lRn6/lTqKAG5+v5UZ+v5U6igBufr+VGfr+VOooAbn6/lRn6/lTqKAG5+v5V678JJAvhu8yrn/Sz0Qn+BfQV5JXsXwf8A+RYvP+vw/wDoC1vQ+M8rNv8AdX6o7bzl/uS/9+m/wo85f7kv/fpv8KtUV6B8eVfOX+5L/wB+m/wo85f7kv8A36b/AAq1RQBV85f7kv8A36b/AAo85f7kv/fpv8KtUUAVfOX+5L/36b/Cjzl/uS/9+m/wq1RQBV85f7kv/fpv8KPOX+5L/wB+m/wq1RQBV85f7kv/AH6b/Cjzl/uS/wDfpv8ACrVFAFXzl/uS/wDfpv8ACjzl/uS/9+m/wq1RQBV85f7kv/fpv8KPOX+5L/36b/CrVFAFXzl/uS/9+m/wo85f7kv/AH6b/CrVFAFXzl/uS/8Afpv8KPOX+5L/AN+m/wAKtUUAVfOX+5L/AN+m/wAKPOX+5L/36b/CrVFAFXzl/uS/9+m/wo85f7kv/fpv8KtUUAVfOX+5L/36b/Cjzl/uS/8Afpv8KtUUAVfOX+5L/wB+m/wo85f7kv8A36b/AAq1RQBRmmHkSfJL90/8sm9PpXzTn6/lX1DN/wAe8n+6f5V8wVyYnofR5JtU+X6jc/X8qM/X8qdRXGfRDc/X8qM/X8qdRQA3P1/KjP1/KnUUANz9fyoz9fyp1FADc/X8qM/X8qdRQA3P1/KjP1/KnUUANz9fyoz9fyp1FADc/X8q9r+GMgXwRCCsh/fSdI2Pf6V4tXuPwt/5EWD/AK7Sf+hV0Yf4zx84/wB2Xqv1On85f7kv/fpv8KPOX+5L/wB+m/wq1RXefJFXzl/uS/8Afpv8KPOX+5L/AN+m/wAKtUUAVfOX+5L/AN+m/wAKPOX+5L/36b/CrVFAFXzl/uS/9+m/wo85f7kv/fpv8KtUUAVfOX+5L/36b/Cjzl/uS/8Afpv8KtUUAVfOX+5L/wB+m/wo85f7kv8A36b/AAq1RQBV85f7kv8A36b/AAo85f7kv/fpv8KtUUAVfOX+5L/36b/Cjzl/uS/9+m/wq1RQBV85f7kv/fpv8KPOX+5L/wB+m/wq1RQBV85f7kv/AH6b/Cjzl/uS/wDfpv8ACrVFAFXzl/uS/wDfpv8ACjzl/uS/9+m/wq1RQBV85f7kv/fpv8KPOX+5L/36b/CrVFAFXzl/uS/9+m/wo85f7kv/AH6b/CrVFAFXzl/uS/8Afpv8KPOX+5L/AN+m/wAKtUUAVfOX+5L/AN+m/wAKPOX+5L/36b/CrVFAFXzl/uS/9+m/wo85f7kv/fpv8KtUUAVfOX+5L/36b/Cjzl/uS/8Afpv8KtUUAVfOX+5L/wB+m/wo85f7kv8A36b/AAq1RQBV85f7kv8A36b/AAo85f7kv/fpv8KtUUAVfOX+5L/36b/Cjzl/uS/9+m/wq1RQBV85f7kv/fpv8KPOX+5L/wB+m/wq1RQBV85f7kv/AH6b/Cjzl/uS/wDfpv8ACrVFAFXzl/uS/wDfpv8ACjzl/uS/9+m/wq1RQBV85f7kv/fpv8KPOX+5L/36b/CrVFAFXzl/uS/9+m/wo85f7kv/AH6b/CrVFAFXzl/uS/8Afpv8KPOX+5L/AN+m/wAKtUUAVfOX+5L/AN+m/wAKPOX+5L/36b/CrVFAFXzl/uS/9+m/wo85f7kv/fpv8KtUUAVfOX+5L/36b/Cjzl/uS/8Afpv8KtUUAVfOX+5L/wB+m/wo85f7kv8A36b/AAq1RQBV85f7kv8A36b/AAo85f7kv/fpv8KtUUAVfOX+5L/36b/Cjzl/uS/9+m/wq1RQBV85f7kv/fpv8KPOX+5L/wB+m/wq1RQBV85f7kv/AH6b/Cjzl/uS/wDfpv8ACrVFAFXzl/uS/wDfpv8ACjzl/uS/9+m/wq1RQBV85f7kv/fpv8KPOX+5L/36b/CrVFAGHrsgawgAWQf6dadY2A/4+Y/UVuVl+Iv+QZD/ANf1n/6Ux1qUAFFFFABRRRQBXtv+Pm7/AOuo/wDQFqxVe2/4+bv/AK6j/wBAWrFAEN1/qh/vVUq3df6of71VKACiiigDRqva/wCuu/8ArsP/AEBasVXtf9dd/wDXYf8AoC0AWKKKKACiiigAooooAKKKKACiiigAooooAKKKKACiiigArLuP+Rv0/wD68br/ANGW9alZdx/yN+n/APXjdf8Aoy3oA1KKKKACiiigAooooAKKKKACiiigArJ8Vf8AIn6v/wBeU3/oBrWrJ8Vf8ifq/wD15Tf+gGlLZmtH+JH1R850UUV5J+gBRRRQAUUUUAFFFFABRRRQAUUUUAFFFFABRRRQB9B+Bv8AkR9K/wCuA/ma36wPA3/Ij6V/1wH8zW/Xqw+FHwGI/jT9X+YUUUVRieEfEz/kf77/AHYv/Ra1yldX8TP+R/vv92L/ANFrXKV5dT42fd4T/d4ei/IKKKKg6gooooAKKKKACiiigAooooAKKKKACiiigD0L4Pf8jFff9ev/ALOtewV4/wDB7/kYr7/r1/8AZ1r2CvQofAfHZr/vT9EFFFFbnlnFfFf/AJEk/wDXzH/WvEq9t+K//Ikn/r5j/rXiVcGI+M+uyj/dvmwooornPXCiiigAooooAKKKKACiiigAooooAKKKKAFX7w+tfUNfLy/eH1r6hrsw3U+czv8A5d/P9AooorrPnQr5p1f/AJDl9/18Sf8AoRr6Wr5p1f8A5Dl9/wBfEn/oRrkxOyPoMk+KfyKdFFFcZ9KFFFFABRRRQAUUUUAFFFFABRRRQAUUUUAFexfB/wD5Fi8/6/D/AOgLXjtexfB//kWLz/r8P/oC1vQ+M8rNv91fqj0CiiivQPjwooooAKKKKACiiigAooooAKKKKACiiigAooooAKKKKACiiigAooooAKKKKACiiigAooooAZN/x7yf7p/lXzBX0/N/x7yf7p/lXzBXHieh9Hkm1T5fqFFFFch9EFFFFABRRRQAUUUUAFFFFABRRRQAUUUUAFe4/C3/AJEWD/rtJ/6FXh1e4/C3/kRYP+u0n/oVdGH+M8fOP92Xqv1OxooorvPkgooooAKKKKACiiigAooooAKKKKACiiigAooooAKKKKACiiigAooooAKKKKACiiigAooooAKKKKACiiigAooooAKKKKACiiigAooooAKKKKACiiigAooooAKKKKACiiigAoqK7uVs7Oa5dJZFhRnKQxmR2AGcKqglj6Acmue07xtFd63aaXqGiato1xfI72Z1COILPsG5lBjkfawXnDbTgH0oA6aiuQX4j6c0iTf2bqY0mS8+wrrPlR/ZTL5nlj+PzApk+TeU25745q7Z+NbC98SnR0trxMzTW8N46p5E80QBkjUhi25efvKAdrYJxQB0VFZ+ia1b6/pv2+xSUWzSyJFJIABMqsV8xcE/ISCQTjIwccitCgAooooAKKKKACiiigAooooAKKKKACiiigAooooAKKKKAMvxF/yDIf8Ar+s//SmOtSsvxF/yDIf+v6z/APSmOtSgAooooAa7rGu5zgVlHxX4fU4bW9OU9w13GCPqCeKj8XsV8LaiVOCLScg+hETkH8xXyRcTSNMxLnr61tTp85jVquDPrSHxVoCT3DNrmmAPICv+mxcjao/veoNTf8Jf4c/6D2l/+BsX/wAVXx60r/32/Oomlf8Avt+da+wXcx+sPsfZMWvaTqjGHTdTs7uVRvKQXCSMF6ZwpPGSOfepa+fPgI7N48vQzEj+zX6n/prFX0HXPOPLKx0U588bhRRRUGho1Xtf9dd/9dh/6AtWKr2v+uu/+uw/9AWgCxRRRQAUUUUAFFFFABRRRQAUUUUAFFFFABRRRQAUUUUAFZdx/wAjfp//AF43X/oy3rUrLuP+Rv0//rxuv/RlvQBqUUUUAFFFFABRRRQAUUUUAFFFFABWT4q/5E/V/wDrym/9ANa1ZPir/kT9X/68pv8A0A0pbM1o/wASPqj5zoooryT9ACiiigAooooAKKKKACiiigAooooAKKKKACiiigD6D8Df8iPpX/XAfzNb9YHgb/kR9K/64D+Zrfr1YfCj4DEfxp+r/MKKKKoxPCPiZ/yP99/uxf8Aota5Sur+Jn/I/wB9/uxf+i1rlK8up8bPu8J/u8PRfkFFFFQdQUUUUAFFFFABRRRQAUUUUAFFFFABRRRQB6F8Hv8AkYr7/r1/9nWvYK8f+D3/ACMV9/16/wDs617BXoUPgPjs1/3p+iCiiitzyziviv8A8iSf+vmP+teJV7b8V/8AkST/ANfMf9a8SrgxHxn12Uf7t82FFFFc564UUUUAFFFFABRRRQAUUUUAFFFFABRRRQAq/eH1r6hr5eX7w+tfUNdmG6nzmd/8u/n+gUUUV1nzoV806v8A8hy+/wCviT/0I19LV806v/yHL7/r4k/9CNcmJ2R9BknxT+RTooorjPpQooooAKKKKACiiigAooooAKKKKACiiigAr2L4P/8AIsXn/X4f/QFrx2vYvg//AMixef8AX4f/AEBa3ofGeVm3+6v1R6BRRRXoHx4UUUUAFFFFABRRRQAUUUUAFFFFABRRRQAUUUUAFFFFABRRRQAUUUUAFFFFABRRRQAUUUUAMm/495P90/yr5gr6fm/495P90/yr5grjxPQ+jyTap8v1CiiiuQ+iCiiigAooooAKKKKACiiigAooooAKKKKACvcfhb/yIsH/AF2k/wDQq8Or3H4W/wDIiwf9dpP/AEKujD/GePnH+7L1X6nY0UUV3nyQUUUUAFFFFABRRRQAUUUUAFFFFABRRRQAUUUUAFFFFABRRRQAUUUUAFFFFABRRRQAUUUUAFFFFABRRRQAUUUUAFFFFABRRRQAUUUUAFFFFABRRRQAUVXe/s4nKSXcCOvBVpACKb/adh/z+2//AH9X/GldFcsuxaoqr/adh/z+2/8A39X/ABo/tOw/5/bf/v6v+NF0HLLsWqKq/wBp2H/P7b/9/V/xo/tOw/5/bf8A7+r/AI0XQcsuxNPcQ2sDTXMqQxIMtJIwVVHuT0rzu7tW0n4reGZn1qbX5b43MSW96Yy1jH5TOZohEqKBlVQllYkMAGHIPdXF3pV3bSW93PZzwSqUkikdGV1PUEHgj2qhpOmeE9BkkfQrLRdNeUYkaziihLj32gZoug5ZdjyaBZ08K2vi4ahFJo0muC5Twlg7Ela5ChFfduMqvmTyyNm7ICDGa6TxL4Tu4/EFlpmn6w23Ur26ube3jg2yWazL/pU5l3HKhZHVAFUh50yTiu0Gl+El1o6wtjoo1Mncb0QxecTjGd+N361f+0aR9t+2edZfavL8rz9yb9mc7d3XGecUXQcsuxw3w21rUJ59Msp7vz7S80Rb5LQQxoumlZPLECbADtAO35yxzEee1ekVk2MXh3TLi6n02PS7Sa8fzLmS3WONp25+ZyOWPJ5Pqauf2nYf8/tv/wB/V/xoug5Zdi1RVX+07D/n9t/+/q/40f2nYf8AP7b/APf1f8aLoOWXYtUVV/tOw/5/bf8A7+r/AI0f2nYf8/tv/wB/V/xoug5Zdi1RUUN1BcZ+zzxy7euxw2PyqWmJprcKKKKBBRRRQAUUUUAFFFFABRRRQBl+Iv8AkGQ/9f1n/wClMdalZfiL/kGQ/wDX9Z/+lMdalABRRRQBheMf+RV1H/rzuP8A0S9fI83+tb619ceMf+RV1H/rzuP/AES9fI83+tb6110NmceI3Rsy+GRJovh5rLzp9T1yeVIosgRhVcIo6Z3bsknOACOO9XNZ8K6FFo+rS6FqN9c3WhvGl686p5E+5thMW0ZGH7MTkc1p6BPfaL4Qge58bHQ7TUjK0FtFYG6faDsdw2R5eSCODk4rjb+4/s/7Zpek6rJe6ZM8bvIITCJyoyCUJJG0sw6+9aK7Zm7JHc/AP/kfb3/sGv8A+jYq+ha+evgH/wAj7e/9g1//AEbFX0LXNW+M6aHwBRRRWJuaNV7X/XXf/XYf+gLViq9r/rrv/rsP/QFoAsUUUUAFFFFABRRRQAUUUUAFFFFABRRRQAUUUUAFFFFABWXcf8jfp/8A143X/oy3rUrLuP8Akb9P/wCvG6/9GW9AGpRRRQAUUUUAFFFFABRRRQAUUUUAFZPir/kT9X/68pv/AEA1rVk+Kv8AkT9X/wCvKb/0A0pbM1o/xI+qPnOiiivJP0AKKKKACiiigAooooAKKKKACiiigAooooAKKKKAPoPwN/yI+lf9cB/M1v1geBv+RH0r/rgP5mt+vVh8KPgMR/Gn6v8AMKKKKoxPCPiZ/wAj/ff7sX/ota5Sur+Jn/I/33+7F/6LWuUry6nxs+7wn+7w9F+QUUUVB1BRRRQAUUUUAFFFFABRRRQAUUUUAFFFFAHoXwe/5GK+/wCvX/2da9grx/4Pf8jFff8AXr/7OtewV6FD4D47Nf8Aen6IKKKK3PLOK+K//Ikn/r5j/rXiVe2/Ff8A5Ek/9fMf9a8SrgxHxn12Uf7t82FFFFc564UUUUAFFFFABRRRQAUUUUAFFFFABRRRQAq/eH1r6hr5eX7w+tfUNdmG6nzmd/8ALv5/oFFFFdZ86FfNOr/8hy+/6+JP/QjX0tXzTq//ACHL7/r4k/8AQjXJidkfQZJ8U/kU6KKK4z6UKKKKACiiigAooooAKKKKACiiigAooooAK9i+D/8AyLF5/wBfh/8AQFrx2vYvg/8A8ixef9fh/wDQFreh8Z5Wbf7q/VHoFFFFegfHhRRRQAUUUUAFFFFABRRRQAUUUUAFFFFABRRRQAUUUUAFFFFABRRRQAUUUUAFFFFABRRRQAyb/j3k/wB0/wAq+YK+n5v+PeT/AHT/ACr5grjxPQ+jyTap8v1CiiiuQ+iCiiigAooooAKKKKACiiigAooooAKKKKACvcfhb/yIsH/XaT/0KvDq9x+Fv/Iiwf8AXaT/ANCrow/xnj5x/uy9V+p2NFFFd58kFFFFABRRRQAUUUUAFFFFABRRRQAUUUUAFFFFABRRRQAUUUUAFFFFABRRRQAUUUUAFFFFABRRRQAUUUUAFFFFABRRRQAUUUUAFFFFABRRRQAUUUUAfPfjj/keNV/67n+QrBre8cf8jxqv/Xc/yFYNeVP4mffYf+DD0X5BRRRUm4UUUUAFFFFABRRRQAUUUUAFFFFABRRRQB6h8Gfv6z9If/Z69Sry34M/f1n6Q/8As9epV6NH+Gj4vM/97n8vyQUUUVsecFFFFABRRRQAUUUUAFFFFAGX4i/5BkP/AF/Wf/pTHWpWX4i/5BkP/X9Z/wDpTHWpQAUUUUAYXjH/AJFXUf8ArzuP/RL18mJbTXmoJa2qeZPNII40yBuYnAGTwOT3r6z8Y/8AIq6j/wBedx/6JevkecgSOScAE5JrqobM48Ruj0iw8P8AiaLw3baVffDu21SOCV2Sae+AbcxyQCsw28AcDAOASM81594mtpLPxBdW82lR6RIhUNZRSmRYvlH8RZs569TjOPatq2vfDms+GdNsNS19tFn015d2LUzpcB23bxtYYcfd54IC88VkeLNXtdd8T3mo6errbSsojMhG9wqhd7Y43NjcfcmtI35jOduU7X4B/wDI+3v/AGDX/wDRsVfQtfPXwD/5H29/7Br/APo2KvoWuet8Z00PgCiiisTc0ar2v+uu/wDrsP8A0BasVXtf9dd/9dh/6AtAFiiiigAooooAKKKKACiiigAooooAKKKKACiiigAooooAKy7j/kb9P/68br/0Zb1qVl3H/I36f/143X/oy3oA1KKKKACiiigAooooAKKKKACiiigArJ8Vf8ifq/8A15Tf+gGtasnxV/yJ+r/9eU3/AKAaUtma0f4kfVHznRRRXkn6AFFFFABRRRQAUUUUAFFFFABRRRQAUUUUAFFFFAH0H4G/5EfSv+uA/ma36wPA3/Ij6V/1wH8zW/Xqw+FHwGI/jT9X+YUUUVRieEfEz/kf77/di/8ARa1yldX8TP8Akf77/di/9FrXKV5dT42fd4T/AHeHovyCiiioOoKKKKACiiigAooooAKKKKACiiigAooooA9C+D3/ACMV9/16/wDs617BXj/we/5GK+/69f8A2da9gr0KHwHx2a/70/RBRRRW55ZxXxX/AORJP/XzH/WvEq9t+K//ACJJ/wCvmP8ArXiVcGI+M+uyj/dvmwooornPXCiiigAooooAKKKKACiiigAooooAKKKKAFX7w+tfUNfLy/eH1r6hrsw3U+czv/l38/0Ciiius+dCvmnV/wDkOX3/AF8Sf+hGvpavmnV/+Q5ff9fEn/oRrkxOyPoMk+KfyKdFFFcZ9KFFFFABRRRQAUUUUAFFFFABRRRQAUUUUAFexfB//kWLz/r8P/oC147XsXwf/wCRYvP+vw/+gLW9D4zys2/3V+qPQKKKK9A+PCiiigAooooAKKKKACiiigAooooAKKKKACiiigAooooAKKKKACiiigAooooAKKKKACiiigBk3/HvJ/un+VfMFfT83/HvJ/un+VfMFceJ6H0eSbVPl+oUUUVyH0QUUUUAFFFFABRRRQAUUUUAFFFFABRRRQAV7j8Lf+RFg/67Sf8AoVeHV7j8Lf8AkRYP+u0n/oVdGH+M8fOP92Xqv1OxooorvPkgooooAKKKKACiiigAooooAKKKKACiiigAooooAKKKKACiiigAooooAKKKKACiiigAooooAKKKKACiiigAooooAKKKKACiiigAooooAKKKKACiiigD578cf8jxqv8A13P8hWDW944/5HjVf+u5/kKwa8qfxM++w/8ABh6L8goooqTcKKKKACiiigAooooAKKKKACiiigAooooA9Q+DP39Z+kP/ALPXqVeW/Bn7+s/SH/2evUq9Gj/DR8Xmf+9z+X5IKKKK2POCiiigAooooAKKKKACiiigDL8Rf8gyH/r+s/8A0pjrUrL8Rf8AIMh/6/rP/wBKY61KACiiigDC8Y/8irqP/Xncf+iXr5MjuprLUY7q2fZNBKJI2wDtYHIODx1FfWfjH/kVdR/687j/ANEvXyPN/rW+tdVDZnHiN0epWniPxtrfhjTJvDF3Be3aySf2gGW2WSNt3yAhwMR7MHI77sngVwfxBuorzx1qU8FzHcqzIDLEcoWCKGCnuoYEA+gFXoV0Pw/4Z0y/1TRU1ifVDKxM9xJEkMaPs2rsI+ckZLHOAV4rG8XaRBofii8sLRpDBGUeMS/fRXQOFb/aAbB9xWkUlIzm246nafAP/kfb3/sGv/6Nir6Fr56+Af8AyPt7/wBg1/8A0bFX0LXPW+M6aHwBRRRWJuaNV7X/AF13/wBdh/6AtWKr2v8Arrv/AK7D/wBAWgCxRRRQAUUUUAFFFFABRRRQAUUUUAFFFFABRRRQAUUUUAFZdx/yN+n/APXjdf8Aoy3rUrLuP+Rv0/8A68br/wBGW9AGpRRRQAUUUUAFFFFABRRRQAUUUUAFZPir/kT9X/68pv8A0A1rVk+Kv+RP1f8A68pv/QDSlszWj/Ej6o+c6KKK8k/QAooooAKKKKACiiigAooooAKKKKACiiigAooooA+g/A3/ACI+lf8AXAfzNb9YHgb/AJEfSv8ArgP5mt+vVh8KPgMR/Gn6v8woooqjE8I+Jn/I/wB9/uxf+i1rlK6v4mf8j/ff7sX/AKLWuUry6nxs+7wn+7w9F+QUUUVB1BRRRQAUUUUAFFFFABRRRQAUUUUAFFFFAHoXwe/5GK+/69f/AGda9grx/wCD3/IxX3/Xr/7OtewV6FD4D47Nf96fogooorc8s4r4r/8AIkn/AK+Y/wCteJV7b8V/+RJP/XzH/WvEq4MR8Z9dlH+7fNhRRRXOeuFFFFABRRRQAUUUUAFFFFABRRRQAUUUUAKv3h9a+oa+Xl+8PrX1DXZhup85nf8Ay7+f6BRRRXWfOhXzTq//ACHL7/r4k/8AQjX0tXzTq/8AyHL7/r4k/wDQjXJidkfQZJ8U/kU6KKK4z6UKKKKACiiigAooooAKKKKACiiigAooooAK9i+D/wDyLF5/1+H/ANAWvHa9i+D/APyLF5/1+H/0Ba3ofGeVm3+6v1R6BRRRXoHx4UUUUAFFFFABRRRQAUUUUAFFFFABRRRQAUUUUAFFFFABRRRQAUUUUAFFFFABRRRQAUUUUAMm/wCPeT/dP8q+YK+n5v8Aj3k/3T/KvmCuPE9D6PJNqny/UKKKK5D6IKKKKACiiigAooooAKKKKACiiigAooooAK9x+Fv/ACIsH/XaT/0KvDq9x+Fv/Iiwf9dpP/Qq6MP8Z4+cf7svVfqdjRRRXefJBRRRQAUUUUAFFFFABRRRQAUUUUAFFFFABRRRQAUUUUAFFFFABRRRQAUUUUAFFFFABRRRQAUUUUAFFFFABRRRQAUUUUAFFFFABRRRQAUUUUAFFFFAHz344/5HjVf+u5/kKwa3vHH/ACPGq/8AXc/yFYNeVP4mffYf+DD0X5BRRRUm4UUUUAFFFFABRRRQAUUUUAFFFFABRRRQB6h8Gfv6z9If/Z69Sry34M/f1n6Q/wDs9epV6NH+Gj4vM/8Ae5/L8kFFFFbHnBRRRQAUUUUAFFFFABRRRQBl+Iv+QZD/ANf1n/6Ux1qVl+Iv+QZD/wBf1n/6Ux1qUAFFFFAGF4x/5FXUf+vO4/8ARL18jzf61vrX1x4x/wCRV1H/AK87j/0S9fI83+tb6110NmceI3R2vhDUobLS4rf/AITW101pZTJ9kvNGN0lvJnAcO2QpIAORj36Vyvi6xn03xXqFreXsl9cJJmW5liMbSswDE4JPc9ckHqODWhaHwlZaNazapb32q39wXMsMF19nS2AbCjOwliQM9cYIpvjfUPD2o6lHJ4dtbmM+TEJZprppA5ESAqAyggqQQTk5xkYFaLSRk9YWOm+Af/I+3v8A2DX/APRsVfQtfPXwD/5H29/7Br/+jYq+ha5q3xnVQ+AKKKKxNzRqva/667/67D/0BasVXtf9dd/9dh/6AtAFiiiigAooooAKKKKACiiigAooooAKKKKACiiigAooooAKy7j/AJG/T/8Arxuv/RlvWpWXcf8AI36f/wBeN1/6Mt6ANSiiigAooooAKKKKACiiigAooooAKyfFX/In6v8A9eU3/oBrWrJ8Vf8AIn6v/wBeU3/oBpS2ZrR/iR9UfOdFFFeSfoAUUUUAFFFFABRRRQAUUUUAFFFFABRRRQAUUUUAfQfgb/kR9K/64D+ZrfrA8Df8iPpX/XAfzNb9erD4UfAYj+NP1f5hRRRVGJ4R8TP+R/vv92L/ANFrXKV1fxM/5H++/wB2L/0WtcpXl1PjZ93hP93h6L8goooqDqCiiigAooooAKKKKACiiigAooooAKKKKAPQvg9/yMV9/wBev/s617BXj/we/wCRivv+vX/2da9gr0KHwHx2a/70/RBRRRW55ZxXxX/5Ek/9fMf9a8Sr234r/wDIkn/r5j/rXiVcGI+M+uyj/dvmwooornPXCiiigAooooAKKKKACiiigAooooAKKKKAFX7w+tfUNfLy/eH1r6hrsw3U+czv/l38/wBAooorrPnQr5p1f/kOX3/XxJ/6Ea+lq+adX/5Dl9/18Sf+hGuTE7I+gyT4p/Ip0UUVxn0oUUUUAFFFFABRRRQAUUUUAFFFFABRRRQAV7F8H/8AkWLz/r8P/oC147XsXwf/AORYvP8Ar8P/AKAtb0PjPKzb/dX6o9Aooor0D48KKKKACiiigAooooAKKKKACiiigAooooAKKKKACiiigAooooAKKKKACiiigAooooAKKKKAGTf8e8n+6f5V8wV9Pzf8e8n+6f5V8wVx4nofR5JtU+X6hRRRXIfRBRRRQAUUUUAFFFFABRRRQAUUUUAFFFFABXuPwt/5EWD/AK7Sf+hV4dXuPwt/5EWD/rtJ/wChV0Yf4zx84/3Zeq/U7Giiiu8+SCiiigAooooAKKKKACiiigAooooAKKKKACiiigAooooAKKKKACiiigAooooAKKKKACiiigAooooAKKKKACiiigAooooAKKKKACiiigAooooAKKKKAPnvxx/yPGq/9dz/ACFYNb3jj/keNV/67n+QrBryp/Ez77D/AMGHovyCiiipNwooooAKKKKACiiigAooooAKKKKACiiigD1D4M/f1n6Q/wDs9epV5b8Gfv6z9If/AGevUq9Gj/DR8Xmf+9z+X5IKKKK2POCiiigAooooAKKKKACiiigDL8Rf8gyH/r+s/wD0pjrUrL8Rf8gyH/r+s/8A0pjrUoAKKKKAMPxgM+F9QA5LWk6gepMLgD86+Rp/9a31r7PurZLqAxuSOchlOCp7EGuZf4f6VI5ZrXT2JOSX0y3Yn6kpk1tTqKBhVpubR8ntULV9XQ/D/SpJrhWs9NIjcKP+JVbdNqn/AJ5+9S/8K50f/nx0z/wVW3/xutfbrsZfV33PGPgH/wAj7e/9g1//AEbFX0LWbpvhTT9Bna5s7WzikdfLLQWUMLYznGUUEjgcVpVz1Jc0rnRThyRsFFFFQaGjVe1/113/ANdh/wCgLViq9r/rrv8A67D/ANAWgCxRRRQAUUUUAFFFFABRRRQAUUUUAFFFFABRRRQAUUUUAFZdx/yN+n/9eN1/6Mt61Ky7j/kb9P8A+vG6/wDRlvQBqUUUUAFFFFABRRRQAUUUUAFFFFABWT4q/wCRP1f/AK8pv/QDWtWT4q/5E/V/+vKb/wBANKWzNaP8SPqj5zoooryT9ACiiigAooooAKKKKACiiigAooooAKKKKACiiigD6D8Df8iPpX/XAfzNb9YHgb/kR9K/64D+Zrfr1YfCj4DEfxp+r/MKKKKoxPCPiZ/yP99/uxf+i1rlK6v4mf8AI/33+7F/6LWuUry6nxs+7wn+7w9F+QUUUVB1BRRRQAUUUUAFFFFABRRRQAUUUUAFFFFAHoXwe/5GK+/69f8A2da9grx/4Pf8jFff9ev/ALOtewV6FD4D47Nf96fogooorc8s4r4r/wDIkn/r5j/rXiVe2/Ff/kST/wBfMf8AWvEq4MR8Z9dlH+7fNhRRRXOeuFFFFABRRRQAUUUUAFFFFABRRRQAUUUUAKv3h9a+oa+Xl+8PrX1DXZhup85nf/Lv5/oFFFFdZ86FfNOr/wDIcvv+viT/ANCNfS1fNOr/APIcvv8Ar4k/9CNcmJ2R9BknxT+RTooorjPpQooooAKKKKACiiigAooooAKKKKACiiigAr2L4P8A/IsXn/X4f/QFrx2vYvg//wAixef9fh/9AWt6HxnlZt/ur9UegUUUV6B8eFFFFABRRRQAUUUUAFFFFABRRRQAUUUUAFFFFABRRRQAUUUUAFFFFABRRRQAUUUUAFFFFADJv+PeT/dP8q+YK+n5v+PeT/dP8q+YK48T0Po8k2qfL9QooorkPogooooAKKKKACiiigAooooAKKKKACiiigAr3H4W/wDIiwf9dpP/AEKvDq9x+Fv/ACIsH/XaT/0KujD/ABnj5x/uy9V+p2NFFFd58kFFFFABRRRQAUUUUAFFFFABRRRQAUUUUAFFFFABRRRQAUUUUAFFFFABRRRQAUUUUAFFFFABRRRQAUUUUAFFFFABRRRQAUUUUAFFFFABRRRQAUUUUAfPfjj/AJHjVf8Aruf5CsGt7xx/yPGq/wDXc/yFYNeVP4mffYf+DD0X5BRRRUm4UUUUAFFFFABRRRQAUUUUAFFFFABRRRQB6h8Gfv6z9If/AGevUq8t+DP39Z+kP/s9epV6NH+Gj4vM/wDe5/L8kFFFFbHnBRRRQAUUUUAFFFFABRRRQBl+Iv8AkGQ/9f1n/wClMdalZfiL/kGQ/wDX9Z/+lMdalABRRRQAUUUUAV7b/j5u/wDrqP8A0BasVXtv+Pm7/wCuo/8AQFqxQBDdf6of71VKt3X+qH+9VSgAooooA0ar2v8Arrv/AK7D/wBAWrFV7X/XXf8A12H/AKAtAFiiiigAooooAKKKKACiiigAooooAKKKKACiiigAooooAKy7j/kb9P8A+vG6/wDRlvWpWXcf8jfp/wD143X/AKMt6ANSiiigAooooAKKKKACiiigAooooAKyfFX/ACJ+r/8AXlN/6Aa1qyfFX/In6v8A9eU3/oBpS2ZrR/iR9UfOdFFFeSfoAUUUUAFFFFABRRRQAUUUUAFFFFABRRRQAUUUUAfQfgb/AJEfSv8ArgP5mt+sDwN/yI+lf9cB/M1v16sPhR8BiP40/V/mFFFFUYnhHxM/5H++/wB2L/0WtcpXV/Ez/kf77/di/wDRa1yleXU+Nn3eE/3eHovyCiiioOoKKKKACiiigAooooAKKKKACiiigAooooA9C+D3/IxX3/Xr/wCzrXsFeP8Awe/5GK+/69f/AGda9gr0KHwHx2a/70/RBRRRW55ZxXxX/wCRJP8A18x/1rxKvbfiv/yJJ/6+Y/614lXBiPjPrso/3b5sKKKK5z1wooooAKKKKACiiigAooooAKKKKACiiigBV+8PrX1DXy8v3h9a+oa7MN1PnM7/AOXfz/QKKKK6z50K+adX/wCQ5ff9fEn/AKEa+lq+adX/AOQ5ff8AXxJ/6Ea5MTsj6DJPin8inRRRXGfShRRRQAUUUUAFFFFABRRRQAUUUUAFFFFABXsXwf8A+RYvP+vw/wDoC147XsXwf/5Fi8/6/D/6Atb0PjPKzb/dX6o9Aooor0D48KKKKACiiigAooooAKKKKACiiigAooooAKKKKACiiigAooooAKKKKACiiigAooooAKKKKAGTf8e8n+6f5V8wV9Pzf8e8n+6f5V8wVx4nofR5JtU+X6hRRRXIfRBRRRQAUUUUAFFFFABRRRQAUUUUAFFFFABXuPwt/wCRFg/67Sf+hV4dXuPwt/5EWD/rtJ/6FXRh/jPHzj/dl6r9TsaKKK7z5IKKKKACiiigAooooAKKKKACiiigAooooAKKKKACiiigAooooAKKKKACiiigAooooAKKKKACiiigAooooAKKKKACiiigAooooAKKKKACiiigAooooA+e/HH/ACPGq/8AXc/yFYNb3jj/AJHjVf8Aruf5CsGvKn8TPvsP/Bh6L8goooqTcKKKKACiiigAooooAKKKKACiiigAooooA9Q+DP39Z+kP/s9epV5b8Gfv6z9If/Z69Sr0aP8ADR8Xmf8Avc/l+SCiiitjzgooooAKKKKACiiigAooooAy/EX/ACDIf+v6z/8ASmOtSsvxF/yDIf8Ar+s//SmOtSgAooooAKKKKAK9t/x83f8A11H/AKAtWKr23/Hzd/8AXUf+gLVigCG6/wBUP96qlW7r/VD/AHqqUAFFFFAGjVe1/wBdd/8AXYf+gLViq9r/AK67/wCuw/8AQFoAsUUUUAFFFFABRRRQAUUUUAFFFFABRRRQAUUUUAFFFFABWXcf8jfp/wD143X/AKMt61Ky7j/kb9P/AOvG6/8ARlvQBqUUUUAFFFFABRRRQAUUUUAFFFFABWT4q/5E/V/+vKb/ANANa1ZPir/kT9X/AOvKb/0A0pbM1o/xI+qPnOiiivJP0AKKKKACiiigAooooAKKKKACiiigAooooAKKKKAPoPwN/wAiPpX/AFwH8zW/WB4G/wCRH0r/AK4D+Zrfr1YfCj4DEfxp+r/MKKKKoxPCPiZ/yP8Aff7sX/ota5Sur+Jn/I/33+7F/wCi1rlK8up8bPu8J/u8PRfkFFFFQdQUUUUAFFFFABRRRQAUUUUAFFFFABRRRQB6F8Hv+Rivv+vX/wBnWvYK8f8Ag9/yMV9/16/+zrXsFehQ+A+OzX/en6IKKKK3PLOK+K//ACJJ/wCvmP8ArXiVe2/Ff/kST/18x/1rxKuDEfGfXZR/u3zYUUUVznrhRRRQAUUUUAFFFFABRRRQAUUUUAFFFFACr94fWvqGvl5fvD619Q12YbqfOZ3/AMu/n+gUUUV1nzoV806v/wAhy+/6+JP/AEI19LV806v/AMhy+/6+JP8A0I1yYnZH0GSfFP5FOiiiuM+lCiiigAooooAKKKKACiiigAooooAKKKKACvYvg/8A8ixef9fh/wDQFrx2vYvg/wD8ixef9fh/9AWt6HxnlZt/ur9UegUUUV6B8eFFFFABRRRQAUUUUAFFFFABRRRQAUUUUAFFFFABRRRQAUUUUAFFFFABRRRQAUUUUAFFFFADJv8Aj3k/3T/KvmCvp+b/AI95P90/yr5grjxPQ+jyTap8v1CiiiuQ+iCiiigAooooAKKKKACiiigAooooAKKKKACvcfhb/wAiLB/12k/9Crw6vcfhb/yIsH/XaT/0KujD/GePnH+7L1X6nY0UUV3nyQUUUUAFFFFABRRRQAUUUUAFFFFABRRRQAUUUUAFFFFABRRRQAUUUUAFFFFABRRRQAUUUUAFFFFABRRRQAUUUUAFFFFABRRRQAUUUUAFFFFABRRRQB89+OP+R41X/ruf5CsGt7xx/wAjxqv/AF3P8hWDXlT+Jn32H/gw9F+QUUUVJuFFFFABRRRQAUUUUAFFFFABRRRQAUUUUAeofBn7+s/SH/2evUq8t+DP39Z+kP8A7PXqVejR/ho+LzP/AHufy/JBRRRWx5wUUUUAFFFFABRRRQAUUUUAZfiL/kGQ/wDX9Z/+lMdalZfiL/kGQ/8AX9Z/+lMdalABRRRQAUUUUAV7b/j5u/8ArqP/AEBasVXtv+Pm7/66j/0BasUAQ3X+qH+9VSrd1/qh/vVUoAKKKKANGq9r/rrv/rsP/QFqxVe1/wBdd/8AXYf+gLQBYooooAKKKKACiiigAooooAKKKKACiiigAooooAKKiurq3srZ7i8nit4Ixl5ZXCqv1J4FV31rS49Pjv5NSs0s5DtS4adRG59A2cHofyoAu1l3H/I36f8A9eN1/wCjLetETRG4aASIZlUO0e4bgpJAOPQkHn2NZ1x/yN+n/wDXjdf+jLegDUooooAKKKKACiiigAooooAKKKKACsnxV/yJ+r/9eU3/AKAa1qyfFX/In6v/ANeU3/oBpS2ZrR/iR9UfOdFFFeSfoAUUUUAFFFFABRRRQAUUUUAFFFFABRRRQAUUUUAfQfgb/kR9K/64D+ZrfrA8Df8AIj6V/wBcB/M1v16sPhR8BiP40/V/mFFFFUYnhHxM/wCR/vv92L/0WtcpXV/Ez/kf77/di/8ARa1yleXU+Nn3eE/3eHovyCiiioOoKKKKACiiigAooooAKKKKACiiigAooooA9C+D3/IxX3/Xr/7OtewV4/8AB7/kYr7/AK9f/Z1r2CvQofAfHZr/AL0/RBRRRW55ZxXxX/5Ek/8AXzH/AFrxKvbfiv8A8iSf+vmP+teJVwYj4z67KP8AdvmwooornPXCiiigAooooAKKKKACiiigAooooAKKKKAFX7w+tfUNfLy/eH1r6hrsw3U+czv/AJd/P9AooorrPnQr5p1f/kOX3/XxJ/6Ea+lq+adX/wCQ5ff9fEn/AKEa5MTsj6DJPin8inRRRXGfShRRRQAUUUUAFFFFABRRRQAUUUUAFFFFABXsXwf/AORYvP8Ar8P/AKAteO17F8H/APkWLz/r8P8A6Atb0PjPKzb/AHV+qPQKKKK9A+PCiiigAooooAKKKKACiiigAooooAKKKKACiiigAooooAKKKKACiiigAooooAKKKKACiiigBk3/AB7yf7p/lXzBX0/N/wAe8n+6f5V8wVx4nofR5JtU+X6hRRRXIfRBRRRQAUUUUAFFFFABRRRQAUUUUAFFFFABXuPwt/5EWD/rtJ/6FXh1e4/C3/kRYP8ArtJ/6FXRh/jPHzj/AHZeq/U7Giiiu8+SCiiigAooooAKKKKACiiigAooooAKKKKACiiigAooooAKKKKACiiigAooooAKKKKACiiigAooooAKKKKACiiigAooooAKKKKACiiigAooooAKKKKAPnvxx/yPGq/9dz/IVg1veOP+R41X/ruf5CsGvKn8TPvsP/Bh6L8goooqTcKKKKACiiigAooooAKKKKACiiigAooooA9Q+DP39Z+kP/s9epV5b8Gfv6z9If8A2evUq9Gj/DR8Xmf+9z+X5IKKKK2POCiiigAooooAKKKKACiiigDL8Rf8gyH/AK/rP/0pjrUrL8Rf8gyH/r+s/wD0pjrUoAKKKKACiiigCvbf8fN3/wBdR/6AtWKr23/Hzd/9dR/6AtWKAIbr/VD/AHqqVbuv9UP96qlABRRRQBo1Xtf9dd/9dh/6AtWKr2v+uu/+uw/9AWgCxRRRQAUUUUAFFFFABRRRQAUUUUAFFFFABRRRQBg+KJI4G0e6umVLO31FZLmRzhY18uQKzHoAHKcnpx0rnruE3em6xqumyWrWP22Z4TKzLHIj2yxO6lVbd+834AHzHPPNd/RQBwfh6TUdO8RQWl/eYu7hkE1mQp/ci3YrJ03fKyrHkHbndxubNdVqGn3k+pW17p93BbyQRSxET25lDByh7OuCPLHr1rSooAy/s+v/APQT03/wXSf/AB+j7Pr/AP0E9N/8F0n/AMfrUooAy/s+v/8AQT03/wAF0n/x+j7Pr/8A0E9N/wDBdJ/8frUooAy/s+v/APQT03/wXSf/AB+j7Pr/AP0E9N/8F0n/AMfrUooAy/s+v/8AQT03/wAF0n/x+j7Pr/8A0E9N/wDBdJ/8frUooAy/s+v/APQT03/wXSf/AB+j7Pr/AP0E9N/8F0n/AMfrUooAy/s+v/8AQT03/wAF0n/x+q+oaVreo6bc2U+qaesdzE0TlNPcMAwwcZm681uUUDTad0eXf8KY/wCo9/5J/wD2dH/CmP8AqPf+Sf8A9nXqNFZ+yh2Oz6/iv52eXf8ACmP+o9/5J/8A2dH/AApj/qPf+Sf/ANnXqNFHsodg+v4r+dnl3/CmP+o9/wCSf/2dH/CmP+o9/wCSf/2deo0Ueyh2D6/iv52eXf8ACmP+o9/5J/8A2dH/AApj/qPf+Sf/ANnXqNZOs6pfWF1Yw2NjBcC6ZkMtxctCkbgAquVjflvmxnAyMZyQKPZQ7B9fxX87OE/4Ux/1Hv8AyT/+zo/4Ux/1Hv8AyT/+zr0Kxm1eScjU7Gyt4tuQ1vevMxbI4wYk4xnnP4Vfo9lDsH1/Ffzs8u/4Ux/1Hv8AyT/+zo/4Ux/1Hv8AyT/+zr1Gij2UOwfX8V/Ozy7/AIUx/wBR7/yT/wDs6P8AhTH/AFHv/JP/AOzr1Gij2UOwfX8V/Ozy7/hTH/Ue/wDJP/7Oj/hTH/Ue/wDJP/7OvUaKPZQ7B9fxX87Of0rRdZ0fSrfT7bVbFordNitJp7liPfEwq59n1/8A6Cem/wDguk/+P1qUVpsccm5O7Mv7Pr//AEE9N/8ABdJ/8fo+z6//ANBPTf8AwXSf/H61KKBHn2u/DK48QaxLqN5rcSTShQyxWRCjAAHWQnt61n/8KY/6j3/kn/8AZ16jRWbpwbu0dccbiIxUYzdkeXf8KY/6j3/kn/8AZ0f8KY/6j3/kn/8AZ16jRR7KHYr6/iv52eXf8KY/6j3/AJJ//Z0f8KY/6j3/AJJ//Z16jRR7KHYPr+K/nZ5d/wAKY/6j3/kn/wDZ0f8ACmP+o9/5J/8A2deo1U1a7ksNFvbyCMSS29vJKiH+IqpIHH0o9lDsH1/Ffzs85/4Ux/1Hv/JP/wCzo/4Ux/1Hv/JP/wCzro9b1zWNF8N3t5dz2lxG9lI9tf2MBVYpdhKBlZnBUnGGzjOARyDXXUeyh2D6/iv52eXf8KY/6j3/AJJ//Z0f8KY/6j3/AJJ//Z16jRR7KHYPr+K/nZ5d/wAKY/6j3/kn/wDZ0f8ACmP+o9/5J/8A2deo0Ueyh2D6/iv52eXf8KY/6j3/AJJ//Z0f8KY/6j3/AJJ//Z16jRR7KHYPr+K/nZw/hv4f3vha8ludP1mCR5Y/LYT2LEAZB7Sj0rpPs+v/APQT03/wXSf/AB+tSirUVFWRzVKk6suabuzL+z6//wBBPTf/AAXSf/H6Ps+v/wDQT03/AMF0n/x+tSimZnL+IfDGq+JNL+wX2rWccW8PmGwYNkfWY+tct/wpj/qPf+Sf/wBnXqNFRKEZO7R008VWpR5YSsjy7/hTH/Ue/wDJP/7Oj/hTH/Ue/wDJP/7OvUaKXsodjT6/iv52eXf8KY/6j3/kn/8AZ0f8KY/6j3/kn/8AZ16jRR7KHYPr+K/nZ5d/wpj/AKj3/kn/APZ0f8KY/wCo9/5J/wD2deo0Ueyh2D6/iv52eXf8KY/6j3/kn/8AZ0f8KY/6j3/kn/8AZ11+u6rrFteXcWjrbO1pZpci3lgeSS5JZwVQqwxjYOzcsOlT6JPfxapfaXqd8l+9vDDMJ1hEZ/ebwVIHHBjyO+GGc9Seyh2D6/iv52cT/wAKY/6j3/kn/wDZ0f8ACmP+o9/5J/8A2deo0Ueyh2D6/iv52eXf8KY/6j3/AJJ//Z0f8KY/6j3/AJJ//Z16jRR7KHYPr+K/nZ5d/wAKY/6j3/kn/wDZ0f8ACmP+o9/5J/8A2deo0Ueyh2D6/iv52eXD4M4IP9vf+Sf/ANnXe/Z9f/6Cem/+C6T/AOP1qUVUYxjsYVa9Wtb2kr2Mv7Pr/wD0E9N/8F0n/wAfo+z6/wD9BPTf/BdJ/wDH61KKoxMv7Pr/AP0E9N/8F0n/AMfrhrn4PtdXUtxJroDyuXYLZcAk5/56V6bRUyipbm1KvUo3dN2ueXf8KY/6j3/kn/8AZ0f8KY/6j3/kn/8AZ16jRU+yh2N/r+K/nZ5d/wAKY/6j3/kn/wDZ0f8ACmP+o9/5J/8A2deo0Ueyh2D6/iv52eXf8KY/6j3/AJJ//Z0f8KY/6j3/AJJ//Z16jRR7KHYPr+K/nZ5d/wAKY/6j3/kn/wDZ0f8ACmP+o9/5J/8A2dejaqdRGlzHRfs/20AGIXIJjPIyDgg9M4564rmdP1jWrzxTZ2LapYjFvLLd2Z05o5I9rwjaczNgkO21wSh5I3jBB7KHYPr+K/nZz/8Awpj/AKj3/kn/APZ0f8KY/wCo9/5J/wD2deo0Ueyh2D6/iv52eXf8KY/6j3/kn/8AZ0f8KY/6j3/kn/8AZ16jRR7KHYPr+K/nZ5d/wpj/AKj3/kn/APZ0f8KY/wCo9/5J/wD2deo0Ueyh2D6/iv52eXf8KY/6j3/kn/8AZ10vhvwlqfhexltNP1e0kjll80mewYnOAO0o44rrKKapxi7pGdTFV6seWcroy/s+v/8AQT03/wAF0n/x+j7Pr/8A0E9N/wDBdJ/8frUoqzmMv7Pr/wD0E9N/8F0n/wAfo+z6/wD9BPTf/BdJ/wDH61KKAMv7Pr//AEE9N/8ABdJ/8fo+z6//ANBPTf8AwXSf/H61KKAMv7Pr/wD0E9N/8F0n/wAfo+z6/wD9BPTf/BdJ/wDH61KKAMv7Pr//AEE9N/8ABdJ/8fo+z6//ANBPTf8AwXSf/H61KKAMv7Pr/wD0E9N/8F0n/wAfo+z6/wD9BPTf/BdJ/wDH61K5BfEk2s3cWkWOqWtnfNeXcc5h2yTQxwysq4RiQGZQvLAjBOByMAG39n1//oJ6b/4LpP8A4/R9n1//AKCem/8Aguk/+P0/Qb6bUdHSe5aN5Vllhd4gQjmORo9wBJwDtzjJ69TWjQBl/Z9f/wCgnpv/AILpP/j9H2fX/wDoJ6b/AOC6T/4/WpRQBl/Z9f8A+gnpv/guk/8Aj9H2fX/+gnpv/guk/wDj9alFAGX9n1//AKCem/8Aguk/+P0fZ9f/AOgnpv8A4LpP/j9alFAGX9n1/wD6Cem/+C6T/wCP0fZ9f/6Cem/+C6T/AOP1qUUAZf2fX/8AoJ6b/wCC6T/4/R9n1/8A6Cem/wDguk/+P1qUUAZf2fX/APoJ6b/4LpP/AI/R9n1//oJ6b/4LpP8A4/WpRQBl/Z9f/wCgnpv/AILpP/j9H2fX/wDoJ6b/AOC6T/4/WpRQBkta686FTqem4Ix/yDpP/j9cJ/wpj/qPf+Sf/wBnXqNFTKMZbo3pYirRv7OVrnl3/CmP+o9/5J//AGdH/CmP+o9/5J//AGdeo0VPsodjb6/iv52eXf8ACmP+o9/5J/8A2dH/AApj/qPf+Sf/ANnXqNFHsodg+v4r+dnl3/CmP+o9/wCSf/2dH/CmP+o9/wCSf/2deo0Ueyh2D6/iv52eXf8ACmP+o9/5J/8A2dH/AApj/qPf+Sf/ANnXd69dXEI0+1s7j7LJf3YtzcbQxiXY7kgNkbiI9oyCMsDg9KzdQ/tvSL6wgsdWbUH1CVrfZqCRDySEZ/NHlIpIUIQVPXcvK9aPZQ7B9fxX87OW/wCFMf8AUe/8k/8A7Oj/AIUx/wBR7/yT/wDs69D1wXJ8PaiLDf8Aajay+T5Z+bfsO3HvnFcZdatdFo7bUdQ1eLSluN8uqTWr2bqnlNwWCIAPNKY4GenIzk9lDsH1/Ffzsz/+FMf9R7/yT/8As6P+FMf9R7/yT/8As69F0eW5uNDsJr9WS6kto2nVl2kOVBYEduc8Vco9lDsH1/Ffzs8u/wCFMf8AUe/8k/8A7Oj/AIUx/wBR7/yT/wDs69Roo9lDsH1/Ffzs8u/4Ux/1Hv8AyT/+zrqtA8Nat4d0lNPstWs5IlZmDTWDlsk57TCunopxhGLukZVMVWqx5ZyujL+z6/8A9BPTf/BdJ/8AH6Ps+v8A/QT03/wXSf8Ax+tSirOcy/s+v/8AQT03/wAF0n/x+j7Pr/8A0E9N/wDBdJ/8frUooAy/s+v/APQT03/wXSf/AB+j7Pr/AP0E9N/8F0n/AMfrUooAy/s+v/8AQT03/wAF0n/x+j7Pr/8A0E9N/wDBdJ/8frUooAy/s+v/APQT03/wXSf/AB+j7Pr/AP0E9N/8F0n/AMfrUooAy/s+v/8AQT03/wAF0n/x+j7Pr/8A0E9N/wDBdJ/8frUooAy/s+v/APQT03/wXSf/AB+j7Pr/AP0E9N/8F0n/AMfrUooAy/s+v/8AQT03/wAF0n/x+j7Pr/8A0E9N/wDBdJ/8frUooAy/s+v/APQT03/wXSf/AB+j7Pr/AP0E9N/8F0n/AMfrUooAy/s+v/8AQT03/wAF0n/x+j7Pr/8A0E9N/wDBdJ/8frUooAy/s+v/APQT03/wXSf/AB+j7Pr/AP0E9N/8F0n/AMfrUrmdbmXSZTLe+J9Xt1l3yrFb2cMwRFIycLAzBV3KMse4ycmgDS+z6/8A9BPTf/BdJ/8AH6Ps+v8A/QT03/wXSf8Ax+k8P3cd3YzGLUL6/wDLmKM99bCCRGAHy7fLTjnOcdzz6atAGX9n1/8A6Cem/wDguk/+P0fZ9f8A+gnpv/guk/8Aj9alFAGX9n1//oJ6b/4LpP8A4/R9n1//AKCem/8Aguk/+P1qUUAZf2fX/wDoJ6b/AOC6T/4/R9n1/wD6Cem/+C6T/wCP1qUUAZf2fX/+gnpv/guk/wDj9H2fX/8AoJ6b/wCC6T/4/WpRQBl/Z9f/AOgnpv8A4LpP/j9H2fX/APoJ6b/4LpP/AI/WpRQBl/Z9f/6Cem/+C6T/AOP0fZ9f/wCgnpv/AILpP/j9alFAGX9n1/8A6Cem/wDguk/+P0fZ9f8A+gnpv/guk/8Aj9alFAGX9n1//oJ6b/4LpP8A4/R9n1//AKCem/8Aguk/+P1qUUAZf2fX/wDoJ6b/AOC6T/4/R9n1/wD6Cem/+C6T/wCP1qUUAZf2fX/+gnpv/guk/wDj9H2fX/8AoJ6b/wCC6T/4/WpRQB5zqvwqm1fVbi/udcRZbh97LHZEKD7ZkNVP+FMf9R7/AMk//s69RorP2cH0OyONxMVZTZ5d/wAKY/6j3/kn/wDZ0f8ACmP+o9/5J/8A2deo0Ueyh2H9fxX87PLv+FMf9R7/AMk//s6P+FMf9R7/AMk//s69Roo9lDsH1/Ffzs8u/wCFMf8AUe/8k/8A7Oj/AIUx/wBR7/yT/wDs69RqG7gkubV4obqW0dsYmhCFl5zxvVl9uQetHsodg+v4r+dnmn/CmP8AqPf+Sf8A9nR/wpj/AKj3/kn/APZ1uXOr2tpPJFL4t18mIuGaPTEkX5G2thltSDhuCQeDxXa0eyh2D6/iv52eXf8ACmP+o9/5J/8A2dH/AApj/qPf+Sf/ANnXqNFHsodg+v4r+dnl3/CmP+o9/wCSf/2dH/CmP+o9/wCSf/2deo0Ueyh2D6/iv52eXf8ACmP+o9/5J/8A2dH/AApj/qPf+Sf/ANnXqNFHsodg+v4r+dnGeGfA9/4UNydO1m2k+07d/n2DHG3OMYlH941v/Z9f/wCgnpv/AILpP/j9alFWkkrI5alSVSXNN3Zl/Z9f/wCgnpv/AILpP/j9H2fX/wDoJ6b/AOC6T/4/WpRTIMv7Pr//AEE9N/8ABdJ/8fo+z6//ANBPTf8AwXSf/H61KKAMv7Pr/wD0E9N/8F0n/wAfo+z6/wD9BPTf/BdJ/wDH61KKAMv7Pr//AEE9N/8ABdJ/8fo+z6//ANBPTf8AwXSf/H61KKAMv7Pr/wD0E9N/8F0n/wAfo+z6/wD9BPTf/BdJ/wDH61KKAMa40zV71Yo7zUrIwpPFMyxWLqzeXIrgAmUgZK46GtmiigAooooAKKKKAK9t/wAfN3/11H/oC1Yqvbf8fN3/ANdR/wCgLVigCG6/1Q/3qqVbuv8AVD/eqpQAUUUUAaNV7X/XXf8A12H/AKAtWKr2v+uu/wDrsP8A0BaALFFFFABRRRQAUUUUAFFFFABRRRQAUUUUAFFFFABRRRQAUUUUAFFFFABRRRQAUUUUAFFFFABRRRQAUUUUAFFFFABRRRQAUUUUAFYXiOSVZ7NJW1BNOcP9obTo3eQuNpRT5YLqpG/JXHIUZGcHdqhqWrJp0lvCltcXlzcFvKt7cLuYKMsxLMqgDjkkckDqRQBk6E7f228emvqz6Z5DNKupxzDZLlAmxpgJDkByRkqOOmeelrFj8UWy30djqNpdaddzFRBBcBGacE4ynlswOOrc5UcnA5raoAKKKKACiiigAooooAKKKKACiiigAooooAKKKKACiiigAqtqTXS6Vdtpyh7wQuYFbGDJtO0c8dcVZqOeeK1tpLi4cRxRIXd26KoGSfyoA4qeVPsZm0i48UPrJBMLXFtchJJCCAro6CBVyRkgKABkEda7msFvFJitVvLvRNTtbEhWa6mEO2NDjDsokLqOcnK5AzkDBrWsb6DUrNLqzfzIJM7HwQHAJGRnqDjIPQjBHBoAsUUUUAFFFFABRRRQAUUUUAFFFFABRRRQAUUUUAFFFFABRRRQBzmuyH+2Ei1FtWTTfIVoxpscx8yXLBg7QgyLgbCBkA5brjiTw28xub1IX1GTTECfZzqUbrIHJcyKDIBIygGPBbPOQCcYF2/1kWd8llbWN1qFy0fmtFbbB5aZwGYuyqMnIAzk4PHBqKz8SWl1qI06aG4s9RzzaTqpcLt3b8oWXZ23Zxu+XrxQBr0UUUAFFFFABRRRQAUUUUAFFFFABRRRQAUUUUAFFFFABRRRQBn67Ldw6NNJp/m+cpQkwoHkVN43lFIILBNxAwckDg9K5mOG1TVrK50L+3n1HekMkl9b3JR4C6mXc067U+VSRsKncABnpXW6jfw6Zp8t5dbvLiHRFLMxJwFUDqSSAB3JrMm8ULY7JNZ0u90q2ZthurpoDEhwcBikjFc4xkjGcDOSKANyio7edbm1injDhJUDqHQqwBGeQeQfY1JQAUUUUAFFFFABRRRQAUUUUAFFFFABRRRQAUUUUAFFFFABXHXDxTXd4Ndl8RR3KzSJEtjFdCKOPcfLZDAu1iVKk7ixzkcYxXY1jt4gd7iePT9H1DUI4JDE88BhVN4+8o8yRScHgkDGQRnINAE+gSXkuiwyaiZTMzOQZ4wkhj3t5ZdQAAxTbkYGDngdK0aztI16w1xHbT5GcxBfNVkKmJjn5G9HGOV6jIz1FaNABRRRQAUUUUAFFFFABRRRQAUUUUAFFFFABRRRQAUUUUAFFFFABRRRQAUUUUAZPiN7L+z4re/spr43MyxwW8BAkaQAuCrFl2kBC27cMbeuaydDl0yXWY20zTdUnuE3w3NxfTySixI6x7pXYFiwAIjz2JOMZ3dV0oaoLUreXFnLazefFLbhCwbYyHh1YEbXbtVXSvD8mlXDOmtahcRvK8skMywbXds5JKxBhyc8EflxQBp3nl/YZ/O83y/Lbf5G/wAzGOduz5s+m3nPTmuY0iXVbbWrSF55LXTrjzNlnrN1HJdvhd37rZkkDPJd2bAPAwCdvXLC/wBR08Q6XqR06XeC8gi3+YmCCnUFc5+8pDDHBrD8MabLo2vagL3RmgkvpA0V5HObtSBGuUaVsSdVY/OoXPAOSAQDrqKKKACiiigAooooAKKKKACiiigAooooAKKKKACiiigAooooAKKKKACiiigAooooAKKKKACsDxIttLcQ272d7e3Nza3ECxWZjBETbPMYmRlUYIjwc5yeh5rfrnNdgvLq7tLq1ttahmtWlRXsHtBuU7eW81jlTjIHquSAQtAFzw7bSwW11Jcx6gk9xceZIdQaAyOQiKCPJOwDCgY4PB9cnXrN0L7X9hf7f/aHmeYcf2h9n8zGB08j5cdevOc9sVpUAFFFFABRRRQAUUUUAFFFFABRRRQAUUUUAFFFFABRRRQAUUUUAFFFFABRRRQAUUUUAFFFFABTXdYo2kkZURQSzMcAAdyadRQBwF7qHhPUNMmaDxA0ZJvIWtbS4gee6EspLxqpDEh2GUIwcMORmu/rhbvWntRqDR+II7TU4bmUW+iKsIExDny1KFfNYyjDZDDmTI6V3VABRRRQAUUUUAFFFFABRRRQAUUUUAFFFFABRRRQAUUUUAFFFFABRRRQAUUUUAFFFFAFe2/4+bv/AK6j/wBAWrFV7b/j5u/+uo/9AWrFAEN1/qh/vVUq3df6of71VKACiiigDRqva/667/67D/0BasVXtf8AXXf/AF2H/oC0AWKKKKACiiigAooooAKKKKACiiigAooooAKKKKACiiigAooooAKKKKACiiigAooooAKKKKACiiigAooooAKKKKACiiigAooooAK5/wASSjTryw1db7T7WSASW+zULjyI5kk2kqHwcMDGpHB6Ed8joKxdWstRfW7HUNOt7O6EFvPC8V1cNFzI0RDAiN88RsOg+9QBXsXmuvFySatNYRXkNk4t7G1nMzCN3TfKzFVPJVABj15Pboq5zwho99oVgtjc6fp1ugTL3FpcM7zPngspiXt33HGAMY6dHQAUUUUAFFFFABRRRQAUUUUAFFFFABRRRQAUUUUAFFFFABVXVLKPUtHvLGdzHFdQPC7j+EMpBP61aqhrtjLqfh3UbC2ZUmurWWGNnJChmQgEkc4yaAOXvdWutV8K3UV5qWgDTmQ297qltfmT5SMNiPZgOwOAN5wWHXv24AUAAYA4AHauROj6y/iRNXk0TRGeK2WCJDfyfuyGJ3A/Z+Dg46cDvzXXUAFFFFABRRRQAUUUUAFFFFABRRRQAUUUUAFFFFABRRRQAUUUUAc5rE76T4kivba80wTX0CWptL+7+zmXYzFGjYKxJzIwI285HIxzJoe6bxBqlxfXFm2oiOGKS1tJDILaMbygZiASzFnPQcY47mDXdH1S7v8AUnsLawniv9OSzJubho2iIMpJAEbZB8xe4+7V/wAOWV1punLZ3Gn2NlHEqhPsdw0nmH+JmzGmCTg55Jyc+4Br0UUUAFFFFABRRRQAUUUUAFFFFABRRRQAUUUUAFFFFABRRRQBmeIrYXWhTq13HZmJkuFuJsbI2jdZFLZI+XKjPtmsO41GfWbfTv7RutFt9OmvYSJbS/NybqRJAyRIDGo5dRnk8AjHcbniGwuNR0cwWawvMtxBMEncqjiOZHKkgNjIUjoetZGnaRq1v4mu9VuNI0jfdugMqXrtJCgUK23MAyTjOMrngE8ZoA6qiiigAooooAKKKKACiiigAooooAKKKKACiiigAooooAKKKKACuVtrq80zUr7StKuNGvm86W6EM+oGGeDzGLsGRY3yAzkg8cMB7nqq4m98NavcwpaPpukXVtFqk19me8cGZXkkYIy+SQOHAPJHy46UAb/hZIF8PxNbXsN+JZZpZLmAfJJI0rM5X23FgPYCteoLL7R9jjF3BDbygYMUEhkRRnjDFVzxjsKnoAKKKKACiiigAooooAKKKKACiiigAooooAKKKKACiiigAooooAKKKKACiiigAooooAKKKKACiiigAooooAKKKKACiiigAooooAKKKKACiiigAooooAKKKKACiiigAooooAKKKKACiiigArlNU0bXJZtUjsYNPkgvb6C8SSa7eNl8tYQVKiJhyYTzn+LpxXV0UAVrGS+kgJ1O3t7eXdgLb3DTKVwOclE5znjH41ZoooAKKKKACiiigAooooAKKKKACiiigAooooAKKKKACiiigAooooAKKKKACiiigAooooAKKKKACsrxVNLb+DtZmt5HiljsJ3SRGKsjCNiCCOhB71q0UAY/2nxL/wBAnSv/AAaSf/I9bFFFABRRRQAUUUUAFFFFABRRRQAUUUUAFFFFABRRRQAUUUUAFFFFABRRRQAUUUUAFFFFAFe2/wCPm7/66j/0BasVXtv+Pm7/AOuo/wDQFqxQBDdf6of71VKt3X+qH+9VSgAooooA0ar2v+uu/wDrsP8A0BasVXtf9dd/9dh/6AtAFiiiigAooooAKKKKACiiigAooooAKKKKACiiigAooooAKKKKACiiigAooooAKKKKACiiigAooooAKKKKACiiigAooooAKKKKACiiigAooooAKKKKACiiigAooooAKKKKACiiigAooooAKKKKACiiigAooooAKKKKACiiigAooooAKKKKACiiigAooooAKKKKACiiigAooooAKKKKACiiigAooooAKKKKACiiigAooooAKKKKACiiigAooooAKKKKACiiigAooooAKKKKACiiigAooooAKKKKACiiigAooooAKKKKACiiigAooooAKKKKACiiigAooooAKKKKACiiigAooooAKKKKACiiigAooooAKKKKACiiigAooooAKKKKACiiigAooooAKKKKACiiigAooooAKKKKACiiigAooooAKKKKACiiigAooooAKKKKACiiigAooooAKKKKACiiigAooooAKKKKACiiigAooooAKKKKACiiigAooooAKKKKACiiigAooooAKKKKACiiigAooooAKKKKACiiigAooooAKKKKACiiigAooooAKKKKACiiigAooooAKKKKACiiigAooooAKKKKACiiigAooooAr23/AB83f/XUf+gLViq9t/x83f8A11H/AKAtWKAIbr/VD/eqpVu6/wBUP96qlABRRRQBo1Xtf9dd/wDXYf8AoC1Yqva/667/AOuw/wDQFoAsUUUUAFFFFABRTWkCHBDfgpP8qb56+kn/AH7b/CgCSio/PX0k/wC/bf4UeevpJ/37b/CgCSio/PX0k/79t/hR56+kn/ftv8KAJKKj89fST/v23+FHnr6Sf9+2/wAKAJKKj89fST/v23+FHnr6Sf8Aftv8KAJKKj89fST/AL9t/hR56+kn/ftv8KAJKKj89fST/v23+FHnr6Sf9+2/woAkoqPz19JP+/bf4UeevpJ/37b/AAoAkoqPz19JP+/bf4UeevpJ/wB+2/woAkoqPz19JP8Av23+FHnr6Sf9+2/woAkoqPz19JP+/bf4UeevpJ/37b/CgCSio/PX0k/79t/hR56+kn/ftv8ACgCSio/PX0k/79t/hR56+kn/AH7b/CgCSio/PX0k/wC/bf4UeevpJ/37b/CgCSio/PX0k/79t/hR56+kn/ftv8KAJKKj89fST/v23+FHnr6Sf9+2/wAKAJKKj89fST/v23+FHnr6Sf8Aftv8KAJKKj89fST/AL9t/hR56+kn/ftv8KAJKKj89fST/v23+FHnr6Sf9+2/woAkoqPz19JP+/bf4UeevpJ/37b/AAoAkoqPz19JP+/bf4UeevpJ/wB+2/woAkoqPz19JP8Av23+FHnr6Sf9+2/woAkoqPz19JP+/bf4UeevpJ/37b/CgCSio/PX0k/79t/hR56+kn/ftv8ACgCSio/PX0k/79t/hR56+kn/AH7b/CgCSio/PX0k/wC/bf4UeevpJ/37b/CgCSio/PX0k/79t/hR56+kn/ftv8KAJKKj89fST/v23+FHnr6Sf9+2/wAKAJKKj89fST/v23+FHnr6Sf8Aftv8KAJKKj89fST/AL9t/hR56+kn/ftv8KAJKKj89fST/v23+FHnr6Sf9+2/woAkoqPz19JP+/bf4UeevpJ/37b/AAoAkoqPz19JP+/bf4UeevpJ/wB+2/woAkoqPz19JP8Av23+FHnr6Sf9+2/woAkoqPz19JP+/bf4UeevpJ/37b/CgCSio/PX0k/79t/hR56+kn/ftv8ACgCSio/PX0k/79t/hR56+kn/AH7b/CgCSio/PX0k/wC/bf4UeevpJ/37b/CgCSio/PX0k/79t/hR56+kn/ftv8KAJKKj89fST/v23+FHnr6Sf9+2/wAKAJKKj89fST/v23+FHnr6Sf8Aftv8KAJKKj89fST/AL9t/hR56+kn/ftv8KAJKKj89fST/v23+FHnr6Sf9+2/woAkoqPz19JP+/bf4UeevpJ/37b/AAoAkoqPz19JP+/bf4UeevpJ/wB+2/woAkoqPz19JP8Av23+FHnr6Sf9+2/woAkoqPz19JP+/bf4UeevpJ/37b/CgCSio/PX0k/79t/hR56+kn/ftv8ACgCSio/PX0k/79t/hR56+kn/AH7b/CgCSio/PX0k/wC/bf4UeevpJ/37b/CgCSio/PX0k/79t/hR56+kn/ftv8KAJKKj89fST/v23+FHnr6Sf9+2/wAKAJKKj89fST/v23+FHnr6Sf8Aftv8KAJKKj89fST/AL9t/hR56+kn/ftv8KAJKKj89fST/v23+FHnr6Sf9+2/woAkoqPz19JP+/bf4UeevpJ/37b/AAoAkoqPz19JP+/bf4UeevpJ/wB+2/woAkoqPz19JP8Av23+FHnr6Sf9+2/woAkoqPz19JP+/bf4UeevpJ/37b/CgCSio/PX0k/79t/hR56+kn/ftv8ACgCSio/PX0k/79t/hR56+kn/AH7b/CgCSio/PX0k/wC/bf4UeevpJ/37b/CgCSio/PX0k/79t/hR56+kn/ftv8KAJKKj89fST/v23+FHnr6Sf9+2/wAKAJKKj89fST/v23+FHnr6Sf8Aftv8KAJKKj89fST/AL9t/hR56+kn/ftv8KAJKKj89fST/v23+FHnr6Sf9+2/woAkoqPz19JP+/bf4UeevpJ/37b/AAoAkoqPz19JP+/bf4UeevpJ/wB+2/woAkoqPz19JP8Av23+FHnr6Sf9+2/woAkoqPz19JP+/bf4UeevpJ/37b/CgCSio/PX0k/79t/hR56+kn/ftv8ACgCSio/PX0k/79t/hR56+kn/AH7b/CgCSio/PX0k/wC/bf4UeevpJ/37b/CgCSio/PX0k/79t/hR56+kn/ftv8KAJKKj89fST/v23+FHnr6Sf9+2/wAKAJKKj89fST/v23+FHnr6Sf8Aftv8KAJKKj89fST/AL9t/hR56+kn/ftv8KAJKKj89fST/v23+FHnr6Sf9+2/woAkoqPz19JP+/bf4UeevpJ/37b/AAoAkoqPz19JP+/bf4UeevpJ/wB+2/woAkoqPz19JP8Av23+FHnr6Sf9+2/woAkoqPz19JP+/bf4UeevpJ/37b/CgCSio/PX0k/79t/hR56+kn/ftv8ACgCSio/PX0k/79t/hR56+kn/AH7b/CgCSio/PX0k/wC/bf4UeevpJ/37b/CgCSio/PX0k/79t/hR56+kn/ftv8KAJKKj89fST/v23+FHnr6Sf9+2/wAKAJKKj89fST/v23+FHnr6Sf8Aftv8KAJKKj89fST/AL9t/hR56+kn/ftv8KAJKKj89fST/v23+FHnr6Sf9+2/woAkoqPz19JP+/bf4UeevpJ/37b/AAoAkoqPz19JP+/bf4UeevpJ/wB+2/woAkoqPz19JP8Av23+FHnr6Sf9+2/woAkoqPz19JP+/bf4UeevpJ/37b/CgCSio/PX0k/79t/hR56+kn/ftv8ACgCSio/PX0k/79t/hR56+kn/AH7b/CgCSio/PX0k/wC/bf4UeevpJ/37b/CgCSio/PX0k/79t/hR56+kn/ftv8KAJKKj89fST/v23+FHnr6Sf9+2/wAKAJKKj89fST/v23+FHnr6Sf8Aftv8KAJKKj89fST/AL9t/hR56+kn/ftv8KAJKKj89fST/v23+FHnr6Sf9+2/woAkoqPz19JP+/bf4UeevpJ/37b/AAoAkoqPz19JP+/bf4UeevpJ/wB+2/woAkoqPz19JP8Av23+FHnr6Sf9+2/woAkoqPz19JP+/bf4UeevpJ/37b/CgCSio/PX0k/79t/hR56+kn/ftv8ACgCSio/PX0k/79t/hR56+kn/AH7b/CgCSio/PX0k/wC/bf4UeevpJ/37b/CgCSio/PX0k/79t/hR56+kn/ftv8KAJKKj89fST/v23+FPVgy5Gce4xQAtFFFABRRRQBXtv+Pm7/66j/0BasVXtv8Aj5u/+uo/9AWrFAEN1/qh/vVUq3df6of71VKACiiigDRqva/667/67D/0BasVXtf9dd/9dh/6AtAFiiiigAooooAKKKKACiiigAooooAKKKKACiiigAooooAKKKKACiiigAooooAKKKKACiiigAooooAKKKKACiiigAooooAKKKKACiiigAooooAKKKKACiiigAooooAKKKKACiiigAooooAKKKKACiiigAooooAKKKKACiiigAooooAKKKKACiiigAooooAKKKKACiiigAooooAKKKKACiiigAooooAKKKKACiiigAooooAKKKKACiiigAooooAKKKKACiiigAooooAKKKKACiiigAooooAKKKKACiiigAooooAKKKKACiiigAooooAKKKKACiiigAooooAKKKKACiiigAooooAKKKKACiiigAooooAKKKKACiiigAooooAKKKKACiiigAooooAKKKKACiiigAooooAKKKKACiiigAooooAKKKKACiiigAooooAKKKKACiiigAooooAKKKKACiiigAooooAKKKKACiiigAooooAKKKKACiiigAooooAKKKKACiiigAooooAKKKKACiiigAooooAKKKKACiiigAooooAKKKKACiiigAooooAKKKKACiiigAooooAKKKKACiiigAooooAKKKKACiiigAooooAr23/Hzd/9dR/6AtWKr23/AB83f/XUf+gLVigCG6/1Q/3qqVbuv9UP96qlABRRRQBo1Xtf9dd/9dh/6AtWKr2v+uu/+uw/9AWgCxRRRQAUUUUAFFZl1r1tZ+IrDRp45hPfxyPBIFHlnYMspOc5wc9Kr6t4s03RvEGl6Peeb9p1NisRRQVTGANxJyMk4GAeaN7eYG3RWZq+vWujXOnW9wk0kuo3ItoViAJBIJLHJHygDk8/StOgAorG1/xB/YdxpMX2bz/7Svks8+Zt8vcCd3Q56dOPrWzQAUUUUAFFFFABRRRQAUVl6f4gttR17VNJhinSfTDGJnkUBG3ruG05yePUCtSgAooooAKKKKACiiigAooooAKKKKACiiigAooooAKKKKACiiigAooooAKKKKACiiigAooooAKKKKACiiigAoJwpJ7egzRSNu2HZjdjjPTNAC0UUUAFFFFABRWBr/jLS/D11FZ3H2i6vphmOzs4vMlYeuP8TTtC8Vwa7eS2g0zVNPniTzCl/a+Vlc4yOTWvsp8vPbQxdemp8l9TdooorI2CiiigAooooAKKKw/CXiT/AISnSJL77J9l8u4eDZ5m/O3HOcD16VSi3FyWyIc4qSi92blFZVx4itLfxTa6C8cxurqFp0cKNgUZzk5znj0rVocWrN9RqUZNpdAorP13WIdA0O61S6Vnitk3FU6tzgD8yKqeGtZ1TWrU3Op6J/ZcLokluxu1mMqsM5wANvGOvrTVOTi59ES6kVNQe7/r5fM26KKKg0CiiigAooooAKKqWOqWepSXSWM4ma0mME2FI2OACV5HPUdKh0a51S5huG1mwjspFnZYlSYSb4x91uOmfSq5X1I507WNGiiipLCiiigAooooAKKKKACiiigAooooAKKKKACiiigAooooAKKKKACiiigAooooAKKKKACiiigAooooAKKKKACiiigAooooAKKKKACiiigAooooAKKKKACiiigAooooAKKKKACiiigAooooAKKKKACiiigAooooAKKKKACiiigAooooAKKKKACiiigAooooAKKKKACiiigAooooAKKKKACiiigAooooAKKKKACiiigAooooAKKKKACiiigAooooAKKKKACgHIBHf1GKKRc7RvwWxyR60ALRRRQAUUUUAFFFFABRRRQAUUUUAFFFFABRRRQAUUUUAFFFFABRRRQAUUUUAFFFFABRRRQAUUUUAFFFFABRRRQAUUUUAFFFFABRRRQAUUUUAFFFFABRRRQAUUUUAFFFFABRRRQAUUUUAFFFFABRRRQBXtv+Pm7/AOuo/wDQFqxVe2/4+bv/AK6j/wBAWrFAEN1/qh/vVUq3df6of71VKACiiigDRqva/wCuu/8ArsP/AEBasVXtf9dd/wDXYf8AoC0AWKKKKACiiigDjfiKPsVto+vrwdJ1GJ5GHaJzscfqK53xBYyeI73xdrNt80ujLDBYOOzwkTSY988V6F4j0ka94a1DSyVBuoGjVm6K2PlP4HBqh4M8OS+HfCsen6jJHcXcjyS3UiElZHdiSeQCeMDp2pa629V66f5fiPTT8fTcw7a/j8VfEjRrmDm10/STffSSfCgH32gmsK01uTxOLzUr668WQ755I7RNHt5hBDGrYU5RSHbjnOfTiuq8AeC7jwiupfbbiO4e4mVYGjJO2BBiNTkDB5PAz9aitvD3ijw1PdQeFJ9Kn0y4madINR8xWt2Y5ZVKA5XPPOKbtfTz/F3/AOAJXt934L/PUxLm/wBU1HQvBE+vW8sF+NdjSUTQmJn27wGKkDGQAa1pFvfGHjXWNPbVr7TdN0cRRiPT5fJeaV13FmcDOB0x+NaWraDq+sweHpLyay+16fqEd3dGLesbKu7IQHJzyOuPwqLUPD2u2Hie61vwncWGdQRFvLTUA4RmQYV1ZMkHHGMf/WOrv3f5L/gh007fqyprxvdGh0HwvperXvm6pdPG+oXMglnSJQXbDEfewQAccfrUWoWt54I1PR7q01rU9Qs76+jsrq31G48/7+QroSMqQR0HBrT1Pw9rGt6PYT3t1ZWuv6fcfaLeW2R2gB5GwhvmKleD0/pUI0DxFrmrafceK5tNitNOmFzFbaf5jedKBhWZnAwBnIAH401v8/w0/wCCJ7advx1/4Bm2tlqHiPx14nsbjXdStNPs5YDHFZ3Bjbc0Y6N1VeCcDGScmq/hvSdU1641jTtT8T6uLXSL1rW2a2uPKmcdd0kgGXOCB6cGur0TQrnTfFPiHUp3haHU5IXhVCSyhE2ndkYHPoTR4a0K50bUNdnunhddR1BrmIRkkqpUDDZA547ZpR2Sfb8dP+CN/r+Gpx58W6tpXw3n3XUlzqEeqvpUN2Y/MkID4DlR95goOPU4602O8vtM1TS5tBbxhes1ykV7FqtrO0TxMcM/zLhGHB4wK3U8CS3PhbU9LvrpIZrjU5b+1uIMsYWL7kJBA5HcfrV3Tl8ci8gTVH0A2qsPOlgExldR6KcKCfqQKI9G99PyX63uEuqXn+b/AEtYZ4ft/L+IPiyXGPMNpg564iNdVWVp8Gtx69qcuo3VvLpkhT7DDGuHiwPn3HHc+5/CtWjog6hRRRQAUUUUAFFFFABRRRQAUUUUAFFFFABRRRQAUUUUAFFFFABRRRQAUUUUAFFFFABRRRQAUUUUAFFFFABTZMGNtzbRg5YHGPenU1yBG2V3DByoGc+1ADqKKKACiiigDz/wiAfiX4wa62HUQ6CDzOoiwcY9vuZx7VY0zxN4li8YXGh+IIdLZo9Pa8U2CyckHAGXP17ela+u+CtM16/jv5JLqx1CIbVvLGbypcemeR+mabofgqy0TV31T7dqWoXrxeT51/ceawTOcDgeldzqUpRbe9krW6pW0POVKtCVo7c1733Td2mvwR5lpWlap4n8PSauugXmoavcu7w6uuqJGYmDcBULDAGOmPp2rotfs7zUfFHgiy1qSWC5ntZUvfJk2sx2KXXcp6HBBwe9dDJ8O9PW6mk03VNY0qKdzJJbWF55cRY9TtwcZ9q1J/DFlcavpOovLcCbSUZIBvBDBl2ndkZJx7itpYqDmmtte+l01be33HPHBVFTlF7u2umtpJ32vfTqzktH0238LfFl9L0RZIbC50wzvbGRnXeGxkZJOeP1Nctpen6j4t0q91aXw/d6nqU00gg1FdTSL7Mw+6qoWGAp9q9abw9aP4rTxAZJvtaW32YJuHl7c5zjGc8+tZNx8PtPa+uLnTtT1fSftL+ZNDp935UbserYwefpUwxUVq3rZa69G+zT7fcVUwcnpFe7du2mzS7pre/3nMeIrbVbm48C2erzzWmoTGWC5licFxlVVsMMjJXPI9a0/EOn6B4e0ex8M2uk3N82oXBkgsY7to/NYAbi8hPC9K6S58K2V3daNPLNc79GJMH7wHfwB85IJP3R3FL4i8LWXiT7K9zNdWtxaOXgubSXy5I89cHB64FQsRFuKeiV7206to0+qzSm0ruySvr0Sf3/AInGeCoJtH+JF9pMdh/ZVs+nCdrFLw3CK+5Ru3EDnBrU+En/ACKNz/2EJv6VsaP4M0/RdZOqwXF7PePbmCWW5m8wyjcDuYkZ3cAcYGB0q54d8O2nhnTXsrCSaSN5mmJmYE7mxnoBxxRWrwnGSW7S/C46GGqQlFvZN/il2sjm9U/5Ldon/YOl/wDZ6xvDnhfTvE2veK01oTXEEOqSeVAJnREYk5fCkZPAHPpXe3Hh20uPFNrrzyTC6tYWgRAw2FTnORjOefWjR/Dtpol3qVxaSTO+pXBuJhKwIVj2XAGBz3zUquo07Rdny2+fNf8AIcsM5VbyV1zX+XLb8zy5YRqfwNvX1FpLiTTLh0tXeRsoA6gZ554JHPStLVtPg0fwj4a0nSN+n22u3UAvpYpG3NuRd3JJxn244+tdfD4F0yDwneeHknuzaXkhkkcuvmAkg8Hbj+Edqvaj4Y03VfDsWjX0by20KIsbbsOhUYDAjoa2eKhzeXNf8P8APUxWCny9L8rV/n/locdeaRaeB/HHh1fDQltodTleC6tfOZ0kAxh8MTyM9fb61W0Dw1Z+JfFvihNYeeW0tdSLx2qyFEMjZy5xgk4UAfjXW6R4I0/StVXUprzUNUvI02QzajceaYQeoXgYq/pHh200XUNTvLWSZ5NSm8+YSMCFbn7uAMDnvmoeJSi7Sbla1/nf8EUsI5SV4pRve3T4WvxfQ4ey8O2PiX4leK7fWBLNaQtAwt1lZEZymAx2kZIAOPqaytC8K2WseB9bn1eW5u30uW4gsd874t1jXcCoBxkk989BXpun+HrTTde1PVoJJmn1Ip5yuwKrsGBtAGR+JNRad4WstM0fUNNgluGh1CWWWVnZSymQYbbgYx6ZBo+tNRtFvaP3palfU0580op3lJ/J3sceuuW83ws0K31qC51S61QrBDbxTmNp2VsAM+RgcAE+9VPDtg+kfEqPSV0s6Na32mu01lHftOr8kBt3G1uMcfnzXXzeAtKn8N2Gjma8RNOffbXUcoWaNsk5DAY7+npT9M8EafpetQast1f3V9FG8bT3U/mNKG/vEjsBxjAq/rFJKduvN+O3W34Gf1au/Z3t7qjrp036X/FHJ/DTwvo7X2rX7WYN1p+rTQ20nmP+7QAADGcHqeuayIdUvNJ+GniSbT5Wglk1ySIzIcGNWKgkHt6Z969DtPBVlYeIpdXsb7UbYzSmaW0juMW8jkclkxz1z1qSy8GaVZ6PqGlust1a6jO88yTsD8zY6EAYAwMd/ek8TBy5pO/w6em6HHCTUeWKUfi1XmnZ/K5xviPw7YeBLXSNY8NNNDem8ihmPnswu1YHIYEkc4zwO/0qeTRLXxB8X9bstTMslkLOGR7dJWRZWAULu2kE4yeK39P+Hml2V9a3Nxe6nqIszm1hvrnzI4COhVcDpjita38O2lt4ou9ejkmN1dwrC6Mw2BVxjAxnPHrSeJivtNuz19bW+6wRwkn9lJXjp6Xu/nf8NTmPhzGdP1jxPo0EkhsbC8UW0bsW8sNuyAT24Fd5WVpXh600jVdUv7aSZpdTlWWYSMCqkZxtwBgc981q1yV5qpPmXZffZX/E7sPTdKnyPu/uu7fgFFFFYnQFFFFABRRRQAUUUUAFFFFABRRRQAUUUUAFFFFABRRRQAUUUUAFFFFABRRRQAUUUUAFFFFABRRRQAUUUUAFFFFABRRRQAUUUUAFFFFABRRRQAUUUUAFFFFABRRRQAUUUUAFFFFABRRRQAUUUUAFFFFABRRRQAUUUUAFFFFABRRRQAUUUUAFFFFABRRRQAUUUUAFFFFABRRRQAUUUUAFFFFABRRRQAUUUUAFFFFABRRRQAUUUUAFFFFABTY9vlJs+7tG36U6kXO0bwA2OQPWgBaKKKACiiigAooooAKKKKACiiigAooooAKKKKACiiigAooooAKKKKACiiigAooooAKKKKACiiigAooooAKKKKACiiigAooooAKKKKACiiigAooooAKKKKACiiigAooooAKKKKACiiigAooooAKKKKAK9t/x83f/AF1H/oC1Yqvbf8fN3/11H/oC1YoAhuv9UP8AeqpVu6/1Q/3qqUAFFFFAGjVe1/113/12H/oC1Yqva/667/67D/0BaALFFFFABRRRQAUUUUAFFFFABRRRQAUUUUAFFFFABRRRQAUUUUAFFFFABRRRQAUUUUAFFFFABRRRQAUUUUAFFFFABRRRQAUUUUAFFFFABRRRQAUUUUAFFFFABRRRQAUUUUAFI27YdmN2OM9M0tNkwY23HaMHJBxigB1FFFABRRRQAUVBBe2t1NNFbXMM0lu22ZI5AxjPowHQ/Wn29zBdwLPazRzxNnbJGwZTzjgj3oAkooooAKKKa7rHGzucKoJJ9BRsA6iq9hf22p6fDe2Mnm2867432ldw9cHmm6dqVpq1hHe6fL51vISFfaVzgkHggHqDQBaooooAKKKKACiiigAooooAKKrTaha299bWc0oW4ut3kpg/PtGW/IVZoAKKjlnhg2efKkfmOETewG5j0Az1PtUMGpWlzqF1YwS7rm02GdNpGzcMrzjByPSgC1RVYahanU204Sj7WsInMWDwhOM56dRVmgAooooAKKCQqkscAckntVOTVrGP7Hm5jIvm22zIdwlO0twRx0Gc0AXKKKKACiiigAooooAKKKKACiiigAooooAKKKKACiiigAooooAKKKKACiiigAooooAKKKKACiiigAooooAKKKKACiiigAooooAKKKKACiiigAooooAKKKKACiiigAooooAKKKKACiiigAooooAKKKKACiiigAooooAKKKKACiiigAooooAKKKKACiiigAooooAKKKKACiiigAooooAKKKKACiiigAooooAKKKKACiiigAooooAKKKKACiiigAoAwAB29TmiigAooooAKKKKACiiigAooooAKKKKACiiigAooooAKKKKACiiigAooooAKKKKACiiigAooooAKKKKACiiigAooooAKKKKACiiigAooooAKKKKACiiigAooooAKKKKACiiigAooooAKKKKACiiigAooooAr23/AB83f/XUf+gLViq9t/x83f8A11H/AKAtWKAIbr/VD/eqpVu6/wBUP96qlABRRRQBo1Xtf9dd/wDXYf8AoC1Yqva/667/AOuw/wDQFoAsUUUUAFFFFABRRRQAUUUUAFFFFABRRRQAUUUUAFFFFABRRRQAUUUUAFFFFABRRRQAUUUUAFFFFABRRRQAUUUUAFFFFABRRRQAUUUUAFFFFABRRRQAUUUUAFFFFABRRRQAU1ziNsru4Py+vtTqRt2w7MBscZ9aAFooooAKKKKAPM4BNous6z4mtgzRQ6rLb6hEvO6AhSHx6oTn6E0zRrl5tG8K6dLqE1hp90l1JJNBN5LSOrnam8cjqT716StnaokyJbQqtwxaZRGAJCRglvUketQvo+mSaelhJp1o1mhylu0CmNfouMDqaFokvT8v6Y+rff8Ar/gGP4Kvbi80i8Wa5e7itb2a3t7mRtzSxKflJb+LuM98Vx+jalcjS9B1GPXry51G41MWs1pJdF1aMuwIMfqFwd3X9K9QhgitrdYLaJIYkG1EjUKqj0AHSsbw74UsdBsrdDFb3N5DvAvfs6rIQzE4zyQOcdaa3v6f18xdGv6/pHMQS6muleJ9bj1K+muNPu7yK1tjKTEijoSv8RGcjPAwMVJZXJtNX0+20/WrnVYb/TZpbtZ7nzghVQVkH9zJJGBxXdwWtvbCQW0EcQlcySCNAu9j1Y46k+tQWmkabYeb9h0+1tvO/wBZ5MKpv+uBzUW0t5W/B/8ADlJ638/1POPDFybKw8Iyafq9xcT3jmC4sjcboxGFbJEfRduBz19c5qLTLu//ALB8MabazCC3umumcm7e1EjrIdqeYilh1JwOtemW2j6ZZ3H2i0060gm2CPzIoFVtoGAuQM4wBxQ+j6bJYCxk060e0U7hbtApjBznO3GOpNW3d3IWiscSYtWa88N6Xf61KwuJbtJZbG7Yl0VcqpkwCWGME4B61nxyajbaG+qf21qUs1jrQs40kuCUaITBcOP4yQx5OT09K9Ih0vT7cW4gsbaIW27yNkKjyt3XbgfLnvjrQdMsDA0JsbYxNL5zR+Su0vnO8jH3s8560LdP+t1+n5j6W/rr/wAD7jI8YQahcWNqul3QidZw8luLo2zXSAHMayDlT3/CubTV01P/AIR6yXUdQ0/Trk3PnSyXZEzyxnAj84HkZJwQeQBXeXunWWpQiLUbO3u41O4JPErgH1wRTZdI024sUsp9PtZbWPGyB4VKL9FIwKSGzjblop/EEmmXXiG8tNPtNNWW2mS+KtOxZg0jSZ+fbgDHSqtjd6r4in8MwXmp3tn9t06aS4NrJ5TS7WXa3sTwcjnBI6Gu5n0TSrm3hgudMs5obcYhjkt0ZY/90EcfhVk2lubiO4NvEZolKRyFBuRT1APUDgcULz/rf/P8Bf1+X+R53JLruo61q4ttTitJtPu1ihFzqUkQjjUDBaIIVkDgnljzntirxnutO8ZpJqt3c3VteX3lWstpqBEcTYwIZIM44wcsM+9dfc6Ppl7dJc3mnWlxPHjZLLArMuOmCRkUJo+mR6gb6PTrRLxiSbhYFEhJ6/NjNC0sD6mPrt1cQ+M/DcEU8iRTG582NXIWTEeRkd8H1rldGm1CHRfC2svrGoT3F9qC208c1wWiaMl1xsPGflHPXNekyWtvNPFPLBG8sOfKkZAWjyMHB7ZHpUS6ZYJbwQJZWyw27+ZDGIlCxNz8yjHB5PI9aFp+H5g9TmfHtvFNdeHTPNNFGdTRGaOdosAq3OQRg8cHqOfWse7sDLrni6e21G+t/sVnBJC1vcspdhCSCzdX6dyc5Neg3dla6hbmC/tobqEnJjmjDqT9DxTU02xjWUR2VuomQRyhYlHmKBgK3HIA4we1K2jX9dB31v8A1ucMmo6pqN8Ej1U2ktx4ZimEkkm2JJmfG/HQHtnGa1/Bd03n6hp90Lxb61EXnrPfG6jOQcMjE5GcEkHGOK6A6TpzLhrC1IMIt8GFf9UOidPu+3SnWWm2OmRGLTrO3tI2OSkESoCfXAFVfX+u7ZPT+uyOLNzd6Z4v36jc3N7HeXjpZSWuoHy0ODiGSDOOMHLDPOM1U8LT69fjT9WOpQM0ryfaYJNRdzLw37sQFNqMpA6HoO+a7yPR9Mhv2vodOtI7tiS1wsCiQk9ctjPNCaPpkeoG/j060W8JJNwsCiQk9fmxmpW1hvVnEaOI9V8G3Gp3euXtxqNzaTtLbC9ZVRsH5RGD8u3GOP603SpPsWieCl0+9uCt1PGLhftTuD+4OUwScLkfd6D0ruYtI02C9e8g0+1jupM750gUO2euWAyaSDRdKtdn2bTLOHZJ5q+Xbqu18Y3DA4OOM9arrf0/Bh0+/wDFHn0Gq3f9n2us/wBsXTaxLqv2eTTjcZjCmUoYvK6DC85xnvmkv5tQXR/EesprGopPp2qtHbRLcERKodPlK9GHzHg/hXog0nTl1A362FqLw9bkQr5h4x97GelK2mWDwTQPZWzQ3D+ZNGYlKyNx8zDHJ4HJ9KS0/r0/y/EHq/68/wDP8CypyoPtS0UUAFFFFABRRRQAUUUUAFFFFABRRRQAUUUUAFFFFABRRRQAUUUUAFFFFABRRRQAUUUUAFFFFABRRRQAUUUUAFFFFABRRRQAUUUUAFFFFABRRRQAUUUUAFFFFABRRRQAUUUUAFFFFABRRRQAUUUUAFFFFABRRRQAUUUUAFFFFABRRRQAUUUUAFFFFABRRRQAUUUUAFFFFABRRRQAUUUUAFFFFABRRRQAUUUUAFFFFABRRRQAUUUUAFFFFABRRRQAUUUUAFFFFABRRRQAUUUUAFFFFABRRRQAUUUUAFFFFABRRRQAUUUUAFFFFABRRRQAUUUUAFFFFABRRRQAUUUUAFFFFABRRRQAUUUUAFFFFABRRRQAUUUUAFFFFABRRRQAUUUUAFFFFABRRRQBXtv+Pm7/AOuo/wDQFqxVe2/4+bv/AK6j/wBAWrFAEN1/qh/vVUq3df6of71VKACiiigDRqva/wCuu/8ArsP/AEBasVXtf9dd/wDXYf8AoC0AWKKKKACiiigAooooAKKKKACiiigAooooAKKKKACiiigAooooAKKKKACiiigAooooAKKKKACiiigAooooAKKKKACiiigAooooAKKKKACiiigAooooAKKKKACiiigAooooAKbJjym3nauDk56CnUjnEbHbu4Py+vtQAtFFFABRRRQAUUUUAFFFFABRRRQAUUUUAFFFFABRRRQAUUUUAFFFFABRRRQAUUUUAFFFFABRRRQAUUUUAFFFFABRRRQAUUUUAFFFFABRRRQAUUUUAFFFFABRRRQAUUUUAFFFFABRRRQAUUUUAFFFFABRRRQAUUUUAFFFFABRRRQAUUUUAFFFFABRRRQAUUUUAFFFFABRRRQAUUUUAFFFFABRRRQAUUUUAFFFFABRRRQAUUUUAFFFFABRRRQAUUUUAFFFFABRRRQAUUUUAFFFFABRRRQAUUUUAFFFFABRRRQAUUUUAFFFFABRRRQAUUUUAFFFFABRRRQAUUUUAFFFFABRRRQAUUUUAFFFFABRRRQAUUUUAFFFFABRRRQAUUUUAFFFFABRRRQAUUUUAFFFFABRRRQAUUUUAFFFFABRRRQAUUUUAFFFFABRRRQAUUUUAFFFFABRRRQAUUUUAFFFFABRRRQAUUUUAFFFFAFe2/4+bv8A66j/ANAWrFV7b/j5u/8ArqP/AEBasUAQ3X+qH+9VSrd1/qh/vVUoAKKKKANGq9r/AK67/wCuw/8AQFqxVe1/113/ANdh/wCgLQBYooooAKKKKACiiigAooooAKKKKACiiigAooooAKKKKACiiigAooooAKKKKACiiigAooooAKKKKACiiigAooooAKKKKACiiigAooooAKKKKACiiigAooooAKKKKACiiigApG3FDsIDY4J9aWmybfKbecLtOT6CgB1FFFABRRRQAUUUUAFFFFABRRRQAUUUUAFFFFABRRRQAUUUUAFFFFABRRRQAUUUUAFFFFABRRRQAUUUUAFFFFABRRRQAUUUUAFFFFABRRRQAUUUUAFFFFABRRRQAUUUUAFFFFABRRRQAUUUUAFFFFABRRRQAUUUUAFFFFABRRRQAUUUUAFFFFABRRRQAUUUUAFFFFABRRRQAUUUUAFFFFABRRRQAUUUUAFFFFABRRRQAUUUUAFFFFABRRRQAUUUUAFFFFABRRRQAUUUUAFFFFABRRRQAUUUUAFFFFABRRRQAUUUUAFFFFABRRRQAUUUUAFFBzg45PbJooAKKKKACiiigAooooAKKKKACiiigAooooAKKKKACiiigAooooAKKKKACiiigAooooAKKKKACiiigAooooAKKKKACiiigAooooAKKKKACiiigAooooAKKKKACiiigAooooAKKKKACiiigAooooAKKKKACiiigAooooAr23/Hzd/9dR/6AtWKr23/AB83f/XUf+gLVigCG6/1Q/3qqVbuv9UP96qlABRRRQBo1Xtf9dd/9dh/6AtWKr2v+uu/+uw/9AWgCxRRRQAUUUUAFFFFABRRRQAUUUUAFFFFABRRRQAUUUUAFFFFABRRRQAUUUUAFFFFABRRRQAUUUUAFFFFABRRRQAUUUUAFFFFABRRRQAUUUUAFFFFABRRRQAUUUUAFFFFABSOcRsdu7j7vr7UtIwJQhDhscE9jQAtFFFABRRRQBh6b4k/tDxbq2ifZPL/ALOWNvO8zPmbxn7uOMfU1sT3ENrA891LHDEgy8kjBVUepJ6VxXhv/krfiz/rnb/+gCqnxRNzLqfhq0UW7Ws12xdLxisDyDGwOR25NdnsVKpCC0uk/wALs4PrEoUqlSWtm1+Nkd3Y6nYanG0mm3tveIpwzW8qyAH0JBqA6/o6332I6rYi6LbRAblN+fTbnOa5DSvD+qaD4ol168h0ewtEsXWe00ouPN2/MG2FQMj1rkteEmrfD278QrpPh/TrO5k3Q7ISbst5uD+84GcgnoeKuOGhKdlLTT730Ini6kYXcfe176pW18tz2Wa+tLaZIbi6hildWdEkkCsyryxAPUDue1Qxa1pcyQvDqVnIs5YRMk6kSFeWC884746V5/4ksotZ8WeB7XUN8kVxbSecAxHmDy1YgkdjjmpfHWi6dHrPhDTIbOKGykvnV4IlCKQduRgevepjh4XjFvV3/C/+Q5YqaU5JK0bfik/1O8sdX03U2ddN1C1u2j++LedZNv1weKz9K1KZZNXl1fVdLkt7a4YIbeUD7Mg/hlJ4Vv8A69czcabZaP8AGbQ00m1hskuLKYSpboEV8BiMgcdh+QrHj/5F34k/9fkv8zTVCLV09Gk//JrA8RPm5ZLVNrT/AA8x6Z/bmk/bEtP7UsvtMmCkH2hN7ZGRhc5ORUl9qmn6Wivqd9bWaucK1xMsYY+2SK8s8RaBpdj8F7HUbWxhjvlitpvtSoPNLsVyS/U9Tx9PStXX4pV+JdjcJpsOvyT6WQLCR0Uw4bmQFxt55Hr1p/VoN6Pq19yuT9cqJe9FaqL/APAnb+rbneWWsaZqTsmnajaXbIMssE6uVHqcGs3xP4rt/DaW0X2ea+vrxiltZwD5pD/QcjmqPgDwzP4e0y7e/tre3uby6efyocN5KHGI9wHOPbisvxNLHpvxd8O6hqLrHZPbSQJK5wqSfN1PbO5RURpU3W5Fqlf52V7Gs61VYfnas7r5Xdr/AHal0+O7/TLu3XxZ4bm0e1uXEaXa3STorHoH2gbauan4pm07x7Y6PKbaPT5rN7iaeXIZCu7+LOAOB1FZ3xZu7YeCJbEsr3d5LGltCOWdt4OQPoOvv71lazp9pcfFTwzZa2kc6f2aVaOb5lkcBsAg9eR3rWnTpzipuNvi/BXurmFarVpScFK/wu+nWVrOy6+h6Fb6jaajZyT6Xe21yiggSxSiRA2O5Bql4dvbibw5FdatqOn3cg3mS6spMwEAno3sOtchpVvbad8V9ds9GjjhsjpgeeGEYjSXjHA4BwT+ZrlWef8A4U34cgQoLafUylwZWKxkeY5AcjkLnr9KUcMpKye/L+N/8vmOeLlDWS1XNs9NOX/P5ans1jq2napv/szULW88v7/2eZZNv1wTimXmuaTp9wIL/VLK1mIyI5rhEYj6E5rjdL8J6xbeMdN1ZrfQNNgiSSOWPTGdTcKVOAVKgHBwf/1Cqfw70nR9a0nVL3X7O1vdSN9L9qe7jV2ix0HzfdHXpj9Kh0KaTlzXSt66uxosRVbUOWzb67bX9fL8TrrzxpoVhryaTd38MUzRGVpHlRY4x2VmJ4Y5yB6Ur6pLF4mfztW0pNKWx84wtKBODn/WHt5eO/SuXvNK0yf42QQ3FhaSQzaUZCjwqVd95+bBHJwOtTyWsM/xomtJI18iTQTE0YHG0vjGPpT9lTSVv5W/zJ9tUble1lJL8v8AM7f7fafYPt32qD7Js8z7R5g8vb/e3dMe9RT6vpttYx3tzqFrDaygGOeSdVR88jDE4NeS/aLo+HR8Pd7fbP7W+ybu/wBmz5m//PatLXLG5uPipb6Zb2mmTw2umKLK21Qt5JHQlQActwe3Qe1V9Ujezfd/JLf5i+uy5bqOuif+Ju1vlb8j02G9tbizF3b3MMtsQWEySBkwOp3DioLLXNJ1KYxadqlndyKMlILhHYD6A1w1n4E1E6J4i0zULvT7CLU5I5IYbF2McD55G1gMBiFGB/SpfDMh0Txba6Hrfh7S7XUZLdjbahp0aqsqgc5GAQeDz69qz9hTalyyu1/lf8PL1NPrNVOPNGyen42XpfpfvY9CooorjO8KKKKACiiigAooooAKKKKACiiigAooooAKKKKACiiigAooooAKKKKACiiigAooooAKKKKACiiigAooooAKKKKACiiigAooooAKKKKACiiigAooooAKKKKACiiigAooooAKKKKACiiigAooooAKKKKACiiigAooooAKKKKACiiigAooooAKKKKACiiigAooooAKKKKACiiigAooooAKKKKACiiigAooooAKKKKACiiigAooooAbJt8p95wu05I7CnUjEhCVG444GetLQAUUUUAFFFFABRRRQAUUUUAFFFFABRRRQAUUUUAFFFFABRRRQAUUUUAFFFFABRRRQAUUUUAFFFFABRRRQAUUUUAFFFFABRRRQAUUUUAFFFFABRRRQAUUUUAFFFFABRRRQAUUUUAFFFFABRRRQAUUUUAFFFFABRRRQBXtv+Pm7/66j/0BasVXtv8Aj5u/+uo/9AWrFAEN1/qh/vVUq3df6of71VKACiiigDRqva/667/67D/0BasVXtf9dd/9dh/6AtAFiiiigAooooAKKKKACiiigAooooAKKKKACiiigAooooAKKKKACiiigAooooAKKKKACiiigAooooAKKKKACiiigAooooAKKKKACiiigAooooAKKKKACiiigAooooAKKKKACmybfKfecLtOT7U6kckIxC7jjp60ALRRRQAUUUUAc3qnw+8Ma1qUt/qemefdTY3yfaJVzgADgMB0AqzF4P0CHQToq6bG2nly/kuzPhj3BJJB9wa26K19tUso8zsvMx9hS5nLlV35Iw9F8G6B4fuJJ9I09YJZU8t2aR5CV9PmJ44qqnw58JxvOy6NEDOrK/7xyAD12jdhfquK6aij21W9+Z/eH1ejZLkVl5IzpNA02W+0+8kts3GmqUtX8xv3YIwRjODx65p9/othqd5ZXV9B5s1jJ5tu29hsbjnAOD0HXNXqKnnle9y/Zws1ZalGbRbC41q21aaDdfWqNHDLvYbVbIIxnB6nqKrjwvo4t9SgFn+71Ry94vmv+9Y9T14/DFa1FHPJaX/rf8w9nBu9l/St+WnoZl34d0q+0BNFurXzNPRERYfMYYCY2jcDnjA71w3iPSo7jxndSeK9A1PV9NWFE006fGzrGMfOG2ENnPrXplFaU68qbv8A1r19TGth4VYpbbdOi6Py8u5w/wAPdGuNNvNWuIbG60vR7lkNlY3bkyJgfMxBJK5PYnP5Cut1PSbDWbFrTVLWO6gbkpIM4PqD1B9xVuipqVZTnz9f8iqVGNKn7Nbf5+XY57SfAfhnRL0Xem6THHcL92R3eQr7jcTg+4q1qvhXRdcuvtGrWEd1L5JgDOzcJnPAB4Oe459616KTq1HLmcnf1KVGko8qirdrHK3FhpXgXQ5v7B0C7nNyxRo7GNp5CdpwWJJO0fpnpzUXgnw35Pw3s9I8QWavvV2lt5Vzjc5YA+h5HuDXX0VbrScWnu2nfrpt+ZCw8VNNbJNJW01tf8jA0fwP4d0G/F7pWnCC4ClRIZXfAPXG5iBUepeAPC+rai19f6THJcOcu6u6bj6kKQCfciujoqfbVebm5nf1K+r0eXk5FbtZGNrfhHQ/ETQtrGnpcNANsbB2QgemVIJHtViHQdNt9XTU4bbbeJbC1WTe3EQOQuM4/HGa0aKn2k7ct3Yr2VO/Nyq/p22Mz/hHNJ/4SL+3fsa/2ls2efubpjHTOM44zjNJrfhrR/EccaazYx3IjOUYkqy/RlII/OtSij2k7p322H7ODTVlZ7+fqYVv4J8PWui3Gkwaaq2V0waaMyOd5HQ7ic9vWnaL4N0Dw9ctcaRpyQTsu0yM7SMB6AsTj8K26Kr21Rppyeu+pCoUk01FabaLT0CiiisjYKKKKACiiigAooooAKKKKACiiigAooooAKKKKACiiigAooooAKKKKACiiigAooooAKKKKACiiigAooooAKKKKACiiigAooooAKKKKACiiigAooooAKKKKACiiigAooooAKKKKACiiigAooooAKKKKACiiigAooooAKKKKACiiigAooooAKKKKACiiigAooooAKKKKACiiigAooooAKKKKACiiigAooooAKKKKACiiigAooooAa/+rbLbeD83p706iigAooooAKKKKACiiigAooooAKKKKACiiigAooooAKKKKACiiigAooooAKKKKACiiigAooooAKKKKACiiigAooooAKKKKACiiigAooooAKKKKACiiigAooooAKKKKACiiigAooooAKKKKACiiigAooooAKKKKACiiigCvbf8fN3/ANdR/wCgLViq9t/x83f/AF1H/oC1YoAhuv8AVD/eqpVu6/1Q/wB6qlABRRRQBo1Xtf8AXXf/AF2H/oC1Yqva/wCuu/8ArsP/AEBaALFFFFABRRRQAUUUUAFFFFABRRRQAUUUUAFFFFABRRRQAUUUUAFFFFABRRRQAUUUUAFFFFABRRRQAUUUUAFFFFABRRRQAUUUUAFFFFABRRRQAUUUUAFFFFABRRRQAUUUUAFIwJQhThscHHQ0tNk2+U/mcLtO76UAOooooAKKKKAKFjrmnalf3llZXSyXNi2y4j2kFD+I56dRmptP1C11WxjvLCXzbeXOx9pXOCQeCAeoNefJaz2V5rPiTTUZ7nTtWnW4iXrPbFULr9R94e4NUrFrN/DvhR9e/wCQAy3Jm358vzd58vfjt97Ge9C1S+X5X/rzG93/AF/X+R6vRXMeA9/9g3OzzPsP2yX+z/Mzn7Pn5cZ529cZ7Vwnh46c1p4e/swufEI1HEu3fv8As+9t2e2zbj2/Wn1t6fiLo2exU2WQQwvI2SEUsce1ecWOkmXSfFeq6fHJJrEN9exWsgdi0YJ5CDOATk9s5pujf2V/bNn/AMIju8n+zpv7V27sZ2jZvz/Hu3e/Wob92/lf8Gykvet52/E7/SdTh1nR7bUbZJEhuYxIiyABgD64JH60zRdXg13SYtQtEkSGUsFWUAMNrFT0J7ivM/C/9ng+FBowcazn/T8Bt3kbDnfnjb93b26YqOBWfwz4YF9PBBpO+686S6gM0Al8w7PMUMvvgk4zVy0bt/X9fmQtUev0V5nFpVncXfhOwkvl1awklvMMqsiMgXIQAsSVBGByeBWemlWlp4cl1GBGW7sdfFvbS+YxMMQnA2LzwuCePehbpf1ul+o+l/66/wCR65RXK+Pbe1uNLtBeaja2fl3IkRb1Sbedgp+STBHH+Fcw11p9zY+G31qxSw8PE3AkhUsbcyg/Ix4B2n5iufWktQZ6jRXmmof8I0NZT+2go0H+zV/srIfys7jv2/7f3cd8YptlpkusX/hWz8TJNIz6ZOZ4pHZS4DKVD4IJ42kg9xzQtf69f8g2/r0/zPTaK8pvrOOXxJqkWr6va6VeJdp9hea0d5lhGPL8lw4GOoIAPOc1eX7DY/EMNE9lrE91fkMGDC8smxg+xiUD2696FrbzB6X8jv5rwQ31tbfZ7iT7Ru/exx5SPaM/O38Oe3rVmuW8Q/8AI9eFvrdf+iq5DRNOtrPw74P1a3Qpf3GppBLcbzuaMmQFOv3cKBiha/h+LBnqF3f21i0AupRGbiYQxDBO5zkgcfQ1BaavBeaxf6bEkgmsBGZWYDad4yMc57dwK5z4hW9ix0K61SGJ7WHUUE8kqBlSMq2d3+ySB+lYl3pOlanqXi+ZoI5Yrawgks9pIWP9wSrKBwDwMGlfRvt/wB21t/W56ILwHU2svs9wCIRL55j/AHR5xt3f3u+PSrNeZKVvrwHUL+S1E/hOLzbsZLJl+WPc+9bPw+ktg2o2tpa6ftt/KU32m5ENzwccHowHXBPWqt0/rdom+l/62R2lFeax/Y7Lx8xtGsdYuru9kwSGF3ZPtI56gxLjHOOvGaqeE7VXv7CaXWLa315JJftFqbR1uZnw25JXLnK9CDtxwMVKd1cb0Z6nJIsUbSSMFRAWYnsBVJdXgmhsJrWO4uYL/BjliiJVVK7gz5+6Pr3IrgfD9voN74duYZ4Vn8TyWlwLtJlZpi/Ocg++MfhTNJbSzpfgsaUsCyLeoLsRKAfOEB3bv9qq629PxYPb7/wR6hRXk1v9n/0bZ5n/AAmf9q/v/veZs8w7s9vK8v8ADFGo6banw/4p1goft9nrD/Z595zD+8T7vPH3j9aS1/r0/wAwejt/XX/I9ZopFOVBPpS0AFFFFABRRRQAUUUUAFFFFABRRRQAUUUUAFFFFABRRRQAUUUUAFFFFABRRRQAUUUUAFFFFABRRRQAUUUUAFFFFABRRRQAUUUUAFFFFABRRRQAUUUUAFFFFABRRRQAUUUUAFFFFABRRRQAUUUUAFFFFABRRRQAUUUUAFFFFABRRRQAUUUUAFFFFABRRRQAUUUUAFFFFABRRRQAUUUUAFFFFABRRRQAUUUUAFFFFABRRRQAUUUUAFFFFABRRRQAUUUUAFFFFABRRRQAUUUUAFFFFABRRRQAUUUUAFFFFABRRRQAUUUUAFFFFABRRRQAUUUUAFFFFABRRRQAUUUUAFFFFABRRRQAUUUUAFFFFABRRRQAUUUUAFFFFABRRRQAUUUUAFFFFABRRRQBXtv+Pm7/AOuo/wDQFqxVe2/4+bv/AK6j/wBAWrFAEN1/qh/vVUq3df6of71VKACiiigDRqva/wCuu/8ArsP/AEBasVXtf9dd/wDXYf8AoC0AWKKKKACiiigAooooAKKKKACiiigAooooAKKKKACiiigAooooAKKKKACiiigAooooAKKKKACiiigAooooAKKKKACiiigAooooAKKKKACiiigAooooAKKKKACiiigAooooAKRyQjELuIHA9aWkYEoQp2sRwcdKAFooooAKKKKACiiigAqhoukQaFpMWn2jyPDEWKtKQWO5ix6AdzV+igAooooAKKKKACiiigAooooAKKKKACiiigAooooAKKKKACiiigAooooAKKKKACiiigAooooAKKKKACiiigAooooAKKKKACiiigAooooAKKKKACiiigAooooAKKKKACiiigAooooAKKKKACiiigAooooAKKKKACiiigAooooAKKKKACiiigAooooAKKKKACiiigAooooAKKKKACiiigAooooAKKKKACiiigAooooAKKKKACiiigAooooAKKKKACiiigAooooAKKKKACiiigAooooAKKKKACiiigAooooAKKKKACiiigAooooAKKKKACiiigAooooAKKKKACiiigAooooAKKKKACiiigAooooAKKKKACiiigAooooAKKKKACiiigAooooAKKKKACiiigAooooAKKKKACiiigAooooAKKKKACiiigAooooAKKKKACiiigAooooAKKKKACiiigCvbf8AHzd/9dR/6AtWKr23/Hzd/wDXUf8AoC1YoAhuv9UP96qlW7r/AFQ/3qqUAFFFFAGjVe1/113/ANdh/wCgLViq9r/rrv8A67D/ANAWgCxRRRQAUUUUAFFFFABRRRQAUUUUAFFFFABRRRQAUUUUAFFFFABRRRQAUUUUAFFFFABRRRQAUUUUAFFFFABRRRQAUUUUAFFFFABRRRQAUUUUAFFFFABRRRQAUUUUAFFFFABTZdvkv5n3Np3fSnUjEhCVXcQOBnGaAFooooAKKKKACiiigAooooAKKKKACiiigAooooAKKKKACiiigAooooAKKKKACiiigAooooAKKKKACiiigAooooAKKKKACiiigAooooAKKKKACiiigAooooAKKKKACiiigAooooAKKKKACiiigAooooAKKKKACiiigAooooAKKKKACiiigAooooAKKKKACiiigAooooAKKKKACiiigAooooAKKKKACiiigAooooAKKKKACiiigAooooAKKKKACiiigAooooAKKKKACiiigAooooAKKKKACiiigAooooAKKKKACiiigAooooAKKKKACiiigAooooAKKKKACiiigAooooAKKKKACiiigAooooAKKKKACiiigAooooAKKKKACiiigAooooAKKKKACiiigAooooAKKKKACiiigAooooAKKKKACiiigAooooAKKKKACiiigAooooAKKKKACiiigAooooAKKKKACiiigAooooAr23/Hzd/9dR/6AtWKr23/AB83f/XUf+gLVigCG6/1Q/3qqVbuv9UP96qlABRRRQBo1Xtf9dd/9dh/6AtWKr2v+uu/+uw/9AWgCxRRRQAUUUUAFFFFABRRRQAUUUUAFFFFABRRRQAUUUUAFFFFABRRRQAUUUUAFFFFABRRRQAUUUUAFFFFABRRRQAUUUUAFFFFABRRRQAUUUUAFFFFABRRRQAUUUUAFFFFABSMCUIU7SRwcZxS02Xb5L+Z9zad30oAdRRRQAUUUUAFFefDVvEPiPxlq+l6br1voS6a4SOA2qTSTju/zdvp6j61vxa8+j3ukaL4hdp9Rv1cLdwxBYXZcnB5yDjHbqa3lQkra6vW3W1r+mxzRxMW3o0k7X0te9u99/I6KisHUvEtsmsXGgwpcNerYvctLGBsiXBxk5yDnHQdxXBHWdU/4VL4cvP7SvPtU2pqks/ntvdd8g2ls5I4HB9Kqnh5Tt0u0vvv/kTWxUKV+tk391v8z1uisTW/EyaLcx240nVtRkdN+LC1MoUZxycgfhWJ4j8Uxat8LtT1bQbm4t3jATIzFLC4dcqcdDz2PeojRnKzto3Y0nXhFtX1WtjtqK4jSviJp0drpdvqEGpRJPHHEuo3FuRBLJtGcOTk5Oece/Tmuih8RWk/iq40BI5hdW9uLh3KjyypIGAc5zz6UToVIOzQqeJpVEmn2/E1aKxF8W6b9s1mCbzYRoqq11LIo2kMu4bcEk8D0FVdH8bQaze28EOi61bx3IzFdXFnthcYyDuBPUDil7Gpa9v63KdemnZvy+52/M6WiiisjYKKKKACiiigAooooAKKKKACiiigAooooAKKKKACiiigAooooAKKKKACiiigAooooAKKKKACiiigAooooAKKKKACiiigAooooAKRc7RkgnHUd6Wmx48pdqlRgYBHSgB1FFFABRRRQAUUUUAFFFFABRRRQAUUUUAFFFFABRRRQAUUUUAFFFFABRRRQAUUUUAFFFFABRRRQAUUUUAFFFFABRRRQAUUUUAFFFFABRRRQAUUUUAFFFFABRRRQAUUUUAFFFFABRRRQAUUUUAFFFFABRRRQAUUUUAFFFFABRRRQAUUUUAFFFFABRRRQAUUUUAFFFFABRRRQAUUUUAFFFFABRRRQAUUUUAFFFFABRRRQAUUUUAFFFFABRRRQAUUUUAFFFFABRRRQAUUUUAFFFFABRRRQAUUUUAFFFFABRRRQAUUUUAFFFFABRRRQAUUUUAFFFFABRRRQAUUUUAFFFFAFe2/4+bv/rqP/QFqxVe2/wCPm7/66j/0BasUAQ3X+qH+9VSrd1/qh/vVUoAKKKKANGq9r/rrv/rsP/QFqxVe1/113/12H/oC0AWKKKKACiiigAooooAKKKKACiiigAooooAKKKKACiiigAooooAKKKKACiiigAooooAKKKKACiiigAooooAKKKKACiiigAooooAKKKKACiiigAooooAKKKKACiiigAooooAKRiQhKjcwHAzjNLSOCUYK20kcH0oAWiiigAooooA808X6v4E1O6uoNaW4tdYtWaOOSO3kWYsv3SrKMMPTce/am3en65ffCSx1HUxL/bWlOL2FpR+8KoxPzd87OfXgZ5r02ue8V6d4g1a1/s/RLmxtbS5jMd1NMHMqg8HYBx0z1rtp117sFpZp6u607aaJ9dzz6uGu5TlrdNWSs3fvrrbpsc94ND6vYeIvFdwhV9ULpAG/hhjUgfr/AOg1zJ/5Ix4X/wCwsv8A6Mkr1zSdMg0bSLXTrQEQ20YjXPU47n3PWrlP60ozbitLq3pG6RP1OU6SUnraV/WVm/useZ6/rez4gXdj4m1fUtK06KJDYR2BdPtJIG7LICTzkYrGsUdPg94tWVJkcag+Vnz5g+aP72ec+tey0Uo4pRioqO1vwfp16lywblUc3Lv07q3fp0PIvEWuWviDwXpfhTTYbhtbJt43tGt2VoCgGSSRjHuOxzWtf6nbeEvixPqOutJBY3mmrDFc+WzqXUrkfKDz8v6ivR6KPrMduXTW+ve3l5C+py3ctVa2n8t91fXfyPMfD99ZX+seOb3VrWZdPnSFnjkiYO0OxgG29eVwfXmoPDOrJaeLNP03wbrd5rOkTbhcWtzC5+xoBwQ7KMDsB/MmvVaKPrMdfd0sla+mit2/yD6pLT3tbt3trq76a/ncKKKK4j0AooooAKKKKACiiigAooooAKKKKACiiigAooooAKKKKACiiigAooooAKKKKACiiigAooooAKKKKACiiigAooooAKKKKACiiigApF3bRvxuxzjpmlpqACNQucADGetADqKKKACiiigAooooAKKKKACiiigAooooAKKKKACiiigAooooAKKKKACiiigAooooAKKKKACiiigAooooAKKKKACiiigAooooAKKKKACiiigAooooAKKKKACiiigAooooAKKKKACiiigAooooAKKKKACiiigAooooAKKKKACiiigAooooAKKKKACiiigAooooAKKKKACiiigAooooAKKKKACiiigAooooAKKKKACiiigAooooAKKKKACiiigAooooAKKKKACiiigAooooAKKKKACiiigAooooAKKKKACiiigAooooAKKKKACiiigAooooAKKKKACiiigAooooAKKKKAK9t/x83f8A11H/AKAtWKr23/Hzd/8AXUf+gLVigCG6/wBUP96qlW7r/VD/AHqqUAFFFFAGjVe1/wBdd/8AXYf+gLRRQBYooooAKKKKACiiigAooooAKKKKACiiigAooooAKKKKACiiigAooooAKKKKACiiigAooooAKKKKACiiigAooooAKKKKACiiigAooooAKKKKACiiigAooooAKKKKACiiigApGUOpVhkMMEUUUALRRRQAUUUUAFFFFABRRRQAUUUUAFFFFABRRRQAUUUUAFFFFABRRRQAUUUUAFFFFABRRRQAUUUUAFFFFABRRRQAUUUUAFFFFABRRRQAUUUUAFFFFABRRRQAUUUUAFFFFABRRRQAUUUUAFFFFABRRRQAUUUUAFFFFABRRRQAUUUUAFFFFABRRRQAUUUUAFFFFABRRRQAUUUUAFFFFABRRRQAUUUUAFFFFABRRRQAUUUUAFFFFABRRRQAUUUUAFFFFABRRRQAUUUUAFFFFABRRRQAUUUUAFFFFABRRRQAUUUUAFFFFABRRRQAUUUUAFFFFABRRRQAUUUUAFFFFABRRRQAUUUUAFFFFABRRRQAUUUUAFFFFABRRRQAUUUUAFFFFABRRRQAUUUUAFFFFABRRRQAUUUUAFFFFABRRRQAUUUUAFFFFABRRRQAUUUUAFFFFABRRRQAUUUUAFFFFABRRRQAUUUUAFFFFABRRRQBXtv+Pm7/AOuo/wDQFqxRRQBDdf6of71VKKKACiiigD//2Q==)"
      ],
      "metadata": {
        "id": "NZ4TiLIah7e9"
      }
    },
    {
      "cell_type": "markdown",
      "source": [],
      "metadata": {
        "id": "ilAaPmpViOgw"
      }
    }
  ]
}