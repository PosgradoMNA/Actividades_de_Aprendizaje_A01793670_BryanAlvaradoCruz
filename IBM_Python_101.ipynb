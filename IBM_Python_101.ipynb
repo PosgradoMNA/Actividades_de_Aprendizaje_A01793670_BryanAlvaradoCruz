{
  "nbformat": 4,
  "nbformat_minor": 0,
  "metadata": {
    "colab": {
      "provenance": [],
      "collapsed_sections": [],
      "authorship_tag": "ABX9TyPKT5BrOvL5+zBkDaaHmiEO",
      "include_colab_link": true
    },
    "kernelspec": {
      "name": "python3",
      "display_name": "Python 3"
    },
    "language_info": {
      "name": "python"
    }
  },
  "cells": [
    {
      "cell_type": "markdown",
      "metadata": {
        "id": "view-in-github",
        "colab_type": "text"
      },
      "source": [
        "<a href=\"https://colab.research.google.com/github/PosgradoMNA/Actividades_de_Aprendizaje_A01793670_BryanAlvaradoCruz/blob/main/IBM_Python_101.ipynb\" target=\"_parent\"><img src=\"https://colab.research.google.com/assets/colab-badge.svg\" alt=\"Open In Colab\"/></a>"
      ]
    },
    {
      "cell_type": "code",
      "execution_count": null,
      "metadata": {
        "id": "eTSIo75ntz1Y"
      },
      "outputs": [],
      "source": []
    },
    {
      "cell_type": "markdown",
      "source": [
        "#**Semana 1 - Actividad 2: Python for Data Science (IBM)**\n",
        "\n",
        "###**Maestría en Inteligencia Artificial Aplicada**\n",
        "###**Curso: Ciencia y analítica de datos (Gpo 10)**\n",
        "####**Tecnológico de Monterrey**\n",
        "###**Prof Jobish Vallikavungal**\n",
        "\n",
        "###**Nombre del estudiante: (Bryan Alvarado Cruz)**\n",
        "\n",
        "###**Matrícula: (A01793670)**\n",
        "\n"
      ],
      "metadata": {
        "id": "oBAOPnh9t2KB"
      }
    },
    {
      "cell_type": "markdown",
      "source": [
        "#** Module 1 **"
      ],
      "metadata": {
        "id": "kf_aKVd_yQRX"
      }
    },
    {
      "cell_type": "code",
      "source": [
        "#Print Hello\n",
        "print (\"Hello Python 101\")\n",
        "print (\"Hello\\nWorld\")"
      ],
      "metadata": {
        "colab": {
          "base_uri": "https://localhost:8080/"
        },
        "id": "-BWN_ksRw5qq",
        "outputId": "daf1c629-8282-44a9-b878-89298e9d3117"
      },
      "execution_count": 2,
      "outputs": [
        {
          "output_type": "stream",
          "name": "stdout",
          "text": [
            "Hello Python 101\n",
            "Hello\n",
            "World\n"
          ]
        }
      ]
    },
    {
      "cell_type": "code",
      "source": [
        "print(int(\"1\"))\n",
        "print(bool(\"1\"))\n",
        "    \n",
        "   \n",
        "print(bool(int(\"1\")))\n",
        "\n",
        "print (int(1.0))\n",
        "\n",
        "type(\"Hello \")\n",
        "\n",
        "type (int(1.0))\n",
        "\n",
        "bool(1)"
      ],
      "metadata": {
        "colab": {
          "base_uri": "https://localhost:8080/"
        },
        "id": "5oeprGAIw5xr",
        "outputId": "4eb12cab-960d-4559-fb8c-cfcb5b6892f5"
      },
      "execution_count": 7,
      "outputs": [
        {
          "output_type": "stream",
          "name": "stdout",
          "text": [
            "1\n",
            "True\n",
            "True\n",
            "1\n"
          ]
        },
        {
          "output_type": "execute_result",
          "data": {
            "text/plain": [
              "True"
            ]
          },
          "metadata": {},
          "execution_count": 7
        }
      ]
    },
    {
      "cell_type": "code",
      "source": [
        "m=25/6\n",
        "\n",
        "N=25//6\n",
        "\n",
        "print (m)\n",
        "print (N)"
      ],
      "metadata": {
        "colab": {
          "base_uri": "https://localhost:8080/"
        },
        "id": "zp2znw5D1vOd",
        "outputId": "050a5c40-7038-46d3-8eb6-b9bd4322729b"
      },
      "execution_count": 15,
      "outputs": [
        {
          "output_type": "stream",
          "name": "stdout",
          "text": [
            "4.166666666666667\n",
            "4\n"
          ]
        }
      ]
    },
    {
      "cell_type": "code",
      "source": [
        "\n",
        "Letters=\"ABCDEFGHIJK\"\n",
        "Letters[0:4]\n",
        "\n",
        "\n",
        "\n",
        "\n"
      ],
      "metadata": {
        "colab": {
          "base_uri": "https://localhost:8080/",
          "height": 35
        },
        "id": "xNRxl7sR2F51",
        "outputId": "8ccab0dc-bc0f-45d1-bbf2-be3e1f5714b5"
      },
      "execution_count": 26,
      "outputs": [
        {
          "output_type": "execute_result",
          "data": {
            "text/plain": [
              "'ABCD'"
            ],
            "application/vnd.google.colaboratory.intrinsic+json": {
              "type": "string"
            }
          },
          "metadata": {},
          "execution_count": 26
        }
      ]
    },
    {
      "cell_type": "code",
      "source": [
        "Good=\"GsoAo+d\"\n",
        "Good[::2]"
      ],
      "metadata": {
        "colab": {
          "base_uri": "https://localhost:8080/",
          "height": 35
        },
        "id": "36xJMHEk4nML",
        "outputId": "266356da-9fe8-4528-9caf-1eff0272f103"
      },
      "execution_count": 28,
      "outputs": [
        {
          "output_type": "execute_result",
          "data": {
            "text/plain": [
              "'Good'"
            ],
            "application/vnd.google.colaboratory.intrinsic+json": {
              "type": "string"
            }
          },
          "metadata": {},
          "execution_count": 28
        }
      ]
    },
    {
      "cell_type": "code",
      "source": [
        "\"uppercase\"\n",
        "\"uppercase\".upper()"
      ],
      "metadata": {
        "colab": {
          "base_uri": "https://localhost:8080/",
          "height": 35
        },
        "id": "Q3VxD0Wd3we9",
        "outputId": "87a48034-a8a8-4c7f-d506-4389ab9b7f96"
      },
      "execution_count": 27,
      "outputs": [
        {
          "output_type": "execute_result",
          "data": {
            "text/plain": [
              "'UPPERCASE'"
            ],
            "application/vnd.google.colaboratory.intrinsic+json": {
              "type": "string"
            }
          },
          "metadata": {},
          "execution_count": 27
        }
      ]
    },
    {
      "cell_type": "markdown",
      "source": [
        "#** Lab 1 **"
      ],
      "metadata": {
        "id": "HyQmwELdeel_"
      }
    },
    {
      "cell_type": "code",
      "source": [
        "print('Hello, Python!')"
      ],
      "metadata": {
        "colab": {
          "base_uri": "https://localhost:8080/"
        },
        "id": "oT-O5eS_ednX",
        "outputId": "27e77f92-501e-4b99-bf25-59ab7e115b38"
      },
      "execution_count": 1,
      "outputs": [
        {
          "output_type": "stream",
          "name": "stdout",
          "text": [
            "Hello, Python!\n"
          ]
        }
      ]
    },
    {
      "cell_type": "code",
      "source": [
        "import sys\n",
        "print(sys.version)"
      ],
      "metadata": {
        "colab": {
          "base_uri": "https://localhost:8080/"
        },
        "id": "Z76TNs2Be9jK",
        "outputId": "ef1a7339-46e3-4254-9b1b-d60cb75068da"
      },
      "execution_count": 2,
      "outputs": [
        {
          "output_type": "stream",
          "name": "stdout",
          "text": [
            "3.7.14 (default, Sep  8 2022, 00:06:44) \n",
            "[GCC 7.5.0]\n"
          ]
        }
      ]
    },
    {
      "cell_type": "code",
      "source": [
        "print('Hello, Python!') # This line prints a string\n",
        "# print('Hi')"
      ],
      "metadata": {
        "colab": {
          "base_uri": "https://localhost:8080/"
        },
        "id": "E--aNrDUfB6O",
        "outputId": "871c4cb5-6df6-47c2-cb99-ff4cc9c1db7a"
      },
      "execution_count": 3,
      "outputs": [
        {
          "output_type": "stream",
          "name": "stdout",
          "text": [
            "Hello, Python!\n"
          ]
        }
      ]
    },
    {
      "cell_type": "code",
      "source": [
        "# Print string as error message\n",
        "frint(\"Hello, Python!\")"
      ],
      "metadata": {
        "colab": {
          "base_uri": "https://localhost:8080/",
          "height": 168
        },
        "id": "en38xT9vfSbs",
        "outputId": "aaa4a97f-1a0c-4b65-db57-71af6a96eea2"
      },
      "execution_count": 4,
      "outputs": [
        {
          "output_type": "error",
          "ename": "NameError",
          "evalue": "ignored",
          "traceback": [
            "\u001b[0;31m---------------------------------------------------------------------------\u001b[0m",
            "\u001b[0;31mNameError\u001b[0m                                 Traceback (most recent call last)",
            "\u001b[0;32m<ipython-input-4-92b84426a1cf>\u001b[0m in \u001b[0;36m<module>\u001b[0;34m\u001b[0m\n\u001b[0;32m----> 1\u001b[0;31m \u001b[0mfrint\u001b[0m\u001b[0;34m(\u001b[0m\u001b[0;34m\"Hello, Python!\"\u001b[0m\u001b[0;34m)\u001b[0m\u001b[0;34m\u001b[0m\u001b[0;34m\u001b[0m\u001b[0m\n\u001b[0m",
            "\u001b[0;31mNameError\u001b[0m: name 'frint' is not defined"
          ]
        }
      ]
    },
    {
      "cell_type": "code",
      "source": [
        "# Try to see built-in error message\n",
        "\n",
        "print(\"Hello, Python!)"
      ],
      "metadata": {
        "colab": {
          "base_uri": "https://localhost:8080/",
          "height": 133
        },
        "id": "zY7xLpaQfXnH",
        "outputId": "b173b5c6-5d12-4935-cd79-ca45c65e5d60"
      },
      "execution_count": 5,
      "outputs": [
        {
          "output_type": "error",
          "ename": "SyntaxError",
          "evalue": "ignored",
          "traceback": [
            "\u001b[0;36m  File \u001b[0;32m\"<ipython-input-5-f0b5a635e1a2>\"\u001b[0;36m, line \u001b[0;32m3\u001b[0m\n\u001b[0;31m    print(\"Hello, Python!)\u001b[0m\n\u001b[0m                          ^\u001b[0m\n\u001b[0;31mSyntaxError\u001b[0m\u001b[0;31m:\u001b[0m EOL while scanning string literal\n"
          ]
        }
      ]
    },
    {
      "cell_type": "code",
      "source": [
        "# Print string and error to see the running order\n",
        "\n",
        "print(\"This will be printed\")\n",
        "frint(\"This will cause an error\")\n",
        "print(\"This will NOT be printed\")"
      ],
      "metadata": {
        "colab": {
          "base_uri": "https://localhost:8080/",
          "height": 239
        },
        "id": "sYAfjJd6fi4S",
        "outputId": "6811e184-fd9c-4252-f2aa-221aabaafed2"
      },
      "execution_count": 6,
      "outputs": [
        {
          "output_type": "stream",
          "name": "stdout",
          "text": [
            "This will be printed\n"
          ]
        },
        {
          "output_type": "error",
          "ename": "NameError",
          "evalue": "ignored",
          "traceback": [
            "\u001b[0;31m---------------------------------------------------------------------------\u001b[0m",
            "\u001b[0;31mNameError\u001b[0m                                 Traceback (most recent call last)",
            "\u001b[0;32m<ipython-input-6-af59af1b345d>\u001b[0m in \u001b[0;36m<module>\u001b[0;34m\u001b[0m\n\u001b[1;32m      2\u001b[0m \u001b[0;34m\u001b[0m\u001b[0m\n\u001b[1;32m      3\u001b[0m \u001b[0mprint\u001b[0m\u001b[0;34m(\u001b[0m\u001b[0;34m\"This will be printed\"\u001b[0m\u001b[0;34m)\u001b[0m\u001b[0;34m\u001b[0m\u001b[0;34m\u001b[0m\u001b[0m\n\u001b[0;32m----> 4\u001b[0;31m \u001b[0mfrint\u001b[0m\u001b[0;34m(\u001b[0m\u001b[0;34m\"This will cause an error\"\u001b[0m\u001b[0;34m)\u001b[0m\u001b[0;34m\u001b[0m\u001b[0;34m\u001b[0m\u001b[0m\n\u001b[0m\u001b[1;32m      5\u001b[0m \u001b[0mprint\u001b[0m\u001b[0;34m(\u001b[0m\u001b[0;34m\"This will NOT be printed\"\u001b[0m\u001b[0;34m)\u001b[0m\u001b[0;34m\u001b[0m\u001b[0;34m\u001b[0m\u001b[0m\n",
            "\u001b[0;31mNameError\u001b[0m: name 'frint' is not defined"
          ]
        }
      ]
    },
    {
      "cell_type": "markdown",
      "source": [
        "#** Exercise: Your First Program **\n",
        "## ** In the code cell below, use the print() function to print out the phrase: Hello, world! **"
      ],
      "metadata": {
        "id": "KW81WFuBgAu6"
      }
    },
    {
      "cell_type": "code",
      "source": [
        "print(\"Hello, world!\")"
      ],
      "metadata": {
        "colab": {
          "base_uri": "https://localhost:8080/"
        },
        "id": "4cXi8gudfotj",
        "outputId": "c0ae9dba-a49f-43b3-b506-9a928dbabbdc"
      },
      "execution_count": 42,
      "outputs": [
        {
          "output_type": "stream",
          "name": "stdout",
          "text": [
            "Hello, world!\n"
          ]
        }
      ]
    },
    {
      "cell_type": "markdown",
      "source": [
        "## ** Now, let's enhance your code with a comment. In the code cell below, print out the phrase: Hello, world! and comment it with the phrase Print the traditional hello world all in one line of code **"
      ],
      "metadata": {
        "id": "2C7HS5GEgSII"
      }
    },
    {
      "cell_type": "code",
      "source": [
        "print(\"Hello, World!\") # Print the traditional hello world"
      ],
      "metadata": {
        "colab": {
          "base_uri": "https://localhost:8080/"
        },
        "id": "VZra83lMgXN7",
        "outputId": "3e3d5c66-67a1-42ef-da2a-4403f6cbdea6"
      },
      "execution_count": 43,
      "outputs": [
        {
          "output_type": "stream",
          "name": "stdout",
          "text": [
            "Hello, World!\n"
          ]
        }
      ]
    },
    {
      "cell_type": "markdown",
      "source": [
        "## ** Types of objects in Python\n",
        "\n",
        "Python is an object-oriented language. There are many different types of objects in Python. Let's start with the most common object types: strings, integers and floats. Anytime you write words (text) in Python, you're using character strings (strings for short). The most common numbers, on the other hand, are integers (e.g. -1, 0, 100) and floats, which represent real numbers (e.g. 3.14, -42.0). **\n"
      ],
      "metadata": {
        "id": "KG4MjXkdhQlg"
      }
    },
    {
      "cell_type": "code",
      "source": [
        "# Integer\n",
        "\n",
        "11"
      ],
      "metadata": {
        "colab": {
          "base_uri": "https://localhost:8080/"
        },
        "id": "pozgQyI9hMym",
        "outputId": "2bd5f8fc-0f02-4102-b99a-0f17cc79fbc1"
      },
      "execution_count": 44,
      "outputs": [
        {
          "output_type": "execute_result",
          "data": {
            "text/plain": [
              "11"
            ]
          },
          "metadata": {},
          "execution_count": 44
        }
      ]
    },
    {
      "cell_type": "code",
      "source": [
        "# Float\n",
        "\n",
        "2.14"
      ],
      "metadata": {
        "colab": {
          "base_uri": "https://localhost:8080/"
        },
        "id": "mp-sCRlAhVdE",
        "outputId": "6c37dab6-346c-406e-e0cb-67fb2e6be340"
      },
      "execution_count": 45,
      "outputs": [
        {
          "output_type": "execute_result",
          "data": {
            "text/plain": [
              "2.14"
            ]
          },
          "metadata": {},
          "execution_count": 45
        }
      ]
    },
    {
      "cell_type": "code",
      "source": [
        "# Type of 12\n",
        "\n",
        "type(12)"
      ],
      "metadata": {
        "colab": {
          "base_uri": "https://localhost:8080/"
        },
        "id": "NsV0CU_8hXRn",
        "outputId": "d07c1807-5957-497a-e427-17cbad0c3408"
      },
      "execution_count": 46,
      "outputs": [
        {
          "output_type": "execute_result",
          "data": {
            "text/plain": [
              "int"
            ]
          },
          "metadata": {},
          "execution_count": 46
        }
      ]
    },
    {
      "cell_type": "code",
      "source": [
        "# Type of 2.14\n",
        "\n",
        "type(2.14)"
      ],
      "metadata": {
        "colab": {
          "base_uri": "https://localhost:8080/"
        },
        "id": "4AqnpGjEhgWu",
        "outputId": "eb2d1d52-59b6-4d49-8f0c-2453449fd2c3"
      },
      "execution_count": 47,
      "outputs": [
        {
          "output_type": "execute_result",
          "data": {
            "text/plain": [
              "float"
            ]
          },
          "metadata": {},
          "execution_count": 47
        }
      ]
    },
    {
      "cell_type": "code",
      "source": [
        "# Type of \"Hello, Python 101!\"\n",
        "\n",
        "type(\"Hello, Python 101!\")"
      ],
      "metadata": {
        "colab": {
          "base_uri": "https://localhost:8080/"
        },
        "id": "Ax5h-vdYhkX6",
        "outputId": "43f6208c-3769-4c4b-f16c-166de2245853"
      },
      "execution_count": 48,
      "outputs": [
        {
          "output_type": "execute_result",
          "data": {
            "text/plain": [
              "str"
            ]
          },
          "metadata": {},
          "execution_count": 48
        }
      ]
    },
    {
      "cell_type": "markdown",
      "source": [
        "## ** In the code cell below, use the type() function to check the object type of 12.0.  **"
      ],
      "metadata": {
        "id": "D3xAMbxrhncJ"
      }
    },
    {
      "cell_type": "code",
      "source": [
        "type(12.0)"
      ],
      "metadata": {
        "colab": {
          "base_uri": "https://localhost:8080/"
        },
        "id": "A-jE8FRPhpQC",
        "outputId": "e743ac8e-6e7a-4e9f-9bf0-6461f6c14593"
      },
      "execution_count": 49,
      "outputs": [
        {
          "output_type": "execute_result",
          "data": {
            "text/plain": [
              "float"
            ]
          },
          "metadata": {},
          "execution_count": 49
        }
      ]
    },
    {
      "cell_type": "code",
      "source": [
        "Numbers = \"0123456\"\n",
        "Numbers[::2]"
      ],
      "metadata": {
        "colab": {
          "base_uri": "https://localhost:8080/",
          "height": 35
        },
        "id": "alXMMVXClep1",
        "outputId": "fd7e0081-3ffb-4ab7-b749-b1654f09a2e8"
      },
      "execution_count": 50,
      "outputs": [
        {
          "output_type": "execute_result",
          "data": {
            "text/plain": [
              "'0246'"
            ],
            "application/vnd.google.colaboratory.intrinsic+json": {
              "type": "string"
            }
          },
          "metadata": {},
          "execution_count": 50
        }
      ]
    },
    {
      "cell_type": "code",
      "source": [
        "\"0123456\".find('1')"
      ],
      "metadata": {
        "colab": {
          "base_uri": "https://localhost:8080/"
        },
        "id": "9Nu8hZ84mADP",
        "outputId": "14fc8d9e-ca07-46dd-dc25-9cf3bcb65b3e"
      },
      "execution_count": 51,
      "outputs": [
        {
          "output_type": "execute_result",
          "data": {
            "text/plain": [
              "1"
            ]
          },
          "metadata": {},
          "execution_count": 51
        }
      ]
    },
    {
      "cell_type": "markdown",
      "source": [
        "## ** Lab - String Operations **"
      ],
      "metadata": {
        "id": "A1D1ebUDnJbL"
      }
    },
    {
      "cell_type": "markdown",
      "source": [
        "## ** What is the value of the variable a after the following code is executed? **"
      ],
      "metadata": {
        "id": "GaxZRCMFn55T"
      }
    },
    {
      "cell_type": "code",
      "source": [
        "# Write your code below and press Shift+Enter to execute \n",
        "\n",
        "a = \"1\"\n",
        "a"
      ],
      "metadata": {
        "colab": {
          "base_uri": "https://localhost:8080/",
          "height": 35
        },
        "id": "nYnaDdOQnLya",
        "outputId": "96a2b27c-35a7-402c-ea7a-aaddf9a80b33"
      },
      "execution_count": 52,
      "outputs": [
        {
          "output_type": "execute_result",
          "data": {
            "text/plain": [
              "'1'"
            ],
            "application/vnd.google.colaboratory.intrinsic+json": {
              "type": "string"
            }
          },
          "metadata": {},
          "execution_count": 52
        }
      ]
    },
    {
      "cell_type": "markdown",
      "source": [
        "## ** What is the value of the variable b after the following code is executed? **"
      ],
      "metadata": {
        "id": "pqvfPoTooBcd"
      }
    },
    {
      "cell_type": "code",
      "source": [
        "# Write your code below and press Shift+Enter to execute\n",
        "\n",
        "b = \"2\"\n",
        "b"
      ],
      "metadata": {
        "colab": {
          "base_uri": "https://localhost:8080/",
          "height": 35
        },
        "id": "iQHeLoGUoC9s",
        "outputId": "0ff9405b-957b-4ecf-bba1-c13cadbcc83b"
      },
      "execution_count": 53,
      "outputs": [
        {
          "output_type": "execute_result",
          "data": {
            "text/plain": [
              "'2'"
            ],
            "application/vnd.google.colaboratory.intrinsic+json": {
              "type": "string"
            }
          },
          "metadata": {},
          "execution_count": 53
        }
      ]
    },
    {
      "cell_type": "markdown",
      "source": [
        "## ** What is the value of the variable c after the following code is executed? **"
      ],
      "metadata": {
        "id": "W14uc0SLoHDu"
      }
    },
    {
      "cell_type": "code",
      "source": [
        "# Write your code below and press Shift+Enter to execute \n",
        "\n",
        "c = a + b\n",
        "c"
      ],
      "metadata": {
        "colab": {
          "base_uri": "https://localhost:8080/",
          "height": 35
        },
        "id": "pcbWNdcIoIzE",
        "outputId": "87219feb-bfb2-45e8-e743-c8d62c3cc615"
      },
      "execution_count": 54,
      "outputs": [
        {
          "output_type": "execute_result",
          "data": {
            "text/plain": [
              "'12'"
            ],
            "application/vnd.google.colaboratory.intrinsic+json": {
              "type": "string"
            }
          },
          "metadata": {},
          "execution_count": 54
        }
      ]
    },
    {
      "cell_type": "markdown",
      "source": [
        "## ** Consider the variable d use slicing to print out the first three elements: **"
      ],
      "metadata": {
        "id": "3_prq82toqiB"
      }
    },
    {
      "cell_type": "code",
      "source": [
        "# Write your code below and press Shift+Enter to execute\n",
        "\n",
        "d = \"ABCDEFG\"\n",
        "print(d[:3])"
      ],
      "metadata": {
        "colab": {
          "base_uri": "https://localhost:8080/"
        },
        "id": "ZafAb951osEs",
        "outputId": "6aa2c5ac-9c74-4eb3-d4be-56085eca02f7"
      },
      "execution_count": 55,
      "outputs": [
        {
          "output_type": "stream",
          "name": "stdout",
          "text": [
            "ABC\n"
          ]
        }
      ]
    },
    {
      "cell_type": "markdown",
      "source": [
        "## ** Use a stride value of 2 to print out every second character of the string e: **"
      ],
      "metadata": {
        "id": "xNUWjnCQo1dt"
      }
    },
    {
      "cell_type": "code",
      "source": [
        "# Write your code below and press Shift+Enter to execute\n",
        "\n",
        "e = 'clocrkr1e1c1t'\n",
        "print(e[::2])"
      ],
      "metadata": {
        "colab": {
          "base_uri": "https://localhost:8080/"
        },
        "id": "yi8aaX13o4HS",
        "outputId": "7517478c-91ef-4d39-edc5-57e0d90fc936"
      },
      "execution_count": 56,
      "outputs": [
        {
          "output_type": "stream",
          "name": "stdout",
          "text": [
            "correct\n"
          ]
        }
      ]
    },
    {
      "cell_type": "markdown",
      "source": [
        "## ** Print out a backslash: **"
      ],
      "metadata": {
        "id": "kW0RHbTgpUYh"
      }
    },
    {
      "cell_type": "code",
      "source": [
        "# Write your code below and press Shift+Enter to execute\n",
        "print(r\"\\ \")"
      ],
      "metadata": {
        "colab": {
          "base_uri": "https://localhost:8080/"
        },
        "id": "pfsp3RXZpV6a",
        "outputId": "45451455-9d7b-4c2f-9f49-dfbb1658aaf3"
      },
      "execution_count": 57,
      "outputs": [
        {
          "output_type": "stream",
          "name": "stdout",
          "text": [
            "\\ \n"
          ]
        }
      ]
    },
    {
      "cell_type": "markdown",
      "source": [
        "## ** Convert the variable f to uppercase: **"
      ],
      "metadata": {
        "id": "o71U1EmKpdFp"
      }
    },
    {
      "cell_type": "code",
      "source": [
        "# Write your code below and press Shift+Enter to execute\n",
        "\n",
        "f = \"You are wrong\"\n",
        "f.upper()"
      ],
      "metadata": {
        "colab": {
          "base_uri": "https://localhost:8080/",
          "height": 35
        },
        "id": "7EZaW9Aupfzr",
        "outputId": "2fe7027a-2923-4073-8561-6bbb76eb3da2"
      },
      "execution_count": 58,
      "outputs": [
        {
          "output_type": "execute_result",
          "data": {
            "text/plain": [
              "'YOU ARE WRONG'"
            ],
            "application/vnd.google.colaboratory.intrinsic+json": {
              "type": "string"
            }
          },
          "metadata": {},
          "execution_count": 58
        }
      ]
    },
    {
      "cell_type": "markdown",
      "source": [
        "## ** Consider the variable g, and find the first index of the sub-string snow:  **"
      ],
      "metadata": {
        "id": "-Sd4GrgRpsd6"
      }
    },
    {
      "cell_type": "code",
      "source": [
        "g = \"Mary had a little lamb Little lamb, little lamb Mary had a little lamb \\\n",
        "Its fleece was white as snow And everywhere that Mary went Mary went, Mary went \\\n",
        "Everywhere that Mary went The lamb was sure to go\"\n",
        "\n",
        "g.find(\"snow\")"
      ],
      "metadata": {
        "colab": {
          "base_uri": "https://localhost:8080/"
        },
        "id": "TzvIGCjnpvc_",
        "outputId": "cf289362-197b-48f3-d17f-a09fa804aff5"
      },
      "execution_count": 59,
      "outputs": [
        {
          "output_type": "execute_result",
          "data": {
            "text/plain": [
              "95"
            ]
          },
          "metadata": {},
          "execution_count": 59
        }
      ]
    },
    {
      "cell_type": "markdown",
      "source": [
        "## ** In the variable g, replace the sub-string Mary with Bob: ** "
      ],
      "metadata": {
        "id": "TupOPvdsp0Uu"
      }
    },
    {
      "cell_type": "code",
      "source": [
        "# Write your code below and press Shift+Enter to execute\n",
        "g.replace(\"Mary\", \"Bob\")"
      ],
      "metadata": {
        "colab": {
          "base_uri": "https://localhost:8080/",
          "height": 53
        },
        "id": "UtcGMW5Vp2ot",
        "outputId": "15b12e3d-1518-4831-8b43-5b3773ab2424"
      },
      "execution_count": 61,
      "outputs": [
        {
          "output_type": "execute_result",
          "data": {
            "text/plain": [
              "'Bob had a little lamb Little lamb, little lamb Bob had a little lamb Its fleece was white as snow And everywhere that Bob went Bob went, Bob went Everywhere that Bob went The lamb was sure to go'"
            ],
            "application/vnd.google.colaboratory.intrinsic+json": {
              "type": "string"
            }
          },
          "metadata": {},
          "execution_count": 61
        }
      ]
    },
    {
      "cell_type": "markdown",
      "source": [
        "## ** MODULE 2 **"
      ],
      "metadata": {
        "id": "o_PRalvhrl5p"
      }
    },
    {
      "cell_type": "markdown",
      "source": [
        "# * Lists and Tuples *"
      ],
      "metadata": {
        "id": "k8nWfeoWrsjt"
      }
    },
    {
      "cell_type": "code",
      "source": [],
      "metadata": {
        "id": "glQriwiHrv5e"
      },
      "execution_count": null,
      "outputs": []
    }
  ]
}