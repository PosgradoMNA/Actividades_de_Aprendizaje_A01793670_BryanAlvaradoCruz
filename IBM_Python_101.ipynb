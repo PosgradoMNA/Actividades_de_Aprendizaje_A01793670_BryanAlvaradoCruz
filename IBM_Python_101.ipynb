{
  "nbformat": 4,
  "nbformat_minor": 0,
  "metadata": {
    "colab": {
      "provenance": [],
      "collapsed_sections": [],
      "authorship_tag": "ABX9TyOaX5bOy76devFI5vcEZHD3",
      "include_colab_link": true
    },
    "kernelspec": {
      "name": "python3",
      "display_name": "Python 3"
    },
    "language_info": {
      "name": "python"
    }
  },
  "cells": [
    {
      "cell_type": "markdown",
      "metadata": {
        "id": "view-in-github",
        "colab_type": "text"
      },
      "source": [
        "<a href=\"https://colab.research.google.com/github/PosgradoMNA/Actividades_de_Aprendizaje_A01793670_BryanAlvaradoCruz/blob/main/IBM_Python_101.ipynb\" target=\"_parent\"><img src=\"https://colab.research.google.com/assets/colab-badge.svg\" alt=\"Open In Colab\"/></a>"
      ]
    },
    {
      "cell_type": "code",
      "execution_count": null,
      "metadata": {
        "id": "eTSIo75ntz1Y"
      },
      "outputs": [],
      "source": []
    },
    {
      "cell_type": "markdown",
      "source": [
        "#**Semana 1 - Actividad 2: Python for Data Science (IBM)**\n",
        "\n",
        "###**Maestría en Inteligencia Artificial Aplicada**\n",
        "###**Curso: Ciencia y analítica de datos (Gpo 10)**\n",
        "####**Tecnológico de Monterrey**\n",
        "###**Prof Jobish Vallikavungal**\n",
        "\n",
        "###**Nombre del estudiante: (Bryan Alvarado Cruz)**\n",
        "\n",
        "###**Matrícula: (A01793670)**\n",
        "\n"
      ],
      "metadata": {
        "id": "oBAOPnh9t2KB"
      }
    },
    {
      "cell_type": "markdown",
      "source": [
        "#** Module 1 **"
      ],
      "metadata": {
        "id": "kf_aKVd_yQRX"
      }
    },
    {
      "cell_type": "code",
      "source": [
        "#Print Hello\n",
        "print (\"Hello Python 101\")\n",
        "print (\"Hello\\nWorld\")"
      ],
      "metadata": {
        "colab": {
          "base_uri": "https://localhost:8080/"
        },
        "id": "-BWN_ksRw5qq",
        "outputId": "daf1c629-8282-44a9-b878-89298e9d3117"
      },
      "execution_count": 2,
      "outputs": [
        {
          "output_type": "stream",
          "name": "stdout",
          "text": [
            "Hello Python 101\n",
            "Hello\n",
            "World\n"
          ]
        }
      ]
    },
    {
      "cell_type": "code",
      "source": [
        "print(int(\"1\"))\n",
        "print(bool(\"1\"))\n",
        "    \n",
        "   \n",
        "print(bool(int(\"1\")))\n",
        "\n",
        "print (int(1.0))\n",
        "\n",
        "type(\"Hello \")\n",
        "\n",
        "type (int(1.0))\n",
        "\n",
        "bool(1)"
      ],
      "metadata": {
        "colab": {
          "base_uri": "https://localhost:8080/"
        },
        "id": "5oeprGAIw5xr",
        "outputId": "4eb12cab-960d-4559-fb8c-cfcb5b6892f5"
      },
      "execution_count": 7,
      "outputs": [
        {
          "output_type": "stream",
          "name": "stdout",
          "text": [
            "1\n",
            "True\n",
            "True\n",
            "1\n"
          ]
        },
        {
          "output_type": "execute_result",
          "data": {
            "text/plain": [
              "True"
            ]
          },
          "metadata": {},
          "execution_count": 7
        }
      ]
    },
    {
      "cell_type": "code",
      "source": [
        "m=25/6\n",
        "\n",
        "N=25//6\n",
        "\n",
        "print (m)\n",
        "print (N)"
      ],
      "metadata": {
        "colab": {
          "base_uri": "https://localhost:8080/"
        },
        "id": "zp2znw5D1vOd",
        "outputId": "050a5c40-7038-46d3-8eb6-b9bd4322729b"
      },
      "execution_count": 15,
      "outputs": [
        {
          "output_type": "stream",
          "name": "stdout",
          "text": [
            "4.166666666666667\n",
            "4\n"
          ]
        }
      ]
    },
    {
      "cell_type": "code",
      "source": [],
      "metadata": {
        "id": "xNRxl7sR2F51"
      },
      "execution_count": null,
      "outputs": []
    }
  ]
}