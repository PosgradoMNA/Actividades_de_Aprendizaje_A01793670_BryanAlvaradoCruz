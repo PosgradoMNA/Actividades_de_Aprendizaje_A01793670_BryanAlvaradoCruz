{
  "nbformat": 4,
  "nbformat_minor": 0,
  "metadata": {
    "colab": {
      "provenance": [],
      "authorship_tag": "ABX9TyPmli/D69GakNXsIV7E+ie4",
      "include_colab_link": true
    },
    "kernelspec": {
      "name": "python3",
      "display_name": "Python 3"
    },
    "language_info": {
      "name": "python"
    }
  },
  "cells": [
    {
      "cell_type": "markdown",
      "metadata": {
        "id": "view-in-github",
        "colab_type": "text"
      },
      "source": [
        "<a href=\"https://colab.research.google.com/github/PosgradoMNA/Actividades_de_Aprendizaje_A01793670_BryanAlvaradoCruz/blob/main/Modulo_3_Semana_6_Data_Analysis_with_Python_A01763970.ipynb\" target=\"_parent\"><img src=\"https://colab.research.google.com/assets/colab-badge.svg\" alt=\"Open In Colab\"/></a>"
      ]
    },
    {
      "cell_type": "markdown",
      "source": [
        "# QUESTION 1\n",
        "1/1 point (ungraded)\n",
        "\n",
        "Select the values of i that produces a True for the following:\n",
        "\n",
        "i!=0 "
      ],
      "metadata": {
        "id": "Hmrv03Rszybm"
      }
    },
    {
      "cell_type": "code",
      "source": [
        "i =-100000000 \n",
        "i!=0"
      ],
      "metadata": {
        "colab": {
          "base_uri": "https://localhost:8080/"
        },
        "id": "cQkEOiCez0P7",
        "outputId": "18678bd6-ccde-4d87-fa59-1efba3e5291e"
      },
      "execution_count": 8,
      "outputs": [
        {
          "output_type": "execute_result",
          "data": {
            "text/plain": [
              "True"
            ]
          },
          "metadata": {},
          "execution_count": 8
        }
      ]
    },
    {
      "cell_type": "markdown",
      "source": [
        "# QUESTION 2\n",
        "1/1 point (ungraded)\n",
        "\n",
        "What is the output of the following:"
      ],
      "metadata": {
        "id": "10P7MksTzm2e"
      }
    },
    {
      "cell_type": "code",
      "execution_count": 3,
      "metadata": {
        "colab": {
          "base_uri": "https://localhost:8080/"
        },
        "id": "-8nHfTvbvSvX",
        "outputId": "f7962bd0-2400-4ec0-c68f-a88dc4e10b64"
      },
      "outputs": [
        {
          "output_type": "stream",
          "name": "stdout",
          "text": [
            "This is a.\n"
          ]
        }
      ],
      "source": [
        "\n",
        "\n",
        "x='a'\n",
        "\n",
        "if(x!='a'):\n",
        "\n",
        "  print(\"This is not a.\")\n",
        "\n",
        "else:\n",
        "\n",
        "  print(\"This is a.\")\n"
      ]
    },
    {
      "cell_type": "markdown",
      "source": [
        "#**LAB**"
      ],
      "metadata": {
        "id": "nA5gyWYB04K-"
      }
    },
    {
      "cell_type": "markdown",
      "source": [
        "Comparison Operations\n",
        "\n",
        "Find the value of i that produces a True:\n",
        "\n"
      ],
      "metadata": {
        "id": "xvU2tdEy0Wv-"
      }
    },
    {
      "cell_type": "code",
      "source": [
        "i= 1\n",
        "\n",
        "i!=0"
      ],
      "metadata": {
        "colab": {
          "base_uri": "https://localhost:8080/"
        },
        "id": "GBUO74nZ0cZi",
        "outputId": "6bef6923-d29e-40ef-8b53-5ecd92772a08"
      },
      "execution_count": 9,
      "outputs": [
        {
          "output_type": "execute_result",
          "data": {
            "text/plain": [
              "True"
            ]
          },
          "metadata": {},
          "execution_count": 9
        }
      ]
    },
    {
      "cell_type": "markdown",
      "source": [
        "Branching\n",
        "\n",
        "Find the value of x that prints the statement \"this is a\""
      ],
      "metadata": {
        "id": "9B5RmnRx0jrg"
      }
    },
    {
      "cell_type": "code",
      "source": [
        "x = 'a'\n",
        "if(x=='a'):\n",
        "    print(\"this is a\")\n",
        "else:\n",
        "    print(\"this is  not a\")"
      ],
      "metadata": {
        "colab": {
          "base_uri": "https://localhost:8080/"
        },
        "id": "offDp9PN0kgd",
        "outputId": "b3360267-b756-4934-d356-94d306cffc92"
      },
      "execution_count": 10,
      "outputs": [
        {
          "output_type": "stream",
          "name": "stdout",
          "text": [
            "this is a\n"
          ]
        }
      ]
    },
    {
      "cell_type": "markdown",
      "source": [
        "Logic Operators\n",
        "\n",
        "Find the value of y that produces a True statement:\n"
      ],
      "metadata": {
        "id": "NIOF3Nhn0rPx"
      }
    },
    {
      "cell_type": "code",
      "source": [
        "y= 0\n",
        "x=1\n",
        "x>0 and y<10"
      ],
      "metadata": {
        "colab": {
          "base_uri": "https://localhost:8080/"
        },
        "id": "dn5QO8e60r8W",
        "outputId": "69d32b46-5ded-45d6-b63d-26f8d7155d98"
      },
      "execution_count": 11,
      "outputs": [
        {
          "output_type": "execute_result",
          "data": {
            "text/plain": [
              "True"
            ]
          },
          "metadata": {},
          "execution_count": 11
        }
      ]
    },
    {
      "cell_type": "markdown",
      "source": [
        "Definition\n",
        "\n",
        "An exception is an error that occurs during the execution of code. This error causes the code to raise an exception and if not prepared to handle it will halt the execution of the code.\n",
        "Examples\n",
        "\n",
        "Run each piece of code and observe the exception raised\n"
      ],
      "metadata": {
        "id": "NYkfLVJk08Xi"
      }
    },
    {
      "cell_type": "code",
      "source": [
        "1/0\n",
        "#ZeroDivisionError occurs when you try to divide by zero.\n"
      ],
      "metadata": {
        "colab": {
          "base_uri": "https://localhost:8080/",
          "height": 168
        },
        "id": "ONwlsKPn0_cN",
        "outputId": "195292c3-4633-41fe-8201-82d65c885263"
      },
      "execution_count": 12,
      "outputs": [
        {
          "output_type": "error",
          "ename": "ZeroDivisionError",
          "evalue": "ignored",
          "traceback": [
            "\u001b[0;31m---------------------------------------------------------------------------\u001b[0m",
            "\u001b[0;31mZeroDivisionError\u001b[0m                         Traceback (most recent call last)",
            "\u001b[0;32m<ipython-input-12-9e1622b385b6>\u001b[0m in \u001b[0;36m<module>\u001b[0;34m\u001b[0m\n\u001b[0;32m----> 1\u001b[0;31m \u001b[0;36m1\u001b[0m\u001b[0;34m/\u001b[0m\u001b[0;36m0\u001b[0m\u001b[0;34m\u001b[0m\u001b[0;34m\u001b[0m\u001b[0m\n\u001b[0m",
            "\u001b[0;31mZeroDivisionError\u001b[0m: division by zero"
          ]
        }
      ]
    },
    {
      "cell_type": "code",
      "source": [
        "y = a + 5\n",
        "#NameError -- in this case, it means that you tried to use the variable a when it was not defined."
      ],
      "metadata": {
        "colab": {
          "base_uri": "https://localhost:8080/",
          "height": 168
        },
        "id": "0NI0e2sN1I7x",
        "outputId": "80faf868-4c71-4e8d-88e2-9e15f8fcba26"
      },
      "execution_count": 13,
      "outputs": [
        {
          "output_type": "error",
          "ename": "NameError",
          "evalue": "ignored",
          "traceback": [
            "\u001b[0;31m---------------------------------------------------------------------------\u001b[0m",
            "\u001b[0;31mNameError\u001b[0m                                 Traceback (most recent call last)",
            "\u001b[0;32m<ipython-input-13-6ddcec040107>\u001b[0m in \u001b[0;36m<module>\u001b[0;34m\u001b[0m\n\u001b[0;32m----> 1\u001b[0;31m \u001b[0my\u001b[0m \u001b[0;34m=\u001b[0m \u001b[0ma\u001b[0m \u001b[0;34m+\u001b[0m \u001b[0;36m5\u001b[0m\u001b[0;34m\u001b[0m\u001b[0;34m\u001b[0m\u001b[0m\n\u001b[0m",
            "\u001b[0;31mNameError\u001b[0m: name 'a' is not defined"
          ]
        }
      ]
    },
    {
      "cell_type": "code",
      "source": [
        "a = [1, 2, 3]\n",
        "a[10]\n",
        "\n",
        "#IndexError -- in this case, it occured because you tried to access data from a list using an index that does not exist for this list.\n",
        "\n",
        "#There are many more exceptions that are built into Python, here is a list of them https://docs.python.org/3/library/exceptions.html\n"
      ],
      "metadata": {
        "colab": {
          "base_uri": "https://localhost:8080/",
          "height": 239
        },
        "id": "D2dUGc1T1N4z",
        "outputId": "d37395c6-3e4d-4aa4-a651-f2fa26b0e81e"
      },
      "execution_count": 15,
      "outputs": [
        {
          "output_type": "error",
          "ename": "IndexError",
          "evalue": "ignored",
          "traceback": [
            "\u001b[0;31m---------------------------------------------------------------------------\u001b[0m",
            "\u001b[0;31mIndexError\u001b[0m                                Traceback (most recent call last)",
            "\u001b[0;32m<ipython-input-15-96f27151291c>\u001b[0m in \u001b[0;36m<module>\u001b[0;34m\u001b[0m\n\u001b[1;32m      1\u001b[0m \u001b[0ma\u001b[0m \u001b[0;34m=\u001b[0m \u001b[0;34m[\u001b[0m\u001b[0;36m1\u001b[0m\u001b[0;34m,\u001b[0m \u001b[0;36m2\u001b[0m\u001b[0;34m,\u001b[0m \u001b[0;36m3\u001b[0m\u001b[0;34m]\u001b[0m\u001b[0;34m\u001b[0m\u001b[0;34m\u001b[0m\u001b[0m\n\u001b[0;32m----> 2\u001b[0;31m \u001b[0ma\u001b[0m\u001b[0;34m[\u001b[0m\u001b[0;36m10\u001b[0m\u001b[0;34m]\u001b[0m\u001b[0;34m\u001b[0m\u001b[0;34m\u001b[0m\u001b[0m\n\u001b[0m\u001b[1;32m      3\u001b[0m \u001b[0;34m\u001b[0m\u001b[0m\n\u001b[1;32m      4\u001b[0m \u001b[0;31m#IndexError -- in this case, it occured because you tried to access data from a list using an index that does not exist for this list.\u001b[0m\u001b[0;34m\u001b[0m\u001b[0;34m\u001b[0m\u001b[0;34m\u001b[0m\u001b[0m\n\u001b[1;32m      5\u001b[0m \u001b[0;34m\u001b[0m\u001b[0m\n",
            "\u001b[0;31mIndexError\u001b[0m: list index out of range"
          ]
        }
      ]
    },
    {
      "cell_type": "markdown",
      "source": [
        "##Exception Handling\n",
        "\n",
        "In this section you will learn how to handle exceptions. You will understand how to make your program perform specified tasks instead of halting code execution when an exception is encountered.\n",
        "Try Except\n",
        "\n",
        "A try except will allow you to execute code that might raise an exception and in the case of any exception or a specific one we can handle or catch the exception and execute specific code. This will allow us to continue the execution of our program even if there is an exception.\n",
        "\n",
        "Python tries to execute the code in the try block. In this case if there is any exception raised by the code in the try block, it will be caught and the code block in the except block will be executed. After that, the code that comes after the try except will be executed.\n"
      ],
      "metadata": {
        "id": "BNkBgBe11Zvv"
      }
    },
    {
      "cell_type": "markdown",
      "source": [
        "###Try Except Example\n",
        "\n",
        "In this example we are trying to divide a number given by the user, save the outcome in the variable a, and then we would like to print the result of the operation. When taking user input and dividing a number by it there are a couple of exceptions that can be raised. For example if we divide by zero. Try running the following block of code with b as a number. An exception will only be raised if b is zero.\n"
      ],
      "metadata": {
        "id": "MORiDxgy1iks"
      }
    },
    {
      "cell_type": "code",
      "source": [
        "a = 1\n",
        "\n",
        "try:\n",
        "    b = int(input(\"Please enter a number to divide a\"))\n",
        "    a = a/b\n",
        "    print(\"Success a=\",a)\n",
        "except:\n",
        "    print(\"There was an error\")"
      ],
      "metadata": {
        "colab": {
          "base_uri": "https://localhost:8080/"
        },
        "id": "dBtfJB6l1fiJ",
        "outputId": "4f9dc170-93ff-46ab-b8b9-c7676bb67e96"
      },
      "execution_count": 16,
      "outputs": [
        {
          "output_type": "stream",
          "name": "stdout",
          "text": [
            "Please enter a number to divide a2\n",
            "Success a= 0.5\n"
          ]
        }
      ]
    },
    {
      "cell_type": "markdown",
      "source": [
        "##Try Except Specific Example\n",
        "This is the same example as above, but now we will add differentiated messages depending on the exception, letting the user know what is wrong with the input.\n"
      ],
      "metadata": {
        "id": "ZpwrXcUM1wfN"
      }
    },
    {
      "cell_type": "code",
      "source": [
        "a = 1\n",
        "\n",
        "try:\n",
        "    b = int(input(\"Please enter a number to divide a\"))\n",
        "    a = a/b\n",
        "    print(\"Success a=\",a)\n",
        "except ZeroDivisionError:\n",
        "    print(\"The number you provided cant divide 1 because it is 0\")\n",
        "except ValueError:\n",
        "    print(\"You did not provide a number\")\n",
        "except:\n",
        "    print(\"Something went wrong\")"
      ],
      "metadata": {
        "colab": {
          "base_uri": "https://localhost:8080/"
        },
        "id": "OedrGvif1xbO",
        "outputId": "dd13d533-c11a-44af-fdc7-56fd3f685984"
      },
      "execution_count": 17,
      "outputs": [
        {
          "output_type": "stream",
          "name": "stdout",
          "text": [
            "Please enter a number to divide a0\n",
            "The number you provided cant divide 1 because it is 0\n"
          ]
        }
      ]
    },
    {
      "cell_type": "markdown",
      "source": [
        "##Try Except Else and Finally Example\n",
        "\n",
        "You might have noticed that even if there is an error the value of a is always printed. Let's use the else and print the value of a only if there is no error.\n"
      ],
      "metadata": {
        "id": "UYz3JE6119dJ"
      }
    },
    {
      "cell_type": "code",
      "source": [
        "a = 1\n",
        "\n",
        "try:\n",
        "    b = int(input(\"Please enter a number to divide a\"))\n",
        "    a = a/b\n",
        "except ZeroDivisionError:\n",
        "    print(\"The number you provided cant divide 1 because it is 0\")\n",
        "except ValueError:\n",
        "    print(\"You did not provide a number\")\n",
        "except:\n",
        "    print(\"Something went wrong\")\n",
        "else:\n",
        "    print(\"success a=\",a)\n",
        "\n",
        "#Now lets let the user know that we are done processing their answer. Using the finally, let's add a print.\n"
      ],
      "metadata": {
        "colab": {
          "base_uri": "https://localhost:8080/"
        },
        "id": "2aZg0q1O1-wB",
        "outputId": "6d2f16d2-2ccf-4b91-a9df-a6ecd36e0161"
      },
      "execution_count": 19,
      "outputs": [
        {
          "output_type": "stream",
          "name": "stdout",
          "text": [
            "Please enter a number to divide a2\n",
            "success a= 0.5\n"
          ]
        }
      ]
    },
    {
      "cell_type": "code",
      "source": [
        "a = 1\n",
        "\n",
        "try:\n",
        "    b = int(input(\"Please enter a number to divide a\"))\n",
        "    a = a/b\n",
        "except ZeroDivisionError:\n",
        "    print(\"The number you provided cant divide 1 because it is 0\")\n",
        "except ValueError:\n",
        "    print(\"You did not provide a number\")\n",
        "except:\n",
        "    print(\"Something went wrong\")\n",
        "else:\n",
        "    print(\"success a=\",a)\n",
        "finally:\n",
        "    print(\"Processing Complete\")"
      ],
      "metadata": {
        "colab": {
          "base_uri": "https://localhost:8080/"
        },
        "id": "jMccK3KV2JKu",
        "outputId": "757c35de-1afd-4da7-e3d6-8b6653a1486c"
      },
      "execution_count": 20,
      "outputs": [
        {
          "output_type": "stream",
          "name": "stdout",
          "text": [
            "Please enter a number to divide a2\n",
            "success a= 0.5\n",
            "Processing Complete\n"
          ]
        }
      ]
    },
    {
      "cell_type": "markdown",
      "source": [
        "##For Loops\n",
        "\n",
        "Use loops to print out the elements in the list A:\n"
      ],
      "metadata": {
        "id": "69iWsgqw2TOw"
      }
    },
    {
      "cell_type": "code",
      "source": [
        "A=[3,4,5]\n",
        "for i in A:  \n",
        "    print(i) "
      ],
      "metadata": {
        "colab": {
          "base_uri": "https://localhost:8080/"
        },
        "id": "VRialVIZ2Veu",
        "outputId": "06f98d5e-0b79-4eef-ecd4-8cbf85295a4f"
      },
      "execution_count": 21,
      "outputs": [
        {
          "output_type": "stream",
          "name": "stdout",
          "text": [
            "3\n",
            "4\n",
            "5\n"
          ]
        }
      ]
    },
    {
      "cell_type": "markdown",
      "source": [
        "##While Loops\n",
        "\n",
        "Find the value of  x that will print out the sequence  1,2,..,10 :\n"
      ],
      "metadata": {
        "id": "h-UzOR-K2cAd"
      }
    },
    {
      "cell_type": "code",
      "source": [
        "x= 11\n",
        "y=1\n",
        "while(y != x):\n",
        "    print(y)\n",
        "    y=y+1"
      ],
      "metadata": {
        "colab": {
          "base_uri": "https://localhost:8080/"
        },
        "id": "cYi6BHUX2c8u",
        "outputId": "2a7bb12a-a346-43bf-eb92-c79b7fed0265"
      },
      "execution_count": 22,
      "outputs": [
        {
          "output_type": "stream",
          "name": "stdout",
          "text": [
            "1\n",
            "2\n",
            "3\n",
            "4\n",
            "5\n",
            "6\n",
            "7\n",
            "8\n",
            "9\n",
            "10\n"
          ]
        }
      ]
    },
    {
      "cell_type": "markdown",
      "source": [
        "##Function\n",
        "\n",
        "Complete the function  f so that it returns the product of a and b. Use the next cell to test the function.\n"
      ],
      "metadata": {
        "id": "wlCn-uuz2oLX"
      }
    },
    {
      "cell_type": "code",
      "source": [
        "def f(a,b):\n",
        "    \n",
        "    return a*b"
      ],
      "metadata": {
        "id": "S3VVe1Iw2pOS"
      },
      "execution_count": 24,
      "outputs": []
    },
    {
      "cell_type": "code",
      "source": [
        "a=4\n",
        "b=2\n",
        "\n",
        "if a*b==f(a,b):   \n",
        "    print(\"Correct.\")   \n",
        "else:    \n",
        "    print(\"Incorrect.\")"
      ],
      "metadata": {
        "colab": {
          "base_uri": "https://localhost:8080/"
        },
        "id": "3bhptaoS25NA",
        "outputId": "c7e8769b-8789-41f1-bab0-2ae1cbe9ac4b"
      },
      "execution_count": 25,
      "outputs": [
        {
          "output_type": "stream",
          "name": "stdout",
          "text": [
            "Correct.\n"
          ]
        }
      ]
    },
    {
      "cell_type": "markdown",
      "source": [
        "Complete the function g such that the input c is a list of integers and the output is the sum of all the elements in the list."
      ],
      "metadata": {
        "id": "FwqUHUb43AqQ"
      }
    },
    {
      "cell_type": "code",
      "source": [
        "def g(c):\n",
        "\n",
        "    return sum(c) "
      ],
      "metadata": {
        "id": "VJ4ZLEaV3BRV"
      },
      "execution_count": 26,
      "outputs": []
    },
    {
      "cell_type": "code",
      "source": [
        "c=[1,2,3,4,5]\n",
        "\n",
        "if sum(c)==g(c):   \n",
        "    print(\"Correct.\")   \n",
        "else:    \n",
        "    print(\"Incorrect.\")"
      ],
      "metadata": {
        "colab": {
          "base_uri": "https://localhost:8080/"
        },
        "id": "NMk7N4f93F9V",
        "outputId": "88939bb8-9069-4c39-903b-3c52ea4c7be9"
      },
      "execution_count": 27,
      "outputs": [
        {
          "output_type": "stream",
          "name": "stdout",
          "text": [
            "Correct.\n"
          ]
        }
      ]
    },
    {
      "cell_type": "markdown",
      "source": [
        "You will need the class Car for the next exercises. The class Car has four data attributes: make, model, colour and number of owners (owner_number). The method  car_info() prints out the data attributes and the method sell() increments the number of owners by 1."
      ],
      "metadata": {
        "id": "pltmN47H3Qu2"
      }
    },
    {
      "cell_type": "code",
      "source": [
        "class Car(object):\n",
        "    def __init__(self,make,model,color):\n",
        "        self.make=make;\n",
        "        self.model=model;\n",
        "        self.color=color;\n",
        "        self.owner_number=0 \n",
        "    def car_info(self):\n",
        "        print(\"make: \",self.make)\n",
        "        print(\"model:\", self.model)\n",
        "        print(\"color:\",self.color)\n",
        "        print(\"number of owners:\",self.owner_number)\n",
        "    def sell(self):\n",
        "        self.owner_number=self.owner_number+1"
      ],
      "metadata": {
        "id": "B_3RuZnZ3Rb2"
      },
      "execution_count": 28,
      "outputs": []
    },
    {
      "cell_type": "markdown",
      "source": [
        "### Create a Car Object\n",
        "\n",
        "Create a  Car object \"my_car\" with the given data attributes:\n"
      ],
      "metadata": {
        "id": "mVLrWscw3VCm"
      }
    },
    {
      "cell_type": "code",
      "source": [
        "make=\"BMW\"\n",
        "model=\"M3\"\n",
        "color=\"red\"\n",
        "\n",
        "my_car = Car(make,model,color)"
      ],
      "metadata": {
        "id": "J5wY7fyQ3V61"
      },
      "execution_count": 29,
      "outputs": []
    },
    {
      "cell_type": "markdown",
      "source": [
        "## Data Attributes\n",
        "\n",
        "Use the method car_info() to print out the data attributes.\n"
      ],
      "metadata": {
        "id": "fbbPzHjP3gwv"
      }
    },
    {
      "cell_type": "code",
      "source": [
        "my_car.car_info()"
      ],
      "metadata": {
        "colab": {
          "base_uri": "https://localhost:8080/"
        },
        "id": "FeE9Ayrw3hpI",
        "outputId": "606233c5-14e6-473e-ee72-6b1f28b239bd"
      },
      "execution_count": 30,
      "outputs": [
        {
          "output_type": "stream",
          "name": "stdout",
          "text": [
            "make:  BMW\n",
            "model: M3\n",
            "color: red\n",
            "number of owners: 0\n"
          ]
        }
      ]
    },
    {
      "cell_type": "markdown",
      "source": [
        "## Methods\n",
        "\n",
        "Call the method  sell() in the loop, then call the method  car_info() again\n"
      ],
      "metadata": {
        "id": "jDACHyAg3q3L"
      }
    },
    {
      "cell_type": "code",
      "source": [
        "for i in range(5):\n",
        "    my_car.sell()\n",
        "\n",
        "my_car.car_info()"
      ],
      "metadata": {
        "colab": {
          "base_uri": "https://localhost:8080/"
        },
        "id": "aMROBmE93rtw",
        "outputId": "5f2e7aba-ecd8-4439-d635-0a6748dcc4c5"
      },
      "execution_count": 31,
      "outputs": [
        {
          "output_type": "stream",
          "name": "stdout",
          "text": [
            "make:  BMW\n",
            "model: M3\n",
            "color: red\n",
            "number of owners: 5\n"
          ]
        }
      ]
    }
  ]
}